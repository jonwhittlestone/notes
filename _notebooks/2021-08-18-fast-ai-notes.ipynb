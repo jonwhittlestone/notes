{
 "cells": [
  {
   "cell_type": "markdown",
   "metadata": {},
   "source": [
    "# FastAI Notes\n",
    "> Learning Deep Learning in Public\n",
    "\n",
    "- toc: true\n",
    "- hide: true\n",
    "- badges: false\n",
    "- comments: false\n",
    "- categories: ['Learning Data Science']\n",
    "- image: https://i.imgur.com/sKDI04h.png"
   ]
  },
  {
   "cell_type": "markdown",
   "metadata": {},
   "source": [
    "<style>\n",
    "table {font-size:100%; white-space:inherit}\n",
    "table td {max-width:inherit}\n",
    "</style>\n",
    "\n",
    "This is my tracker for following this much-celebrated MooC.\n",
    "\n",
    "It marks the start of my data science education and follows the ['Learning in Public'](https://www.swyx.io/learn-in-public/) ethos."
   ]
  },
  {
   "cell_type": "markdown",
   "metadata": {},
   "source": [
    "| Part                           | Chapter                                     | Section                                        |\n",
    "|----------------------------------|--------------------------------------------|-------------------------------------------------|\n",
    "| 1. Deep Learning in Practice                     | 1. [Your Deep Learning Journey](#Chapter-One:-Your-Deep-Learning-Journey)                          | Deep Learning is for Everyone [O'Reailly](https://learning.oreilly.com/library/view/deep-learning-for/9781492045519/ch01.html#idm46055308627688)                                    |\n",
    "|                                  |                                            | Neural Networks: A Brief History                                   |\n",
    "|                                  |                                            | Who We Are                    |\n",
    "|                                  |                                            | How to Learn Deep Learning                        |\n",
    "|                                  |                                            | Your Projects and Your Mindset                    |    \n",
    "|                                  |                                            | The Software: PyTorch, fastai, and Jupyter (And Why It Doesn't Matter)                    |    \n",
    "|                                  |                                            | Your First Model                    |    \n",
    "|                                  |                                            | Getting a GPU Deep Learning Server                    |    \n",
    "|                                  |                                            | Running Your First Notebook                    |    \n",
    "|                                  |                                            | What Is Machine Learning?                   |    \n",
    "|                                  |                                            | What Is a Neural Network?                    |    \n",
    "|                                  |                                            | A Bit of Deep Learning Jargon                    |    \n",
    "|                                  |                                            | Limitations In herent to Machine Learning                    |    \n",
    "|                                  |                                            | How Our Image Recognizer Works                    |    \n",
    "|                                  |                                            | What Our Image Recognizer Learned                    |    \n",
    "|                                  |                                            | Image Recognizers Can Tackle Non-Image Tasks                    |    \n",
    "|                                  |                                            | Jargon Recap                    |    \n",
    "|                                  |                                            | Deep Learning Is Not Just for Image Classification                    |    \n",
    "|                                  |                                            | Validation Sets and Test Sets                    |    \n",
    "|                                  |                                            | A Choose Your Own Adventure Moment                    |    \n",
    "|        |                       | Questionnaire [O'Reilly](https://learning.oreilly.com/library/view/deep-learning-for/9781492045519/ch01.html#idm46055317162952) • [Answers](http://www.google.com)                  |\n",
    "|                                  | 2. From Model to Production                                            | The Practice of Deep Learning          |\n",
    "|                                  |                                            | Starting Your Project           |\n",
    "|                                  |                                            | The State of Deep Learning                       |\n",
    "|                                  |                                            | The Drivetrain Approach                       |\n",
    "|                                  |                                            | Gathering Data                       |\n",
    "|                                  |                                            | From Data to DataLoaders                       |\n",
    "|                                  |                                            | Data Augmentation                       |\n",
    "|                                  |                                            | Training Your Model, and Using It to Clean Your Data                       |\n",
    "|                                  |                                            | Turning Your Model into an Online Application                       |\n",
    "|                                  |                         | Using the Model for Inference                                  |\n",
    "|                                  |                                            | Creating a Notebook App from the Model\n",
    "|                                  |                                            | Turning Your Notebook into a Real App                          |\n",
    "|                                  |             | Deploying Your App                          |\n",
    "|                                  |                                            | How to Avoid Disaster            |\n",
    "|                                  |                                            | Unforeseen Consequences and Feedback Loops      |\n",
    "|                                  |                                            | Get Writing!                           |\n",
    "|        |                       | Questionnaire [O'Reilly](https://learning.oreilly.com/library/view/deep-learning-for/9781492045519/ch01.html#idm46055317162952) • [Answers](http://www.google.com)                  |\n",
    "|                                  | 3. From Model to Production                                            | Key Examples for Data Ethics          |\n",
    "|                                  |                                                                        | Bugs and Recourse: Euggy Algorithm Used for Healthcare Benfits          |\n",
    "|                                  |                                                                        | Feedback Loops: YouTube's Recommendation System          |\n",
    "|                                  |                                                                        | Bias: Professor Latanya Sweeney \"Arrested\"          |\n",
    "|                                  |                                                                        | Why Does This Matter?          |\n",
    "|                                  |                                                                        | Integrating Machine Learning with Product Design          |\n",
    "|                                  |                                                                        | Topics in Data Ethics          |\n",
    "|                                  |                                                                        | Recourse and Accountability          |\n",
    "|                                  |                                                                        | Feedback Loops          |\n",
    "|                                  |                                                                        | Bias          |\n",
    "|                                  |                                                                        | Disinformation          |\n",
    "|                                  |                                                                        | Identifying and Addressing Ethical Issues          |\n",
    "|                                  |                                                                        | Analyze a Project You Are Working On          |\n",
    "|                                  |                                                                        | Processes to Implement          |\n",
    "|                                  |                                                                        | The Power of Diversity          |\n",
    "|                                  |                                                                        | Fairness, Accountability and Transparency          |\n",
    "|                                  |                                                                        | Role of Policy          |\n",
    "|                                  |                                                                        | The Effectiveness of Regulation          |\n",
    "|                                  |                                                                        | Rights and Policy          |\n",
    "|                                  |                                                                        | Cars: A Historical Precedent          |\n",
    "|                                  |                                                                        | Conclusion          |\n",
    "|        |                       | Questionnaire [O'Reilly](https://learning.oreilly.com/library/view/deep-learning-for/9781492045519/ch01.html#idm46055317162952) • [Answers](http://www.google.com)                  |\n",
    "| 2. Understanding Fastai's Applications | 4. Under The Hood: Training A Digit Classifier       | Pixels: The Foundations of Computer Vision        |\n",
    "|                                  |                                            | First Try: Pixel Similarity             |\n",
    "|                                  |                                            | NumPy Arrays and PyTorch Sensors                           |\n",
    "|                                  |                                            | Computing Metics Using Broadcasting                     |\n",
    "|                                  |                                            | Stochastic Gradient Descent                      |\n",
    "|                                  |                                            | Calculating Gradients                    |\n",
    "|                                  |                                            | Stepping with a Learning Rate                    |\n",
    "|                                  |                                            | An End-to-End SGD Example                    |\n",
    "|                                  |                                            | Summarizing Gradient Descent                   |\n",
    "|                                  |                                            | The MNIST Loss Function                   |\n",
    "|                                  |                                            | Sigmoid                   |\n",
    "|                                  |                                            | SGD and Mini-Batches                   |\n",
    "|                                  |                                            | Putting It All Together                   |\n",
    "|                                  |                                            | Creating an Optimizer                   |\n",
    "|                                  |                                            | Adding a Nonlinearity                   |\n",
    "|                                  |                                            | Going Deeper                   |\n",
    "|                                  |                                            | Jargon Recap                   |\n",
    "|        |                       | Questionnaire [O'Reilly](https://learning.oreilly.com/library/view/deep-learning-for/9781492045519/ch01.html#idm46055317162952) • [Answers](http://www.google.com)                  |\n",
    "|                                  | 5. Image Classification                    | From Dogs and Cats to Pet Breeds                                     |\n",
    "|                                  |                                            | Presizing                             |\n",
    "|                                  |                                            | Checking and Debugging a DataBlock                          |\n",
    "|                                  |                                            | Cross-Entropy Loss                           |\n",
    "|                                  |                                            | Viewing Activations and Labels                                     |\n",
    "|                                  |                                            | Softmax                                |\n",
    "|                                  |                                            | Log Likelihood                           |\n",
    "|                                  |                                            | Taking the log                 |\n",
    "|                                  |                                            | Model Interpretation                            |\n",
    "|                                  |                                            | Improving Our Model                         |\n",
    "|                                  |                                            | The Learning Rate Finder                           |\n",
    "|                                  |                                            | Unfreezing and Transfer Learning                           |\n",
    "|                                  |                                            | Discriminative Learning Rates                           |\n",
    "|                                  |                                            | Selecting the Number of Epochs                           |\n",
    "|                                  |                                            | Deeper Architectures                           |\n",
    "|                                  |                                            | Conclusion                           |\n",
    "|        |                       | Questionnaire [O'Reilly](https://learning.oreilly.com/library/view/deep-learning-for/9781492045519/ch01.html#idm46055317162952) • [Answers](http://www.google.com)                  |\n",
    "|                                  |                                            | Further Research                           |\n",
    "|                                  | 6. Other Computer Vision Problems                    | Multi-Label Classification                                     |\n",
    "|      python                            |                                            |                                                 |"
   ]
  },
  {
   "cell_type": "markdown",
   "metadata": {},
   "source": [
    "## End of Chapter Questions\n",
    "\n",
    "\n",
    "### Chapter One: Your Deep Learning Journey [O'Reilly](https://learning.oreilly.com/library/view/deep-learning-for/9781492045519/ch01.html#idm46055317215864)\n",
    "\n",
    "\n",
    "#### 1.1 Do you need these for deep learning?\n",
    "\n",
    "- Lots of Math T/F\n",
    "- Lots of data T/F\n",
    "- Lots of expensive computers T/F\n",
    "- A PhD T/F\n",
    "\n"
   ]
  },
  {
   "cell_type": "code",
   "execution_count": 5,
   "metadata": {},
   "outputs": [],
   "source": [
    "#collapse\n",
    "\n",
    "answers = '''\n",
    "F Lots of Math T/F\n",
    "- Lots of data T/F\n",
    "- Lots of expensive computers T/F\n",
    "- A PhD T/F\n",
    "'''\n"
   ]
  },
  {
   "cell_type": "markdown",
   "metadata": {},
   "source": [
    "#### 1.2 Name five areas where deep learning is now the best in the world."
   ]
  },
  {
   "cell_type": "code",
   "execution_count": null,
   "metadata": {},
   "outputs": [],
   "source": [
    "#collapse\n",
    "\n",
    "answers = '''\n",
    "- NLP. Natrual language processing is used to:\n",
    "    - answer questions\n",
    "    - speech recognition\n",
    "    - summarize documents\n",
    "    - classify documents\n",
    "    - finding names/dates\n",
    "- Computer Vision\n",
    "    - Satellite and drone imagery interpreation\n",
    "    - face recognition\n",
    "    - image captioning\n",
    "    - Reading traffic signs\n",
    "    - Locating pedestrians/vehicales for autonomous vehicles\n",
    "- Medicine\n",
    "    - Finding anomalises in radiology images\n",
    "    - Counting features in pathology slides\n",
    "    - Measure features in ultrasounds\n",
    "    - Diagnosing diabetic retinopathy\n",
    "- Biology\n",
    "    - Folding proteins\n",
    "    - Classifying proteins\n",
    "    - Genomics tasks like tumour sequencing\n",
    "    - Classifying actionable genetic mutations\n",
    "    - Cell classifications\n",
    "    - Analyzing protein/protein interactions\n",
    "- Image Generation\n",
    "    - Colourising images\n",
    "    - increasing image resolution\n",
    "    - Removing noise from images\n",
    "    - Converting images to art in certain styles\n",
    "- Recommendation systems\n",
    "    - Web search\n",
    "    - Product recommendations,\n",
    "    - Home page layout\n",
    "- Playing Games\n",
    "    - Chess, Go, most Atari video games and real-time strategy\n",
    "- Robotics\n",
    "    - Handling objects that are challenging to locate (eg transparent or shiny) or hard to pick up\n",
    "'''"
   ]
  },
  {
   "cell_type": "markdown",
   "metadata": {},
   "source": [
    "#### 1.3 What was the name of the first device that was based on the principle of the artificial neuron?"
   ]
  },
  {
   "cell_type": "code",
   "execution_count": null,
   "metadata": {},
   "outputs": [],
   "source": [
    "#collapse\n",
    "\n",
    "answer='''\n",
    "The Mark 1 Perceptron\n",
    "'''"
   ]
  },
  {
   "cell_type": "markdown",
   "metadata": {},
   "source": [
    "#### 1.4 Based on the book of the same name, what are the requirements for parallel distributed processing? (PDP)"
   ]
  },
  {
   "cell_type": "code",
   "execution_count": null,
   "metadata": {},
   "outputs": [],
   "source": [
    "#collapse\n",
    "\n",
    "answer='''\n",
    "- A set of processing units\n",
    "- A state of activuation\n",
    "- An output function for each unit\n",
    "- A pattern of connectivity among units\n",
    "- A propogration rule for propogating patterns of activities through the network of connectivities\n",
    "- An activation rule for combining the inputs impinging on a unity with the current state of that unit to produce an output for the unit\n",
    "- A learning rule whereby patterns of connectivity are modified by experience\n",
    "- An environment within which the system must operate\n",
    "'''"
   ]
  },
  {
   "cell_type": "markdown",
   "metadata": {},
   "source": [
    "#### 1.5 What were the two theoretical misunderstandings that held back the field of neural networks?"
   ]
  },
  {
   "cell_type": "code",
   "execution_count": null,
   "metadata": {},
   "outputs": [],
   "source": [
    "#collapse\n",
    "\n",
    "answer='''\n",
    "- In the book \"Perceptrons\", Marvin Minsky and Samuel Papert pointed out that only a single layer of artificial neurons couldn't learn simple mathematical functions, even though the latter part of the book addressed the limitation by highlighting the use of multiple layers.\n",
    "- 30 years ago, researchers showed more layers were needed to get 'deep' learning and now neural nets are living up to their potential.\n",
    "'''"
   ]
  },
  {
   "cell_type": "markdown",
   "metadata": {},
   "source": [
    "#### 1.6 What is a GPU?"
   ]
  },
  {
   "cell_type": "code",
   "execution_count": null,
   "metadata": {},
   "outputs": [],
   "source": [
    "#collapse\n",
    "\n",
    "answer='''\n",
    "A processor that can handle thousands of tasks at the same time. The tasks are very similar to what neural networks do and GPUs can run neural networks hundreds of times faster than regular CPUs.\n",
    "The modern deep learning libraries only support NVIDIA GPUs\n",
    "'''"
   ]
  },
  {
   "cell_type": "markdown",
   "metadata": {},
   "source": [
    "#### 1.7 Open a notebook and execute a cell containing: 1+1"
   ]
  },
  {
   "cell_type": "code",
   "execution_count": 1,
   "metadata": {},
   "outputs": [
    {
     "data": {
      "text/plain": [
       "2"
      ]
     },
     "execution_count": 1,
     "metadata": {},
     "output_type": "execute_result"
    }
   ],
   "source": [
    "1+1"
   ]
  },
  {
   "cell_type": "markdown",
   "metadata": {},
   "source": [
    "#### 1.8 Follow through each cell of the stripped down version of the notebook for this chapter. Before executing each cell, guess what will happen.\n",
    "\n",
    "- [course.fast.ai - Using Colab](https://course.fast.ai/start_colab)\n",
    "- [Stripped Copy of 01_intro.ipynb on my Google Drive](https://colab.research.google.com/drive/1MvngrPu-vvXtE-DNV7dje5VQTeVJ7cHG?authuser=1) [original](https://colab.research.google.com/github/fastai/fastbook/blob/master/clean/01_intro.ipynb)\n",
    "    - Change Runtime Type to GPU\n",
    "    - Then run cells"
   ]
  },
  {
   "cell_type": "markdown",
   "metadata": {},
   "source": [
    "#### 1.9 Complete the Jupyter Notebook online appendix\n",
    "\n",
    "- [copy of app_jupyter.ipynb on my drive](https://colab.research.google.com/drive/1FsYPafxZNUlOfm8VeRbh_W-KtuNPniwM?authuser=1)"
   ]
  },
  {
   "cell_type": "markdown",
   "metadata": {},
   "source": [
    "#### 1.10 Why is it hard to use a traditional computer program to recognize images in a photo?"
   ]
  },
  {
   "cell_type": "code",
   "execution_count": null,
   "metadata": {},
   "outputs": [],
   "source": [
    "#collapse\n",
    "\n",
    "answer='''\n",
    "- For a traditional computer program, we'd have to translate the exact steps necessary to recognize images into code but we don't really know what those steps are since it happens in our brain.\n",
    "- There would be the need to 'spell out every minute step of the process in the most exasperating detail'\n",
    "'''"
   ]
  },
  {
   "cell_type": "markdown",
   "metadata": {},
   "source": [
    "#### 1.11 What did Samuel mean by 'Weight Assignment' ?"
   ]
  },
  {
   "cell_type": "code",
   "execution_count": null,
   "metadata": {},
   "outputs": [],
   "source": [
    "#collapse\n",
    "\n",
    "answer='''\n",
    "- Weights (\"Parameters\" in ML jargon) are variables and an assignment is a particular choice of values for those variables.\n",
    "\n",
    "- They are the inputs for the program ('model') and altering them will define how the program operates.\n",
    "\n",
    "- In Arthur Samuel's work, his checkers-playing program had different values of weights that would result in different checkers-playing strategies.\n",
    "\n",
    "'''"
   ]
  },
  {
   "cell_type": "markdown",
   "metadata": {},
   "source": [
    "#### 1.12 What term do we normally use in deep learning for what Samuel called \"Weights\""
   ]
  },
  {
   "cell_type": "code",
   "execution_count": null,
   "metadata": {},
   "outputs": [],
   "source": [
    "#collapse\n",
    "answer='''\n",
    "Parameters\n",
    "'''"
   ]
  },
  {
   "cell_type": "markdown",
   "metadata": {},
   "source": [
    "#### 1.13 Draw a picture that summarizes Samuel's view of a machine learning model.\n",
    "\n",
    "<details>\n",
    "  <summary>Answer</summary>\n",
    "  <p>\n",
    "  <img src=\"https://i.imgur.com/Dw3CaOt.png\">\n",
    "  </p>\n",
    "</details>"
   ]
  },
  {
   "cell_type": "markdown",
   "metadata": {},
   "source": [
    "#### 1.14 Why is it hard to understand why a deep learning model makes a particular prediction?\n",
    "\n",
    "<details>\n",
    "  <summary>Answer:</summary>\n",
    "  <p>\n",
    "  \n",
    "  > It is easy to create a model that makes predictions on exact data it's been trained on, but it's hard to make accurate predicitions on data the model hasn't seen before.\n",
    "  </p>\n",
    "  \n",
    "</details>\n",
    "\n"
   ]
  }
 ],
 "metadata": {
  "interpreter": {
   "hash": "36cf16204b8548560b1c020c4e8fb5b57f0e4c58016f52f2d4be01e192833930"
  },
  "kernelspec": {
   "display_name": "Python 3.9.7 64-bit",
   "name": "python3"
  },
  "language_info": {
   "codemirror_mode": {
    "name": "ipython",
    "version": 3
   },
   "file_extension": ".py",
   "mimetype": "text/x-python",
   "name": "python",
   "nbconvert_exporter": "python",
   "pygments_lexer": "ipython3",
   "version": "3.9.7"
  }
 },
 "nbformat": 4,
 "nbformat_minor": 4
}
