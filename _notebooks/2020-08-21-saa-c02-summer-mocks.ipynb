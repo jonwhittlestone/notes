{
 "cells": [
  {
   "cell_type": "markdown",
   "metadata": {},
   "source": [
    "# SAA-C02 AWS solutions architect question review\n",
    "> Notes on wrong questions\n",
    "\n",
    "- toc: true\n",
    "- badges: false\n",
    "- comments: true\n",
    "- categories: ['AWS', 'Revision']\n",
    "- image: https://i.imgur.com/s9blYpT.png"
   ]
  },
  {
   "cell_type": "markdown",
   "metadata": {},
   "source": [
    "<style>\n",
    "table {font-size:100%; white-space:inherit}\n",
    "table td {max-width:inherit}\n",
    "</style>\n",
    "\n",
    "With the O'Reilly subscription, there are some [practice AWS tests from Pearson](https://pearsontestprep.com/#/examsettings). \n",
    "\n",
    "The idea is that I can take [an O'Reilly mock exam](https://learning.oreilly.com/certifications/9780136791997/) covering all modules, and mock exams focusing on individual modules.\n",
    "\n",
    "To reference my past exams in the Pearson Interface visit **View Exam History** > **Question Review** and filter on **Incorrect Questions!**\n",
    "\n",
    "As the exam date nears, I also took [mock exams with Tutorials DOJO](https://portal.tutorialsdojo.com/courses/aws-certified-solutions-architect-professional-practice-exams/) which follow the same pattern of recording my incorrect answers. \n",
    "\n",
    "Tutorials DOJO example tests seem a worthy buy since the questions are far more detailed (harder!) and the answers are comprehensive."
   ]
  },
  {
   "cell_type": "markdown",
   "metadata": {},
   "source": [
    "## 1. O'Reilly - 20/08/20 - All Modules - 58%\n",
    "\n",
    " Result  | FAIL     \n",
    "---------|----------\n",
    " Mark    | 58\\.46 % \n",
    " Correct | 38       \n",
    "\n",
    "\n",
    "\n",
    "\n"
   ]
  },
  {
   "cell_type": "markdown",
   "metadata": {},
   "source": [
    "> What is the purpose of the VPC “Main” route table?\n",
    "\n",
    "\n",
    "- A default route table all subnets will leverage if a custom table is not defined and associated\n",
    "- All routes build off the main table, and both tables are evaluated simultaneously to create routes.\n",
    "- The main route table only applies to the default VPC to uniquely identify the default VPC route tables.\n",
    "- Main simply identifies the first route table."
   ]
  },
  {
   "cell_type": "code",
   "execution_count": null,
   "metadata": {},
   "outputs": [],
   "source": [
    "#collapse\n",
    "\n",
    "answers = '''\n",
    "✔️ A default route table all subnets will leverage if a custom table is not defined and associated\n",
    "- All routes build off the main table, and both tables are evaluated simultaneously to create routes.\n",
    "- The main route table only applies to the default VPC to uniquely identify the default VPC route tables.\n",
    "- Main simply identifies the first route table.\n",
    "'''"
   ]
  },
  {
   "cell_type": "markdown",
   "metadata": {},
   "source": [
    "> In what increments does Lambda charge?\n",
    "\n",
    "- 100ms\n",
    "- 1 second\n",
    "- 1 minute\n",
    "- 15 minutes\n"
   ]
  },
  {
   "cell_type": "code",
   "execution_count": null,
   "metadata": {},
   "outputs": [],
   "source": [
    "#collapse\n",
    "answers = '''\n",
    "✔️ 100ms\n",
    "- 1 second\n",
    "- 1 minute\n",
    "- 15 minutes\n",
    "'''"
   ]
  },
  {
   "cell_type": "markdown",
   "metadata": {},
   "source": [
    "> What service will evaluate VPC Flow Logs, CloudTrail Logs, as well as Route53 DNS Lookup logs and provide machine learning to identify both known and unknown threats?\n",
    "\n",
    "- AWS Inspector\n",
    "- AWS LogLearner\n",
    "- AWS Guard Duty\n",
    "- AWS Macie"
   ]
  },
  {
   "cell_type": "code",
   "execution_count": 1,
   "metadata": {},
   "outputs": [],
   "source": [
    "#collapse\n",
    "answers = '''\n",
    "- AWS Inspector\n",
    "- AWS LogLearner\n",
    "✔️ AWS Guard Duty\n",
    "- AWS Macie\n",
    "'''"
   ]
  },
  {
   "cell_type": "markdown",
   "metadata": {},
   "source": [
    "> What is NOT an authentication element that the Security Token Service (STS) will issue?\n",
    "\n",
    "- Access Key ID\n",
    "- Authentication Token\n",
    "- Session Token\n",
    "- Secret Access Key"
   ]
  },
  {
   "cell_type": "code",
   "execution_count": null,
   "metadata": {},
   "outputs": [],
   "source": [
    "#collapse\n",
    "answers = '''\n",
    "- Access Key ID\n",
    "✔️ Authentication Token\n",
    "- Session Token\n",
    "- Secret Access Key\n",
    "'''"
   ]
  },
  {
   "cell_type": "markdown",
   "metadata": {},
   "source": [
    "> What is NOT a possible benefit of Direct Connect??\n",
    "\n",
    "- Cost Savings\n",
    "- Increased Security\n",
    "- Performance Improvement\n",
    "- Encrypted Communication"
   ]
  },
  {
   "cell_type": "code",
   "execution_count": null,
   "metadata": {},
   "outputs": [],
   "source": [
    "#collapse\n",
    "answers = '''\n",
    "- Cost Savings\n",
    "- Increased Security\n",
    "- Performance Improvement\n",
    "✔️ Encrypted Communication\n",
    "'''"
   ]
  },
  {
   "cell_type": "markdown",
   "metadata": {},
   "source": [
    "> What is not accurate about AWS Elastic Map Reduce (EMR) as a service?\n",
    "\n",
    "- EMR can run spark\n",
    "- EMR can be used as a NoSQL offering\n",
    "- EMR can be used as a Data Warehouse\n",
    "- EMR can be used as an ETL engine\n",
    "- EMR can only be used for sofware pre-defined for use with EMR"
   ]
  },
  {
   "cell_type": "code",
   "execution_count": null,
   "metadata": {},
   "outputs": [],
   "source": [
    "#collapse\n",
    "answers = '''\n",
    "- EMR can run spark\n",
    "- EMR can be used as a NoSQL offering\n",
    "- EMR can be used as a Data Warehouse\n",
    "- EMR can be used as an ETL engine\n",
    "✔️ EMR can only be used for sofware pre-defined for use with EMR\n",
    "'''"
   ]
  },
  {
   "cell_type": "markdown",
   "metadata": {},
   "source": [
    "> What statements are true about VPCs? (Choose 2)\n",
    "\n",
    "- Subnets can span availability zones\t\n",
    "- A VPC can have the same IP address range as another VPC in the same AWS account\n",
    "- A VPC can span AWS Regions\n",
    "- Secondary VPC CIDR blocks can be added after the VPC is created\n",
    "- If DHCP needs change in the VPC, you can deploy your own EC2 DHCP instance"
   ]
  },
  {
   "cell_type": "code",
   "execution_count": null,
   "metadata": {},
   "outputs": [],
   "source": [
    "#collapse\n",
    "answers = '''\n",
    "✔️ Subnets can span availability zones\t\n",
    "✔️ A VPC can have the same IP address range as another VPC in the same AWS account\n",
    "- A VPC can span AWS Regions\n",
    "- Secondary VPC CIDR blocks can be added after the VPC is created\n",
    "- If DHCP needs change in the VPC, you can deploy your own EC2 DHCP instance\n",
    "'''"
   ]
  },
  {
   "cell_type": "markdown",
   "metadata": {},
   "source": [
    "> When using Redshift Spectrum, what command will ‘mount’ S3 data to a table in Redshift?\n",
    "\n",
    "- S3 Mount Table\t\n",
    "- Create External Table\n",
    "- Create External Schema\n",
    "- Create S3 Table"
   ]
  },
  {
   "cell_type": "code",
   "execution_count": null,
   "metadata": {},
   "outputs": [],
   "source": [
    "#collapse\n",
    "answers = '''\n",
    "- S3 Mount Table\t\n",
    "✔️ Create External Table\n",
    "- Create External Schema\n",
    "- Create S3 Table\n",
    "'''"
   ]
  },
  {
   "cell_type": "markdown",
   "metadata": {},
   "source": [
    "> You have been surprised by your EBS and S3 storage costs and have realized you may have a problem to investigate. You identify that your EBS snapshots are consuming far more space than expected. What is likely a problem?\n",
    "\n",
    "- Snapshots are being taken too often\t\n",
    "- Snapshots are being performed on root/boot volumes\n",
    "- Snapshots are full backups only and will store excessive amounts\n",
    "- Snapshots are 2x the cost of EBS and could be operating as expected\n"
   ]
  },
  {
   "cell_type": "code",
   "execution_count": null,
   "metadata": {},
   "outputs": [],
   "source": [
    "#collapse\n",
    "answers = '''\n",
    "- Snapshots are being taken too often\t\n",
    "✔️ Snapshots are being performed on root/boot volumes\n",
    "- Snapshots are full backups only and will store excessive amounts\n",
    "- Snapshots are 2x the cost of EBS and could be operating as expected\n",
    "'''"
   ]
  },
  {
   "cell_type": "markdown",
   "metadata": {},
   "source": [
    "> Your development team wishes to have a tool they can use to push code into test and production systems. These systems both operate in AWS as well as on-premises. What could be a viable option for this need?\n",
    "\n",
    "- AWS OpsWorks\t\n",
    "- AWS CodeDeploy\n",
    "- AWS Systems Manager\n",
    "- All of the above"
   ]
  },
  {
   "cell_type": "code",
   "execution_count": null,
   "metadata": {},
   "outputs": [],
   "source": [
    "#collapse\n",
    "answers = '''\n",
    "- AWS OpsWorks\t\n",
    "- AWS CodeDeploy\n",
    "- AWS Systems Manager\n",
    "✔️ All of the above\n",
    "'''"
   ]
  },
  {
   "cell_type": "markdown",
   "metadata": {},
   "source": [
    "> What command is used to load data into Redshift from an external data source?\n",
    "\n",
    "- `COPY`\t\n",
    "- `VACUUM`\n",
    "- `DEEP COPY`\n",
    "- `LOAD DATA`"
   ]
  },
  {
   "cell_type": "code",
   "execution_count": null,
   "metadata": {},
   "outputs": [],
   "source": [
    "#collapse\n",
    "answers = '''\n",
    "✔️ `COPY`\t\n",
    "- `VACUUM`\n",
    "- `DEEP COPY`\n",
    "- `LOAD DATA`\n",
    "'''"
   ]
  },
  {
   "cell_type": "markdown",
   "metadata": {},
   "source": [
    "> You wish to request 100 spot instances together at once for a large job. What service offering will achieve this?\n",
    "\n",
    "- Standard spot request. Just define the quantity required when submitting a spot request\t\n",
    "- Spot Fleet\n",
    "- Spot Cluster\n",
    "- Standard spot request, one at a time; though all hundred could be requested with 100 requests"
   ]
  },
  {
   "cell_type": "code",
   "execution_count": null,
   "metadata": {},
   "outputs": [],
   "source": [
    "#collapse\n",
    "answers = '''\n",
    "- Standard spot request. Just define the quantity required when submitting a spot request\t\n",
    "✔️ Spot Fleet\n",
    "- Spot Cluster\n",
    "- Standard spot request, one at a time; though all hundred could be requested with 100 requests\n",
    "'''"
   ]
  },
  {
   "cell_type": "markdown",
   "metadata": {},
   "source": [
    "> You wish to provide a network file share which is mountable on Windows or Linux. What service if any is a possible option?\n",
    "\n",
    "- AWS Elastic File Service (EFS)\n",
    "- AWS Elastic Block Storage (EBS)\n",
    "- AWS S3\n",
    "- None of the above"
   ]
  },
  {
   "cell_type": "code",
   "execution_count": null,
   "metadata": {},
   "outputs": [],
   "source": [
    "#collapse\n",
    "answers = '''\n",
    "- AWS Elastic File Service (EFS)\n",
    "✔️ AWS Elastic Block Storage (EBS)\n",
    "- AWS S3\n",
    "- None of the above\n",
    "'''"
   ]
  },
  {
   "cell_type": "markdown",
   "metadata": {},
   "source": [
    "> If VPC A is peered to VPC B, and VPC B is peered to VPC C, can VPC A & C communicate directly?\n",
    "\n",
    "- Yes they can, as VPC Transitive Peering is enabled by default\n",
    "- No they can’t, as VPC Transitive Peering is not enabled by default\n",
    "- Yes they can, as long as a networking service in VPC B captures the packet and sends it onward to VPC C on VPC A’s behalf.\n",
    "- No they can’t, as VPC Transitive Peering is not a supported feature in AWS"
   ]
  },
  {
   "cell_type": "code",
   "execution_count": null,
   "metadata": {},
   "outputs": [],
   "source": [
    "#collapse\n",
    "answers = '''\n",
    "✔️ Yes they can, as VPC Transitive Peering is enabled by default\n",
    "- No they can’t, as VPC Transitive Peering is not enabled by default\n",
    "- Yes they can, as long as a networking service in VPC B captures the packet and sends it onward to VPC C on VPC A’s behalf.\n",
    "- No they can’t, as VPC Transitive Peering is not a supported feature in AWS\n",
    "'''"
   ]
  },
  {
   "cell_type": "markdown",
   "metadata": {},
   "source": [
    "> You have your entire website domain pointed to a CloudFront distribution. Your application has a place in which credit cards may be accepted and is written in JavaScript. You are leveraging the AWS JavaScript SDK. Beyond simply providing SSL communications, what feature of CloudFront should be used to encrypt the credit cards separately to create end-to-end encryption until the system that requires such data can decrypt it?\n",
    "\n",
    "- Endpoint Encryption\n",
    "- Field Level Encryption\n",
    "- Use built-in Client Side encryption from the JavaScript SDK\n",
    "- AWS options do not exist for this, but 3rd party JavaScript libraries exist to perform the encryption\n"
   ]
  },
  {
   "cell_type": "code",
   "execution_count": 1,
   "metadata": {},
   "outputs": [],
   "source": [
    "#collapse\n",
    "answers = '''\n",
    "- Endpoint Encryption\n",
    "✔️ Field Level Encryption\n",
    "    - https://docs.aws.amazon.com/AmazonCloudFront/latest/DeveloperGuide/field-level-encryption.html\n",
    "- Use built-in Client Side encryption from the JavaScript SDK\n",
    "- AWS options do not exist for this, but 3rd party JavaScript libraries exist to perform the encryption\n",
    "'''"
   ]
  },
  {
   "cell_type": "markdown",
   "metadata": {},
   "source": [
    "> What is the Glacier retrieval option that allows us to save money, and wait between 5 to 12 hours to retrieve our data?\n",
    "\n",
    "- Expedited\n",
    "- Standard\n",
    "- Bulk\n",
    "- Delayed"
   ]
  },
  {
   "cell_type": "code",
   "execution_count": 2,
   "metadata": {},
   "outputs": [],
   "source": [
    "#collapse\n",
    "answers = '''\n",
    "- Expedited\n",
    "- Standard\n",
    "- Bulk\n",
    "✔️ Bulk\n",
    "    - https://docs.aws.amazon.com/amazonglacier/latest/dev/glacier-select.html\n",
    "- Delayed\n",
    "'''"
   ]
  },
  {
   "cell_type": "markdown",
   "metadata": {},
   "source": [
    "> You are building an application which will require PCI compliance as it will be processing credit cards within the application. As such, you wish to encrypt all EBS volumes on your EC2 instances for this application, including the root volumes. How can this need be achieved?\n",
    "\n",
    "- When creating the EC2 instance, select EBS volume encryption for all volumes including the root volume along with all data volumes\n",
    "- Root volumes in EBS cannot be encrypted directly; use of 3rd party file-level encryption must happen within the OS to handle all root data\n",
    "- Use EBS Volume Encryption for all Data volumes, and create an EC2 instance with an unencrypted root volume to start. Once created and in a shutdown state, perform EBS volume encryption on the root volume leveraging native EBS Volume Encryption options\n",
    "- Launch an unencrypted EC2 instance and take a snapshot of the instance. Create a copy of the snapshot with the encryption option selected and create an image using the encrypted snapshot. From there launch a new EC2 instance from the AMI and select volume encryption for any additional volumes."
   ]
  },
  {
   "cell_type": "code",
   "execution_count": 3,
   "metadata": {},
   "outputs": [],
   "source": [
    "#collapse\n",
    "answers = '''\n",
    "- When creating the EC2 instance, select EBS volume encryption for all volumes including the root volume along with all data volumes\n",
    "\n",
    "- Root volumes in EBS cannot be encrypted directly; use of 3rd party file-level encryption must happen within the OS to handle all root data\n",
    "\n",
    "✔️ Use EBS Volume Encryption for all Data volumes, and create an EC2 instance with an unencrypted root volume to start. Once created and in a shutdown state, perform EBS volume encryption on the root volume leveraging native EBS Volume Encryption options\n",
    "\n",
    "- Launch an unencrypted EC2 instance and take a snapshot of the instance. Create a copy of the snapshot with the encryption option selected and create an image using the encrypted snapshot. From there launch a new EC2 instance from the AMI and select volume encryption for any additional volumes.\n",
    "'''"
   ]
  },
  {
   "cell_type": "markdown",
   "metadata": {},
   "source": [
    "> CloudTrail needs to write its logs to S3. What is permission model is required for CloudTrail to do this?\n",
    "\n",
    "- Nothing; CloudTrail natively writes to S3\n",
    "- CloudTrail would need a role to have the necessary permissions (Policy) to S3\n",
    "- Since CloudTrail natively writes to CloudWatch Logs, CloudWatch Logs would need to have a role with the necessary permissions (policy) to write to S3\n",
    "- Lambda can be used to extract the logs from the CloudTrail service and placed into S3. All necessary permissions would be provided through roles and policies"
   ]
  },
  {
   "cell_type": "code",
   "execution_count": 4,
   "metadata": {},
   "outputs": [],
   "source": [
    "#collapse\n",
    "answers = '''\n",
    "✔️ Nothing; CloudTrail natively writes to S3\n",
    "    - https://docs.aws.amazon.com/awscloudtrail/latest/userguide/cloudtrail-create-and-update-a-trail.html\n",
    "\n",
    "- CloudTrail would need a role to have the necessary permissions (Policy) to S3\n",
    "\n",
    "- Since CloudTrail natively writes to CloudWatch Logs, CloudWatch Logs would need to have a role with the necessary permissions (policy) to write to S3\n",
    "\n",
    "- Lambda can be used to extract the logs from the CloudTrail service and placed into S3. All necessary permissions would be provided through roles and policies\n",
    "'''"
   ]
  },
  {
   "cell_type": "markdown",
   "metadata": {},
   "source": [
    "> What is NOT a billable component of S3\n",
    "\n",
    "- Data Transfer Out\n",
    "- Operations (PUT, GET, LIST, etc.)\n",
    "- S3 Object Tagging\n",
    "- Data returned by S3 Select\n",
    "- None. All of the above are billable"
   ]
  },
  {
   "cell_type": "code",
   "execution_count": 5,
   "metadata": {},
   "outputs": [],
   "source": [
    "#collapse\n",
    "answers = '''\n",
    "- Data Transfer Out\n",
    "- Operations (PUT, GET, LIST, etc.)\n",
    "- S3 Object Tagging\n",
    "- Data returned by S3 Select\n",
    "    - https://docs.aws.amazon.com/AmazonS3/latest/dev/selecting-content-from-objects.html\n",
    "✔️ None. All of the above are billable\n",
    "    - https://aws.amazon.com/s3/pricing/\n",
    "'''"
   ]
  },
  {
   "cell_type": "markdown",
   "metadata": {},
   "source": [
    "> You have a Linux application currently running on an on-demand m5.xlarge instance and all seems to perform well. You are considering buying a reserved instance; however, you are unsure about the scale this application may require over the next 6 months. Instance type seems to be correct for the workload, but you are not sure if you will need to grow the instance size over the next 6 months. You have considered waiting for 6 months to see what the growth looks like before purchasing an RI. Is this a good decision or not? What should be the course of action?\n",
    "\n",
    "- Leave as is using on-demand before purchasing any Reserved Instances. You do not want to enter into a long-term contract without knowing what this may look like in the near future. Once a better understanding of growth is achieved, then purchase RI’s as needed.\n",
    "\n",
    "- Purchase a Convertible Reserved Instance now since it can be adjusted, and make changes as needed later.\n",
    "\n",
    "- Purchase a Standard Reserved Instance and change the instance size later or add to the contract if required.\n",
    "\n",
    "- Purchase an RI from the marketplace with only 6 months left"
   ]
  },
  {
   "cell_type": "code",
   "execution_count": 6,
   "metadata": {},
   "outputs": [],
   "source": [
    "#collapse\n",
    "answers = '''\n",
    "❌ Leave as is using on-demand before purchasing any Reserved Instances. You do not want to enter into a long-term contract without knowing what this may look like in the near future. Once a better understanding of growth is achieved, then purchase RI’s as needed.\n",
    "\n",
    "✔️ Purchase a Convertible Reserved Instance now since it can be adjusted, and make changes as needed later.\n",
    "\n",
    "- Purchase a Standard Reserved Instance and change the instance size later or add to the contract if required.\n",
    "\n",
    "- Purchase an RI from the marketplace with only 6 months left\n",
    "'''"
   ]
  },
  {
   "cell_type": "markdown",
   "metadata": {},
   "source": [
    "> What protocol(s) is/are supported by the Elastic File Service (EFS)\n",
    "\n",
    "- SMB\n",
    "\n",
    "- CIFS\n",
    "\n",
    "- iSCSI\n",
    "\n",
    "- NFS"
   ]
  },
  {
   "cell_type": "code",
   "execution_count": 7,
   "metadata": {},
   "outputs": [],
   "source": [
    "#collapse\n",
    "answers = '''\n",
    "- SMB\n",
    "- CIFS\n",
    "- iSCSI\n",
    "✔️ NFS\n",
    "'''"
   ]
  },
  {
   "cell_type": "markdown",
   "metadata": {},
   "source": [
    "> Using the Application Load Balancer (ALB), you are balancing SQL read-only requests to RDS MySQL Read Replicas to assist in scaling the database load. How will the ALB interact with RDS to scale the read replicas.\n",
    "\n",
    "- Like any other scaling, the health checks can be defined to identify when the read replicas are becoming overloaded and auto scaling can build additional read replicas to scale accordingly up to the RDS limit for read replicas.\n",
    "\n",
    "- The ALB cannot be used for this purpose\n",
    "\n",
    "- Define auto scaling for the read replicas, and like other ASG’s, one will register the nodes to the associated ALB\n",
    "\n",
    "- This cannot be done with the ALB, but can be done with the Classic Load Balancer"
   ]
  },
  {
   "cell_type": "code",
   "execution_count": 8,
   "metadata": {},
   "outputs": [],
   "source": [
    "#collapse\n",
    "answers = '''\n",
    "- Like any other scaling, the health checks can be defined to identify when the read replicas are becoming overloaded and auto scaling can build additional read replicas to scale accordingly up to the RDS limit for read replicas.\n",
    "\n",
    "✔️ The ALB cannot be used for this purpose\n",
    "\n",
    "- Define auto scaling for the read replicas, and like other ASG’s, one will register the nodes to the associated ALB\n",
    "\n",
    "- This cannot be done with the ALB, but can be done with the Classic Load Balancer\n",
    "'''"
   ]
  },
  {
   "cell_type": "markdown",
   "metadata": {},
   "source": [
    "> What is a benefit of the ALIAS record type in Route53?\n",
    "\n",
    "- ALIAS is just a CNAME, and thus the same benefits of a CNAME\n",
    "\n",
    "- ALIAS provides a 303 redirect to another URL (eg. www.domain.com to domain.com)\n",
    "\n",
    "- ALIAS can be used to direct to a global AWS service endpoint name, even in an A record position\n",
    "\n",
    "- ALIAS record can be used to point to on-premises resources, rerouting the user and obfuscating the back end"
   ]
  },
  {
   "cell_type": "code",
   "execution_count": 9,
   "metadata": {},
   "outputs": [],
   "source": [
    "#collapse\n",
    "answers = '''\n",
    "❌ ALIAS is just a CNAME, and thus the same benefits of a CNAME\n",
    "\n",
    "- ALIAS provides a 303 redirect to another URL (eg. www.domain.com to domain.com)\n",
    "\n",
    "✔️ ALIAS can be used to direct to a global AWS service endpoint name, even in an A record position\n",
    "    - https://docs.aws.amazon.com/Route53/latest/DeveloperGuide/resource-record-sets-choosing-alias-non-alias.html\n",
    "\n",
    "- ALIAS record can be used to point to on-premises resources, rerouting the user and obfuscating the back end\n",
    "'''"
   ]
  },
  {
   "cell_type": "markdown",
   "metadata": {},
   "source": [
    "> What is the smallest unit of data storage in a Glacier Vault called?\n",
    "\n",
    "- Object\n",
    "\n",
    "- File\n",
    "\n",
    "- Archive\n",
    "\n",
    "- Record"
   ]
  },
  {
   "cell_type": "code",
   "execution_count": 10,
   "metadata": {},
   "outputs": [],
   "source": [
    "#collapse\n",
    "answers = '''\n",
    "- Object\n",
    "\n",
    "- File\n",
    "\n",
    "✔️ Archive\n",
    "\n",
    "- Record\n",
    "'''"
   ]
  },
  {
   "cell_type": "markdown",
   "metadata": {},
   "source": [
    "> You have been running a handful of EC2 instances for an extended period of time and are now ready to purchase some Reserved Instances (RI’s). What is not a valid EC2 Reserved Instance option?\n",
    "\n",
    "- Standard RI, 2 year term, paid up front\n",
    "\n",
    "- Convertible RI, 3 year term, paid partially up front\n",
    "\n",
    "- Standard RI, 1 year term, no upfront payment\n",
    "\n",
    "- Scheduled RI, 1 year term, scheduled for 1 hour a day"
   ]
  },
  {
   "cell_type": "code",
   "execution_count": 11,
   "metadata": {},
   "outputs": [],
   "source": [
    "#collapse\n",
    "answers = '''\n",
    "✔️ Standard RI, 2 year term, paid up front\n",
    "\n",
    "- Convertible RI, 3 year term, paid partially up front\n",
    "\n",
    "- Standard RI, 1 year term, no upfront payment\n",
    "\n",
    "- Scheduled RI, 1 year term, scheduled for 1 hour a day\n",
    "'''"
   ]
  },
  {
   "cell_type": "markdown",
   "metadata": {},
   "source": [
    "> You have just recovered from a DDoS attack and realize you need to enhance your design to protect against such attacks. What service can specifically be used to protect against DDoS attacks\n",
    "\n",
    "- AWS WAF\n",
    "- Cloudfront\n",
    "- AWS Shield\n",
    "- AWS Guard Duty"
   ]
  },
  {
   "cell_type": "code",
   "execution_count": null,
   "metadata": {},
   "outputs": [],
   "source": [
    "#collapse\n",
    "answers = '''\n",
    "- AWS WAF\n",
    "- Cloudfront\n",
    "✔️ AWS Shield\n",
    "- AWS Guard Duty\n",
    "'''"
   ]
  },
  {
   "cell_type": "markdown",
   "metadata": {},
   "source": [
    "## 2. O'Reilly - 23/08/20 - Module 1: Resiliency - 62%\n",
    "\n",
    " Result  | FAIL     \n",
    "---------|----------\n",
    " Mark    | 62\\.07 % \n",
    " Correct | 38   "
   ]
  },
  {
   "cell_type": "markdown",
   "metadata": {},
   "source": [
    "SAA-C02-AB-01-01\n",
    "\n",
    "> Which of the following VPC resources is highly available but not fault tolerant?\n",
    "\n",
    "- Internet gateway\n",
    "\n",
    "- VPC gateway endpoint\n",
    "\n",
    "- VPC peering connection\n",
    "\n",
    "- NAT gateway\n",
    "\n",
    "\n",
    "\n",
    "\n",
    "\n",
    "\n"
   ]
  },
  {
   "cell_type": "code",
   "execution_count": null,
   "metadata": {},
   "outputs": [],
   "source": [
    "#collapse\n",
    "\n",
    "answers = '''\n",
    "- Internet gateway\n",
    "\n",
    "- VPC gateway endpoint\n",
    "\n",
    "- VPC peering connection\n",
    "\n",
    "✔️ NAT gateway\n",
    "'''"
   ]
  },
  {
   "cell_type": "markdown",
   "metadata": {},
   "source": [
    "SAA-C02-AB-02-08\n",
    "\n",
    "> Which of the following is an example of a highly available but not fault-tolerant AWS resource?\n",
    "\n",
    "- RedShift cluster\n",
    "\n",
    "- S3 bucket\n",
    "\n",
    "- CloudFront distribution\n",
    "\n",
    "- DynamoDB table"
   ]
  },
  {
   "cell_type": "code",
   "execution_count": null,
   "metadata": {},
   "outputs": [],
   "source": [
    "#collapse\n",
    "\n",
    "answers = '''\n",
    "✔️ RedShift cluster\n",
    "\n",
    "- S3 bucket\n",
    "\n",
    "- CloudFront distribution\n",
    "\n",
    "- DynamoDB table\n",
    "'''\n",
    "\n"
   ]
  },
  {
   "cell_type": "markdown",
   "metadata": {},
   "source": [
    "SAA-C02-AB-02-01\n",
    "\n",
    "> The Internet gateway resource is best described as which of the following?\n",
    "\n",
    "- None of these\n",
    "\n",
    "- Fault tolerant\n",
    "\n",
    "- Not highly available\n",
    "\n",
    "- Highly available"
   ]
  },
  {
   "cell_type": "code",
   "execution_count": null,
   "metadata": {},
   "outputs": [],
   "source": [
    "#collapse\n",
    "\n",
    "answers = '''\n",
    "- None of these\n",
    "\n",
    "✔️ Fault tolerant\n",
    "\n",
    "- Not highly available\n",
    "\n",
    "- Highly available\n",
    "'''"
   ]
  },
  {
   "cell_type": "markdown",
   "metadata": {},
   "source": [
    "SAA-C02-AB-02-15\n",
    "> EBS volumes are replicated ____.\n",
    "\n",
    "- None of these\n",
    "\n",
    "- within the AZ\n",
    "\n",
    "- globally\n",
    "\n",
    "- within the region"
   ]
  },
  {
   "cell_type": "code",
   "execution_count": null,
   "metadata": {},
   "outputs": [],
   "source": [
    "#collapse\n",
    "\n",
    "answers = '''\n",
    "- None of these\n",
    "\n",
    "✔️ within the AZ\n",
    "\n",
    "- globally\n",
    "\n",
    "- within the region\n",
    "'''"
   ]
  },
  {
   "cell_type": "markdown",
   "metadata": {},
   "source": [
    "AA-C02-AB-01-20\n",
    "\n",
    "> What is the published SLA for EFS subnet-specific mount points?\n",
    "\n",
    "- 3 9s\n",
    "\n",
    "- There is no published SLA for EFS mount points.\n",
    "\n",
    "- 5 9s\n",
    "\n",
    "- 4 9s"
   ]
  },
  {
   "cell_type": "code",
   "execution_count": null,
   "metadata": {},
   "outputs": [],
   "source": [
    "#collapse\n",
    "\n",
    "answers = '''\n",
    "- 3 9s\n",
    "\n",
    "✔️ There is no published SLA for EFS mount points.\n",
    "\n",
    "- 5 9s\n",
    "\n",
    "- 4 9s\n",
    "'''"
   ]
  },
  {
   "cell_type": "markdown",
   "metadata": {},
   "source": [
    "SAA-C02-AB-02-02\n",
    "\n",
    "> The VPC peering connection resource is best described as which of the following?\n",
    "\n",
    "- None of these\n",
    "\n",
    "- Fault tolerant\n",
    "\n",
    "- Not highly available\n",
    "\n",
    "- Highly available"
   ]
  },
  {
   "cell_type": "code",
   "execution_count": null,
   "metadata": {},
   "outputs": [],
   "source": [
    "#collapse\n",
    "\n",
    "answers = '''\n",
    "- None of these\n",
    "\n",
    "✔️ Fault tolerant\n",
    "\n",
    "- Not highly available\n",
    "\n",
    "- Highly available\n",
    "'''"
   ]
  },
  {
   "cell_type": "markdown",
   "metadata": {},
   "source": [
    "SAA-C02-AB-02-16\n",
    "\n",
    "> What is the resilience SLA for the S3-IA (S3-Infrequent Access) storage class?\n",
    "\n",
    "- 3 9s availability and 11 9s durability\n",
    "\n",
    "- 2 9s availability and 4 9s durability\n",
    "\n",
    "- 3.5 9s availability and 11 9s durability\n",
    "\n",
    "- 4 9s availability and 11 9s durability"
   ]
  },
  {
   "cell_type": "code",
   "execution_count": null,
   "metadata": {},
   "outputs": [],
   "source": [
    "#collapse\n",
    "\n",
    "answers = '''\n",
    "- 3 9s availability and 11 9s durability\n",
    "\n",
    "- 2 9s availability and 4 9s durability\n",
    "\n",
    "- 3.5 9s availability and 11 9s durability\n",
    "\n",
    "✔️ 4 9s availability and 11 9s durability\n",
    "    - https://aws.amazon.com/s3/storage-classes/\n",
    "'''"
   ]
  },
  {
   "cell_type": "markdown",
   "metadata": {},
   "source": [
    "SAA-C02-AB-02-05\n",
    "\n",
    "> Which pillar of the Well-Architected Framework includes the principle “Measure overall efficiency”?\n",
    "\n",
    "- Security\n",
    "\n",
    "- Performance efficiency\n",
    "\n",
    "- Reliability\n",
    "\n",
    "- Cost optimization\n"
   ]
  },
  {
   "cell_type": "code",
   "execution_count": null,
   "metadata": {},
   "outputs": [],
   "source": [
    "#collapse\n",
    "\n",
    "answers = '''\n",
    "- Security\n",
    "\n",
    "- Performance efficiency\n",
    "\n",
    "- Reliability\n",
    "\n",
    "✔️ Cost optimization\n",
    "    - https://docs.aws.amazon.com/wellarchitected/latest/cost-optimization-pillar/design-principles.html\n",
    "    - _Measure the business output of the workload and the costs associated with delivery. Use this data to understand the gains you make from increasing output, increasing functionality, and reducing cost._\n",
    "'''"
   ]
  },
  {
   "cell_type": "markdown",
   "metadata": {},
   "source": [
    "> SAA-C02-AB-01-18\n",
    "Which of the following has the longest retrieval latency in Glacier?\n",
    "\n",
    "- Standard retrieval\n",
    "\n",
    "- Bulk retrieval\n",
    "\n",
    "- Expedited retrieval\n",
    "\n",
    "- Anything stored in Glacier Deep Archive"
   ]
  },
  {
   "cell_type": "code",
   "execution_count": null,
   "metadata": {},
   "outputs": [],
   "source": [
    "#collapse\n",
    "\n",
    "answers = '''\n",
    "- Standard retrieval\n",
    "\n",
    "- Bulk retrieval\n",
    "\n",
    "- Expedited retrieval\n",
    "\n",
    "✔️ Anything stored in Glacier Deep Archive\n",
    "    - https://docs.aws.amazon.com/AmazonS3/latest/dev/storage-class-intro.html#sc-glacier\n",
    "'''"
   ]
  },
  {
   "cell_type": "markdown",
   "metadata": {},
   "source": [
    "SAA-C02-AB-03-15\n",
    "\n",
    "> What is the recommended mechanism for performing file-level restores for an EFS file system?\n",
    "\n",
    "- There are no file-level restores possible with EFS.\n",
    "\n",
    "- Synchronize the files to an EBS volume on a regular schedule.\n",
    "\n",
    "- Do an AWS Backup partial restore.\n",
    "\n",
    "- Use the AWS CLI to sync files to S3."
   ]
  },
  {
   "cell_type": "code",
   "execution_count": null,
   "metadata": {},
   "outputs": [],
   "source": [
    "#collapse\n",
    "\n",
    "answers = '''\n",
    "- There are no file-level restores possible with EFS.\n",
    "\n",
    "- Synchronize the files to an EBS volume on a regular schedule.\n",
    "\n",
    "✔️ Do an AWS Backup partial restore.\n",
    "    - https://docs.aws.amazon.com/aws-backup/latest/devguide/whatisbackup.html\n",
    "    - _The AWS Backup service allows for partial file system restores (even a single file) to be recovered to another location on the file system._\n",
    "\n",
    "- Use the AWS CLI to sync files to S3.\n",
    "'''"
   ]
  },
  {
   "cell_type": "markdown",
   "metadata": {},
   "source": [
    "SAA-C02-AB-02-09\n",
    "\n",
    "> Which of the following is a highly available but not fault-tolerant resource?\n",
    "\n",
    "- NAT gateway\n",
    "\n",
    "- Internet gateway\n",
    "\n",
    "- VPC gateway endpoint\n",
    "\n",
    "- VPC peering connection"
   ]
  },
  {
   "cell_type": "code",
   "execution_count": null,
   "metadata": {},
   "outputs": [],
   "source": [
    "#collapse\n",
    "\n",
    "answers = '''\n",
    "✔️ NAT gateway\n",
    "\n",
    "- Internet gateway\n",
    "\n",
    "- VPC gateway endpoint\n",
    "\n",
    "- VPC peering connection\n",
    "'''"
   ]
  },
  {
   "cell_type": "markdown",
   "metadata": {},
   "source": [
    "SAA-C02-AB-01-15\n",
    "> Which of the following storage choices is the least resilient?\n",
    "\n",
    "- EBS PIOPS\n",
    "\n",
    "- EFS\n",
    "\n",
    "- EBS GP2\n",
    "\n",
    "- Instance store\n"
   ]
  },
  {
   "cell_type": "code",
   "execution_count": null,
   "metadata": {},
   "outputs": [],
   "source": [
    "#collapse\n",
    "\n",
    "answers = '''\n",
    "- EBS PIOPS\n",
    "\n",
    "- EFS\n",
    "\n",
    "- EBS GP2\n",
    "\n",
    "✔️ Instance store\n",
    "    - Instance store volumes are tied directly to the hardware that runs the hypervisor and are not designed for resiliency.\n",
    "'''"
   ]
  },
  {
   "cell_type": "markdown",
   "metadata": {},
   "source": [
    "SAA-C02-AB-02-18\n",
    "\n",
    "> When configuring S3 cross-region replication, which of the following must be executed for a complete solution?\n",
    "\n",
    "- Enable server-side encryption on both buckets.\n",
    "\n",
    "- No extra steps are required.\n",
    "\n",
    "- Ensure that all objects are using the same storage class.\n",
    "\n",
    "- Manually copy existing objects."
   ]
  },
  {
   "cell_type": "code",
   "execution_count": null,
   "metadata": {},
   "outputs": [],
   "source": [
    "#collapse\n",
    "\n",
    "answers = '''\n",
    "- Enable server-side encryption on both buckets.\n",
    "\n",
    "- No extra steps are required.\n",
    "\n",
    "- Ensure that all objects are using the same storage class.\n",
    "\n",
    "✔️ Manually copy existing objects.\n",
    "    - _Enabling cross-region replication does not copy existing objects by default, and so it is up to the customer to perform this task._\n",
    "    - https://docs.aws.amazon.com/AmazonS3/latest/dev/replication.html\n",
    "\n",
    "'''"
   ]
  },
  {
   "cell_type": "markdown",
   "metadata": {},
   "source": [
    "SAA-C02-AB-01-09\n",
    "\n",
    "> Which of these is an availability-zone-scoped resource?\n",
    "\n",
    "- DynamoDB table\n",
    "\n",
    "- EBS volume\n",
    "\n",
    "- SQS queue\n",
    "\n",
    "- IAM user"
   ]
  },
  {
   "cell_type": "code",
   "execution_count": null,
   "metadata": {},
   "outputs": [],
   "source": [
    "#collapse\n",
    "\n",
    "answers = '''\n",
    "- DynamoDB table\n",
    "\n",
    "✔️ EBS volume\n",
    "    - _An EBS volume is deployed at the AZ scope and can be directly attached to an EC2 instance in the same AZ._\n",
    "\n",
    "- SQS queue\n",
    "\n",
    "- IAM user\n",
    "\n",
    "'''"
   ]
  },
  {
   "cell_type": "markdown",
   "metadata": {},
   "source": [
    "SAA-C02-AB-02-17\n",
    "\n",
    "> In order to maintain 11 9s durability, how many times does S3 replicate each object within the storage class scope?\n",
    "\n",
    "- Four\n",
    "\n",
    "- Three\n",
    "\n",
    "- Five\n",
    "\n",
    "- Two\n",
    "\n",
    "\n"
   ]
  },
  {
   "cell_type": "code",
   "execution_count": null,
   "metadata": {},
   "outputs": [],
   "source": [
    "#collapse\n",
    "\n",
    "answers = '''\n",
    "- Four\n",
    "\n",
    "✔️ Three\n",
    "    - By replicating each object three times within the region (or AZ, for Z-IA), S3 can deliver 11 9s data durability.\n",
    "\n",
    "- Five\n",
    "\n",
    "- Two\n",
    "\n",
    "'''"
   ]
  },
  {
   "cell_type": "markdown",
   "metadata": {},
   "source": [
    "SAA-C02-AB-03-04\n",
    "\n",
    "> The VPC endpoint resource is best described as which of the following?\n",
    "\n",
    "- Fault tolerant\n",
    "\n",
    "- Highly available\n",
    "\n",
    "- Not highly available\n",
    "\n",
    "- None of these"
   ]
  },
  {
   "cell_type": "code",
   "execution_count": null,
   "metadata": {},
   "outputs": [],
   "source": [
    "#collapse\n",
    "\n",
    "answers = '''\n",
    "️️✔️ Fault tolerant\n",
    "    - The VPC endpoint resource is defined as a horizontally scaled, redundant resource, which means it is fault tolerant.\n",
    "\n",
    "- Highly available\n",
    "\n",
    "- Not highly available\n",
    "\n",
    "- None of these\n",
    "\n",
    "'''"
   ]
  },
  {
   "cell_type": "markdown",
   "metadata": {},
   "source": [
    "SAA-C02-AB-03-01\n",
    "\n",
    "Which pillar of the Well-Architected Framework includes the principle “Use serverless architectures”?\n",
    "\n",
    "- Performance efficiency\n",
    "\n",
    "- Reliability\n",
    "\n",
    "- Cost optimization\n",
    "\n",
    "- Security"
   ]
  },
  {
   "cell_type": "code",
   "execution_count": null,
   "metadata": {},
   "outputs": [],
   "source": [
    "#collapse\n",
    "\n",
    "answers = '''\n",
    "\n",
    "✔️ Performance efficiency\n",
    "    - https://docs.aws.amazon.com/wellarchitected/latest/performance-efficiency-pillar/design-principles.html\n",
    "\n",
    "- Reliability\n",
    "\n",
    "- Cost optimization\n",
    "\n",
    "- Security\n",
    "\n",
    "'''"
   ]
  },
  {
   "cell_type": "markdown",
   "metadata": {},
   "source": [
    "SAA-C02-AB-03-09\n",
    "\n",
    "> Which of these is a globally scoped resource?\n",
    "\n",
    "- Lambda function\n",
    "\n",
    "- Lambda@Edge function\n",
    "\n",
    "- SQS queue\n",
    "\n",
    "- SNS topic"
   ]
  },
  {
   "cell_type": "code",
   "execution_count": null,
   "metadata": {},
   "outputs": [],
   "source": [
    "#collapse\n",
    "\n",
    "answers = '''\n",
    "\n",
    "- Lambda function\n",
    "\n",
    "✔️ Lambda@Edge function\n",
    "    - When a Lambda function version is deployed to Lambda@Edge, it becomes a globally scoped resource.\n",
    "\n",
    "- SQS queue\n",
    "\n",
    "- SNS topic\n",
    "\n",
    "'''"
   ]
  },
  {
   "cell_type": "markdown",
   "metadata": {},
   "source": [
    "SAA-C02-AB-02-07\n",
    "\n",
    "> What is the published SLA for an RDS Multi-AZ deployment?\n",
    "\n",
    "- 4 9s\n",
    "\n",
    "- 2 9s\n",
    "\n",
    "- 3.5 9s\n",
    "\n",
    "- 3 9s"
   ]
  },
  {
   "cell_type": "code",
   "execution_count": null,
   "metadata": {},
   "outputs": [],
   "source": [
    "#collapse\n",
    "\n",
    "answers = '''\n",
    "\n",
    "- 4 9s\n",
    "\n",
    "- 2 9s\n",
    "\n",
    "✔️ 3.5 9s\n",
    "    - 99.95%\n",
    "    - https://aws.amazon.com/rds/sla/\n",
    "\n",
    "- 3 9s\n",
    "\n",
    "'''"
   ]
  },
  {
   "cell_type": "markdown",
   "metadata": {},
   "source": [
    "SAA-C02-AB-02-13\n",
    "\n",
    "> Which of the following best explains synchronous communication?\n",
    "\n",
    "- Two-way communication between a client and an app or between two apps that require a response to each request\n",
    "\n",
    "- One-way communication using message-passing where responses are required\n",
    "\n",
    "- Two-way communication between two applications that require a response to each request\n",
    "\n",
    "- One-way communication using message-passing where a response is not required"
   ]
  },
  {
   "cell_type": "code",
   "execution_count": null,
   "metadata": {},
   "outputs": [],
   "source": [
    "#collapse\n",
    "\n",
    "answers = '''\n",
    "- Two-way communication between a client and an app or between two apps that require a response to each request\n",
    "\n",
    "- One-way communication using message-passing where responses are required\n",
    "\n",
    "✔️ Two-way communication between two applications that require a response to each request\n",
    "    - In synchronous communication, multiple parties are participating at the same time and wait for replies from each other.\n",
    "\n",
    "- One-way communication using message-passing where a response is not required\n",
    "'''"
   ]
  },
  {
   "cell_type": "markdown",
   "metadata": {},
   "source": [
    "SAA-C02-AB-03-06\n",
    "\n",
    "> Which of the following is the definition of the term availability?\n",
    "\n",
    "- Availability involves multiple resources dedicated to performing the same task.\n",
    "\n",
    "- The system will continue to function despite the complete failure of any component of the architecture.\n",
    "\n",
    "- Availability is determined by percentage uptime, in 9s.\n",
    "\n",
    "- The system will continue to function without degradation in performance despite the complete failure of any component of the architecture.\n",
    "You answered this question incorrectly. The correct answers are highlighted.\n",
    "\n"
   ]
  },
  {
   "cell_type": "code",
   "execution_count": null,
   "metadata": {},
   "outputs": [],
   "source": [
    "#collapse\n",
    "\n",
    "answers = '''\n",
    "- Availability involves multiple resources dedicated to performing the same task.\n",
    "\n",
    "- The system will continue to function despite the complete failure of any component of the architecture.\n",
    "\n",
    "✔️ Availability is determined by percentage uptime, in 9s.\n",
    "\n",
    "- The system will continue to function without degradation in performance despite the complete failure of any component of the architecture.\n",
    "You answered this question incorrectly. The correct answers are highlighted.\n",
    "'''"
   ]
  },
  {
   "cell_type": "markdown",
   "metadata": {},
   "source": [
    "SAA-C02-AB-01-13\n",
    "\n",
    "> When using SNS for decoupling purposes, which of the subscriber types would be most appropriate? (Select two.)\n",
    "\n",
    "- HTTP/HTTPS\n",
    "- SQS\n",
    "- SMS\n",
    "- Email"
   ]
  },
  {
   "cell_type": "code",
   "execution_count": null,
   "metadata": {},
   "outputs": [],
   "source": [
    "#collapse\n",
    "\n",
    "answers = '''\n",
    "✔️ HTTP/HTTPS\n",
    "✔️ SQS\n",
    "    - SNS can be used to pass messages in a resilient manner to a downstream application. Two possible mechanisms for accomplishing this are SQS and HTTP/HTTPS subscribers to a topic.\n",
    "- SMS\n",
    "- Email\n",
    "'''"
   ]
  },
  {
   "cell_type": "markdown",
   "metadata": {},
   "source": [
    "## 3. O'Reilly - 25/08/20 - Module 2: Performance - 50%"
   ]
  },
  {
   "cell_type": "markdown",
   "metadata": {},
   "source": [
    "SAA-C02-AB-02-35\n",
    "\n",
    "> Which of the following is a benefit of deploying an Aurora database using Multi-Master instead of a traditional RDS single-endpoint solution?\n",
    "\n",
    "- Improved query concurrency\n",
    "\n",
    "- Simpler architecture\n",
    "\n",
    "- Lower cost\n",
    "\n",
    "- Lower operational overhead"
   ]
  },
  {
   "cell_type": "code",
   "execution_count": null,
   "metadata": {},
   "outputs": [],
   "source": [
    "#collapse\n",
    "\n",
    "answers = '''\n",
    "✔️ Improved query concurrency\n",
    "\n",
    "- Simpler architecture\n",
    "\n",
    "- Lower cost\n",
    "\n",
    "- Lower operational overhead\n",
    "'''"
   ]
  },
  {
   "cell_type": "markdown",
   "metadata": {},
   "source": []
  },
  {
   "cell_type": "markdown",
   "metadata": {},
   "source": [
    "SAA-C02-AB-01-28\n",
    "\n",
    "> What are the two performance modes for EFS file systems? (Select two.)\n",
    "\n",
    "- Provisioned IOPS\n",
    "\n",
    "- Throughput-optimized\n",
    "\n",
    "- General Purpose\n",
    "\n",
    "- MaxIO"
   ]
  },
  {
   "cell_type": "code",
   "execution_count": null,
   "metadata": {},
   "outputs": [],
   "source": [
    "#collapse\n",
    "\n",
    "answers = '''\n",
    "- Provisioned IOPS\n",
    "\n",
    "- Throughput-optimized\n",
    "\n",
    "✔️ General Purpose\n",
    "    - https://docs.aws.amazon.com/efs/latest/ug/performance.html\n",
    "\n",
    "✔️ MaxIO\n",
    "    - https://docs.aws.amazon.com/efs/latest/ug/performance.html\n",
    "'''"
   ]
  },
  {
   "cell_type": "markdown",
   "metadata": {},
   "source": [
    "SAA-C02-AB-02-29\n",
    "\n",
    "> Which ElastiCache choice is designed for durable storage of in-memory data?\n",
    "\n",
    "- Both Memcached and Redis\n",
    "\n",
    "- Redis\n",
    "\n",
    "- Memcached\n",
    "\n",
    "- Neither Memcached nor Redis\n"
   ]
  },
  {
   "cell_type": "code",
   "execution_count": null,
   "metadata": {},
   "outputs": [],
   "source": [
    "#collapse\n",
    "\n",
    "answers = '''\n",
    "- Both Memcached and Redis\n",
    "\n",
    "✔️ Redis\n",
    "    - Redis is actually a NoSQL database engine that replicates all data to every node in the cluster, which improves data durability.\n",
    "    - https://aws.amazon.com/elasticache/redis-vs-memcached/\n",
    "\n",
    "- Memcached\n",
    "\n",
    "- Neither Memcached nor Redis\n",
    "'''"
   ]
  },
  {
   "cell_type": "markdown",
   "metadata": {},
   "source": [
    "SAA-C02-AB-01-33\n",
    "\n",
    "> Which network interface resource is designed for the highest network performance?\n",
    "\n",
    "- EFA (Elastic Fabric Adapter)\n",
    "\n",
    "- ENI (Elastic Network Interface)\n",
    "\n",
    "- ENA (Elastic Network Adapter)\n",
    "\n",
    "- Multiple ENI\n",
    "\n",
    "\n"
   ]
  },
  {
   "cell_type": "code",
   "execution_count": null,
   "metadata": {},
   "outputs": [],
   "source": [
    "#collapse\n",
    "\n",
    "answers = '''\n",
    "✔️ EFA (Elastic Fabric Adapter)\n",
    "    - The EFA exhibits both the highest throughput and the lowest latency of any network interface in AWS\n",
    "    - Elastic Network Adapters (ENAs) provide traditional IP networking features that are required to support VPC networking. EFAs provide all of the same traditional IP networking features as ENAs, and they also support OS-bypass capabilities. OS-bypass enables HPC and machine learning applications to bypass the operating system kernel and to communicate directly with the EFA device.\n",
    "    - https://docs.aws.amazon.com/AWSEC2/latest/UserGuide/efa.html\n",
    "\n",
    "- ENI (Elastic Network Interface)\n",
    "\n",
    "- ENA (Elastic Network Adapter)\n",
    "\n",
    "- Multiple ENI\n",
    "'''"
   ]
  },
  {
   "cell_type": "markdown",
   "metadata": {},
   "source": [
    "SAA-C02-AB-01-25\n",
    "\n",
    "> What is a potential downside of reactive scaling for EC2?\n",
    "\n",
    "- Increased operational overhead of managing the Auto Scaling group\n",
    "\n",
    "- Increased cost\n",
    "\n",
    "- The delay when provisioning new instances\n",
    "\n",
    "- Decreased resilience\n"
   ]
  },
  {
   "cell_type": "code",
   "execution_count": null,
   "metadata": {},
   "outputs": [],
   "source": [
    "#collapse\n",
    "answers = '''\n",
    "- Increased operational overhead of managing the Auto Scaling group\n",
    "\n",
    "- Increased cost\n",
    "\n",
    "✔️ The delay when provisioning new instances\n",
    "    - When scaling reactively, several steps introduce delays before the new resources are made available to handle traffic.\n",
    "\n",
    "- Decreased resilience\n",
    "'''"
   ]
  },
  {
   "cell_type": "markdown",
   "metadata": {},
   "source": [
    " SAA-C02-AB-02-21\n",
    "\n",
    " > Which of these is an example of a scalable resource?\n",
    "\n",
    "- An S3 bucket\n",
    "\n",
    "- A Kinesis Firehose delivery stream\n",
    "\n",
    "- An SQS queue\n",
    "\n",
    "- EBS volume size\n",
    " \n",
    "\n",
    " "
   ]
  },
  {
   "cell_type": "code",
   "execution_count": null,
   "metadata": {},
   "outputs": [],
   "source": [
    "#collapse\n",
    "answers = '''\n",
    "- An S3 bucket\n",
    "\n",
    "- A Kinesis Firehose delivery stream\n",
    "\n",
    "- An SQS queue\n",
    "\n",
    "✔️ EBS volume size\n",
    "    - EBS volume size can be increased but not decreased, fitting the definition of a scalable resource.\n",
    "'''"
   ]
  },
  {
   "cell_type": "markdown",
   "metadata": {},
   "source": [
    "SAA-C02-AB-02-24\n",
    "\n",
    "> If a customer has the requirement to combine both on-demand and spot instances in the same Auto Scaling group, which of the following choices would be appropriate?\n",
    "\n",
    "- A launch template\n",
    "\n",
    "- A launch configuration\n",
    "\n",
    "- A launch configuration or launch template\n",
    "\n",
    "- Neither a launch configuration nor a launch template\n"
   ]
  },
  {
   "cell_type": "code",
   "execution_count": null,
   "metadata": {},
   "outputs": [],
   "source": [
    "#collapse\n",
    "answers = '''\n",
    " ✔️ A launch template\n",
    "    - In the Auto Scaling service, only launch templates support a mixture of on-demand and spot instances at the same time.\n",
    "    - https://docs.aws.amazon.com/AWSEC2/latest/UserGuide/ec2-launch-templates.html\n",
    "\n",
    "- A launch configuration\n",
    "\n",
    "- A launch configuration or launch template\n",
    "\n",
    "- Neither a launch configuration nor a launch template\n",
    "'''"
   ]
  },
  {
   "cell_type": "markdown",
   "metadata": {},
   "source": [
    "SAA-C02-AB-03-33\n",
    "\n",
    "> When choosing Direct Connect for hybrid network connectivity, what performance options are available?\n",
    "\n",
    "- Only 1Gb throughput\n",
    "\n",
    "- 1Gb and 10Gb throughput\n",
    "\n",
    "- 10Gb and 100Gb throughput\n",
    "\n",
    "- Only 10Gb throughput"
   ]
  },
  {
   "cell_type": "code",
   "execution_count": null,
   "metadata": {},
   "outputs": [],
   "source": [
    "#collapse\n",
    "answers = '''\n",
    "- Only 1Gb throughput\n",
    "\n",
    "✔️ 1Gb and 10Gb throughput\n",
    "    - https://docs.aws.amazon.com/directconnect/latest/UserGuide/Welcome.html\n",
    "\n",
    "- 10Gb and 100Gb throughput\n",
    "\n",
    "- Only 10Gb throughput\n",
    "'''"
   ]
  },
  {
   "cell_type": "markdown",
   "metadata": {},
   "source": [
    "SAA-C02-AB-01-21\n",
    "\n",
    "> Which of the following defines the term scalability?\n",
    "\n",
    "- The ability of a system to maintain the same resources, regardless of changes in demand\n",
    "\n",
    "- The ability of a system to increase and decrease resources allocated to match demand\n",
    "\n",
    "- The ability of a system to decrease resources to accommodate decreased demand\n",
    "\n",
    "- The ability of a system to increase resources to accommodate increased demand"
   ]
  },
  {
   "cell_type": "code",
   "execution_count": null,
   "metadata": {},
   "outputs": [],
   "source": [
    "#collapse\n",
    "answers = '''\n",
    "- The ability of a system to maintain the same resources, regardless of changes in demand\n",
    "\n",
    "- The ability of a system to increase and decrease resources allocated to match demand\n",
    "\n",
    "- The ability of a system to decrease resources to accommodate decreased demand\n",
    "\n",
    "✔️ The ability of a system to increase resources to accommodate increased demand\n",
    "    - Scalable systems are able to increase but not decrease resources. An example of this is RDS storage.\n",
    "'''"
   ]
  },
  {
   "cell_type": "markdown",
   "metadata": {},
   "source": [
    "SAA-C02-AB-02-28\n",
    "\n",
    "> What is the maximum throughput possible for an EFS file system?\n",
    "\n",
    "- 10Gbps\n",
    "\n",
    "- 5Gbps\n",
    "\n",
    "- 1Gbps\n",
    "\n",
    "- 3Gbps"
   ]
  },
  {
   "cell_type": "code",
   "execution_count": null,
   "metadata": {},
   "outputs": [],
   "source": [
    "#collapse\n",
    "answers = '''\n",
    "✔️ 10Gbps\n",
    "    - https://docs.aws.amazon.com/efs/latest/ug/performance.html\n",
    "\n",
    "- 5Gbps\n",
    "\n",
    "- 1Gbps\n",
    "\n",
    "- 3Gbps\n",
    "'''"
   ]
  },
  {
   "cell_type": "markdown",
   "metadata": {},
   "source": [
    "SAA-C02-AB-01-34\n",
    "\n",
    "> Which of the following is a benefit of deploying a relational database on EC2 using the instance store volume instead of EBS?\n",
    "\n",
    "- Automatic data replication\n",
    "\n",
    "- Highest resilience\n",
    "\n",
    "- Lowest latency\n",
    "\n",
    "- Elasticity"
   ]
  },
  {
   "cell_type": "code",
   "execution_count": null,
   "metadata": {},
   "outputs": [],
   "source": [
    "#collapse\n",
    "answers = '''\n",
    "- Automatic data replication\n",
    "\n",
    "- Highest resilience\n",
    "\n",
    "✔️ Lowest latency\n",
    "    - Instance store volumes do not traverse the network to reach storage and therefore do not incur any network latency.\n",
    "\n",
    "- Elasticity\n",
    "'''"
   ]
  },
  {
   "cell_type": "markdown",
   "metadata": {},
   "source": [
    "SAA-C02-AB-02-31\n",
    "\n",
    "> What is the maximum network throughput that can be achieved with an ENI?\n",
    "\n",
    "- 25Gbps\n",
    "\n",
    "- 10Gbps\n",
    "\n",
    "- 50Gbps\n",
    "\n",
    "- 20Gbps"
   ]
  },
  {
   "cell_type": "code",
   "execution_count": null,
   "metadata": {},
   "outputs": [],
   "source": [
    "#collapse\n",
    "answers = '''\n",
    "✔️ 25Gbps\n",
    "\n",
    "- 10Gbps\n",
    "\n",
    "- 50Gbps\n",
    "\n",
    "- 20Gbps\n",
    "'''"
   ]
  },
  {
   "cell_type": "markdown",
   "metadata": {},
   "source": [
    "SAA-C02-AB-03-34\n",
    "\n",
    "> When choosing a do-it-yourself (EC2-based) VPN between two networks, what performance guarantees are available?\n",
    "\n",
    "- Configurable throughput\n",
    "\n",
    "- Configurable latency and throughput\n",
    "\n",
    "- Configurable latency\n",
    "\n",
    "- None of these"
   ]
  },
  {
   "cell_type": "code",
   "execution_count": null,
   "metadata": {},
   "outputs": [],
   "source": [
    "#collapse\n",
    "answers = '''\n",
    "- Configurable throughput\n",
    "\n",
    "- Configurable latency and throughput\n",
    "\n",
    "- Configurable latency\n",
    "\n",
    "✔️ None of these\n",
    "    - An EC2-based VPN solution comes with no performance assurance, regardless of the EC2 instance type chosen.\n",
    "'''"
   ]
  },
  {
   "cell_type": "markdown",
   "metadata": {},
   "source": [
    "SAA-C02-AB-03-28\n",
    "\n",
    "> What is the documented S3 latency for either full delivery (for small objects) or first byte-out (for large objects)?\n",
    "\n",
    "- 200 to 300ms\n",
    "\n",
    "- 50 to 100ms\n",
    "\n",
    "- 300 to 400ms\n",
    "\n",
    "- 100 to 200ms"
   ]
  },
  {
   "cell_type": "code",
   "execution_count": null,
   "metadata": {},
   "outputs": [],
   "source": [
    "#collapse\n",
    "answers = '''\n",
    "- 200 to 300ms\n",
    "\n",
    "- 50 to 100ms\n",
    "\n",
    "- 300 to 400ms\n",
    "\n",
    "✔️ 100 to 200ms\n",
    "    - For latency-sensitive operations, you can achieve 100 to 200ms latency for S3 transfers, as per https://docs.aws.amazon.com/AmazonS3/latest/dev/optimizing-performance.html\n",
    "'''"
   ]
  },
  {
   "cell_type": "markdown",
   "metadata": {},
   "source": [
    " SAA-C02-AB-03-25\n",
    "\n",
    "> Which performance mode would be the right choice for an EFS file system where users will be running UNIX find commands to search for and filter files?\n",
    "\n",
    "- Either General Purpose or MaxIO\n",
    "\n",
    "- MaxIO\n",
    "\n",
    "- Neither General Purpose nor MaxIO\n",
    "\n",
    "- General Purpose"
   ]
  },
  {
   "cell_type": "code",
   "execution_count": null,
   "metadata": {},
   "outputs": [],
   "source": [
    "#collapse\n",
    "answers = '''\n",
    "- Either General Purpose or MaxIO\n",
    "\n",
    "- MaxIO\n",
    "\n",
    "- Neither General Purpose nor MaxIO\n",
    "\n",
    "✔️ General Purpose\n",
    "    - https://docs.aws.amazon.com/efs/latest/ug/performance.html\n",
    "'''"
   ]
  },
  {
   "cell_type": "markdown",
   "metadata": {},
   "source": [
    "SAA-C02-AB-03-27\n",
    "\n",
    "> What is the maximum throughput for S3 PUT/POST/COPY/DELETE operations on a per-prefix basis?\n",
    "\n",
    "- 4500\n",
    "\n",
    "- 5500\n",
    "\n",
    "- 2500\n",
    "\n",
    "- 3500"
   ]
  },
  {
   "cell_type": "code",
   "execution_count": null,
   "metadata": {},
   "outputs": [],
   "source": [
    "#collapse\n",
    "answers = '''\n",
    "- 4500\n",
    "\n",
    "- 5500\n",
    "\n",
    "- 2500\n",
    "\n",
    "✔️ 3500\n",
    "    - https://docs.aws.amazon.com/AmazonS3/latest/dev/optimizing-performance.html\n",
    "'''"
   ]
  },
  {
   "cell_type": "markdown",
   "metadata": {},
   "source": [
    " SAA-C02-AB-03-26\n",
    "\n",
    " > For an EFS file system, what is the maximum number of recommended concurrent transfers per client?\n",
    "\n",
    "- 80\n",
    "\n",
    "- 20\n",
    "\n",
    "- 40\n",
    "\n",
    "- 100\n",
    " "
   ]
  },
  {
   "cell_type": "code",
   "execution_count": null,
   "metadata": {},
   "outputs": [],
   "source": [
    "#collapse\n",
    "answers = '''\n",
    "- 80\n",
    "\n",
    "- 20\n",
    "\n",
    "✔️ 40\n",
    "    - AWS recommends up to 40 concurrent transfers per client, with a hard limit of 250Mbps per client overall.\n",
    "\n",
    "- 100\n",
    "'''"
   ]
  },
  {
   "cell_type": "markdown",
   "metadata": {},
   "source": [
    "SAA-C02-AB-01-29\n",
    "\n",
    " > Which CloudWatch metric is worth monitoring to ensure that your EFS file system is performing properly?\n",
    "\n",
    "- TotalIOBytes\n",
    "\n",
    "- BurstCreditBalance\n",
    "\n",
    "- PermittedThroughput\n",
    "\n",
    "- MetadataIOBytes"
   ]
  },
  {
   "cell_type": "code",
   "execution_count": null,
   "metadata": {},
   "outputs": [],
   "source": [
    "#collapse\n",
    "answers = '''\n",
    "- TotalIOBytes\n",
    "\n",
    "✔️ BurstCreditBalance\n",
    "    - If you have a large number of clients, the BurstCreditBalance metric can be used to determine if you are saturating the available bandwidth for the file system.\n",
    "\n",
    "- PermittedThroughput\n",
    "\n",
    "- MetadataIOBytes\n",
    "'''"
   ]
  },
  {
   "cell_type": "markdown",
   "metadata": {},
   "source": [
    " SAA-C02-AB-02-23\n",
    "\n",
    " > When enabling Predictive Auto Scaling, how long should you remain in forecast-only mode?\n",
    "\n",
    "- 24 hours\n",
    "\n",
    "- 48 hours\n",
    "\n",
    "- 12 hours\n",
    "\n",
    "- 1 week"
   ]
  },
  {
   "cell_type": "code",
   "execution_count": null,
   "metadata": {},
   "outputs": [],
   "source": [
    "#collapse\n",
    "answers = '''\n",
    "- 24 hours\n",
    "\n",
    "✔️ 48 hours\n",
    "    - https://aws.amazon.com/blogs/aws/new-predictive-scaling-for-ec2-powered-by-machine-learning/\n",
    "\n",
    "- 12 hours\n",
    "\n",
    "- 1 week\n",
    "'''"
   ]
  },
  {
   "cell_type": "markdown",
   "metadata": {},
   "source": [
    "SAA-C02-AB-03-22\n",
    "\n",
    " > Which of the following services allows customers to provision upper limits on performance?\n",
    " \n",
    "- DynamoDB\n",
    "\n",
    "- Cognito\n",
    "\n",
    "- CloudFront\n",
    "\n",
    "- Elastic Load Balancer"
   ]
  },
  {
   "cell_type": "code",
   "execution_count": null,
   "metadata": {},
   "outputs": [],
   "source": [
    "#collapse\n",
    "answers = '''\n",
    "✔️ DynamoDB\n",
    "    - DynamoDB allows for static provisioning of read and write ops to force an upper boundary on performance.\n",
    "\n",
    "- Cognito\n",
    "\n",
    "- CloudFront\n",
    "\n",
    "- Elastic Load Balancer\n",
    "'''"
   ]
  },
  {
   "cell_type": "markdown",
   "metadata": {},
   "source": [
    "SAA-C02-AB-02-27\n",
    "\n",
    " > How can you achieve 160,000 IOPS on a single EC2 instance?\n",
    " \n",
    "- It isn’t possible.\n",
    "\n",
    "- It is possible but only with certain instance types and multiple EBS volumes.\n",
    "\n",
    "- It is possible with any instance type.\n",
    "\n",
    "- It is possible but only with certain instance types and a single EBS volume."
   ]
  },
  {
   "cell_type": "code",
   "execution_count": null,
   "metadata": {},
   "outputs": [],
   "source": [
    "#collapse\n",
    "answers = '''\n",
    "- It isn’t possible.\n",
    "\n",
    "✔️ It is possible but only with certain instance types and multiple EBS volumes.\n",
    "    - Some bare-metal instance types at the higher levels of CPU/memory are able to accommodate a total of 160,000 IOPS across multiple EBS volumes.\n",
    "\n",
    "- It is possible with any instance type.\n",
    "\n",
    "- It is possible but only with certain instance types and a single EBS volume.\n",
    "'''"
   ]
  },
  {
   "cell_type": "markdown",
   "metadata": {},
   "source": [
    "SAA-C02-AB-01-27\n",
    "\n",
    " > The EBS _______ volume type has the lowest IOPS performance.\n",
    " \n",
    "- st1\n",
    "\n",
    "- Standard\n",
    "\n",
    "- gp2\n",
    "\n",
    "- sc1\n",
    "\n",
    "- piops"
   ]
  },
  {
   "cell_type": "code",
   "execution_count": null,
   "metadata": {},
   "outputs": [],
   "source": [
    "#collapse\n",
    "answers = '''\n",
    "\n",
    "- st1\n",
    "\n",
    "- Standard\n",
    "\n",
    "✔️ gp2\n",
    "    - EBS Standard volumes are designed as inexpensive, low-performance storage, with a maximum of several hundred IOPS.\n",
    "    - Pearson test answers list 'Standard' as the correct answer, but AWS docs say gp2 below.\n",
    "    - https://docs.aws.amazon.com/AWSEC2/latest/UserGuide/ebs-io-characteristics.html\n",
    "\n",
    "- sc1\n",
    "\n",
    "- piops\n",
    "'''"
   ]
  },
  {
   "cell_type": "markdown",
   "metadata": {},
   "source": [
    " SAA-C02-AB-03-30\n",
    "\n",
    " > EC2 placement groups can be applied to which of the following scopes?\n",
    " \n",
    "- Region\n",
    "\n",
    "- Multi-region\n",
    "\n",
    "- Availability zone\n",
    "\n",
    "- Global"
   ]
  },
  {
   "cell_type": "code",
   "execution_count": null,
   "metadata": {},
   "outputs": [],
   "source": [
    "#collapse\n",
    "answers = '''\n",
    "- Global\n",
    "\n",
    "- Multi-region\n",
    "\n",
    "- Availability zone\n",
    "\n",
    "✔️ Region\n",
    "    - https://docs.aws.amazon.com/AWSEC2/latest/UserGuide/placement-groups.html\n",
    "    - Placement groups can be configured to use multiple AZs within a region.\n",
    "'''"
   ]
  },
  {
   "cell_type": "markdown",
   "metadata": {},
   "source": [
    "SAA-C02-AB-02-22\n",
    "\n",
    " > Which of these is not a benefit of using a launch template instead of a launch configuration for Auto Scaling?\n",
    "\n",
    "- Use T2 Unlimited.\n",
    "\n",
    "- Use immutable objects with no versioning.\n",
    "\n",
    "- Use on-demand and spot instances at the same time.\n",
    "\n",
    "- Use multiple instance types."
   ]
  },
  {
   "cell_type": "code",
   "execution_count": null,
   "metadata": {},
   "outputs": [],
   "source": [
    "#collapse\n",
    "answers = '''\n",
    "- Use T2 Unlimited.\n",
    "\n",
    "✔️ Use immutable objects with no versioning.\n",
    "    - Launch templates allow for versioning so that it is simple to utilize a previous version if a rollback is required.\n",
    "\n",
    "- Use on-demand and spot instances at the same time.\n",
    "\n",
    "- Use multiple instance types.\n",
    "'''"
   ]
  },
  {
   "cell_type": "markdown",
   "metadata": {},
   "source": [
    "SAA-C02-AB-02-30\n",
    "\n",
    " > Which of the following strategies for accessing non-VPC resources optimizes for network performance?\n",
    "\n",
    "- Routing traffic through a VPG and using the corporate network Internet connection\n",
    "\n",
    "- Routing traffic through the Internet gateway\n",
    "\n",
    "- Routing traffic through a VPC endpoint\n",
    "\n",
    "- None of these"
   ]
  },
  {
   "cell_type": "code",
   "execution_count": null,
   "metadata": {},
   "outputs": [],
   "source": [
    "#collapse\n",
    "answers = '''\n",
    "- Routing traffic through a VPG and using the corporate network Internet connection\n",
    "\n",
    "- Routing traffic through the Internet gateway\n",
    "\n",
    "✔️ Routing traffic through a VPC endpoint\n",
    "    - Traffic that uses a VPC endpoint is proxied directly to the AWS service API endpoint and does not have to traverse the public AWS network or the Internet.\n",
    "\n",
    "- None of these\n",
    "'''"
   ]
  },
  {
   "cell_type": "markdown",
   "metadata": {},
   "source": [
    "SAA-C02-AB-03-37\n",
    "\n",
    " > Which of the following is a benefit of deploying a relational database on EC2 using the instance store volume instead of EBS?\n",
    "\n",
    "- Automatic data replication\n",
    "\n",
    "- Free storage\n",
    "\n",
    "- Highest resilience\n",
    "\n",
    "- Elasticity"
   ]
  },
  {
   "cell_type": "code",
   "execution_count": null,
   "metadata": {},
   "outputs": [],
   "source": [
    "#collapse\n",
    "answers = '''\n",
    "- Automatic data replication\n",
    "\n",
    "✔️ Free storage\n",
    "    - Instance store volumes do not have an associated charge but are provided as part of the instance type chosen.\n",
    "\n",
    "- Highest resilience\n",
    "\n",
    "- Elasticity\n",
    "'''"
   ]
  },
  {
   "cell_type": "markdown",
   "metadata": {},
   "source": [
    "SAA-C02-AB-03-32\n",
    "\n",
    " > Which type of EC2 placement group is designed for the highest resilience?\n",
    "\n",
    "- Partition placement group up\n",
    "\n",
    "- All placement groups\n",
    "\n",
    "- Spread placement group\n",
    "\n",
    "- Cluster placement group"
   ]
  },
  {
   "cell_type": "code",
   "execution_count": null,
   "metadata": {},
   "outputs": [],
   "source": [
    "#collapse\n",
    "answers = '''\n",
    "- Partition placement group up\n",
    "\n",
    "- All placement groups\n",
    "\n",
    "✔️ Spread placement group\n",
    "    - A spread placement group is not designed for node-to-node performance but rather for the highest resilience by guaranteeing separated resources for each EC2 instance.\n",
    "    - https://docs.aws.amazon.com/AWSEC2/latest/UserGuide/placement-groups.html\n",
    "\n",
    "- Cluster placement group\n",
    "'''"
   ]
  },
  {
   "cell_type": "markdown",
   "metadata": {},
   "source": [
    "## 4. O'Reilly - 27/08/20 - Module 3: Security - 47%\n",
    "\n",
    "| Result    | FAIL   |\n",
    "|-----------|--------|\n",
    "| Mark      | 47\\.62 |\n",
    "| Attempted | 42     |\n",
    "| Correct   | 20     |\n"
   ]
  },
  {
   "cell_type": "markdown",
   "metadata": {},
   "source": [
    "SAA-C02-AB-02-42\n",
    "\n",
    " > Which of the following would not be allowed in an S3 bucket policy?\n",
    "\n",
    "- Deny cross-account access\n",
    "\n",
    "- Only allow access from a specific CIDR range\n",
    "\n",
    "- Deny access from the root credentials\n",
    "\n",
    "- Only allow access when SSL transport is used"
   ]
  },
  {
   "cell_type": "code",
   "execution_count": null,
   "metadata": {},
   "outputs": [],
   "source": [
    "#collapse\n",
    "answers = '''\n",
    "- Deny cross-account access\n",
    "\n",
    "- Only allow access from a specific CIDR range\n",
    "\n",
    "✔️ Deny access from the root credentials\n",
    "    - https://docs.aws.amazon.com/AmazonS3/latest/dev/access-policy-language-overview.html\n",
    "    - Any user with root credentials has full, unimpeded access to all AWS resources in the account.\n",
    "\n",
    "- Only allow access when SSL transport is used\n",
    "'''"
   ]
  },
  {
   "cell_type": "markdown",
   "metadata": {},
   "source": [
    "SAA-C02-AB-02-51\n",
    "\n",
    " > Which of the following defines the function of KMS in the AWS ecosystem?\n",
    "\n",
    "- A global-scoped service that uses resilient architecture to protect your encryption keys\n",
    "\n",
    "- A region-scoped service that uses resilient architecture to protect your encryption keys\n",
    "\n",
    "- An AZ-scoped service that uses resilient architecture to protect your encryption keys\n",
    "\n",
    "- A region-scoped service that uses dedicated tenancy resources to protect your encryption keys"
   ]
  },
  {
   "cell_type": "code",
   "execution_count": null,
   "metadata": {},
   "outputs": [],
   "source": [
    "#collapse\n",
    "answers = '''\n",
    "- A global-scoped service that uses resilient architecture to protect your encryption keys\n",
    "\n",
    "✔️ A region-scoped service that uses resilient architecture to protect your encryption keys\n",
    "    - KMS is a shared-tenancy, region-scoped service that replicates resources across multiple AZs to achieve data resiliency and durability.\n",
    "    - https://aws.amazon.com/kms/features/#Secure\n",
    "\n",
    "- An AZ-scoped service that uses resilient architecture to protect your encryption keys\n",
    "\n",
    "- A region-scoped service that uses dedicated tenancy resources to protect your encryption keys\n",
    "'''"
   ]
  },
  {
   "cell_type": "markdown",
   "metadata": {},
   "source": [
    " SAA-C02-AB-03-45\n",
    "\n",
    " > Route tables are applied to ____________ traffic.\n",
    "\n",
    "- inbound\n",
    "\n",
    "- outbound\n",
    "\n",
    "- Inbound and outbound\n",
    "\n",
    "- inbound or outbound"
   ]
  },
  {
   "cell_type": "code",
   "execution_count": null,
   "metadata": {},
   "outputs": [],
   "source": [
    "#collapse\n",
    "answers = '''\n",
    "- inbound\n",
    "\n",
    "✔️ outbound\n",
    "    -  https://docs.aws.amazon.com/vpc/latest/userguide/VPC_Route_Tables.html\n",
    "        - A route table contains a set of rules, called routes, that are used to determine where network traffic from your subnet or gateway is directed.\n",
    "    - Route tables are applied at the subnet boundary but only for outbound connections.\n",
    "\n",
    "- Inbound and outbound\n",
    "\n",
    "- inbound or outbound\n",
    "'''"
   ]
  },
  {
   "cell_type": "markdown",
   "metadata": {},
   "source": [
    "SAA-C02-AB-01-47\n",
    "\n",
    " > How can you design for end-to-end encryption at rest on an Elastic Load Balancing resource?\n",
    " \n",
    "- It is enabled by default.\n",
    "\n",
    "- Enable it by using the root credentials.\n",
    "\n",
    "- Configure a secure listener using TLS.\n",
    "\n",
    "- You can’t. The ELB does not support encryption of data at rest."
   ]
  },
  {
   "cell_type": "code",
   "execution_count": null,
   "metadata": {},
   "outputs": [],
   "source": [
    "#collapse\n",
    "answers = '''\n",
    "- It is enabled by default.\n",
    "\n",
    "- Enable it by using the root credentials.\n",
    "\n",
    "- Configure a secure listener using TLS.\n",
    "\n",
    "✔️ You can’t. The ELB does not support encryption of data at rest.\n",
    "    - The Elastic Load Balancing service does not need encryption at rest, as no data is ever persisted within the service for any length of time.\n",
    "'''"
   ]
  },
  {
   "cell_type": "markdown",
   "metadata": {},
   "source": [
    "SAA-C02-AB-01-38\n",
    "\n",
    " > What type of AWS accounts can be part of an AWS organization? (Select two.)\n",
    " \n",
    "- None of these\n",
    "\n",
    "- Accounts created programmatically from the organization master account\n",
    "\n",
    "- Standalone accounts\n",
    "\n",
    "- Primary subscription-based accounts"
   ]
  },
  {
   "cell_type": "code",
   "execution_count": null,
   "metadata": {},
   "outputs": [],
   "source": [
    "#collapse\n",
    "answers = '''\n",
    "- None of these\n",
    "\n",
    "✔️ Accounts created programmatically from the organization master account\n",
    "    - \"AWS Organizations is an account management service that enables you to consolidate multiple AWS accounts intoan organization that you create and centrally manage.\"\n",
    "    - \"AWS Organizations includes account management and consolidated billing capabilities that enable you to better meet the budgetary, security, and compliance needs of your business. As an administrator of an organization, you can create accounts in your organization and invite existing accounts to join the organization.\"\n",
    "    - \n",
    "\n",
    "✔️ Standalone accounts\n",
    "    - \"invited accounts that were previously standalone.\"\n",
    "\n",
    "- Primary subscription-based accounts\n",
    "'''"
   ]
  },
  {
   "cell_type": "markdown",
   "metadata": {},
   "source": [
    "SAA-C02-AB-02-47\n",
    "\n",
    " > When implementing file system storage using EFS, how can you enable at-rest encryption?\n",
    " \n",
    "- It can be enabled at any time during or after file system creation.\n",
    "\n",
    "- It is set by default.\n",
    "\n",
    "- EFS doesn’t support encryption at rest.\n",
    "\n",
    "- Upon file system creation, check the Encrypted File System option."
   ]
  },
  {
   "cell_type": "code",
   "execution_count": null,
   "metadata": {},
   "outputs": [],
   "source": [
    "#collapse\n",
    "answers = '''\n",
    "- It can be enabled at any time during or after file system creation.\n",
    "\n",
    "- It is set by default.\n",
    "\n",
    "- EFS doesn’t support encryption at rest.\n",
    "\n",
    "✔️ Upon file system creation, check the Encrypted File System option.\n",
    "    - \"Upon file system creation, check the Encrypted File System option.\"\n",
    "    - https://docs.aws.amazon.com/efs/latest/ug/encryption-at-rest.html\n",
    "        - \"You can choose to enable encryption at rest for a file system when you create it.\"\n",
    "'''"
   ]
  },
  {
   "cell_type": "markdown",
   "metadata": {},
   "source": [
    "SAA-C02-AB-03-51\n",
    "\n",
    " > When designing a network architecture to use Direct Connect, under which conditions can the traffic be encrypted?\n",
    " \n",
    "- Direct Connect can use encryption across a public VIF to a VPG.\n",
    "\n",
    "- Direct Connect uses encryption by default.\n",
    "\n",
    "- Direct Connect can use encryption across a private VIF to a VPG.\n",
    "\n",
    "- Direct Connect can’t use encryption."
   ]
  },
  {
   "cell_type": "code",
   "execution_count": null,
   "metadata": {},
   "outputs": [],
   "source": [
    "#collapse\n",
    "answers = '''\n",
    "✔️ Direct Connect can use encryption across a public VIF to a VPG.\n",
    "    - \"Direct Connect can encrypt connections to individual VPCs using a VPN across a public virtual interface (VIF).\"\n",
    "    - https://docs.aws.amazon.com/directconnect/latest/UserGuide/WorkingWithVirtualInterfaces.html\n",
    "\n",
    "- Direct Connect uses encryption by default.\n",
    "\n",
    "- Direct Connect can use encryption across a private VIF to a VPG.\n",
    "\n",
    "- Direct Connect can’t use encryption.\n",
    "'''"
   ]
  },
  {
   "cell_type": "markdown",
   "metadata": {},
   "source": [
    "SAA-C02-AB-03-40\n",
    "\n",
    " > What is a consideration when implementing API gateway resource policies?\n",
    " \n",
    "- How these policies impact calls to Lambda functions?\n",
    "\n",
    "- None of the above\n",
    "\n",
    "- How these policies impact Cognito authorization workflows?\n",
    "\n",
    "- How these policies impact the cost of the service?"
   ]
  },
  {
   "cell_type": "code",
   "execution_count": null,
   "metadata": {},
   "outputs": [],
   "source": [
    "#collapse\n",
    "answers = '''\n",
    "- How these policies impact calls to Lambda functions?\n",
    "\n",
    "- None of the above\n",
    "\n",
    "✔️ How these policies impact Cognito authorization workflows?\n",
    "    - When implementing API gateway resource policies, it is important to understand that the policy is evaluated before the user is authenticated.\n",
    "    - https://docs.aws.amazon.com/apigateway/latest/developerguide/apigateway-authorization-flow.html\n",
    "        - \"After authenticating the user with the IAM service, the policies attached to the IAM user in addition to the resource policy are evaluated together. The outcome varies based on whether the caller is in the same account, or a separate AWS account, from the API owner.\"\n",
    "\n",
    "- How these policies impact the cost of the service?\n",
    "'''"
   ]
  },
  {
   "cell_type": "markdown",
   "metadata": {},
   "source": [
    "SAA-C02-AB-03-44\n",
    "\n",
    " > VPC security groups are appropriate for _______ and are applied at the ______ scope. (Select two)\n",
    " \n",
    "- subnet\n",
    "\n",
    "- network interface\t\n",
    "\n",
    "- whitelisting\n",
    "\n",
    "- blacklisting"
   ]
  },
  {
   "cell_type": "code",
   "execution_count": null,
   "metadata": {},
   "outputs": [],
   "source": [
    "#collapse\n",
    "answers = '''\n",
    "- subnet\n",
    "\n",
    "✔️ network interface\n",
    "    - \"Security groups are stateful firewall rules applied at the network interface scope.\"\n",
    "\n",
    "✔️ whitelisting\n",
    "    - \"Because they are stateful and block traffic by default, they are useful for whitelisting appropriate traffic.\"\n",
    "\n",
    "- blacklisting\n",
    "'''"
   ]
  },
  {
   "cell_type": "markdown",
   "metadata": {},
   "source": [
    "SAA-C02-AB-01-51\n",
    "\n",
    " > When configuring an S3 bucket to act as a static website, what are your options for TLS encryption for data in transit?\n",
    " \n",
    "- TLS isn’t possible for an S3 static website.\n",
    "\n",
    "- Apply a single hostname TLS certificate to the bucket.\n",
    "\n",
    "- Use the default s3.amazonaws.com TLS certificate.\n",
    "\n",
    "- Apply a vanity wildcard certificate to the bucket."
   ]
  },
  {
   "cell_type": "code",
   "execution_count": null,
   "metadata": {},
   "outputs": [],
   "source": [
    "#collapse\n",
    "answers = '''\n",
    "- TLS isn’t possible for an S3 static website.\n",
    "\n",
    "- Apply a single hostname TLS certificate to the bucket.\n",
    "\n",
    "✔️ Use the default s3.amazonaws.com TLS certificate.\n",
    "\n",
    "- Apply a vanity wildcard certificate to the bucket.\n",
    "'''"
   ]
  },
  {
   "cell_type": "markdown",
   "metadata": {},
   "source": [
    "SAA-C02-AB-01-42\n",
    "\n",
    " > Lambda function access policies apply to which of the following?\n",
    " \n",
    "- Layer version\n",
    "\n",
    "- Alias\n",
    "\n",
    "- Function\n",
    "\n",
    "- All of these\n",
    "\n",
    "- Version"
   ]
  },
  {
   "cell_type": "code",
   "execution_count": null,
   "metadata": {},
   "outputs": [],
   "source": [
    "#collapse\n",
    "answers = '''\n",
    "- Layer version\n",
    "\n",
    "- Alias\n",
    "\n",
    "- Function\n",
    "\n",
    "✔️ All of these\n",
    "    - https://docs.aws.amazon.com/lambda/latest/dg/access-control-resource-based.html\n",
    "\n",
    "- Version\n",
    "'''"
   ]
  },
  {
   "cell_type": "markdown",
   "metadata": {},
   "source": [
    "SAA-C02-AB-02-45\n",
    "\n",
    " > VPC NACLs are appropriate for _______ and are applied at the ______ scope.\n",
    " \n",
    "- blacklisting, subnet\n",
    "\n",
    "- whitelisting, subnet\n",
    "\n",
    "- whitelisting, network interface\n",
    "\n",
    "- blacklisting and whitelisting, VPC"
   ]
  },
  {
   "cell_type": "code",
   "execution_count": null,
   "metadata": {},
   "outputs": [],
   "source": [
    "#collapse\n",
    "answers = '''\n",
    "✔️ blacklisting, subnet\n",
    "    - https://docs.aws.amazon.com/vpc/latest/userguide/vpc-network-acls.html\n",
    "    - \"A network access control list (ACL) is an optional layer of security for your VPC that acts as a firewall for controlling traffic in and out of one or more subnets. You might set up network ACLs with rules similar to your security groups in order to add an additional layer of security to your VPC.\"\n",
    "\n",
    "- whitelisting, subnet\n",
    "\n",
    "- whitelisting, network interface\n",
    "\n",
    "- blacklisting and whitelisting, VPC\n",
    "'''"
   ]
  },
  {
   "cell_type": "markdown",
   "metadata": {},
   "source": [
    " SAA-C02-AB-02-49\n",
    "\n",
    " > Of the following services, which one will experience a documented performance impact if you enable encryption?\n",
    " \n",
    "- EBS\n",
    "\n",
    "- RDS\n",
    "\n",
    "- RedShift\n",
    "\n",
    "- S3"
   ]
  },
  {
   "cell_type": "code",
   "execution_count": null,
   "metadata": {},
   "outputs": [],
   "source": [
    "#collapse\n",
    "answers = '''\n",
    "- EBS\n",
    "\n",
    "- RDS\n",
    "\n",
    "✔️ RedShift\n",
    "    - RedShift, while using hardware to assist with encryption, still experiences a performance impact of 20% to 40%, as documented at \n",
    "    - https://d1.awsstatic.com/whitepapers/redshift/Tableau_Redshift_Whitepaper.pdf.\n",
    "\n",
    "- S3\n",
    "'''"
   ]
  },
  {
   "cell_type": "markdown",
   "metadata": {},
   "source": [
    " SAA-C02-AB-02-40\n",
    "\n",
    " > Which IAM resource supports permission boundaries?\n",
    " \n",
    "- IAM User\n",
    "\n",
    "- IAM Group\n",
    "\n",
    "- IAM Role\n",
    "\n",
    "- IAM Policy"
   ]
  },
  {
   "cell_type": "code",
   "execution_count": null,
   "metadata": {},
   "outputs": [],
   "source": [
    "#collapse\n",
    "answers = '''\n",
    "✔️ IAM User\n",
    "    - https://docs.aws.amazon.com/IAM/latest/UserGuide/access_policies_boundaries.html\n",
    "\n",
    "- IAM Group\n",
    "\n",
    "- IAM Role\n",
    "\n",
    "- IAM Policy\n",
    "'''"
   ]
  },
  {
   "cell_type": "markdown",
   "metadata": {},
   "source": [
    " SAA-C02-AB-03-42\n",
    "\n",
    " > Which resource-based policy is required to exist in order to use the resource?\n",
    " \n",
    "- S3 bucket policy\n",
    "\n",
    "- KMS CMK key policy\n",
    "\n",
    "- Lambda function policy\n",
    "\n",
    "- Glacier vault policy"
   ]
  },
  {
   "cell_type": "code",
   "execution_count": null,
   "metadata": {},
   "outputs": [],
   "source": [
    "#collapse\n",
    "answers = '''\n",
    "- S3 bucket policy\n",
    "\n",
    "✔️ KMS CMK key policy\n",
    "    - \"The Customer master keys (CMK) cannot be used without a key policy in place, with statements for both key administrators and key users.\"\n",
    "    - https://docs.aws.amazon.com/kms/latest/developerguide/key-policies.html\n",
    "\n",
    "- Lambda function policy\n",
    "\n",
    "- Glacier vault policy\n",
    "'''"
   ]
  },
  {
   "cell_type": "markdown",
   "metadata": {},
   "source": [
    " SAA-C02-AB-01-48\n",
    "\n",
    " > Which service allows for at-rest encryption that can be set as a default using AWS root account credentials?\n",
    " \n",
    "- EBS\n",
    "\n",
    "- None of these\n",
    "\n",
    "- S3\n",
    "\n",
    "- RDS\n",
    "\n",
    "- EFS"
   ]
  },
  {
   "cell_type": "code",
   "execution_count": null,
   "metadata": {},
   "outputs": [],
   "source": [
    "#collapse\n",
    "answers = '''\n",
    "- EBS\n",
    "    - Of the choices listed, EBS volume encryption can be enabled by default on a per-region basis, but it does not require the root credentials to do so.\n",
    "\n",
    "✔️ None of these\n",
    "    - Of the choices listed, EBS volume encryption can be enabled by default on a per-region basis, but it does not require the root credentials to do so.\n",
    "\n",
    "- S3\n",
    "\n",
    "- RDS\n",
    "\n",
    "- EFS\n",
    "'''"
   ]
  },
  {
   "cell_type": "markdown",
   "metadata": {},
   "source": [
    "SAA-C02-AB-03-46\n",
    "\n",
    " > When using a virtual private gateway connection to an on-premises network, what traffic is encrypted?\n",
    " \n",
    "- Internal traffic only\n",
    "\n",
    "- Internal and external traffic\n",
    "\n",
    "- All traffic\n",
    "\n",
    "- No traffic"
   ]
  },
  {
   "cell_type": "code",
   "execution_count": null,
   "metadata": {},
   "outputs": [],
   "source": [
    "#collapse\n",
    "answers = '''\n",
    "- Internal traffic only\n",
    "\n",
    "- Internal and external traffic\n",
    "\n",
    "✔️ All traffic\n",
    "    - https://docs.aws.amazon.com/vpn/latest/s2svpn/internetwork-traffic-privacy.html\n",
    "    - \"Each Site-to-Site VPN connection consists of two encrypted IPsec VPN tunnels that link AWS and your network. Traffic in each tunnel can be encrypted with AES128 or AES256 and use Diffie-Hellman groups for key exchange, providing Perfect Forward Secrecy. AWS authenticates with SHA1 or SHA2 hashing functions.\"\n",
    "\n",
    "- No traffic\n",
    "'''"
   ]
  },
  {
   "cell_type": "markdown",
   "metadata": {},
   "source": [
    "SAA-C02-AB-02-46\n",
    "\n",
    " > VPC traffic mirroring can be applied to which resource?\n",
    " \n",
    "- Subnet\n",
    "\n",
    "- Region\n",
    "\n",
    "- VPC\n",
    "\n",
    "- Network interface"
   ]
  },
  {
   "cell_type": "code",
   "execution_count": null,
   "metadata": {},
   "outputs": [],
   "source": [
    "#collapse\n",
    "answers = '''\n",
    "- Subnet\n",
    "\n",
    "- Region\n",
    "\n",
    "- VPC\n",
    "\n",
    "✔️ Network interface\n",
    "    - \"VPC traffic mirroring can only be applied to a single ENI, and the traffic can be directed to either an ENI or a network load balancer.\"\n",
    "    - https://docs.aws.amazon.com/vpc/latest/mirroring/what-is-traffic-mirroring.html\n",
    "    - \"Traffic Mirroring is an Amazon VPC feature that you can use to copy network traffic from an elastic network interface of Amazon EC2 instances.\"\n",
    "'''"
   ]
  },
  {
   "cell_type": "markdown",
   "metadata": {},
   "source": [
    "SAA-C02-AB-01-49\n",
    "\n",
    " > Which two RDS database engines support Transparent Data Encryption (TDE)? (Select two.)\n",
    " \n",
    "- Oracle DB\t\n",
    "\n",
    "- MySQL\n",
    "\n",
    "- Postgres\n",
    "\n",
    "- SQL Server"
   ]
  },
  {
   "cell_type": "code",
   "execution_count": null,
   "metadata": {},
   "outputs": [],
   "source": [
    "#collapse\n",
    "answers = '''\n",
    "✔️ Oracle DB\t\n",
    "    - https://docs.aws.amazon.com/AmazonRDS/latest/UserGuide/Overview.Encryption.html\n",
    "\n",
    "- MySQL\n",
    "\n",
    "- Postgres\n",
    "\n",
    "✔️ SQL Server\n",
    "    - https://docs.aws.amazon.com/AmazonRDS/latest/UserGuide/Overview.Encryption.html\n",
    "'''"
   ]
  },
  {
   "cell_type": "markdown",
   "metadata": {},
   "source": [
    "SAA-C02-AB-03-49\n",
    "\n",
    " > When deploying a virtual private gateway (VPG) for a VPN, how does your traffic reach the remote network?\n",
    " \n",
    "- The traffic can only traverse a private fiber connection.\n",
    "\n",
    "- The traffic traverses the public Internet.\n",
    "\n",
    "- None of these is correct.\n",
    "\n",
    "- The traffic uses AWS global fiber to reach the destination."
   ]
  },
  {
   "cell_type": "code",
   "execution_count": null,
   "metadata": {},
   "outputs": [],
   "source": [
    "#collapse\n",
    "answers = '''\n",
    "- The traffic can only traverse a private fiber connection.\n",
    "\n",
    "✔️ The traffic traverses the public Internet.\n",
    "    - \"The VPG is assigned two publicly addressable IPv4 addresses for terminating a VPN connection and must be reached across public networks.\"\n",
    "\n",
    "- None of these is correct.\n",
    "\n",
    "- The traffic uses AWS global fiber to reach the destination.\n",
    "'''"
   ]
  },
  {
   "cell_type": "markdown",
   "metadata": {},
   "source": [
    "SAA-C02-AB-01-46\n",
    "\n",
    " > VPC endpoint traffic is delivered to the service API endpoint via which of the following?\n",
    " \n",
    "- Public Internet\n",
    "\n",
    "- AWS private network\n",
    "\n",
    "- AWS public network\n",
    "\n",
    "- Proxy"
   ]
  },
  {
   "cell_type": "code",
   "execution_count": null,
   "metadata": {},
   "outputs": [],
   "source": [
    "#collapse\n",
    "answers = '''\n",
    "- Public Internet\n",
    "\n",
    "- AWS private network\n",
    "\n",
    "- AWS public network\n",
    "\n",
    "✔️ Proxy\n",
    "    - \"VPC gateway and interface endpoints use a proxy to pass traffic to the service API endpoint, bypassing the AWS network entirely.\"\n",
    "'''"
   ]
  },
  {
   "cell_type": "markdown",
   "metadata": {},
   "source": [
    "## 5. O'Reilly - 01/09/20 - Module 4: Cost Optimisation - 57.50%\n",
    "\n",
    "| Result    | FAIL   |\n",
    "|-----------|--------|\n",
    "| Mark      | 57\\.50 |\n",
    "| Attempted | 40     |\n",
    "| Correct   | 23     |"
   ]
  },
  {
   "cell_type": "markdown",
   "metadata": {},
   "source": [
    "SAA-C02-AB-02-52\n",
    "\n",
    " > Which EBS volume type would be appropriate for low-cost, low-performance requirements with more than 1TB data to be placed?\n",
    " \n",
    "- gp2\n",
    "\n",
    "- piops\n",
    "\n",
    "- st1\n",
    "\n",
    "- sc1\n",
    "\n",
    "- Standard"
   ]
  },
  {
   "cell_type": "code",
   "execution_count": null,
   "metadata": {},
   "outputs": [],
   "source": [
    "#collapse\n",
    "answers = '''\n",
    "- gp2\n",
    "    - \"Recommended for most workloads\"\n",
    "\n",
    "\n",
    "- piops\n",
    "\n",
    "- st1\n",
    "\n",
    "✔️ sc1\n",
    "    - https://docs.aws.amazon.com/AWSEC2/latest/UserGuide/ebs-volume-types.html\n",
    "    - \"sc1, or cold-storage HDD, is designed for infrequent access at a low price and supports up to 16TB per volume.\"\n",
    "\n",
    "- Standard\n",
    "    - Standard is \"previous generation\" according to AWS docs\n",
    "\n",
    "'''"
   ]
  },
  {
   "cell_type": "markdown",
   "metadata": {},
   "source": [
    "SAA-C02-AB-01-59\n",
    "\n",
    " > When deploying VMs onto a dedicated host, which pricing options are available for the individual VMs? (Select two.)\n",
    " \n",
    "- Static\n",
    "\n",
    "- Dynamic\n",
    "\n",
    "- Spot\n",
    "\n",
    "- Reservation\n",
    "\n",
    "- On-demand"
   ]
  },
  {
   "cell_type": "code",
   "execution_count": null,
   "metadata": {},
   "outputs": [],
   "source": [
    "#collapse\n",
    "answers = '''\n",
    "- Static\n",
    "\n",
    "- Dynamic\n",
    "\n",
    "- Spot\n",
    "\n",
    "✔️ Reservation\n",
    "\n",
    "✔️ On-demand\n",
    "    - \"Dedicated host pricing is based on the overall capacity of each bare-metal server. Because the entire server is dedicated, it isn’t possible to use it for spot instances, but on-demand and reserved instance pricing are still available.\"\n",
    "'''"
   ]
  },
  {
   "cell_type": "markdown",
   "metadata": {},
   "source": [
    "SAA-C02-AB-02-54\n",
    "\n",
    " > Which S3 storage class exhibits the lowest gigabytes-per-month storage cost and still complies with low-latency requirements?\n",
    " \n",
    "- S3 Intelligent-tiering\n",
    "\n",
    "- Standard\n",
    "\n",
    "- Z-IA\n",
    "    \n",
    "- S3-IA"
   ]
  },
  {
   "cell_type": "code",
   "execution_count": null,
   "metadata": {},
   "outputs": [],
   "source": [
    "#collapse\n",
    "answers = '''\n",
    "- S3 Intelligent-tiering\n",
    "\n",
    "- Standard\n",
    "\n",
    "✔️ Z-IA\n",
    "    - https://jonwhittlestone.github.io/notes/aws/revision/2020/07/29/saa-c02-chad-smith-pearson-live-lesson.html#Object-storage-costs\n",
    "    - \"S3 One Zone-Infrequent Access is designed for the lowest-cost storage while still meeting low-latency requirements. The data is replicated within a single AZ in a region instead of across the region, which does reduce availability to 3 9s\"\n",
    "\n",
    "- S3-IA\n",
    "'''"
   ]
  },
  {
   "cell_type": "markdown",
   "metadata": {},
   "source": [
    "SAA-C02-AB-03-58\n",
    "\n",
    " > When deploying Aurora Serverless versus RDS, what is one cost consideration that should be reviewed strategically before implementation?\n",
    " \n",
    "- Aurora Serverless is always more expensive than RDS.\n",
    "\n",
    "- Aurora Serverless compute and storage resources are dynamic and auto-scaled.\n",
    "\n",
    "- Aurora Serverless compute and storage resources are static and predictable.\n",
    "\n",
    "- Aurora Serverless is always less expensive than RDS."
   ]
  },
  {
   "cell_type": "code",
   "execution_count": null,
   "metadata": {},
   "outputs": [],
   "source": [
    "#collapse\n",
    "answers = '''\n",
    "- Aurora Serverless is always more expensive than RDS.\n",
    "\n",
    "✔️ Aurora Serverless compute and storage resources are dynamic and auto-scaled.\n",
    "    - \"Aurora Serverless can be a low-cost relational database solution when it is managed properly, but if the auto-scaling limits are set very high, it is possible to generate a lot of cost with a few long-running queries.\"\n",
    "\n",
    "- Aurora Serverless compute and storage resources are static and predictable.\n",
    "\n",
    "- Aurora Serverless is always less expensive than RDS.\n",
    "'''"
   ]
  },
  {
   "cell_type": "markdown",
   "metadata": {},
   "source": [
    "SAA-C02-AB-03-62\n",
    "\n",
    " > When enabling VPC flow logs, what is the effect on your monthly AWS bill?\n",
    " \n",
    "- Charges for the amount of data processed\n",
    "\n",
    "- Charges for data stored\n",
    "\n",
    "- No charges\n",
    "\n",
    "- Charges for the amount of data processed and data stored"
   ]
  },
  {
   "cell_type": "code",
   "execution_count": null,
   "metadata": {},
   "outputs": [],
   "source": [
    "#collapse\n",
    "answers = '''\n",
    "- Charges for the amount of data processed\n",
    "\n",
    "- Charges for data stored\n",
    "\n",
    "- No charges\n",
    "\n",
    "✔️ Charges for the amount of data processed and data stored\n",
    "    - https://docs.aws.amazon.com/vpc/latest/userguide/flow-logs.html#flow-logs-pricing\n",
    "    - \"VPC flow logs, regardless of scope (VPC, subnet, or ENI), are charged based on the data processed and data stored in either S3 or CloudWatch logs.\"\n",
    "'''"
   ]
  },
  {
   "cell_type": "markdown",
   "metadata": {},
   "source": [
    "SAA-C02-AB-03-64\n",
    "\n",
    " > What cost would you expect on your monthly bill for data throughput from traffic generated between EC2 and an S3 bucket in the same region, assuming that the EC2 instances are in public subnets?\n",
    " \n",
    "- There will be no throughput charges, but there will be S3 access charges.\n",
    "\n",
    "- The cost will depend on throughput.\n",
    "\n",
    "- There will be throughput charges and S3 access charges.\n",
    "\n",
    "- There will be no cost whatsoever."
   ]
  },
  {
   "cell_type": "code",
   "execution_count": null,
   "metadata": {},
   "outputs": [],
   "source": [
    "#collapse\n",
    "answers = '''\n",
    "✔️ There will be no throughput charges, but there will be S3 access charges.\n",
    "    - \"There are no network throughput charges for accessing an S3 bucket in the same region, but there are S3 service charges for every operation performed against objects in a bucket.\"\n",
    "\n",
    "- The cost will depend on throughput.\n",
    "\n",
    "- There will be throughput charges and S3 access charges.\n",
    "\n",
    "- There will be no cost whatsoever.\n",
    "'''"
   ]
  },
  {
   "cell_type": "markdown",
   "metadata": {},
   "source": [
    "SAA-C02-AB-03-59\n",
    "\n",
    " > What is a difference in the RedShift pricing model as compared to RDS and Aurora?\n",
    " \n",
    "- RedShift does not charge for data storage resources.\n",
    "\n",
    "- RedShift is priced similarly to RDS for compute and storage resources.\n",
    "\n",
    "- RedShift is priced similarly to Aurora for compute and storage resources.\n",
    "\n",
    "- RedShift does not charge for compute resources."
   ]
  },
  {
   "cell_type": "code",
   "execution_count": null,
   "metadata": {},
   "outputs": [],
   "source": [
    "#collapse\n",
    "answers = '''\n",
    "✔️ RedShift does not charge for data storage resources.\n",
    "    - \"A RedShift cluster is deployed according to the number of compute nodes chosen. Storage is statically allocated to each compute node and is not part of the cost structure for the service.\"\n",
    "\n",
    "- RedShift is priced similarly to RDS for compute and storage resources.\n",
    "\n",
    "- RedShift is priced similarly to Aurora for compute and storage resources.\n",
    "\n",
    "- RedShift does not charge for compute resources.\n",
    "    - \"A RedShift cluster is deployed according to the number of compute nodes chosen. Storage is statically allocated to each compute node and is not part of the cost structure for the service.\"\n",
    "'''"
   ]
  },
  {
   "cell_type": "markdown",
   "metadata": {},
   "source": [
    "SAA-C02-AB-03-53\n",
    "\n",
    "> Which EBS volume type would be an appropriate choice for a throughput-bound application with midlevel performance requirements and also a requirement for cost optimization?\n",
    " \n",
    "- Standard\n",
    "\n",
    "- gp2\n",
    "\n",
    "- sc1\n",
    "\n",
    "- piops\n",
    "\n",
    "- st1"
   ]
  },
  {
   "cell_type": "code",
   "execution_count": null,
   "metadata": {},
   "outputs": [],
   "source": [
    "#collapse\n",
    "answers = '''\n",
    "- Standard\n",
    "\n",
    "- gp2\n",
    "\n",
    "- sc1\n",
    "\n",
    "- piops\n",
    "\n",
    "✔️ st1\n",
    "    - \"Throughput-optimized HDD volumes are a good choice for applications that frequently perform large data copies to disk. ST1 volumes are also less expensive than any SSD solution.\"\n",
    "'''"
   ]
  },
  {
   "cell_type": "markdown",
   "metadata": {},
   "source": [
    "SAA-C02-AB-02-57\n",
    "\n",
    "> If your application requires software that must be licensed by single tenancy (that is, if you are the only customer on the hardware), which of the following EC2 pricing models will satisfy the requirement? (Choose two.)\n",
    " \n",
    "- Spot\t\n",
    "\n",
    "- Dedicated instance\n",
    "\n",
    "- Reservation\t\n",
    "\n",
    "- On-demand\n",
    "\n",
    "- Dedicated host"
   ]
  },
  {
   "cell_type": "code",
   "execution_count": null,
   "metadata": {},
   "outputs": [],
   "source": [
    "#collapse\n",
    "answers = '''\n",
    "- Spot\t\n",
    "\n",
    "✔️ Dedicated instance\n",
    "    - \"Dedicated instances and dedicated hosts both meet the requirement for single-tenancy virtual machines, where only one customer is on the hardware.\"\n",
    "\n",
    "- Reservation\t\n",
    "\n",
    "- On-demand\n",
    "\n",
    "✔️ Dedicated host\n",
    "    - \"Dedicated instances and dedicated hosts both meet the requirement for single-tenancy virtual machines, where only one customer is on the hardware.\"\n",
    "'''"
   ]
  },
  {
   "cell_type": "markdown",
   "metadata": {},
   "source": [
    "SAA-C02-AB-02-62\n",
    "\n",
    "> Of the following VPC resources that are charged hourly and for traffic throughput, which one is likely to cost the most?\n",
    " \n",
    "- VPC peering connection\n",
    "\n",
    "- VPC interface endpoint\n",
    "\n",
    "- VPC transit gateway\n",
    "\n",
    "- Virtual private gateway"
   ]
  },
  {
   "cell_type": "code",
   "execution_count": null,
   "metadata": {},
   "outputs": [],
   "source": [
    "#collapse\n",
    "answers = '''\n",
    "- VPC peering connection\n",
    "\n",
    "- VPC interface endpoint\n",
    "\n",
    "✔️ VPC transit gateway\n",
    "    - \"VPC transit gateways are charged for every attachment, so they do not involve just a static hourly charge as the other egress points do.\"\n",
    "    - https://aws.amazon.com/transit-gateway/features/\n",
    "\n",
    "- Virtual private gateway\n",
    "'''"
   ]
  },
  {
   "cell_type": "markdown",
   "metadata": {},
   "source": [
    "SAA-C02-AB-02-54\n",
    "\n",
    "> Which S3 storage class would be appropriate for data that will be accessed infrequently but that still requires low-latency access and a high-availability SLA?\n",
    " \n",
    "- Glacier Deep Archive\n",
    "\n",
    "- S3-IA\n",
    "\n",
    "- Standard\n",
    "\n",
    "- Glacier"
   ]
  },
  {
   "cell_type": "code",
   "execution_count": null,
   "metadata": {},
   "outputs": [],
   "source": [
    "#collapse\n",
    "answers = '''\n",
    "- Glacier Deep Archive\n",
    "\n",
    "✔️ S3-IA\n",
    "    - \"S3 One Zone-Infrequent Access is designed for the lowest-cost storage while still meeting low-latency requirements. The data is replicated within a single AZ in a region instead of across the region, which does reduce availability to 3 9s.\"\n",
    "\n",
    "- Standard\n",
    "\n",
    "- Glacier\n",
    "'''"
   ]
  },
  {
   "cell_type": "markdown",
   "metadata": {},
   "source": [
    "SAA-C02-AB-01-58\n",
    "\n",
    "> When deploying ECS containers onto Fargate compute resources, what is a cost consideration that should be taken into account when comparing against ECS on EC2?\n",
    " \n",
    "- For long-running container jobs, it can be more expensive than ECS on EC2.\n",
    "\n",
    "- It is always more expensive than ECS on EC2.\n",
    "\n",
    "- It is always less expensive than ECS on EC2.\n",
    "\n",
    "- For short-running container jobs, it can be more expensive than ECS on EC2."
   ]
  },
  {
   "cell_type": "code",
   "execution_count": null,
   "metadata": {},
   "outputs": [],
   "source": [
    "#collapse\n",
    "answers = '''\n",
    "✔️ For long-running container jobs, it can be more expensive than ECS on EC2.\n",
    "    - \"For long-running container jobs, it can be more expensive than ECS on EC2.\"\n",
    "\n",
    "- It is always more expensive than ECS on EC2.\n",
    "\n",
    "- It is always less expensive than ECS on EC2.\n",
    "\n",
    "- For short-running container jobs, it can be more expensive than ECS on EC2.v\n",
    "'''"
   ]
  },
  {
   "cell_type": "markdown",
   "metadata": {},
   "source": [
    "SAA-C02-AB-03-65\n",
    "\n",
    "> What charges would you expect for traffic originating in a VPC and traversing a cross-region VPC peering connection to another VPC?\n",
    " \n",
    "- Hourly charge but no throughput charge\n",
    "\n",
    "- Hourly charge and throughput charge\n",
    "\n",
    "- No hourly charge but throughput charge\n",
    "\n",
    "- No hourly charge, no throughput charge"
   ]
  },
  {
   "cell_type": "code",
   "execution_count": null,
   "metadata": {},
   "outputs": [],
   "source": [
    "#collapse\n",
    "answers = '''\n",
    "- Hourly charge but no throughput charge\n",
    "\n",
    "✔️ Hourly charge and throughput charge\n",
    "    - \"VPC peering connections are charged by the hour and for throughput, regardless of the destination (even within the same AZ).\"\n",
    "\n",
    "- No hourly charge but throughput charge\n",
    "\n",
    "- No hourly charge, no throughput charge\n",
    "'''"
   ]
  },
  {
   "cell_type": "markdown",
   "metadata": {},
   "source": [
    " SAA-C02-AB-03-56\n",
    "\n",
    "> Given a storage requirement of 750GB and 50Mbps throughput, which EBS storage type would be the lowest-cost solution?\n",
    " \n",
    "- piops\n",
    "\n",
    "- gp2\n",
    "\n",
    "- sc1\n",
    "\n",
    "- Standard\n",
    "\n",
    "- st1"
   ]
  },
  {
   "cell_type": "code",
   "execution_count": null,
   "metadata": {},
   "outputs": [],
   "source": [
    "#collapse\n",
    "answers = '''\n",
    "- piops\n",
    "\n",
    "- gp2\n",
    "\n",
    "- sc1\n",
    "\n",
    "️✔️ S️tandard\n",
    "    - \"Assuming that the volume is not exceeding 100 IOPS regularly, an EBS standard type volume would be the most cost-effective solution.\"\n",
    "\n",
    "- st1\n",
    "'''"
   ]
  },
  {
   "cell_type": "markdown",
   "metadata": {},
   "source": [
    "SAA-C02-AB-02-55\n",
    "\n",
    "> If your data storage requirements are to implement the lowest possible storage cost, and latency of access can be up to 12 hours, which of the following would be the most appropriate choice?\n",
    " \n",
    "- Glacier\n",
    "\n",
    "- S3-IA\n",
    "\n",
    "- Z-IA\n",
    "\n",
    "- Glacier Deep Archive"
   ]
  },
  {
   "cell_type": "code",
   "execution_count": null,
   "metadata": {},
   "outputs": [],
   "source": [
    "#collapse\n",
    "answers = '''\n",
    "️️️- Glacier\n",
    "\n",
    "- S3-IA\n",
    "\n",
    "- Z-IA\n",
    "\n",
    "️️ ️️✔️️ ️️Glacier Deep Archive\n",
    "    - Glacier Deep Archive is the least expensive choice for data storage in AWS. The trade-off for cheap per-gigabyte storage cost is a long latency to access (up to 12 hours).\n",
    "'''"
   ]
  },
  {
   "cell_type": "markdown",
   "metadata": {},
   "source": [
    "SAA-C02-AB-02-53\n",
    "\n",
    "> If your data requirements include “infrequent usage” and “optimize for storage cost,” which S3 storage class would not be appropriate for deploying the objects?\n",
    " \n",
    "- Z-IA\n",
    "\n",
    "- Glacier\n",
    "\n",
    "- S3-IA\n",
    "\n",
    "- Standard"
   ]
  },
  {
   "cell_type": "code",
   "execution_count": null,
   "metadata": {},
   "outputs": [],
   "source": [
    "#collapse\n",
    "answers = '''\n",
    "- Z-IA\n",
    "\n",
    "- Glacier\n",
    "\n",
    "- S3-IA\n",
    "\n",
    "✔️ Standard\n",
    "    - \"The S3 Standard storage class is the most expensive for monthly per-gigabyte cost\"\n",
    "'''"
   ]
  },
  {
   "cell_type": "markdown",
   "metadata": {},
   "source": [
    "## 6. O'Reilly - 07/09/20 - All Modules - 86%\n",
    "\n",
    " Result  | PASS     \n",
    "---------|----------\n",
    " Mark    | 86\\.54 % \n",
    " Correct | 46       \n",
    "\n",
    "\n"
   ]
  },
  {
   "cell_type": "markdown",
   "metadata": {},
   "source": [
    "SAA-C02-AB-03-11\n",
    "\n",
    "> Which of the following is the most resilient architecture choice?\n",
    "\n",
    "- Elastic Load Balancer in two regions with Route 53 DNS failover\n",
    "\n",
    "- Elastic Load Balancer in two regions with Route 53 latency-based routing\n",
    "\n",
    "- Elastic Load Balancer associated with an Auto Scaling group in three AZs\n",
    "\n",
    "- Elastic Load Balancer associated with an Auto Scaling group in a single AZ\n",
    "\n"
   ]
  },
  {
   "cell_type": "code",
   "execution_count": null,
   "metadata": {},
   "outputs": [],
   "source": [
    "#collapse\n",
    "answers = '''\n",
    "❌ Elastic Load Balancer in two regions with Route 53 DNS failover\n",
    "    - an active/passive infrastructure, requiring a short outage to fail over\n",
    "\n",
    "✔️ Elastic Load Balancer in two regions with Route 53 latency-based routing\n",
    "    - is fully active/active, which makes this infrastructure fault tolerant and the most resilient of the choices\n",
    "\n",
    "- Elastic Load Balancer associated with an Auto Scaling group in three AZs\n",
    "\n",
    "- Elastic Load Balancer associated with an Auto Scaling group in a single AZ\n",
    "'''"
   ]
  },
  {
   "source": [
    "SAA-C02-AB-03-62\n",
    "\n",
    "> When enabling VPC flow logs, what is the effect on your monthly AWS bill?\n",
    "\n",
    "- Charges for data stored\n",
    "\n",
    "- No charges\n",
    "\n",
    "- Charges for the amount of data processed\n",
    "\n",
    "- Charges for the amount of data processed and data stored"
   ],
   "cell_type": "markdown",
   "metadata": {}
  },
  {
   "cell_type": "code",
   "execution_count": null,
   "metadata": {},
   "outputs": [],
   "source": [
    "#collapse\n",
    "answers = '''\n",
    "- Charges for data stored\n",
    "\n",
    "- No charges\n",
    "\n",
    "- Charges for the amount of data processed\n",
    "\n",
    "✔️ Charges for the amount of data processed and data stored\n",
    "    - VPC flow logs, regardless of scope (VPC, subnet, or ENI), are charged based on the data processed and data stored in either S3 or CloudWatch logs.\n",
    "    - https://docs.aws.amazon.com/vpc/latest/userguide/flow-logs.html#flow-logs-pricing\n",
    "'''"
   ]
  },
  {
   "cell_type": "markdown",
   "metadata": {},
   "source": [
    "SAA-C02-AB-01-16\n",
    "\n",
    "> How does EFS resilience compare to EBS?\n",
    "\n",
    "- Higher availability and higher durability\n",
    "\n",
    "- Lower availability and higher durability\n",
    "\n",
    "- Lower availability and lower durability\n",
    "\n",
    "- Higher availability and lower durability"
   ]
  },
  {
   "cell_type": "code",
   "execution_count": null,
   "metadata": {},
   "outputs": [],
   "source": [
    "#collapse\n",
    "answers = '''\n",
    "- Higher availability and higher durability\n",
    "\n",
    "- Lower availability and lower durability\n",
    "\n",
    "- Higher availability and lower durability\n",
    "\n",
    "✔️ Lower availability and higher durability\n",
    "    - EFS stores the data at a region scope, replicating that data into at least three AZs within the region, which improves the durability over EBS. The SLA documentation states that the service is designed for 3 9s availability.\n",
    "    - https://aws.amazon.com/efs/sla/\n",
    "    - https://aws.amazon.com/compute/sla/\n",
    "    - https://cloud.netapp.com/blog/comparing-aws-storage-slas-which-protects-you-best\n",
    "    - \"Availability is more geared towards hardware redundancy while durability is more about data redundancy. Data availability is mainly achieved through RAID or erasure coding (where the data is broken into fragments, sharded and distributed across a storage pool); you would notice the SLAs align with the SLAs possible through those technologies. To view this in terms of number of hours: 99.99% SLA translates to 8h 45m 57s and 43m 49.7s of potential downtime in an annual and monthly time period, respectively.\"\n",
    "\n",
    "    - \"Durability is about the ability for data to be protected from corruption and bit rot over the long term. RAID is not impervious to data degradation like bit rot. In these scenarios, a combination of erasure coding and data scrubbing (where the data is continuously validated) can help provide durability of up to Eleven 9s in some AWS storage services.\"\n",
    "\n",
    "\n",
    "'''"
   ]
  },
  {
   "cell_type": "markdown",
   "metadata": {},
   "source": [
    "SAA-C02-AB-02-01\n",
    "\n",
    "> The Internet gateway resource is best described as which of the following?\n",
    "\n",
    "- Not highly available\n",
    "\n",
    "- None of these\n",
    "\n",
    "- Fault tolerant\n",
    "\n",
    "- Highly available"
   ]
  },
  {
   "cell_type": "code",
   "execution_count": null,
   "metadata": {},
   "outputs": [],
   "source": [
    "#collapse\n",
    "answers = '''\n",
    "- Not highly available\n",
    "\n",
    "- None of these\n",
    "\n",
    "✔️ Fault tolerant\n",
    "    - https://docs.aws.amazon.com/vpc/latest/userguide/VPC_Internet_Gateway.html\n",
    "    - \"An internet gateway is a horizontally scaled, redundant, and highly available VPC component that allows communication between your VPC and the internet.\"\n",
    "\n",
    "\n",
    "✔️ Highly available\n",
    "    - \"An internet gateway is a horizontally scaled, redundant, and highly available VPC component that allows communication between your VPC and the internet.\"\n",
    "'''"
   ]
  },
  {
   "cell_type": "markdown",
   "metadata": {},
   "source": [
    "SAA-C02-AB-01-24\n",
    "\n",
    "> Which of the following services is not managed by the Unified Auto Scaling service?\n",
    "\n",
    "- DynamoDB\n",
    "\n",
    "- RedShift\n",
    "\n",
    "- Aurora\n",
    "\n",
    "- EC2"
   ]
  },
  {
   "cell_type": "code",
   "execution_count": null,
   "metadata": {},
   "outputs": [],
   "source": [
    "#collapse\n",
    "answers = '''\n",
    "- DynamoDB\n",
    "\n",
    "✔️ RedShift\n",
    "    - \"The services covered by Unified Auto Scaling are EC2, Spot Fleets, DynamoDB, Aurora Read Replicas, and ECS on Fargate.\"\n",
    "    - https://aws.amazon.com/autoscaling/\n",
    "\n",
    "- Aurora\n",
    "\n",
    "- EC2\n",
    "'''"
   ]
  },
  {
   "cell_type": "markdown",
   "metadata": {},
   "source": [
    "SAA-C02-AB-03-21\n",
    "\n",
    "> Which of the following services is unable to scale to zero, cost-wise?\n",
    "\n",
    "- API Gateway\n",
    "\n",
    "- DynamoDB\n",
    "\n",
    "- S3\n",
    "\n",
    "- Elastic Load Balancer"
   ]
  },
  {
   "cell_type": "code",
   "execution_count": null,
   "metadata": {},
   "outputs": [],
   "source": [
    "#collapse\n",
    "answers = '''\n",
    "- API Gateway\n",
    "\n",
    "- DynamoDB\n",
    "\n",
    "- S3\n",
    "\n",
    "✔️ Elastic Load Balancer\n",
    "    - \"Elastic Load Balancer, even if it is taking no traffic, is still charged by the hour.\"\n",
    "    - https://aws.amazon.com/elasticloadbalancing/pricing/\n",
    "'''"
   ]
  },
  {
   "cell_type": "markdown",
   "metadata": {},
   "source": [
    "SAA-C02-AB-03-43\n",
    "\n",
    "> Which resource-based policy is required to exist in order to use a resource?\n",
    "\n",
    "- SNS access policy\n",
    "\n",
    "- SQS queue policy\n",
    "\n",
    "- S3 bucket policy\n",
    "\n",
    "- Lambda function access policy"
   ]
  },
  {
   "cell_type": "code",
   "execution_count": null,
   "metadata": {},
   "outputs": [],
   "source": [
    "#collapse\n",
    "answers = '''\n",
    "️️✔️ SNS access policy\n",
    "    - \"SNS assigns a default policy to the topic when created. This policy can be modified to grant additional permissions.\"\n",
    "    - https://docs.aws.amazon.com/sns/latest/dg/sns-access-policy-use-cases.html#sns-grant-aws-account-access-to-topic\n",
    "\n",
    "- SQS queue policy\n",
    "\n",
    "- S3 bucket policy\n",
    "\n",
    "- Lambda function access policy\n",
    "'''"
   ]
  },
  {
   "cell_type": "markdown",
   "metadata": {},
   "source": [
    "SAA-C02-AB-02-30\n",
    "\n",
    "> Which of the following strategies for accessing non-VPC resources optimizes for network performance?\n",
    "\n",
    "- Routing traffic through a VPG and using the corporate network Internet connection\n",
    "\n",
    "- Routing traffic through a VPC endpoint\n",
    "\n",
    "- None of these\n",
    "\n",
    "- Routing traffic through the Internet gateway"
   ]
  },
  {
   "cell_type": "code",
   "execution_count": null,
   "metadata": {},
   "outputs": [],
   "source": [
    "#collapse\n",
    "answers = '''\n",
    "- Routing traffic through a VPG and using the corporate network Internet connection\n",
    "\n",
    "️️✔️ Routing traffic through a VPC endpoint\n",
    "    - \"Traffic that uses a VPC endpoint is proxied directly to the AWS service API endpoint and does not have to traverse the public AWS network or the Internet.\"\n",
    "\n",
    "- None of these\n",
    "\n",
    "- Routing traffic through the Internet gateway\n",
    "'''"
   ]
  },
  {
   "cell_type": "markdown",
   "metadata": {},
   "source": [
    "## 7. O'Reilly - 08/09/20 - All Modules - 76%\n",
    "\n",
    " Result  | PASS     \n",
    "---------|----------\n",
    " Mark    | 76\\.92 % \n",
    " Correct | 50     \n",
    "\n",
    "\n"
   ]
  },
  {
   "cell_type": "markdown",
   "metadata": {},
   "source": [
    "SAA-C02-AB-03-63\n",
    "\n",
    "> Which of the following destinations will incur a network throughput charge in a VPC, even within the same AZ?\n",
    "\n",
    "- Public DNS\n",
    "\n",
    "- Private DNS\n",
    "\n",
    "- Private IP\n",
    "\n",
    "- Public IP\n"
   ]
  },
  {
   "cell_type": "code",
   "execution_count": null,
   "metadata": {},
   "outputs": [],
   "source": [
    "#collapse\n",
    "answers = '''\n",
    "- Public DNS\n",
    "\n",
    "- Private DNS\n",
    "\n",
    "- Private IP\n",
    "\n",
    "✔️ Public IP\n",
    "    - \"All private IP address destinations within the same VPC are free in the same AZ. The public DNS will resolve to the private IP address, so it is also free. The public IP destination will traverse the Internet gateway and will be charged as outbound Internet traffic.\"\n",
    "'''"
   ]
  },
  {
   "cell_type": "markdown",
   "metadata": {},
   "source": [
    "SAA-C02-AB-01-63\n",
    "\n",
    "> Which of the following is a charged resource in a VPC?\n",
    "\n",
    "- Elastic Network Interface\n",
    "\n",
    "- Elastic Network Adapter\n",
    "\n",
    "- Elastic IP\n",
    "\n",
    "- Elastic Fabric Adapter\n"
   ]
  },
  {
   "cell_type": "code",
   "execution_count": null,
   "metadata": {},
   "outputs": [],
   "source": [
    "#collapse\n",
    "answers = '''\n",
    "- Elastic Network Interface\n",
    "\n",
    "- Elastic Network Adapter\n",
    "\n",
    "✔️ Elastic IP\n",
    "    - \"The Elastic IP is a free resource as long as it is attached to a running EC2 instance. If the instance is stopped or the Elastic IP is detached, there is an hourly charge.\"\n",
    "\n",
    "- Elastic Fabric Adapter\n",
    "'''"
   ]
  },
  {
   "cell_type": "markdown",
   "metadata": {},
   "source": [
    "SAA-C02-AB-01-06\n",
    "\n",
    "> The virtual private gateway resource is best described as which of the following?\n",
    "\n",
    "- None of these\n",
    "\n",
    "- Highly available\n",
    "\n",
    "- Fault tolerant\n",
    "\n",
    "- Not highly available\n"
   ]
  },
  {
   "cell_type": "code",
   "execution_count": null,
   "metadata": {},
   "outputs": [],
   "source": [
    "#collapse\n",
    "answers = '''\n",
    "- None of these\n",
    "\n",
    "✔️ Highly available\n",
    "    - https://docs.aws.amazon.com/vpn/latest/s2svpn/your-cgw.html\n",
    "    - \"The VPG (virtual private gateway) resource is hardware backed in two data centers within the region to which the VPC is deployed. It uses active/passive tunnels in a highly available mode but is not fault tolerant.\"\n",
    "\n",
    "- Fault tolerant\n",
    "\n",
    "- Not highly available\n",
    "'''"
   ]
  },
  {
   "cell_type": "markdown",
   "metadata": {},
   "source": [
    "SAA-C02-AB-01-24\n",
    "\n",
    "> Which of the following services is not managed by the Unified Auto Scaling service?\n",
    "\n",
    "- DynamoDB\n",
    "\n",
    "- Aurora\n",
    "\n",
    "- RedShift\n",
    "\n",
    "- EC2\n"
   ]
  },
  {
   "cell_type": "code",
   "execution_count": null,
   "metadata": {},
   "outputs": [],
   "source": [
    "#collapse\n",
    "answers = '''\n",
    "- DynamoDB\n",
    "\n",
    "- Aurora\n",
    "\n",
    "✔️ RedShift\n",
    "    - \"The services covered by Unified Auto Scaling are EC2, Spot Fleets, DynamoDB, Aurora Read Replicas, and ECS on Fargate.\"\n",
    "    - https://aws.amazon.com/autoscaling/\n",
    "\n",
    "- EC2\n",
    "'''"
   ]
  },
  {
   "cell_type": "markdown",
   "metadata": {},
   "source": [
    "SAA-C02-AB-03-33\n",
    "\n",
    "> When choosing Direct Connect for hybrid network connectivity, what performance options are available?\n",
    "\n",
    "- 10Gb and 100Gb throughput\n",
    "\n",
    "- Only 1Gb throughput\n",
    "\n",
    "- Only 10Gb throughput\n",
    "\n",
    "- 1Gb and 10Gb throughput\n"
   ]
  },
  {
   "cell_type": "code",
   "execution_count": null,
   "metadata": {},
   "outputs": [],
   "source": [
    "#collapse\n",
    "answers = '''\n",
    "- 10Gb and 100Gb throughput\n",
    "\n",
    "- Only 1Gb throughput\n",
    "\n",
    "- Only 10Gb throughput\n",
    "\n",
    "✔️ 1Gb and 10Gb throughput\n",
    "    - https://docs.aws.amazon.com/directconnect/latest/UserGuide/Welcome.html\n",
    "'''"
   ]
  },
  {
   "cell_type": "markdown",
   "metadata": {},
   "source": [
    "SAA-C02-AB-02-18\n",
    "\n",
    "> When configuring S3 cross-region replication, which of the following must be executed for a complete solution?\n",
    "\n",
    "- Ensure that all objects are using the same storage class.\n",
    "\n",
    "- No extra steps are required.\n",
    "\n",
    "- Manually copy existing objects.\n",
    "\n",
    "- Enable server-side encryption on both buckets.\n",
    "\n"
   ]
  },
  {
   "cell_type": "code",
   "execution_count": null,
   "metadata": {},
   "outputs": [],
   "source": [
    "#collapse\n",
    "answers = '''\n",
    "- Ensure that all objects are using the same storage class.\n",
    "\n",
    "- No extra steps are required.\n",
    "\n",
    "✔️ Manually copy existing objects.\n",
    "    - _Enabling cross-region replication does not copy existing objects by default, and so it is up to the customer to perform this task._\n",
    "    - https://docs.aws.amazon.com/AmazonS3/latest/dev/replication.html\n",
    "    \n",
    "- Enable server-side encryption on both buckets.\n",
    "'''"
   ]
  },
  {
   "cell_type": "markdown",
   "metadata": {},
   "source": [
    "SAA-C02-AB-01-27\n",
    "\n",
    "> The EBS _______ volume type has the lowest IOPS performance.\n",
    "\n",
    "- gp2\n",
    "\n",
    "- piops\n",
    "\n",
    "- st1\n",
    "\n",
    "- sc1\n",
    "\n",
    "- Standard\n",
    "\n"
   ]
  },
  {
   "cell_type": "code",
   "execution_count": null,
   "metadata": {},
   "outputs": [],
   "source": [
    "#collapse\n",
    "answers = '''\n",
    "- gp2\n",
    "\n",
    "- piops\n",
    "\n",
    "- st1\n",
    "\n",
    "- sc1\n",
    "\n",
    "✔️ Standard\n",
    "    - \"EBS Standard volumes are designed as inexpensive, low-performance storage, with a maximum of several hundred IOPS.\"\n",
    "\n",
    "'''"
   ]
  },
  {
   "cell_type": "markdown",
   "metadata": {},
   "source": [
    "SAA-C02-AB-01-11\n",
    "\n",
    "> Which of the following is not an AWS feature with multi-region capability?\n",
    "\n",
    "- RDS cross-region read replica\n",
    "\n",
    "- EBS volume snapshot\n",
    "\n",
    "- S3 cross-region replication\n",
    "\n",
    "- DynamoDB global table\n"
   ]
  },
  {
   "cell_type": "code",
   "execution_count": null,
   "metadata": {},
   "outputs": [],
   "source": [
    "#collapse\n",
    "answers = '''\n",
    "- RDS cross-region read replica\n",
    "\n",
    "✔️ EBS volume snapshot\n",
    "    - \"EBS volume snapshots are stored at the region scope. There are options for copying a snapshot to a different region, but they are not integrated into the snapshot feature\"\n",
    "\n",
    "- S3 cross-region replication\n",
    "\n",
    "- DynamoDB global table\n",
    "\n",
    "'''"
   ]
  },
  {
   "cell_type": "markdown",
   "metadata": {},
   "source": [
    "SAA-C02-AB-02-33\n",
    "\n",
    "> When deploying a cross-region VPC peering connection, what performance can you expect?\n",
    "\n",
    "- <5ms latency\n",
    "\n",
    "- Provisioned throughput depending on requirements\n",
    "\n",
    "- Throughput dependent on source/destination region\n",
    "\n",
    "- 10Gbps\n"
   ]
  },
  {
   "cell_type": "code",
   "execution_count": null,
   "metadata": {},
   "outputs": [],
   "source": [
    "#collapse\n",
    "answers = '''\n",
    "- <5ms latency\n",
    "\n",
    "- Provisioned throughput depending on requirements\n",
    "\n",
    "✔️ Throughput dependent on source/destination region\n",
    "    - \"VPC peering connections come with no performance guarantees, so it is up to the customer to benchmark the network throughput for a specific peering connection\"\n",
    "\n",
    "- 10Gbps\n",
    "\n",
    "'''"
   ]
  },
  {
   "cell_type": "markdown",
   "metadata": {},
   "source": [
    "SAA-C02-AB-03-58\n",
    "\n",
    "> When deploying Aurora Serverless versus RDS, what is one cost consideration that should be reviewed strategically before implementation?\n",
    "\n",
    "- Aurora Serverless compute and storage resources are static and predictable.\n",
    "\n",
    "- Aurora Serverless is always more expensive than RDS.\n",
    "\n",
    "- Aurora Serverless is always less expensive than RDS.\n",
    "\n",
    "- Aurora Serverless compute and storage resources are dynamic and auto-scaled."
   ]
  },
  {
   "cell_type": "code",
   "execution_count": null,
   "metadata": {},
   "outputs": [],
   "source": [
    "#collapse\n",
    "answers = '''\n",
    "️✔️ Aurora Serverless compute and storage resources are static and predictable.\n",
    "    - \"Aurora Serverless can be a low-cost relational database solution when it is managed properly, but if the auto-scaling limits are set very high, it is possible to generate a lot of cost with a few long-running queries.\"\n",
    "\n",
    "- Aurora Serverless is always more expensive than RDS.\n",
    "\n",
    "- Aurora Serverless is always less expensive than RDS.\n",
    "\n",
    "- Aurora Serverless compute and storage resources are dynamic and auto-scaled.\n",
    "\n",
    "'''"
   ]
  },
  {
   "cell_type": "markdown",
   "metadata": {},
   "source": [
    "SAA-C02-AB-02-28\n",
    "\n",
    "> What is the maximum throughput possible for an EFS file system?\n",
    "\n",
    "- 10Gbps\n",
    "\n",
    "- 1Gbps\n",
    "\n",
    "- 5Gbps\n",
    "\n",
    "- 3Gbps\n"
   ]
  },
  {
   "cell_type": "code",
   "execution_count": null,
   "metadata": {},
   "outputs": [],
   "source": [
    "#collapse\n",
    "answers = '''\n",
    "️✔️ 10Gbps\n",
    "\n",
    "- 1Gbps\n",
    "\n",
    "- 5Gbps\n",
    "\n",
    "- 3Gbps\n",
    "\n",
    "'''"
   ]
  },
  {
   "cell_type": "markdown",
   "metadata": {},
   "source": [
    "SAA-C02-AB-02-15\n",
    "\n",
    "> EBS volumes are replicated ____________.\n",
    "\n",
    "- within the region\n",
    "\n",
    "- None of these\n",
    "\n",
    "- globally\n",
    "\n",
    "- within the AZ\n",
    "\n"
   ]
  },
  {
   "cell_type": "code",
   "execution_count": null,
   "metadata": {},
   "outputs": [],
   "source": [
    "#collapse\n",
    "answers = '''\n",
    "- within the region\n",
    "\n",
    "- None of these\n",
    "\n",
    "- globally\n",
    "\n",
    "✔️ within the AZ\n",
    "    - \"EBS volumes are an AZ-scoped resource. Any writes are synchronously written to two different storage units in different data centers.\"\n",
    "\n",
    "'''"
   ]
  },
  {
   "cell_type": "markdown",
   "metadata": {},
   "source": [
    "SAA-C02-AB-01-25\n",
    "\n",
    "> What is a potential downside of reactive scaling for EC2?\n",
    "\n",
    "- The delay when provisioning new instances\n",
    "\n",
    "- Increased operational overhead of managing the Auto Scaling group\n",
    "\n",
    "- Decreased resilience\n",
    "\n",
    "- Increased cost\n"
   ]
  },
  {
   "cell_type": "code",
   "execution_count": null,
   "metadata": {},
   "outputs": [],
   "source": [
    "#collapse\n",
    "answers = '''\n",
    "✔️ The delay when provisioning new instances\n",
    "\n",
    "- Increased operational overhead of managing the Auto Scaling group\n",
    "\n",
    "- Decreased resilience\n",
    "\n",
    "- Increased cost\n",
    "\n",
    "'''"
   ]
  },
  {
   "cell_type": "markdown",
   "metadata": {},
   "source": [
    "SAA-C02-AB-01-13\n",
    "\n",
    "> When using SNS for decoupling purposes, which of the subscriber types would be most appropriate? (Select two.)\n",
    "\n",
    "- SQS\t\n",
    "- Email\t\n",
    "- HTTP/HTTPS\t\n",
    "- SMS"
   ]
  },
  {
   "cell_type": "code",
   "execution_count": null,
   "metadata": {},
   "outputs": [],
   "source": [
    "#collapse\n",
    "answers = '''\n",
    "- SQS\t\n",
    "- Email\t\n",
    "✔️ HTTP/HTTPS\t\n",
    "✔️ SMS\n",
    "    - \"SNS can be used to pass messages in a resilient manner to a downstream application. Two possible mechanisms for accomplishing this are SQS and HTTP/HTTPS subscribers to a topic.\"\n",
    "\n",
    "'''"
   ]
  },
  {
   "cell_type": "markdown",
   "metadata": {},
   "source": [
    "## 8. O'Reilly - 11/09/20 - All Modules - 81%\n",
    "\n",
    " Result  | PASS     \n",
    "---------|----------\n",
    " Mark    | 81\\.53 % \n",
    " Correct | 74     "
   ]
  },
  {
   "cell_type": "markdown",
   "metadata": {},
   "source": [
    "SAA-C02-AB-02-26\n",
    "\n",
    "> Which EBS volume type has the highest maximum throughput performance?\n",
    "\n",
    "- Standard\n",
    "\n",
    "- gp2\n",
    "\n",
    "- sc1\n",
    "\n",
    "- st1\n",
    "\n",
    "- piops\n"
   ]
  },
  {
   "cell_type": "code",
   "execution_count": null,
   "metadata": {},
   "outputs": [],
   "source": [
    "\n",
    "#collapse\n",
    "answers = '''\n",
    "- Standard\n",
    "\n",
    "- gp2\n",
    "\n",
    "- sc1\n",
    "\n",
    "- st1\n",
    "\n",
    "✔️ piops\n",
    "    - \"Provisioned IOPS (piops) EBS volumes have a max performance of 64000 IOPS for a single volume.\"\n",
    "\n",
    "'''"
   ]
  },
  {
   "cell_type": "markdown",
   "metadata": {},
   "source": [
    "SAA-C02-AB-02-31\n",
    "\n",
    "> What is the maximum network throughput that can be achieved with an ENI?\n",
    "\n",
    "- 50Gbps\n",
    "\n",
    "- 25Gbps\n",
    "\n",
    "- 20Gbps\n",
    "\n",
    "- 10Gbps\n"
   ]
  },
  {
   "cell_type": "code",
   "execution_count": null,
   "metadata": {},
   "outputs": [],
   "source": [
    "#collapse\n",
    "answers = '''\n",
    "- 50Gbps\n",
    "\n",
    "✔️ 25Gbps\n",
    "    - \"Although 25Gbps is the theoretical maximum for an ENI, it is recommended that you benchmark to determine what your application can achieve in your infrastructure.\"\n",
    "\n",
    "- 20Gbps\n",
    "\n",
    "- 10Gbps\n",
    "\n",
    "'''"
   ]
  },
  {
   "cell_type": "markdown",
   "metadata": {},
   "source": [
    "SAA-C02-AB-01-13\n",
    "\n",
    "> When using SNS for decoupling purposes, which of the subscriber types would be most appropriate? (Select two.)\n",
    "\n",
    "- Email\t\n",
    "\n",
    "- SQS\n",
    "\n",
    "- HTTP/HTTPS\n",
    "\n",
    "- SMS\n"
   ]
  },
  {
   "cell_type": "code",
   "execution_count": null,
   "metadata": {},
   "outputs": [],
   "source": [
    "#collapse\n",
    "answers = '''\n",
    "- SQS\t\n",
    "- Email\t\n",
    "✔️ HTTP/HTTPS\t\n",
    "✔️ SMS\n",
    "    - \"SNS can be used to pass messages in a resilient manner to a downstream application. Two possible mechanisms for accomplishing this are SQS and HTTP/HTTPS subscribers to a topic.\"\n",
    "\n",
    "'''"
   ]
  },
  {
   "cell_type": "markdown",
   "metadata": {},
   "source": [
    "SAA-C02-AB-03-58\n",
    "\n",
    "> When deploying Aurora Serverless versus RDS, what is one cost consideration that should be reviewed strategically before implementation?\n",
    "\n",
    "- Aurora Serverless compute and storage resources are static and predictable.\n",
    "\n",
    "- Aurora Serverless is always less expensive than RDS.\n",
    "\n",
    "- Aurora Serverless compute and storage resources are dynamic and auto-scaled.\n",
    "\n",
    "- Aurora Serverless is always more expensive than RDS.\n",
    "\n"
   ]
  },
  {
   "cell_type": "code",
   "execution_count": null,
   "metadata": {},
   "outputs": [],
   "source": [
    "#collapse\n",
    "answers = '''\n",
    "✔️ Aurora Serverless compute and storage resources are static and predictable.\n",
    "\n",
    "- Aurora Serverless is always less expensive than RDS.\n",
    "\n",
    "- Aurora Serverless compute and storage resources are dynamic and auto-scaled.\n",
    "\n",
    "- Aurora Serverless is always more expensive than RDS.\n",
    "\n",
    "'''"
   ]
  },
  {
   "cell_type": "markdown",
   "metadata": {},
   "source": [
    "SAA-C02-AB-02-28\n",
    "\n",
    "> What is the maximum throughput possible for an EFS file system?\n",
    "\n",
    "- 3Gbps\n",
    "\n",
    "- 10Gbps\n",
    "\n",
    "- 1Gbps\n",
    "\n",
    "- 5Gbps\n"
   ]
  },
  {
   "cell_type": "code",
   "execution_count": null,
   "metadata": {},
   "outputs": [],
   "source": [
    "#collapse\n",
    "answers = '''\n",
    "- 3Gbps\n",
    "\n",
    "✔️ 10Gbps\n",
    "    - https://docs.aws.amazon.com/efs/latest/ug/performance.html\n",
    "\n",
    "- 1Gbps\n",
    "\n",
    "- 5Gbps\n",
    "\n",
    "'''"
   ]
  },
  {
   "cell_type": "markdown",
   "metadata": {},
   "source": [
    "SAA-C02-AB-02-34\n",
    "\n",
    "> Which of the following is a benefit of deploying a relational database on EC2 using EBS instead of an instance store volume?\n",
    "\n",
    "- Highest IOPS\n",
    "\n",
    "- Data replicated within the AZ\n",
    "\n",
    "- Lowest latency\n",
    "\n",
    "- Lowest cost per gigabyte\n",
    "\n"
   ]
  },
  {
   "cell_type": "code",
   "execution_count": null,
   "metadata": {},
   "outputs": [],
   "source": [
    "#collapse\n",
    "answers = '''\n",
    "- Highest IOPS\n",
    "\n",
    "✔️ Data replicated within the AZ\n",
    "    - \"EBS volumes are written synchronously to two different storage units in different data centers in the same AZ.\"\n",
    "\n",
    "- Lowest latency\n",
    "\n",
    "- Lowest cost per gigabyte\n",
    "\n",
    "'''"
   ]
  },
  {
   "cell_type": "markdown",
   "metadata": {},
   "source": [
    "SAA-C02-AB-01-05\n",
    "\n",
    "> In AWS, a multi-AZ setup offers which of the following benefits?\n",
    "\n",
    "- Reduced network latency for faster application access\n",
    "\n",
    "- Read-only copies of databases\n",
    "\n",
    "- Ability to transform the IT organization\n",
    "\n",
    "- Synchronous replication for disaster recovery\n",
    "\n"
   ]
  },
  {
   "cell_type": "code",
   "execution_count": null,
   "metadata": {},
   "outputs": [],
   "source": [
    "#collapse\n",
    "answers = '''\n",
    "- Reduced network latency for faster application access\n",
    "\n",
    "- Read-only copies of databases\n",
    "\n",
    "- Ability to transform the IT organization\n",
    "\n",
    "✔️ Synchronous replication for disaster recovery\n",
    "    - \"In AWS, multi-AZ setups use synchronous replication to back up data to the secondary instance for the intent of disaster recovery.\"\n",
    "\n",
    "'''"
   ]
  },
  {
   "cell_type": "markdown",
   "metadata": {},
   "source": [
    "SAA-C02-AB-01-16\n",
    "\n",
    "> How does EFS resilience compare to EBS?\n",
    "\n",
    "- Higher availability and lower durability\n",
    "\n",
    "- Lower availability and higher durability\n",
    "\n",
    "- Higher availability and higher durability\n",
    "\n",
    "- Lower availability and lower durability\n",
    "\n"
   ]
  },
  {
   "cell_type": "code",
   "execution_count": null,
   "metadata": {},
   "outputs": [],
   "source": [
    "#collapse\n",
    "answers = '''\n",
    "- Higher availability and lower durability\n",
    "\n",
    "✔️ Lower availability and higher durability\n",
    "\n",
    "- Higher availability and higher durability\n",
    "\n",
    "- Lower availability and lower durability\n",
    "\n",
    "'''"
   ]
  },
  {
   "cell_type": "markdown",
   "metadata": {},
   "source": [
    "SAA-C02-AB-02-01\n",
    "\n",
    "> The Internet gateway resource is best described as which of the following?\n",
    "\n",
    "- Not highly available\n",
    "\n",
    "- Highly available\n",
    "\n",
    "- Fault tolerant\n",
    "\n",
    "- None of these\n"
   ]
  },
  {
   "cell_type": "code",
   "execution_count": null,
   "metadata": {},
   "outputs": [],
   "source": [
    "#collapse\n",
    "answers = '''\n",
    "- Not highly available\n",
    "\n",
    "- Highly available\n",
    "\n",
    "✔️ Fault tolerant\n",
    "    - \"An Internet gateway is a fault-tolerant virtualized resource with no visibility from the customer perspective.\"\n",
    "    \n",
    "- None of these\n",
    "\n",
    "'''"
   ]
  },
  {
   "source": [
    "## 9. Tutorials DOJO - 15/09/20 - Timed Set 1 All Modules - 58%\n",
    "\n",
    "| Result                                 | FAIL    |\n",
    "|----------------------------------------|---------|\n",
    "| Mark                                   | 58\\.46% |\n",
    "| Attempted                              | 65      |\n",
    "| Correct                                | 38      |\n",
    "| Module Breakdown                       |         |\n",
    "| \\- Resillient Architectures            | 74\\.01% |\n",
    "| \\- High Performing Architectures       | 37\\.5%  |\n",
    "| \\- Secure Applications & Architectures | 63\\.16% |\n",
    "| \\- Cost Optimised Architectures       | 0%      |\n"
   ],
   "cell_type": "markdown",
   "metadata": {}
  },
  {
   "source": [
    "> You are using a combination of [API Gateway](https://tutorialsdojo.com/amazon-api-gateway/) and Lambda for the web services of your online web portal that is being accessed by hundreds of thousands of clients each day. Your company will be announcing a new revolutionary product and it is expected that your web portal will receive a massive number of visitors all around the globe.\n",
    "\n",
    "> How can you protect your backend systems and applications from traffic spikes?\n",
    "\n",
    "- Use throttling limits in API Gateway\n",
    "\n",
    "- API Gateway will automatically scale and handle massive traffic spikes so you do not have to do anything.\n",
    "\n",
    "- Manually upgrade the EC2 instances being used by API Gateway\n",
    "\n",
    "- Deploy Multi-AZ in API Gateway with Read Replica"
   ],
   "cell_type": "markdown",
   "metadata": {}
  },
  {
   "cell_type": "code",
   "execution_count": null,
   "metadata": {},
   "outputs": [],
   "source": [
    "#collapse\n",
    "answers = '''   \n",
    "✔️ Use throttling limits in API Gateway\n",
    "    - \"Throttling limits can be set for standard rates and bursts\"\n",
    "    - https://aws.amazon.com/api-gateway/faqs/#Throttling_and_Caching\n",
    "\n",
    "- API Gateway will automatically scale and handle massive traffic spikes so you do not have to do anything.\n",
    "    - although it can scale using AWS Edge locations\n",
    "\n",
    "- Manually upgrade the EC2 instances being used by API Gateway\n",
    "\n",
    "- Deploy Multi-AZ in API Gateway with Read Replica\n",
    "\n",
    "'''"
   ]
  },
  {
   "source": [
    "> You are working as a Solutions Architect for a major telecommunications company where you are assigned to improve the security of your database tier by tightly managing the data flow of your [Amazon Redshift](https://tutorialsdojo.com/amazon-redshift/) cluster. One of the requirements is to use VPC flow logs to monitor all the COPY and UNLOAD traffic of your Redshift cluster that moves in and out of your VPC.\n",
    "\n",
    "> Which of the following is the most suitable solution to implement in this scenario?\n",
    "\n",
    "- Create a new flow log that tracks the traffic of your Amazon Redshift cluster.\n",
    "\n",
    "- Enable Audit Logging in your Amazon Redshift cluster.\n",
    "\n",
    "- Enable Enhanced VPC routing on your Amazon Redshift cluster.\n",
    "\n",
    "- Use the Amazon Redshift Spectrum feature.\n",
    "\n"
   ],
   "cell_type": "markdown",
   "metadata": {}
  },
  {
   "cell_type": "code",
   "execution_count": null,
   "metadata": {},
   "outputs": [],
   "source": [
    "#collapse\n",
    "answers = '''   \n",
    "- Create a new flow log that tracks the traffic of your Amazon Redshift cluster.\n",
    "\n",
    "- Enable Audit Logging in your Amazon Redshift cluster.\n",
    "\n",
    "✔️ Enable Enhanced VPC routing on your Amazon Redshift cluster.\n",
    "    - \"Amazon Redshift Enhanced VPC Routing, Amazon Redshift forces all COPY and UNLOAD traffic between your cluster and your data repositories through your Amazon VPC.\"\n",
    "    - https://docs.aws.amazon.com/redshift/latest/mgmt/enhanced-vpc-routing.html\n",
    "\n",
    "- Use the Amazon Redshift Spectrum feature.\n",
    "\n",
    "'''"
   ]
  },
  {
   "source": [
    "> The company that you are working for has a highly available architecture consisting of an elastic load balancer and several [EC2 instances](https://tutorialsdojo.com/amazon-elastic-compute-cloud-amazon-ec2/) configured with auto-scaling in three Availability Zones. You want to monitor your EC2 instances based on a particular metric, which is not readily available in CloudWatch.\n",
    "\n",
    "> Which of the following is a custom metric in CloudWatch which you have to manually set up?\n",
    "\n",
    "- CPU Utilization of an EC2 instance\n",
    "\n",
    "- Memory Utilization of an EC2 instance\n",
    "\n",
    "- Network packets out of an EC2 instance\n",
    "\n",
    "- Disk Reads activity of an EC2 instance"
   ],
   "cell_type": "markdown",
   "metadata": {}
  },
  {
   "cell_type": "code",
   "execution_count": null,
   "metadata": {},
   "outputs": [],
   "source": [
    "#collapse\n",
    "answers = '''\n",
    "✔️ CPU Utilization of an EC2 instance\n",
    "    - \"This is the only one lsted which is not readily available in Cloudwatch by default\"\n",
    "    - https://docs.aws.amazon.com/AWSEC2/latest/UserGuide/mon-scripts.html#using_put_script\n",
    "\n",
    "- Memory Utilization of an EC2 instance\n",
    "\n",
    "- Network packets out of an EC2 instance\n",
    "\n",
    "- Disk Reads activity of an EC2 instance \n",
    "'''"
   ]
  },
  {
   "source": [
    "> You are managing a suite of applications in your on-premises network which are using trusted IP addresses that your partners and customers have whitelisted in their firewalls. There is a requirement to migrate these applications to AWS without requiring your partners and customers to change their IP address whitelists.\n",
    "\n",
    "> Which of the following is the most suitable solution to properly migrate your applications?\n",
    "\n",
    "- Set up an IP match condition using a CloudFront web distribution and AWS WAF to whitelist a specific IP address range in your VPC.\n",
    "\n",
    "- Create a Route Origin Authorization (ROA) document then once done, provision and advertise your whitelisted IP address range to your AWS account.\n",
    "\n",
    "- Set up a list of Elastic IP addresses to map the whitelisted IP address range in your on-premises network.\n",
    "\n",
    "- Submit an AWS Request Form to migrate the IP address range that you own to your AWS Account."
   ],
   "cell_type": "markdown",
   "metadata": {}
  },
  {
   "cell_type": "code",
   "execution_count": null,
   "metadata": {},
   "outputs": [],
   "source": [
    "#collapse\n",
    "answers = '''\n",
    "- Set up an IP match condition using a CloudFront web distribution and AWS WAF to whitelist a specific IP address range in your VPC.\n",
    "\n",
    "✔️ Create a Route Origin Authorization (ROA) document then once done, provision and advertise your whitelisted IP address range to your AWS account.\n",
    "    -  “Bring Your Own IP Addresses (BYOIP)”\n",
    "    - https://docs.aws.amazon.com/AWSEC2/latest/UserGuide/ec2-byoip.html\n",
    "\n",
    "- Set up a list of Elastic IP addresses to map the whitelisted IP address range in your on-premises network.\n",
    "    - \"you cannot map the IP address of your on-premises network, which you are migrating to AWS, to an EIP address of your VPC. To satisfy the requirement, you must authorize Amazon to advertise the address range that you own\"\n",
    "\n",
    "- Submit an AWS Request Form to migrate the IP address range that you own to your AWS Account.\n",
    "'''"
   ]
  },
  {
   "source": [
    "> A multi-tiered application hosted in your on-premises data center is scheduled to be migrated to AWS. The application has a message broker service which uses industry standard messaging APIs and protocols that must be migrated as well, without rewriting the messaging code in your application.\n",
    "\n",
    "> Which of the following is the most suitable service that you should use to move your messaging service to AWS?\n",
    "\n",
    "- Amazon SNS\n",
    "\n",
    "- Amazon SWF\n",
    "\n",
    "- Amazon MQ\n",
    "\n",
    "- Amazon SQS"
   ],
   "cell_type": "markdown",
   "metadata": {}
  },
  {
   "cell_type": "code",
   "execution_count": null,
   "metadata": {},
   "outputs": [],
   "source": [
    "#collapse\n",
    "answers = '''\n",
    "- Amazon SNS\n",
    "\n",
    "- Amazon SWF\n",
    "\n",
    "✔️ Amazon MQ\n",
    "    - \"supports industry-standard APIs and protocols so you can switch from any standards-based message broker to Amazon MQ without rewriting the messaging code\"\n",
    "    - https://docs.aws.amazon.com/AWSSimpleQueueService/latest/SQSDeveloperGuide/welcome.html#sqs-difference-from-amazon-mq-sns\n",
    "    - https://tutorialsdojo.com/amazon-mq/\n",
    "\n",
    "- Amazon SQS\n",
    "'''"
   ]
  },
  {
   "source": [
    "> A popular mobile game uses CloudFront, Lambda, and DynamoDB for its backend services. The player data is persisted on a DynamoDB table and the static assets are distributed by CloudFront. However, there are a lot of complaints that saving and retrieving player information is taking a lot of time.\n",
    "\n",
    "> To improve the game’s performance, which AWS service can you use to reduce DynamoDB response times from milliseconds to microseconds?\n",
    "\n",
    "- Amazon ElastiCache\n",
    "\n",
    "- AWS Device Farm\n",
    "\n",
    "- Amazon DynamoDB Accelerator (DAX)\n",
    "\n",
    "- DynamoDB Auto Scaling"
   ],
   "cell_type": "markdown",
   "metadata": {}
  },
  {
   "cell_type": "code",
   "execution_count": null,
   "metadata": {},
   "outputs": [],
   "source": [
    "#collapse\n",
    "answers = '''\n",
    "- Amazon ElastiCache\n",
    "\n",
    "- AWS Device Farm\n",
    "\n",
    "✔️ Amazon DynamoDB Accelerator (DAX)\n",
    "    - \"Amazon DynamoDB Accelerator (DAX) is a fully managed, highly available, in-memory cache that can reduce Amazon DynamoDB response times from milliseconds to microseconds, even at millions of requests per second.\"\n",
    "    - https://aws.amazon.com/dynamodb/dax\n",
    "    - https://tutorialsdojo.com/amazon-dynamodb/\n",
    "\n",
    "- DynamoDB Auto Scaling\n",
    "'''"
   ]
  },
  {
   "source": [
    "> An online medical system hosted in AWS stores sensitive Personally Identifiable Information (PII) of the users in an Amazon S3 bucket. Both the master keys and the unencrypted data should never be sent to AWS to comply with the strict compliance and regulatory requirements of the company.\n",
    "\n",
    "> Which S3 encryption technique should the Architect use?\n",
    "\n",
    "- Use S3 server-side encryption with customer provided key.\n",
    "\n",
    "- Use S3 client-side encryption with a KMS-managed customer master key.\n",
    "\n",
    "- Use S3 client-side encryption with a client-side master key.\n",
    "\n",
    "- Use S3 server-side encryption with a KMS managed key.\n",
    "\n"
   ],
   "cell_type": "markdown",
   "metadata": {}
  },
  {
   "cell_type": "code",
   "execution_count": null,
   "metadata": {},
   "outputs": [],
   "source": [
    "#collapse\n",
    "answers = ''' \n",
    "- Use S3 server-side encryption with customer provided key.\n",
    "\n",
    "- Use S3 client-side encryption with a KMS-managed customer master key.\n",
    "\n",
    "✔️ Use S3 client-side encryption with a client-side master key.\n",
    "    - \"your client-side master keys and your unencrypted data are never sent to AWS\"\n",
    "    - https://docs.aws.amazon.com/AmazonS3/latest/dev/UsingEncryption.html\n",
    "\n",
    "- Use S3 server-side encryption with a KMS managed key.\n",
    "'''"
   ]
  },
  {
   "source": [
    "> You are designing a banking portal which uses Amazon ElastiCache for Redis as its distributed session management component. Since the other Cloud Engineers in your department have access to your ElastiCache cluster, you have to secure the session data in the portal by requiring them to enter a password before they are granted permission to execute Redis commands.\n",
    "\n",
    "> As the Solutions Architect, which of the following should you do to meet the above requirement?\n",
    "\n",
    "- Set up an IAM Policy and MFA which requires the Cloud Engineers to enter their IAM credentials and token before they can access the ElastiCache cluster.\n",
    "\n",
    "- Set up a Redis replication group and enable the `AtRestEncryptionEnabled` parameter.\n",
    "\n",
    "- Authenticate the users using Redis AUTH by creating a new Redis Cluster with both the `--transit-encryption-enabled` and `--auth-token` parameters enabled.\n",
    "\n",
    "- Enable the in-transit encryption for Redis replication groups."
   ],
   "cell_type": "markdown",
   "metadata": {}
  },
  {
   "source": [
    "#collapse\n",
    "answers = ''' \n",
    "\n",
    "- Set up an IAM Policy and MFA which requires the Cloud Engineers to enter their IAM credentials and token before they can access the ElastiCache cluster.\n",
    "\n",
    "- Set up a Redis replication group and enable the `AtRestEncryptionEnabled` parameter.\n",
    "\n",
    "✔️ Authenticate the users using Redis AUTH by creating a new Redis Cluster with both the `--transit-encryption-enabled` and `--auth-token` parameters enabled.\n",
    "    - \"To require that users enter a password on a password-protected Redis server, include the parameter --auth-token with the correct password when you create your replication group or cluster\"\n",
    "    - https://docs.aws.amazon.com/AmazonElastiCache/latest/red-ug/auth.html\n",
    "    - https://tutorialsdojo.com/amazon-elasticache/\n",
    "\n",
    "- Enable the in-transit encryption for Redis replication groups.\n",
    "'''"
   ],
   "cell_type": "code",
   "metadata": {},
   "execution_count": null,
   "outputs": []
  },
  {
   "source": [
    "> A Docker application, which is running on an Amazon ECS cluster behind a load balancer, is heavily using DynamoDB. You are instructed to improve the database performance by distributing the workload evenly and using the provisioned throughput efficiently.\n",
    "\n",
    "> Which of the following would you consider to implement for your DynamoDB table?\n",
    "\n",
    "- Reduce the number of partition keys in the DynamoDB table.\n",
    "\n",
    "- Use partition keys with high-cardinality attributes, which have a large number of distinct values for each item.\n",
    "\n",
    "- Avoid using a composite primary key, which is composed of a partition key and a sort key.\n",
    "\n",
    "- Use partition keys with low-cardinality attributes, which have a few number of distinct values for each item.\n",
    "\n"
   ],
   "cell_type": "markdown",
   "metadata": {}
  },
  {
   "cell_type": "code",
   "execution_count": null,
   "metadata": {},
   "outputs": [],
   "source": [
    "#collapse\n",
    "answers = ''' \n",
    "- Reduce the number of partition keys in the DynamoDB table.\n",
    "\n",
    "✔️ Use partition keys with high-cardinality attributes, which have a large number of distinct values for each item.\n",
    "    - \" Provisioned I/O capacity for the table is divided evenly among these physical partitions. Therefore a partition key design that doesn’t distribute I/O requests evenly can create “hot” partitions that result in throttling and use your provisioned I/O capacity inefficiently\"\n",
    "    - https://aws.amazon.com/blogs/database/choosing-the-right-dynamodb-partition-key/\n",
    "    - https://tutorialsdojo.com/amazon-dynamodb/\n",
    "\n",
    "- Avoid using a composite primary key, which is composed of a partition key and a sort key.\n",
    "\n",
    "- Use partition keys with low-cardinality attributes, which have a few number of distinct values for each item.\n",
    "'''"
   ]
  },
  {
   "source": [
    "> A popular social network is hosted in AWS and is using a DynamoDB table as its database. There is a requirement to implement a ‘follow’ feature where users can subscribe to certain updates made by a particular user and be notified via email.\n",
    "\n",
    "> Which of the following is the most suitable solution that you should implement to meet the requirement?\n",
    "\n",
    "- Enable DynamoDB Stream and create an AWS Lambda trigger, as well as the IAM role which contains all of the permissions that the Lambda function will need at runtime. The data from the stream record will be processed by the Lambda function which will then publish a message to SNS Topic that will notify the subscribers via email.\n",
    "\n",
    "- Using the Kinesis Client Library (KCL), write an application that leverages on DynamoDB Streams Kinesis Adapter that will fetch data from the DynamoDB Streams endpoint. When there are updates made by a particular user, notify the subscribers via email using SNS.\n",
    "\n",
    "- Set up a DAX cluster to access the source DynamoDB table. Create a new DynamoDB trigger and a Lambda function. For every update made in the user data, the trigger will send data to the Lambda function which will then notify the subscribers via email using SNS.\n",
    "\n",
    "- Create a Lambda function that uses DynamoDB Streams Kinesis Adapter which will fetch data from the DynamoDB Streams endpoint. Set up an SNS Topic that will notify the subscribers via email when there is an update made by a particular user."
   ],
   "cell_type": "markdown",
   "metadata": {}
  },
  {
   "cell_type": "code",
   "execution_count": null,
   "metadata": {},
   "outputs": [],
   "source": [
    "#collapse\n",
    "answers = ''' \n",
    "✔️ Enable DynamoDB Stream and create an AWS Lambda trigger, as well as the IAM role which contains all of the permissions that the Lambda function will need at runtime. The data from the stream record will be processed by the Lambda function which will then publish a message to SNS Topic that will notify the subscribers via email.\n",
    "    - \"When you enable a stream on a table, DynamoDB captures information about every modification to data items in the table.\"\n",
    "    - \"triggers—pieces of code that automatically respond to events in DynamoDB Streams\"\n",
    "    - \"AWS Lambda polls the stream and invokes your Lambda function synchronously when it detects new stream records\"\n",
    "    - https://docs.aws.amazon.com/amazondynamodb/latest/developerguide/Streams.html\n",
    "\n",
    "\n",
    "- Using the Kinesis Client Library (KCL), write an application that leverages on DynamoDB Streams Kinesis Adapter that will fetch data from the DynamoDB Streams endpoint. When there are updates made by a particular user, notify the subscribers via email using SNS.\n",
    "    - the solution should mention \"DynamoDB Streams Kinesis Adapter\"\n",
    "\n",
    "- Set up a DAX cluster to access the source DynamoDB table. Create a new DynamoDB trigger and a Lambda function. For every update made in the user data, the trigger will send data to the Lambda function which will then notify the subscribers via email using SNS.\n",
    "\n",
    "- Create a Lambda function that uses DynamoDB Streams Kinesis Adapter which will fetch data from the DynamoDB Streams endpoint. Set up an SNS Topic that will notify the subscribers via email when there is an update made by a particular user.\n",
    "'''"
   ]
  },
  {
   "source": [
    "> A suite of web applications is hosted in an Auto Scaling group of EC2 instances across three Availability Zones and is configured with default settings. There is an Application Load Balancer that forwards the request to the respective target group on the URL path. The scale-in policy has been triggered due to the low number of incoming traffic to the application.\n",
    "\n",
    "> Which EC2 instance will be the first one to be terminated by your Auto Scaling group?\n",
    "\n",
    "- The EC2 instance which has the least number of user sessions\n",
    "\n",
    "- The EC2 instance which has been running for the longest time\n",
    "\n",
    "- The instance will be randomly selected by the Auto Scaling group\n",
    "\n",
    "- The EC2 instance launched from the oldest launch configuration"
   ],
   "cell_type": "markdown",
   "metadata": {}
  },
  {
   "cell_type": "code",
   "execution_count": null,
   "metadata": {},
   "outputs": [],
   "source": [
    "#collapse\n",
    "answers = '''\n",
    "- The EC2 instance which has the least number of user sessions\n",
    "\n",
    "- The EC2 instance which has been running for the longest time\n",
    "\n",
    "- The instance will be randomly selected by the Auto Scaling group\n",
    "\n",
    "✔️ The EC2 instance launched from the oldest launch configuration\n",
    "    - The default termination policy states that if there is an equal number of instanes in multiple AZs, use the unprotected instance in the oldest launch configuration\n",
    "    - https://docs.aws.amazon.com/autoscaling/ec2/userguide/as-instance-termination.html#default-termination-policy\n",
    "'''"
   ]
  },
  {
   "source": [
    "> A leading utilities provider is in the process of migrating their applications to AWS. Their Solutions Architect created an EBS-Backed EC2 instance with ephemeral0 and ephemeral1 instance store volumes attached to host a web application that fetches and stores data from a web API service.\n",
    "\n",
    "> If this instance is stopped, what will happen to the data on the ephemeral store volumes?\n",
    "\n",
    "- Data is automatically saved in an EBS volume.\n",
    "\n",
    "- Data is unavailable until the instance is restarted.\n",
    "\n",
    "- Data will be deleted.\n",
    "\n",
    "- Data is automatically saved as an EBS snapshot."
   ],
   "cell_type": "markdown",
   "metadata": {}
  },
  {
   "cell_type": "code",
   "execution_count": null,
   "metadata": {},
   "outputs": [],
   "source": [
    "#collapse\n",
    "answers = '''\n",
    "- Data is automatically saved in an EBS volume.\n",
    "\n",
    "- Data is unavailable until the instance is restarted.\n",
    "\n",
    "️✔️ Data will be deleted.\n",
    "    - \"If an instance reboots, data in the instance store persists but the data is lost if the instance is stopped or terminated\"\n",
    "    - https://tutorialsdojo.com/amazon-elastic-compute-cloud-amazon-ec2/\n",
    "\n",
    "- Data is automatically saved as an EBS snapshot.\n",
    "'''"
   ]
  },
  {
   "source": [
    "> A content management system (CMS) is hosted on a fleet of auto-scaled, On-Demand EC2 instances which use Amazon Aurora as its database. Currently, the system stores the file documents that the users uploaded in one of the attached EBS Volumes. Your manager noticed that the system performance is quite slow and he has instructed you to improve the architecture of the system.\n",
    "\n",
    "> In this scenario, what will you do to implement a scalable, high throughput POSIX-compliant file system?\n",
    "\n",
    "- Upgrade your existing EBS volumes to Provisioned IOPS SSD Volumes\n",
    "\n",
    "- Create an S3 bucket and use this as the storage for the CMS\n",
    "\n",
    "- Use EFS\n",
    "\n",
    "- Use ElastiCache"
   ],
   "cell_type": "markdown",
   "metadata": {}
  },
  {
   "cell_type": "code",
   "execution_count": null,
   "metadata": {},
   "outputs": [],
   "source": [
    "#collapse\n",
    "answers = '''\n",
    "- Upgrade your existing EBS volumes to Provisioned IOPS SSD Volumes\n",
    "\n",
    "- Create an S3 bucket and use this as the storage for the CMS\n",
    "    - \"S3 is not the best service to use because it is mainly used for “object storage”, and S3 does not provide the notion of “folders”\"\n",
    "\n",
    "️✔️ Use EFS\n",
    "    - \"Amazon EFS to provide a common data source for workloads and applications running on more than one Amazon EC2 instance\"\n",
    "    - https://tutorialsdojo.com/amazon-s3-vs-ebs-vs-efs/\n",
    "\n",
    "- Use ElastiCache\n",
    "'''"
   ]
  },
  {
   "source": [
    "> A company has an On-Demand EC2 instance that is transferring large amounts of data to an Amazon S3 bucket in the same region. Your manager is worried about infrastructure cost considering the vast amounts of data being transferred to the bucket.\n",
    "\n",
    "> What will you say to justify this architecture?\n",
    "\n",
    "- You are only using an On-Demand EC2 instance so the cost will be lower than a Spot instance.\n",
    "\n",
    "- Transferring data from an EC2 instance to an S3 bucket in the same region has no cost at all.\n",
    "\n",
    "- You are only using an On-Demand EC2 instance which is exactly the same price as Spot EC2 instance, launched by a persistent Spot request.\n",
    "\n",
    "- Transferring data from an EC2 instance to an S3 bucket in the same region has a 50% discount based on the AWS Pricing."
   ],
   "cell_type": "markdown",
   "metadata": {}
  },
  {
   "cell_type": "code",
   "execution_count": null,
   "metadata": {},
   "outputs": [],
   "source": [
    "#collapse\n",
    "answers = '''️\n",
    "- You are only using an On-Demand EC2 instance so the cost will be lower than a Spot instance.\n",
    "\n",
    "✔️ Transferring data from an EC2 instance to an S3 bucket in the same region has no cost at all.\n",
    "    - \"Transferring data from an EC2 instance to Amazon S3, Amazon Glacier, Amazon DynamoDB, Amazon SES, Amazon SQS, or Amazon SimpleDB in the same AWS Region has no cost at all.\"\n",
    "    - https://aws.amazon.com/ec2/pricing/on-demand/#Data_Transfer\n",
    "\n",
    "- You are only using an On-Demand EC2 instance which is exactly the same price as Spot EC2 instance, launched by a persistent Spot request.\n",
    "\n",
    "- Transferring data from an EC2 instance to an S3 bucket in the same region has a 50% discount based on the AWS Pricing.\n",
    "'''"
   ]
  },
  {
   "source": [
    "> You are an AWS Solutions Architect designing an online analytics application that uses Redshift Cluster for its data warehouse. Which service will allow you to monitor all API calls to your Redshift instance and can also provide secured data for auditing and compliance purposes?\n",
    "\n",
    "- CloudTrail for security logs\n",
    "\n",
    "- Redshift Spectrum\n",
    "\n",
    "- CloudWatch\n",
    "\n",
    "- AWS X-Ray"
   ],
   "cell_type": "markdown",
   "metadata": {}
  },
  {
   "cell_type": "code",
   "execution_count": null,
   "metadata": {},
   "outputs": [],
   "source": [
    "#collapse\n",
    "answers = '''️\n",
    "✔️ CloudTrail for security logs\n",
    "    - \"CloudTrail provides event history of your AWS account activity, including actions taken through the AWS Management Console, AWS SDKs, command line tools, API calls, and other AWS services. This event history simplifies security analysis\"\n",
    "    - https://tutorialsdojo.com/aws-cloudtrail/\n",
    "\n",
    "- Redshift Spectrum\n",
    "\n",
    "- CloudWatch\n",
    "\n",
    "- AWS X-Ray\n",
    "'''"
   ]
  },
  {
   "source": [
    "> A financial application is composed of an Auto Scaling group of EC2 instances, an Application Load Balancer, and a MySQL RDS instance in a Multi-AZ Deployments configuration. To protect the confidential data of your customers, you have to ensure that your RDS database can only be accessed using the profile credentials specific to your EC2 instances via an authentication token.\n",
    "\n",
    "> As the Solutions Architect of the company, which of the following should you do to meet the above requirement?\n",
    "\n",
    "- Use a combination of IAM and STS to restrict access to your RDS instance via a temporary token.\n",
    "\n",
    "- Create an IAM Role and assign it to your EC2 instances which will grant exclusive access to your RDS instance.\n",
    "\n",
    "- Configure SSL in your application to encrypt the database connection to RDS.\n",
    "\n",
    "- Enable the IAM DB Authentication.\n"
   ],
   "cell_type": "markdown",
   "metadata": {}
  },
  {
   "cell_type": "code",
   "execution_count": null,
   "metadata": {},
   "outputs": [],
   "source": [
    "#collapse\n",
    "answers = '''️\n",
    "- Use a combination of IAM and STS to restrict access to your RDS instance via a temporary token.\n",
    "    - \"you have to use IAM DB Authentication for this scenario, and not a combination of an IAM and STS\"\n",
    "\n",
    "- Create an IAM Role and assign it to your EC2 instances which will grant exclusive access to your RDS instance.\n",
    "\n",
    "- Configure SSL in your application to encrypt the database connection to RDS.\n",
    "\n",
    "✔️ Enable the IAM DB Authentication.\n",
    "    - \"You can use IAM to centrally manage access to your database resources, instead of managing access individually on each DB instance.\"\n",
    "    - https://tutorialsdojo.com/amazon-relational-database-service-amazon-rds/\n",
    "'''"
   ]
  },
  {
   "source": [
    "> An AI-powered Forex trading application consumes thousands of data sets to train its machine learning model. The application’s workload requires a high-performance, parallel hot storage to process the training datasets concurrently. It also needs cost-effective cold storage to archive those datasets that yield low profit.\n",
    "\n",
    "> Which of the following Amazon storage services should the developer use?\n",
    "\n",
    "- Use Amazon FSx For Lustre and Amazon EBS Provisioned IOPS SSD (io1) volumes for hot and cold storage respectively.\n",
    "\n",
    "- Use Amazon Elastic File System and Amazon S3 for hot and cold storage respectively.\n",
    "\n",
    "- Use Amazon FSx For Windows File Server and Amazon S3 for hot and cold storage respectively.\n",
    "\n",
    "- Use Amazon FSx For Lustre and Amazon S3 for hot and cold storage respectively."
   ],
   "cell_type": "markdown",
   "metadata": {}
  },
  {
   "cell_type": "code",
   "execution_count": null,
   "metadata": {},
   "outputs": [],
   "source": [
    "#collapse\n",
    "answers = '''️\n",
    "- Use Amazon FSx For Lustre and Amazon EBS Provisioned IOPS SSD (io1) volumes for hot and cold storage respectively.\n",
    "\n",
    "- Use Amazon Elastic File System and Amazon S3 for hot and cold storage respectively.\n",
    "    - \"EFS supports concurrent access to data, it does not have the high-performance ability that is required for machine learning workloads\"\n",
    "\n",
    "- Use Amazon FSx For Windows File Server and Amazon S3 for hot and cold storage respectively.\n",
    "\n",
    "✔️ Use Amazon FSx For Lustre and Amazon S3 for hot and cold storage respectively.\n",
    "    - \"provides a high-performance, parallel file system for hot data. On the second requirement, we can use Amazon S3 Glacier for storing the cold data.\"\n",
    "    - https://tutorialsdojo.com/amazon-fsx/\n",
    "'''"
   ]
  },
  {
   "source": [
    "> A web application is using CloudFront to distribute their images, videos, and other static contents stored in their S3 bucket to its users around the world. The company has recently introduced a new member-only access to some of its high quality media files. There is a requirement to provide access to multiple private media files only to their paying subscribers without having to change their current URLs.\n",
    "\n",
    "> Which of the following is the most suitable solution that you should implement to satisfy this requirement?\n",
    "\n",
    "- Use Signed Cookies to control who can access the private files in your CloudFront distribution by modifying your application to determine whether a user should have access to your content. For members, send the required Set-Cookie headers to the viewer which will unlock the content only to them.\n",
    "\n",
    "- Configure your CloudFront distribution to use Field-Level Encryption to protect your private data and only allow access to members.\n",
    "\n",
    "- Create a Signed URL with a custom policy which only allows the members to see the private files.\n",
    "\n",
    "- Configure your CloudFront distribution to use Match Viewer as its Origin Protocol Policy which will automatically match the user request. This will allow access to the private content if the request is a paying member and deny it if it is not a member."
   ],
   "cell_type": "markdown",
   "metadata": {}
  },
  {
   "cell_type": "code",
   "execution_count": null,
   "metadata": {},
   "outputs": [],
   "source": [
    "#collapse\n",
    "answers = '''️\n",
    "✔️ Use Signed Cookies to control who can access the private files in your CloudFront distribution by modifying your application to determine whether a user should have access to your content. For members, send the required Set-Cookie headers to the viewer which will unlock the content only to them.\n",
    "    - Signed cookies control who can access your content but more suitable when you wish to retain your URLs\n",
    "    - https://tutorialsdojo.com/amazon-cloudfront/\n",
    "\n",
    "- Configure your CloudFront distribution to use Field-Level Encryption to protect your private data and only allow access to members.\n",
    "\n",
    "- Create a Signed URL with a custom policy which only allows the members to see the private files.\n",
    "    - \" the scenario explicitly says that they don’t want to change their current URLs\"\n",
    "\n",
    "- Configure your CloudFront distribution to use Match Viewer as its Origin Protocol Policy which will automatically match the user request. This will allow access to the private content if the request is a paying member and deny it if it is not a member.\n",
    "'''"
   ]
  },
  {
   "source": [
    "> A travel photo sharing website is using Amazon S3 to serve high-quality photos to visitors of your website. After a few days, you found out that there are other travel websites linking and using your photos. This resulted in financial losses for your business.\n",
    "\n",
    "> What is the MOST effective method to mitigate this issue?\n",
    "\n",
    "- Block the IP addresses of the offending websites using NACL.\n",
    "\n",
    "- Use CloudFront distributions for your photos.\n",
    "\n",
    "- Configure your S3 bucket to remove public read access and use pre-signed URLs with expiry dates.\n",
    "\n",
    "- Store and privately serve the high-quality photos on Amazon WorkDocs instead."
   ],
   "cell_type": "markdown",
   "metadata": {}
  },
  {
   "cell_type": "code",
   "execution_count": null,
   "metadata": {},
   "outputs": [],
   "source": [
    "#collapse\n",
    "answers = '''️\n",
    "- Block the IP addresses of the offending websites using NACL.\n",
    "\n",
    "- Use CloudFront distributions for your photos.\n",
    "\n",
    "✔️ Configure your S3 bucket to remove public read access and use pre-signed URLs with expiry dates.\n",
    "    - \"The object owner can choose to share objects by creating a pre-signed URL using IAM credentials that are only valid for a specified duration\"\n",
    "    - https://tutorialsdojo.com/s3-pre-signed-urls-vs-cloudfront-signed-urls-vs-origin-access-identity-oai/\n",
    "\n",
    "- Store and privately serve the high-quality photos on Amazon WorkDocs instead.\n",
    "'''"
   ]
  },
  {
   "source": [
    "> You founded a tech startup that provides online training and software development courses to various students across the globe. Your team has developed an online portal in AWS where the students can log into and access the courses they are subscribed to.\n",
    "\n",
    "> Since you are in the early phases of the startup and the funding is still hard to come by, which service can help you manage the budgets for all your AWS resources?\n",
    "\n",
    "- Cost Explorer\n",
    "\n",
    "- Cost Allocation Tags\n",
    "\n",
    "- AWS Budgets\n",
    "\n",
    "- Payment History\n"
   ],
   "cell_type": "markdown",
   "metadata": {}
  },
  {
   "cell_type": "code",
   "execution_count": null,
   "metadata": {},
   "outputs": [],
   "source": [
    "#collapse\n",
    "answers = '''️\n",
    "- Cost Explorer\n",
    "    - \" it only helps you visualize and manage your AWS costs and usages over time. It offers a set of reports you can view data with for up to the last 13 months, forecast how much you’re likely to spend for the next three months\"\n",
    "\n",
    "- Cost Allocation Tags\n",
    "\n",
    "✔️ AWS Budgets\n",
    "    - \"gives you the ability to set custom budgets that alert you when your costs or usage exceed (or are forecasted to exceed) your budgeted amount.\"\n",
    "    - https://tutorialsdojo.com/aws-billing-and-cost-management/\n",
    "\n",
    "- Payment History\n",
    "'''"
   ]
  },
  {
   "source": [
    "> A popular social media website uses a CloudFront web distribution to serve their static contents to their millions of users around the globe. They are receiving a number of complaints recently that their users take a lot of time to log into their website. There are also occasions when their users are getting HTTP 504 errors. You are instructed by your manager to significantly reduce the user’s login time to further optimize the system.\n",
    "\n",
    "> Which of the following options should you use together to set up a cost-effective solution that can improve your application’s performance? (Select TWO.)\n",
    "\n",
    "- Configure your origin to add a Cache-Control max-age directive to your objects, and specify the longest practical value for max-age to increase the cache hit ratio of your CloudFront distribution.\n",
    "\n",
    "- Use multiple and geographically disperse VPCs to various AWS regions then create a transit VPC to connect all of your resources. In order to handle the requests faster, set up Lambda functions in each region using the AWS Serverless Application Model (SAM) service.\n",
    "\n",
    "- Set up an origin failover by creating an origin group with two origins. Specify one as the primary origin and the other as the second origin which CloudFront automatically switches to when the primary origin returns specific HTTP status code failure responses.\n",
    "Deploy your application to multiple AWS regions to accommodate your users around the world. Set up a Route 53 record with latency routing policy to route incoming traffic to the region that provides the best latency to the user.\n",
    "\n",
    "- Customize the content that the CloudFront web distribution delivers to your users using Lambda@Edge, which allows your Lambda functions to execute the authentication process in AWS locations closer to the users."
   ],
   "cell_type": "markdown",
   "metadata": {}
  },
  {
   "cell_type": "code",
   "execution_count": null,
   "metadata": {},
   "outputs": [],
   "source": [
    "#collapse\n",
    "answers = '''️\n",
    "- Configure your origin to add a Cache-Control max-age directive to your objects, and specify the longest practical value for max-age to increase the cache hit ratio of your CloudFront distribution.\n",
    "    - \"e improving the cache hit ratio for the CloudFront distribution is irrelevant in this scenario\"\n",
    "    - \"the problem in the scenario is the sluggish authentication process of your global users and not just the caching of the static objects.\"\n",
    "\n",
    "- Use multiple and geographically disperse VPCs to various AWS regions then create a transit VPC to connect all of your resources. In order to handle the requests faster, set up Lambda functions in each region using the AWS Serverless Application Model (SAM) service.\n",
    "\n",
    "✔️ Set up an origin failover by creating an origin group with two origins. Specify one as the primary origin and the other as the second origin which CloudFront automatically switches to when the primary origin returns specific HTTP status code failure responses.\n",
    "    - \"you can set up an origin failover by creating an origin group with two origins with one as the primary origin and the other as the second origin which CloudFront automatically switches to when the primary origin fails\"\n",
    "    - https://tutorialsdojo.com/amazon-cloudfront/\n",
    "\n",
    "- Deploy your application to multiple AWS regions to accommodate your users around the world. Set up a Route 53 record with latency routing policy to route incoming traffic to the region that provides the best latency to the user.\n",
    "\n",
    "✔️ Customize the content that the CloudFront web distribution delivers to your users using Lambda@Edge, which allows your Lambda functions to execute the authentication process in AWS locations closer to the users.\n",
    "    - \"allow your Lambda functions to customize the content that CloudFront delivers and to execute the authentication process in AWS locations closer to the users\"\n",
    "    - https://tutorialsdojo.com/aws-lambda/\n",
    "'''"
   ]
  },
  {
   "source": [
    "> In the VPC that you are managing, it has one EC2 instance with its data stored in its root volume. A 2nd level support engineer tried to stop the EC2 instance using the AWS CLI to save costs. However, he received an UnsupportedOperation error as a response.\n",
    "\n",
    "> What might be the cause of this?\n",
    "\n",
    "- The EC2 instance was using EBS-backed root volumes hence, the instance cannot be stopped.\n",
    "\n",
    "- The EC2 instance has been hacked.\n",
    "\n",
    "- AWS does not allow instances to be stopped through API calls.\n",
    "\n",
    "- The EC2 instance was using an instance-store-backed root volume hence, the instance cannot be stopped.\n"
   ],
   "cell_type": "markdown",
   "metadata": {}
  },
  {
   "cell_type": "code",
   "execution_count": null,
   "metadata": {},
   "outputs": [],
   "source": [
    "#collapse\n",
    "answers = '''️\n",
    "- The EC2 instance was using EBS-backed root volumes hence, the instance cannot be stopped.\n",
    "\n",
    "- The EC2 instance has been hacked.\n",
    "\n",
    "- AWS does not allow instances to be stopped through API calls.\n",
    "\n",
    "✔️ The EC2 instance was using an instance-store-backed root volume hence, the instance cannot be stopped.\n",
    "'''"
   ]
  },
  {
   "source": [
    "> A global IT company with offices around the world has multiple AWS accounts. To improve efficiency and drive costs down, the Chief Information Officer (CIO) wants to set up a solution that centrally manages their AWS resources. This will allow them to procure AWS resources centrally and share resources such as AWS Transit Gateways, AWS License Manager configurations, or Amazon Route 53 Resolver rules across their various accounts.\n",
    "\n",
    "> As the Solutions Architect, which combination of options should you implement in this scenario? (Choose 2)\n",
    "\n",
    "- Consolidate all of the company's accounts using AWS ParallelCluster.\n",
    "\n",
    "- Consolidate all of the company's accounts using AWS Organizations.\n",
    "\n",
    "- Use AWS Control Tower to easily and securely share your resources with your AWS accounts.\n",
    "\n",
    "- Use the AWS Identity and Access Management service to set up cross-account access that will easily and securely share your resources with your AWS accounts.\n",
    "\n",
    "- Use the AWS Resource Access Manager (RAM) service to easily and securely share your resources with your AWS accounts.\n",
    "\n"
   ],
   "cell_type": "markdown",
   "metadata": {}
  },
  {
   "cell_type": "code",
   "execution_count": null,
   "metadata": {},
   "outputs": [],
   "source": [
    "#collapse\n",
    "answers = '''️\n",
    "- Consolidate all of the company's accounts using AWS ParallelCluster.\n",
    "\n",
    "✔️ Consolidate all of the company's accounts using AWS Organizations.\n",
    "    - \"With Organizations, you can create member accounts and invite existing accounts to join your organization. You can organize those accounts into groups and attach policy-based controls.\"\n",
    "\n",
    "- Use AWS Control Tower to easily and securely share your resources with your AWS accounts.\n",
    "\n",
    "- Use the AWS Identity and Access Management service to set up cross-account access that will easily and securely share your resources with your AWS accounts.\n",
    "\n",
    "✔️ Use the AWS Resource Access Manager (RAM) service to easily and securely share your resources with your AWS accounts.\n",
    "    - \"AWS Resource Access Manager (RAM) is a service that enables you to easily and securely share AWS resources with any AWS account or within your AWS Organization\"\n",
    "    - https://docs.aws.amazon.com/ram/latest/userguide/shareable.html\n",
    "'''"
   ]
  },
  {
   "source": [
    "> An application is hosted in an AWS Fargate cluster that runs a batch job whenever an object is loaded on an Amazon S3 bucket. The minimum number of ECS Tasks is initially set to 1 to save on costs, and it will only increase the task count based on the new objects uploaded on the S3 bucket. Once processing is done, the bucket becomes empty and the ECS Task count should be back to 1.\n",
    "\n",
    "> Which is the most suitable option to implement with the LEAST amount of effort?\n",
    "\n",
    "- Set up a CloudWatch Event rule to detect S3 object PUT operations and set the target to the ECS cluster with the increased number of tasks. Create another rule to detect S3 DELETE operations and set the target to the ECS Cluster with 1 as the Task count.\n",
    "\n",
    "- Set up a CloudWatch Event rule to detect S3 object PUT operations and set the target to a Lambda function that will run Amazon ECS API command to increase the number of tasks on ECS. Create another rule to detect S3 DELETE operations and run the Lambda function to reduce the number of ECS tasks.\n",
    "\n",
    "- Set up an alarm in CloudWatch to monitor CloudTrail since the S3 object-level operations are recorded on CloudTrail. Create two Lambda functions for increasing/decreasing the ECS task count. Set these as respective targets for the CloudWatch Alarm depending on the S3 event.\n",
    "\n",
    "- Set up an alarm in CloudWatch to monitor CloudTrail since this S3 object-level operations are recorded on CloudTrail. Set two alarm actions to update ECS task count to scale-out/scale-in depending on the S3 event."
   ],
   "cell_type": "markdown",
   "metadata": {}
  },
  {
   "cell_type": "code",
   "execution_count": null,
   "metadata": {},
   "outputs": [],
   "source": [
    "#collapse\n",
    "answers = '''️\n",
    "✔️ Set up a CloudWatch Event rule to detect S3 object PUT operations and set the target to the ECS cluster with the increased number of tasks. Create another rule to detect S3 DELETE operations and set the target to the ECS Cluster with 1 as the Task count.\n",
    "    - \"You can use CloudWatch Events to run Amazon ECS tasks when certain AWS events occur\"\n",
    "    - https://docs.aws.amazon.com/AmazonCloudWatch/latest/events/CloudWatch-Events-tutorial-ECS.html\n",
    "\n",
    "- Set up a CloudWatch Event rule to detect S3 object PUT operations and set the target to a Lambda function that will run Amazon ECS API command to increase the number of tasks on ECS. Create another rule to detect S3 DELETE operations and run the Lambda function to reduce the number of ECS tasks.\n",
    "    - \".. creating your own Lambda function for this scenario is not really necessary. It is much simpler to control ECS task directly as target for the CloudWatch Event rule.\"\n",
    "\n",
    "- Set up an alarm in CloudWatch to monitor CloudTrail since the S3 object-level operations are recorded on CloudTrail. Create two Lambda functions for increasing/decreasing the ECS task count. Set these as respective targets for the CloudWatch Alarm depending on the S3 event.\n",
    "\n",
    "- Set up an alarm in CloudWatch to monitor CloudTrail since this S3 object-level operations are recorded on CloudTrail. Set two alarm actions to update ECS task count to scale-out/scale-in depending on the S3 event.\n",
    "'''"
   ]
  },
  {
   "source": [
    "> A retail website has intermittent, sporadic, and unpredictable transactional workloads throughout the day that are hard to predict. The website is currently hosted on-premises and is slated to be migrated to AWS. A new relational database is needed that autoscales capacity to meet the needs of the application’s peak load and scales back down when the surge of activity is over.\n",
    "\n",
    "> Which of the following option is the MOST cost-effective and suitable database setup in this scenario?\n",
    "\n",
    "- Launch an Amazon Redshift data warehouse cluster with Concurrency Scaling.\n",
    "\n",
    "- Launch a DynamoDB Global table with Auto Scaling enabled.\n",
    "\n",
    "- Launch an Amazon Aurora Serverless DB cluster then set the minimum and maximum capacity for the cluster.\n",
    "\n",
    "- Launch an Amazon Aurora Provisioned DB cluster with burstable performance DB instance class types.\n"
   ],
   "cell_type": "markdown",
   "metadata": {}
  },
  {
   "cell_type": "code",
   "execution_count": null,
   "metadata": {},
   "outputs": [],
   "source": [
    "#collapse\n",
    "answers = '''️\n",
    "- Launch an Amazon Redshift data warehouse cluster with Concurrency Scaling.\n",
    "\n",
    "- Launch a DynamoDB Global table with Auto Scaling enabled.\n",
    "    - \".. the scenario explicitly indicated that you need a relational database to handle your transactional workloads\"\n",
    "\n",
    "✔️️ ️Launch an Amazon Aurora Serverless DB cluster then set the minimum and maximum capacity for the cluster.\n",
    "    - \"With Aurora Serverless, the database endpoint connects to a proxy fleet that routes the workload to a fleet of resources that are automatically scaled which is good for environments were workloads are intermittent and unpredictable\"\n",
    "    - \"Scaling is rapid as a pool of warm resources is used ready to service requests\"\n",
    "    - https://docs.aws.amazon.com/AmazonRDS/latest/AuroraUserGuide/aurora-serverless.how-it-works.html\n",
    "\n",
    "- Launch an Amazon Aurora Provisioned DB cluster with burstable performance DB instance class types.\n",
    "'''"
   ]
  },
  {
   "source": [
    ">  You have a requirement to make sure that an On-Demand EC2 instance can only be accessed from this IP address (110.238.98.71) via an SSH connection. Which configuration below will satisfy this requirement?\n",
    "\n",
    "- Security Group Inbound Rule: Protocol – TCP, Port Range – 22, Source 110.238.98.71/32\n",
    "\n",
    "- Security Group Inbound Rule: Protocol – UDP, Port Range – 22, Source 110.238.98.71/0\n",
    "\n",
    "- Security Group Inbound Rule: Protocol – UDP, Port Range – 22, Source 110.238.98.71/32\n",
    "\n",
    "- Security Group Inbound Rule: Protocol – TCP, Port Range – 22, Source 110.238.98.71/0"
   ],
   "cell_type": "markdown",
   "metadata": {}
  },
  {
   "cell_type": "code",
   "execution_count": null,
   "metadata": {},
   "outputs": [],
   "source": [
    "#collapse\n",
    "answers = '''️\n",
    "✔️ Security Group Inbound Rule: Protocol – TCP, Port Range – 22, Source 110.238.98.71/32\n",
    "    - \"The /32 denotes one IP address and the /0 refers to the entire network\"\n",
    "\n",
    "- Security Group Inbound Rule: Protocol – UDP, Port Range – 22, Source 110.238.98.71/0\n",
    "\n",
    "- Security Group Inbound Rule: Protocol – UDP, Port Range – 22, Source 110.238.98.71/32\n",
    "\n",
    "- Security Group Inbound Rule: Protocol – TCP, Port Range – 22, Source 110.238.98.71/0\n",
    "'''"
   ]
  },
  {
   "source": [
    "## 10. Tutorials DOJO - 17/09/20 - Timed Set 1 All Modules - 90%\n",
    "\n",
    "Timed Mode Set 1 - 2nd attempt\n",
    "\n",
    "| Result                                 | FAIL    |\n",
    "|----------------------------------------|---------|\n",
    "| Mark                                   | 90\\.77% |\n",
    "| Attempted                              | 65      |\n",
    "| Correct                                | 59      |\n",
    "| Module Breakdown                       |         |\n",
    "| \\- Resillient Architectures            | 88\\.89% |\n",
    "| \\- High Performing Architectures       | 87\\.5%  |\n",
    "| \\- Secure Applications & Architectures | 94\\.74% |\n",
    "| \\- Cost Optimised Architectures       | 100%     |"
   ],
   "cell_type": "markdown",
   "metadata": {}
  },
  {
   "source": [
    "> A travel photo sharing website is using Amazon S3 to serve high-quality photos to visitors of your website. After a few days, you found out that there are other travel websites linking and using your photos. This resulted in financial losses for your business.\n",
    "\n",
    "> What is the MOST effective method to mitigate this issue?\n",
    "\n",
    "- Configure your S3 bucket to remove public read access and use pre-signed URLs with expiry dates.\n",
    "\n",
    "- Use CloudFront distributions for your photos.\n",
    "\n",
    "- Block the IP addresses of the offending websites using NACL.\n",
    "\n",
    "- tore and privately serve the high-quality photos on Amazon WorkDocs instead."
   ],
   "cell_type": "markdown",
   "metadata": {}
  },
  {
   "cell_type": "code",
   "execution_count": null,
   "metadata": {},
   "outputs": [],
   "source": [
    "#collapse\n",
    "answers = '''️\n",
    "✔️ Configure your S3 bucket to remove public read access and use pre-signed URLs with expiry dates.\n",
    "    - \"The object owner can choose to share objects by creating a pre-signed URL using IAM credentials that are only valid for a specified duration\"\n",
    "    - https://tutorialsdojo.com/s3-pre-signed-urls-vs-cloudfront-signed-urls-vs-origin-access-identity-oai/\n",
    "\n",
    "- Use CloudFront distributions for your photos.\n",
    "\n",
    "- Block the IP addresses of the offending websites using NACL.\n",
    "\n",
    "- Store and privately serve the high-quality photos on Amazon WorkDocs instead.\n",
    "'''"
   ]
  },
  {
   "source": [
    "> In the VPC that you are managing, it has one EC2 instance with its data stored in its root volume. A 2nd level support engineer tried to stop the EC2 instance using the AWS CLI to save costs. However, he received an UnsupportedOperation error as a response.\n",
    "\n",
    "> What might be the cause of this?\n",
    "\n",
    "- The EC2 instance was using EBS-backed root volumes hence, the instance cannot be stopped.\n",
    "\n",
    "- The EC2 instance has been hacked.\n",
    "\n",
    "- The EC2 instance was using an instance-store-backed root volume hence, the instance cannot be stopped.\n",
    "\n",
    "- AWS does not allow instances to be stopped through API calls.\n"
   ],
   "cell_type": "markdown",
   "metadata": {}
  },
  {
   "cell_type": "code",
   "execution_count": null,
   "metadata": {},
   "outputs": [],
   "source": [
    "#collapse\n",
    "answers = '''️\n",
    "- The EC2 instance was using EBS-backed root volumes hence, the instance cannot be stopped.\n",
    "    - \"incorrect because an EC2 instance with EBS-backed root volumes supports the stop operation\"\n",
    "\n",
    "- The EC2 instance has been hacked.\n",
    "\n",
    "✔️ The EC2 instance was using an instance-store-backed root volume hence, the instance cannot be stopped.\n",
    "\n",
    "- AWS does not allow instances to be stopped through API calls.\n",
    "'''"
   ]
  },
  {
   "source": [
    "> An online cryptocurrency exchange platform is hosted in AWS which uses ECS Cluster and RDS in Multi-AZ Deployments configuration. The application is heavily using the RDS instance to process complex read and write database operations. To maintain the reliability, availability, and performance of your systems, you have to closely monitor how the different processes or threads on a DB instance use the CPU, including the percentage of the CPU bandwidth and total memory consumed by each process.\n",
    "\n",
    "> Which of the following is the most suitable solution to properly monitor your database?\n",
    "\n",
    "- Check the CPU% and MEM% metrics which are readily available in the Amazon RDS console that shows the percentage of the CPU bandwidth and total memory consumed by each database process of your RDS instance.\n",
    "\n",
    "- Enable Enhanced Monitoring in RDS.\n",
    "\n",
    "- Create a script that collects and publishes custom metrics to CloudWatch, which tracks the real-time CPU Utilization of the RDS instance, and then set up a custom CloudWatch dashboard to view the metrics.\n",
    "\n",
    "- Use Amazon CloudWatch to monitor the CPU Utilization of your database.\n"
   ],
   "cell_type": "markdown",
   "metadata": {}
  },
  {
   "cell_type": "code",
   "execution_count": null,
   "metadata": {},
   "outputs": [],
   "source": [
    "#collapse\n",
    "answers = '''️\n",
    "- Check the CPU% and MEM% metrics which are readily available in the Amazon RDS console that shows the percentage of the CPU bandwidth and total memory consumed by each database process of your RDS instance.\n",
    "\n",
    "✔️Enable Enhanced Monitoring in RDS.\n",
    "\n",
    "- Create a script that collects and publishes custom metrics to CloudWatch, which tracks the real-time CPU Utilization of the RDS instance, and then set up a custom CloudWatch dashboard to view the metrics.\n",
    "\n",
    "- Use Amazon CloudWatch to monitor the CPU Utilization of your database.\n",
    "'''"
   ]
  },
  {
   "source": [
    "> A Forex trading platform, which frequently processes and stores global financial data every minute, is hosted in your on-premises data center and uses an Oracle database. Due to a recent cooling problem in their data center, the company urgently needs to migrate their infrastructure to AWS to improve the performance of their applications. As the Solutions Architect, you are responsible in ensuring that the database is properly migrated and should remain available in case of database server failure in the future.\n",
    "\n",
    "> Which of the following is the most suitable solution to meet the requirement?\n",
    "\n",
    "- Convert the database schema using the AWS Schema Conversion Tool and AWS Database Migration Service. Migrate the Oracle database to a non-cluster Amazon Aurora with a single instance.\n",
    "\n",
    "- Create an Oracle database in RDS with Multi-AZ deployments.\n",
    "\n",
    "- Launch an Oracle Real Application Clusters (RAC) in RDS.\n",
    "\n",
    "- Launch an Oracle database instance in RDS with Recovery Manager (RMAN) enabled.\n"
   ],
   "cell_type": "markdown",
   "metadata": {}
  },
  {
   "cell_type": "code",
   "execution_count": null,
   "metadata": {},
   "outputs": [],
   "source": [
    "#collapse\n",
    "answers = '''️\n",
    "- Convert the database schema using the AWS Schema Conversion Tool and AWS Database Migration Service. Migrate the Oracle database to a non-cluster Amazon Aurora with a single instance.\n",
    "\n",
    "✔️ Create an Oracle database in RDS with Multi-AZ deployments.\n",
    "\n",
    "- Launch an Oracle Real Application Clusters (RAC) in RDS.\n",
    "\n",
    "- Launch an Oracle database instance in RDS with Recovery Manager (RMAN) enabled.\n",
    "'''"
   ]
  },
  {
   "source": [
    "> You are building a new data analytics application in AWS which will be deployed in an Auto Scaling group of On-Demand EC2 instances and a MongoDB database. It is expected that the database will have high-throughput workloads performing small, random I/O operations. As the Solutions Architect, you are required to properly set up and launch the required resources in AWS.\n",
    "\n",
    "> Which of the following is the most suitable EBS type to use for your database?\n",
    "\n",
    "- Provisioned IOPS SSD (io1)\n",
    "- General Purpose SSD (gp2)\n",
    "- Throughput Optimized HDD (st1)\n",
    "- Cold HDD (sc1)\n"
   ],
   "cell_type": "markdown",
   "metadata": {}
  },
  {
   "cell_type": "code",
   "execution_count": null,
   "metadata": {},
   "outputs": [],
   "source": [
    "#collapse\n",
    "answers = '''️.\n",
    "✔️ Provisioned IOPS SSD (io1)\n",
    "    - \"Provisioned IOPS SSD (io1), deliver consistent performance whether an I/O operation is random or sequential\"\n",
    "    - https://udemy-images.s3.amazonaws.com/redactor/raw/2019-01-19_22-34-15-d1fd30e8eaa8701ddd964e5878e78242.png\n",
    "\n",
    "- General Purpose SSD (gp2)\n",
    "\n",
    "- Throughput Optimized HDD (st1)\n",
    "    - \"deliver optimal performance only when I/O operations are large and sequential\"\n",
    "\n",
    "- Cold HDD (sc1)\n",
    "\n",
    "'''"
   ]
  },
  {
   "source": [
    "> The company that you are working for has a highly available architecture consisting of an elastic load balancer and several EC2 instances configured with auto-scaling in three Availability Zones. You want to monitor your EC2 instances based on a particular metric, which is not readily available in CloudWatch.\n",
    "\n",
    "> Which of the following is a custom metric in CloudWatch which you have to manually set up?\n",
    "\n",
    "- Memory Utilization of an EC2 instance\n",
    "\n",
    "- CPU Utilization of an EC2 instance\n",
    "\n",
    "- Disk Reads activity of an EC2 instance\n",
    "\n",
    "- Network packets out of an EC2 instance\n",
    "\n"
   ],
   "cell_type": "markdown",
   "metadata": {}
  },
  {
   "cell_type": "code",
   "execution_count": null,
   "metadata": {},
   "outputs": [],
   "source": [
    "#collapse\n",
    "answers = '''️.\n",
    "✔️ Memory Utilization of an EC2 instance\n",
    "    - If you haven't set up the cloudwatch agent, you can prepare custom metrics with a perl script\n",
    "    - https://aws.amazon.com/products/databases/\n",
    "\n",
    "- CPU Utilization of an EC2 instance\n",
    "\n",
    "- Disk Reads activity of an EC2 instance\n",
    "\n",
    "- Network packets out of an EC2 instance\n",
    "'''"
   ]
  },
  {
   "source": [
    "## 11. Tutorials DOJO - 19/09/20 - Timed Set 2 All Modules - 78%\n",
    "\n",
    "| Result                                 | FAIL    |\n",
    "|----------------------------------------|---------|\n",
    "| Mark                                   | 78\\.92% |\n",
    "| Attempted                              | 65      |\n",
    "| Correct                                | 50      |\n",
    "| Module Breakdown                       |         |\n",
    "| \\- Resillient Architectures            | 69\\.23% |\n",
    "| \\- High Performing Architectures       | 91\\.67%  |\n",
    "| \\- Secure Applications & Architectures | 82\\.35% |\n",
    "| \\- Cost Optimised Architectures       | 70%      |"
   ],
   "cell_type": "markdown",
   "metadata": {}
  },
  {
   "source": [
    "> A media company has two VPCs: VPC-1 and VPC-2 with peering connection between each other. VPC-1 only contains private subnets while VPC-2 only contains public subnets. The company uses a single AWS Direct Connect connection and a virtual interface to connect their on-premises network with VPC-1.\n",
    "\n",
    "> Which of the following options increase the fault tolerance of the connection to VPC-1? (Select TWO.)\n",
    "\n",
    "- Use the AWS VPN CloudHub to create a new AWS Direct Connect connection and private virtual interface in the same region as VPC-2.\n",
    "\n",
    "- Establish another AWS Direct Connect connection and private virtual interface in the same AWS region as VPC-1.\n",
    "\n",
    "- Establish a hardware VPN over the Internet between VPC-1 and the on-premises network.\n",
    "\n",
    "- Establish a hardware VPN over the Internet between VPC-2 and the on-premises network.\n",
    "\n",
    "- Establish a new AWS Direct Connect connection and private virtual interface in the same region as VPC-2."
   ],
   "cell_type": "markdown",
   "metadata": {}
  },
  {
   "cell_type": "code",
   "execution_count": null,
   "metadata": {},
   "outputs": [],
   "source": [
    "#collapse\n",
    "answers = '''️.\n",
    "- Use the AWS VPN CloudHub to create a new AWS Direct Connect connection and private virtual interface in the same region as VPC-2.\n",
    "\n",
    "- Establish another AWS Direct Connect connection and private virtual interface in the same AWS region as VPC-1.\n",
    "\n",
    "✔️ Establish a hardware VPN over the Internet between VPC-1 and the on-premises network.\n",
    "\n",
    "✔️ Establish a hardware VPN over the Internet between VPC-2 and the on-premises network.\n",
    "    - Because Edge to edge routing isn't supported, if either VPC as an AWS direct connect connection to a corporate network, the only thing that's possible in the options to extend is with a hardware VPN solution or establish another AWS direct connection connection.\n",
    "    - https://d1.awsstatic.com/whitepapers/building-a-scalable-and-secure-multi-vpc-aws-network-infrastructure.pdf\n",
    "\n",
    "- Establish a new AWS Direct Connect connection and private virtual interface in the same region as VPC-2.\n",
    "'''"
   ]
  },
  {
   "source": [
    "> A company is planning to launch an application which requires a data warehouse that will be used for their infrequently accessed data. You need to use an EBS Volume that can handle large, sequential I/O operations.\n",
    "\n",
    "> Which of the following is the most cost-effective storage type that you should use to meet the requirement?\n",
    "\n",
    "- EBS General Purpose SSD (gp2)\n",
    "- Cold HDD (sc1)\n",
    "- Provisioned IOPS SSD (io1)\n",
    "- Throughput Optimized HDD (st1)\n"
   ],
   "cell_type": "markdown",
   "metadata": {}
  },
  {
   "cell_type": "code",
   "execution_count": null,
   "metadata": {},
   "outputs": [],
   "source": [
    "#collapse\n",
    "answers = '''️.\n",
    "- EBS General Purpose SSD (gp2)\n",
    "\n",
    "✔️ Cold HDD (sc1)\n",
    "    - \"provide low-cost magnetic storage that define performance in throughput rather than IOPS. Good fit for large, sequential cold-data workloads\"\n",
    "    - https://docs.aws.amazon.com/AWSEC2/latest/UserGuide/ebs-volume-types.html\n",
    "\n",
    "- Provisioned IOPS SSD (io1)\n",
    "\n",
    "- Throughput Optimized HDD (st1)\n",
    "'''"
   ]
  },
  {
   "source": [
    "> An online events registration system is hosted in AWS and uses ECS to host its front-end tier and a Multi-AZ RDS for its database tier, which also has a standby replica. What are the events that will make Amazon RDS automatically perform a failover to the standby replica? (Select TWO.)\n",
    "\n",
    "- Loss of availability in primary Availability Zone\n",
    "\n",
    "- Compute unit failure on secondary DB instance\n",
    "\n",
    "- Storage failure on secondary DB instance\n",
    "\n",
    "- Storage failure on primary\n",
    "\n",
    "- In the event of Read Replica failure"
   ],
   "cell_type": "markdown",
   "metadata": {}
  },
  {
   "cell_type": "code",
   "execution_count": null,
   "metadata": {},
   "outputs": [],
   "source": [
    "- Loss of availability in primary Availability Zone\n",
    "\n",
    "- Compute unit failure on secondary DB instance\n",
    "\n",
    "- Storage failure on secondary DB instance\n",
    "\n",
    "- Storage failure on primary\n",
    "\n",
    "- In the event of Read Replica failure\n"
   ]
  },
  {
   "cell_type": "code",
   "execution_count": null,
   "metadata": {},
   "outputs": [],
   "source": [
    "#collapse\n",
    "answers = '''️.\n",
    "✔️ Loss of availability in primary Availability Zone\n",
    "    - \"Automatic failover only occurs if the primary database is the one that is affected.\"\n",
    "    - https://docs.aws.amazon.com/AmazonRDS/latest/UserGuide/Concepts.MultiAZ.html#Concepts.MultiAZ.Failover\n",
    "\n",
    "- Compute unit failure on secondary DB instance\n",
    "    - \"Does not affect the primary database\"\n",
    "\n",
    "- Storage failure on secondary DB instance\n",
    "    - \"Does not affect the primary database\"\n",
    "\n",
    "✔️ Storage failure on primary\n",
    "    - https://tutorialsdojo.com/amazon-relational-database-service-amazon-rds/\n",
    "\n",
    "\n",
    "- In the event of Read Replica failure\n",
    "    - \"The high-availability feature is not a scaling solution for read-only scenarios; you cannot use a standby replica to serve read traffic\"\n",
    "'''"
   ]
  },
  {
   "source": [
    "> Your company has a top priority requirement to monitor a few database metrics and then afterwards, send email notifications to the Operations team in case there is an issue. Which AWS services can accomplish this requirement? (Select TWO.)\n",
    "\n",
    "- Amazon Simple Email Service\n",
    "\n",
    "- Amazon CloudWatch\n",
    "\n",
    "- Amazon Simple Queue Service (SQS)\n",
    "\n",
    "- Amazon EC2 Instance with a running Berkeley Internet Name Domain (BIND) Server.\n",
    "\n",
    "- Amazon Simple Notification Service (SNS)"
   ],
   "cell_type": "markdown",
   "metadata": {}
  },
  {
   "cell_type": "code",
   "execution_count": null,
   "metadata": {},
   "outputs": [],
   "source": [
    "#collapse\n",
    "answers = '''️.\n",
    "- Amazon Simple Email Service\n",
    "\n",
    "✔️ Amazon CloudWatch\n",
    "    - \"you can use Amazon CloudWatch to monitor the database and then Amazon SNS to send the emails to the Operations team\"\n",
    "    - https://tutorialsdojo.com/amazon-cloudwatch/\n",
    "\n",
    "❌ Amazon Simple Queue Service (SQS)\n",
    "    - \"SQS is a fully-managed message queuing service. It does not monitor applications nor send email notifications unlike SES.\"\n",
    "\n",
    "- Amazon EC2 Instance with a running Berkeley Internet Name Domain (BIND) Server.\n",
    "\n",
    "✔️ Amazon Simple Notification Service (SNS)\n",
    "    - \"SNS is a highly available, durable, secure, fully managed pub/sub messaging service that enables you to decouple microservices, distributed systems, and serverless applications.\"\n",
    "'''"
   ]
  },
  {
   "source": [
    "> Your customer is building an internal application that serves as a repository for images uploaded by a couple of users. Whenever a user uploads an image, it would be sent to Kinesis for processing before it is stored in an S3 bucket. Afterwards, if the upload was successful, the application will return a prompt telling the user that the upload is successful. The entire processing typically takes about 5 minutes to finish.\n",
    "\n",
    "> Which of the following options will allow you to asynchronously process the request to the application from upload request to Kinesis, S3, and return reply, in the most cost-effective manner?\n",
    "\n",
    "- Use a combination of SQS to queue the requests and then asynchronously process them using On-Demand EC2 Instances.\n",
    "\n",
    "- Use a combination of SNS to buffer the requests and then asynchronously process them using On-Demand EC2 Instances.\n",
    "\n",
    "- Create a Lambda function that will asynchronously process the requests.\n",
    "\n",
    "- Use a combination of Lambda and Step Functions to orchestrate service components and asynchronously process the requests."
   ],
   "cell_type": "markdown",
   "metadata": {}
  },
  {
   "cell_type": "code",
   "execution_count": null,
   "metadata": {},
   "outputs": [],
   "source": [
    "#collapse\n",
    "answers = '''️.\n",
    "- Use a combination of SQS to queue the requests and then asynchronously process them using On-Demand EC2 Instances.\n",
    "\n",
    "- Use a combination of SNS to buffer the requests and then asynchronously process them using On-Demand EC2 Instances.\n",
    "\n",
    "✔️ Create a Lambda function that will asynchronously process the requests.\n",
    "\n",
    "❌  Use a combination of Lambda and Step Functions to orchestrate service components and asynchronously process the requests.\n",
    "    - \" the AWS Step Functions service lets you coordinate multiple AWS services into serverless workflows so you can build and update apps quickly. Although this can be a valid solution, it is not cost-effective since the application does not have a lot of components to orchestrate\"\n",
    "'''"
   ]
  },
  {
   "source": [
    "> You are working for a commercial bank as an AWS Infrastructure Engineer handling the forex trading application of the bank. You have an Auto Scaling group of EC2 instances that allow your company to cope up with the current demand of traffic and achieve cost-efficiency. You want the Auto Scaling group to behave in such a way that it will follow a predefined set of parameters before it scales down the number of EC2 instances, which protects your system from unintended slowdown or unavailability.\n",
    "\n",
    "> Which of the following statements are true regarding the cooldown period? (Select TWO.)\n",
    "\n",
    "- It ensures that the Auto Scaling group launches or terminates additional EC2 instances without any downtime.\n",
    "\n",
    "- It ensures that before the Auto Scaling group scales out, the EC2 instances have an ample time to cooldown.\n",
    "\n",
    "- It ensures that the Auto Scaling group does not launch or terminate additional EC2 instances before the previous scaling activity takes effect.\n",
    "\n",
    "- Its default value is 600 seconds.\n",
    "\n",
    "- Its default value is 300 seconds."
   ],
   "cell_type": "markdown",
   "metadata": {}
  },
  {
   "cell_type": "code",
   "execution_count": null,
   "metadata": {},
   "outputs": [],
   "source": [
    "#collapse\n",
    "answers = '''️.\n",
    "- It ensures that the Auto Scaling group launches or terminates additional EC2 instances without any downtime.\n",
    "\n",
    "- It ensures that before the Auto Scaling group scales out, the EC2 instances have an ample time to cooldown.\n",
    "\n",
    "✔️ It ensures that the Auto Scaling group does not launch or terminate additional EC2 instances before the previous scaling activity takes effect.\n",
    "    - \"The cooldown period is a configurable setting for your Auto Scaling group that helps to ensure that it doesn’t launch or terminate additional instances before the previous scaling activity\"\n",
    "    - \n",
    "\n",
    "- Its default value is 600 seconds.\n",
    "\n",
    "✔️ Its default value is 300 seconds.\n",
    "    - https://tutorialsdojo.com/aws-auto-scaling/\n",
    "'''"
   ]
  },
  {
   "source": [
    "> As part of the Business Continuity Plan of your company, your IT Director instructed you to set up an automated backup of all of the EBS Volumes for your EC2 instances as soon as possible.\n",
    "\n",
    "> What is the fastest and most cost-effective solution to automatically back up all of your EBS Volumes?\n",
    "\n",
    "- Set your Amazon Storage Gateway with EBS volumes as the data source and store the backups in your on-premises servers through the storage gateway.\n",
    "\n",
    "- For an automated solution, create a scheduled job that calls the \"create-snapshot\" command via the AWS CLI to take a snapshot of production EBS volumes periodically.\n",
    "\n",
    "- Use Amazon Data Lifecycle Manager (Amazon DLM) to automate the creation of EBS snapshots.\n",
    "\n",
    "- Use an EBS-cycle policy in Amazon S3 to automatically back up the EBS volumes."
   ],
   "cell_type": "markdown",
   "metadata": {}
  },
  {
   "cell_type": "code",
   "execution_count": null,
   "metadata": {},
   "outputs": [],
   "source": [
    "#collapse\n",
    "answers = '''️.\n",
    "- Set your Amazon Storage Gateway with EBS volumes as the data source and store the backups in your on-premises servers through the storage gateway.\n",
    "\n",
    "- For an automated solution, create a scheduled job that calls the \"create-snapshot\" command via the AWS CLI to take a snapshot of production EBS volumes periodically.\n",
    "\n",
    "✔️ Use Amazon Data Lifecycle Manager (Amazon DLM) to automate the creation of EBS snapshots.\n",
    "    - \"..to automate the creation, retention, and deletion of snapshots taken to back up your Amazon EBS volumes\"\n",
    "    - https://docs.aws.amazon.com/AWSEC2/latest/UserGuide/snapshot-lifecycle.html#dlm-elements\n",
    "\n",
    "\n",
    "- Use an EBS-cycle policy in Amazon S3 to automatically back up the EBS volumes\n",
    "'''"
   ]
  },
  {
   "cell_type": "code",
   "execution_count": null,
   "metadata": {},
   "outputs": [],
   "source": [
    "> You are working for a University as their AWS Consultant. They want to have a disaster recovery strategy in AWS for mission-critical applications after suffering a disastrous outage wherein they lost student and employee records. They don’t want this to happen again but at the same time want to minimize the monthly costs. You are instructed to set up a minimal version of the application that is always available in case of any outages. The DR site should only run the most critical core elements of your system in AWS to save cost which can be rapidly upgraded to a full-scale production environment in the event of system outages.\n",
    "\n",
    "> Which of the following disaster recovery architectures is the most cost-effective type to use in this scenario?\n",
    "\n",
    "- Warm Standby\n",
    "\n",
    "- Pilot Light\n",
    "\n",
    "- Backup & Restore\n",
    "\n",
    "- Multi Site"
   ]
  },
  {
   "cell_type": "code",
   "execution_count": null,
   "metadata": {},
   "outputs": [],
   "source": [
    "#collapse\n",
    "answers = '''️.\n",
    "- Warm Standby\n",
    "\n",
    "✔️ Pilot Light\n",
    "    - https://tutorialsdojo.com/backup-and-restore-vs-pilot-light-vs-warm-standby-vs-multi-site/\n",
    "\n",
    "- Backup & Restore\n",
    "\n",
    "- Multi Site\n",
    "'''"
   ]
  },
  {
   "source": [
    "> One member of your DevOps team consulted you about a connectivity problem in one of your Amazon EC2 instances. The application architecture is initially set up with four EC2 instances, each with an EIP address that all belong to a public non-default subnet. You launched another instance to handle the increasing workload of your application. The EC2 instances also belong to the same security group. Everything works well as expected except for one of the EC2 instances which is not able to send nor receive traffic over the Internet.\n",
    "\n",
    "> Which of the following is the MOST likely reason for this issue?\n",
    "\n",
    "- The EC2 instance does not have a public IP address associated with it.\n",
    "\n",
    "- The EC2 instance is running in an Availability Zone that is not connected to an Internet gateway.\n",
    "\n",
    "- The EC2 instance does not have a private IP address associated with it.\n",
    "\n",
    "- The route table is not properly configured to allow traffic to and from the Internet through the Internet gateway."
   ],
   "cell_type": "markdown",
   "metadata": {}
  },
  {
   "cell_type": "code",
   "execution_count": null,
   "metadata": {},
   "outputs": [],
   "source": [
    "#collapse\n",
    "answers = '''️.\n",
    "✔️ The EC2 instance does not have a public IP address associated with it.\n",
    "    - \"you must assign a globally-unique public IPv4 address to your instance.\"\n",
    "    - https://docs.aws.amazon.com/vpc/latest/userguide/vpc-ip-addressing.html#vpc-ip-addressing-subnet\n",
    "\n",
    "- The EC2 instance is running in an Availability Zone that is not connected to an Internet gateway.\n",
    "\n",
    "- The EC2 instance does not have a private IP address associated with it.\n",
    "\n",
    "- The route table is not properly configured to allow traffic to and from the Internet through the Internet gateway.\n",
    "    - \"incorrect because the other three instances, which are associated with the same route table and security group, do not have any issues.\"\n",
    "'''"
   ]
  },
  {
   "source": [
    "> Both historical records and frequently accessed data are stored on an on-premises storage system. The amount of current data is growing at an exponential rate. As the storage’s capacity is nearing its limit, the company’s Solutions Architect has decided to move the historical records to AWS to free up space for the active data.\n",
    "\n",
    "> Which of the following architectures deliver the best solution in terms of cost and operational management?\n",
    "\n",
    "- Use AWS DataSync to move the historical records from on-premises to AWS. Choose Amazon S3 Glacier Deep Archive to be the destination for the data.\n",
    "\n",
    "- Use AWS Storage Gateway to move the historical records from on-premises to AWS. Choose Amazon S3 Glacier Deep Archive to be the destination for the data.\n",
    "\n",
    "- Use AWS DataSync to move the historical records from on-premises to AWS. Choose Amazon S3 Standard to be the destination for the data. Modify the S3 lifecycle configuration to move the data from the Standard tier to Amazon S3 Glacier Deep Archive after 30 days.\n",
    "\n",
    "- Use AWS Storage Gateway to move the historical records from on-premises to AWS. Choose Amazon S3 Glacier to be the destination for the data. Modify the S3 lifecycle configuration to move the data from the Standard tier to Amazon S3 Glacier Deep Archive after 30 days."
   ],
   "cell_type": "markdown",
   "metadata": {}
  },
  {
   "cell_type": "code",
   "execution_count": null,
   "metadata": {},
   "outputs": [],
   "source": [
    "#collapse\n",
    "answers = '''️.\n",
    "✔️ Use AWS DataSync to move the historical records from on-premises to AWS. Choose Amazon S3 Glacier Deep Archive to be the destination for the data.\n",
    "    - \"AWS DataSync makes it simple and fast to move hundreds of terrabytes of data between on-premises storage and Amazon S3, Amazon Elastic File System (Amazon EFS), or Amazon FSx for Windows File Server at a quicker rate than 3rd party tools or direct connect \"\n",
    "\n",
    "- Use AWS Storage Gateway to move the historical records from on-premises to AWS. Choose Amazon S3 Glacier Deep Archive to be the destination for the data.\n",
    "\n",
    "❌ Use AWS DataSync to move the historical records from on-premises to AWS. Choose Amazon S3 Standard to be the destination for the data. Modify the S3 lifecycle configuration to move the data from the Standard tier to Amazon S3 Glacier Deep Archive after 30 days.\n",
    "    - \"can move directly to Glacier. No need to deal with a lifecycle policy'\n",
    "\n",
    "❌ Use AWS Storage Gateway to move the historical records from on-premises to AWS. Choose Amazon S3 Glacier to be the destination for the data. Modify the S3 lifecycle configuration to move the data from the Standard tier to Amazon S3 Glacier Deep Archive after 30 days.\n",
    "    - \"Storage gateway not suitable for large sets of data to AWS and optimizes data transfer by sending only changed data.\"\n",
    "'''"
   ]
  },
  {
   "source": [
    "> To protect your enterprise applications against unauthorized access, you configured multiple rules for your Network ACLs in your VPC. How are the access rules evaluated?\n",
    "\n",
    "- Network ACL Rules are evaluated by rule number, from lowest to highest, and executed after all rules are checked for conflicting allow/deny rules.\n",
    "\n",
    "- Network ACL Rules are evaluated by rule number, from highest to lowest and are executed immediately when a matching allow/deny rule is found.\n",
    "\n",
    "- By default, all Network ACL Rules are evaluated before any traffic is allowed or denied.\n",
    "\n",
    "- Network ACL Rules are evaluated by rule number, from lowest to highest, and executed immediately when a matching allow/deny rule is found."
   ],
   "cell_type": "markdown",
   "metadata": {}
  },
  {
   "cell_type": "code",
   "execution_count": null,
   "metadata": {},
   "outputs": [],
   "source": [
    "#collapse\n",
    "answers = '''️.\n",
    "- Network ACL Rules are evaluated by rule number, from lowest to highest, and executed after all rules are checked for conflicting allow/deny rules.\n",
    "\n",
    "- Network ACL Rules are evaluated by rule number, from highest to lowest and are executed immediately when a matching allow/deny rule is found.\n",
    "\n",
    "❌ By default, all Network ACL Rules are evaluated before any traffic is allowed or denied.\n",
    "\n",
    "✔️ Network ACL Rules are evaluated by rule number, from lowest to highest, and executed immediately when a matching allow/deny rule is found.\n",
    "    - http://docs.aws.amazon.com/AmazonVPC/latest/UserGuide/VPC_ACLs.html\n",
    "    - https://tutorialsdojo.com/security-group-vs-nacl/\n",
    "'''"
   ]
  },
  {
   "source": [
    "![Security Group vs NACL](https://web.archive.org/web/20200920101055if_/https://k2y3h8q6.stackpathcdn.com/wp-content/uploads/2019/01/SGNCL-latest-279x300.jpg)"
   ],
   "cell_type": "markdown",
   "metadata": {}
  },
  {
   "source": [
    "> You are working as a Solutions Architect for an investment bank and your Chief Technical Officer intends to migrate all of your applications to AWS. You are looking for block storage to store all of your data and have decided to go with EBS volumes. Your boss is worried that EBS volumes are not appropriate for your workloads due to compliance requirements, downtime scenarios, and IOPS performance.\n",
    "\n",
    "> Which of the following are valid points in proving that EBS is the best service to use for your migration? (Select TWO.)\n",
    "\n",
    "- Amazon EBS provides the ability to create snapshots (backups) of any EBS volume and write a copy of the data in the volume to Amazon RDS, where it is stored redundantly in multiple Availability Zones\n",
    "\n",
    "- EBS volumes can be attached to any EC2 Instance in any Availability Zone.\n",
    "\n",
    "- When you create an EBS volume in an Availability Zone, it is automatically replicated on a separate AWS region to prevent data loss due to a failure of any single hardware component.\n",
    "\n",
    "- EBS volumes support live configuration changes while in production which means that you can modify the volume type, volume size, and IOPS capacity without service interruptions.\n",
    "\n",
    "- An EBS volume is off-instance storage that can persist independently from the life of an instance."
   ],
   "cell_type": "markdown",
   "metadata": {}
  },
  {
   "cell_type": "code",
   "execution_count": null,
   "metadata": {},
   "outputs": [],
   "source": [
    "#collapse\n",
    "answers = '''️.\n",
    "- Amazon EBS provides the ability to create snapshots (backups) of any EBS volume and write a copy of the data in the volume to Amazon RDS, where it is stored redundantly in multiple Availability Zones\n",
    "\n",
    "❌ EBS volumes can be attached to any EC2 Instance in any Availability Zone.\n",
    "    - \"EBS volumes can only be attached to an EC2 instance in the same Availability Zone.\"\n",
    "\n",
    "- When you create an EBS volume in an Availability Zone, it is automatically replicated on a separate AWS region to prevent data loss due to a failure of any single hardware component.\n",
    "\n",
    "✔️ EBS volumes support live configuration changes while in production which means that you can modify the volume type, volume size, and IOPS capacity without service interruptions.\n",
    "\n",
    "✔️ An EBS volume is off-instance storage that can persist independently from the life of an instance.\n",
    "    - \"You can specify not to terminate the EBS volume when you terminate the EC2 instance during instance creation\"\n",
    "'''"
   ]
  },
  {
   "source": [
    "> You are helping out a new DevOps Engineer to design her first architecture in AWS. She is planning to develop a highly available and fault-tolerant architecture which is composed of an Elastic Load Balancer and an Auto Scaling group of EC2 instances deployed across multiple Availability Zones. This will be used by an online accounting application which requires path-based routing, host-based routing, and bi-directional communication channels using WebSockets.\n",
    "\n",
    "> Which is the most suitable type of Elastic Load Balancer that you should recommend for her to use?\n",
    "\n",
    "- Classic Load Balancer\n",
    "\n",
    "- Network Load Balancer\n",
    "\n",
    "- Either a Classic Load Balancer or a Network Load Balancer\n",
    "\n",
    "- Application Load Balancer"
   ],
   "cell_type": "markdown",
   "metadata": {}
  },
  {
   "cell_type": "code",
   "execution_count": null,
   "metadata": {},
   "outputs": [],
   "source": [
    "#collapse\n",
    "answers = '''️\n",
    "- Classic Load Balancer\n",
    "\n",
    "❌ Network Load Balancer\n",
    "    - \"none of these support path-based routing and host-based routing\"\n",
    "\n",
    "- Either a Classic Load Balancer or a Network Load Balancer\n",
    "\n",
    "✔️ Application Load Balancer\n",
    "    - \"If you need flexible application management and TLS termination then we recommend that you use Application Load Balancer\"\n",
    "    https://tutorialsdojo.com/application-load-balancer-vs-network-load-balancer-vs-classic-load-balancer/\n",
    "'''"
   ]
  },
  {
   "source": [
    "![Load Balancer Comparison](https://web.archive.org/web/20200920103152if_/https://k2y3h8q6.stackpathcdn.com/wp-content/uploads/2018/12/ELBalancer-452x1024.jpg)"
   ],
   "cell_type": "markdown",
   "metadata": {}
  },
  {
   "source": [
    "> A web application, which is used by your clients around the world, is hosted in an Auto Scaling group of EC2 instances behind a Classic Load Balancer. You need to secure your application by allowing multiple domains to serve SSL traffic over the same IP address.\n",
    "\n",
    "> Which of the following should you do to meet the above requirement?\n",
    "\n",
    "- Use an Elastic IP and upload multiple 3rd party certificates in your Classic Load Balancer using the AWS Certificate Manager.\n",
    "\n",
    "- Generate an SSL certificate with AWS Certificate Manager and create a CloudFront web distribution. Associate the certificate with your web distribution and enable the support for Server Name Indication (SNI).\n",
    "\n",
    "- It is not possible to allow multiple domains to serve SSL traffic over the same IP address in AWS.\n",
    "\n",
    "- Use Server Name Indication (SNI) on your Classic Load Balancer by adding multiple SSL certificates to allow multiple domains to serve SSL traffic.\n"
   ],
   "cell_type": "markdown",
   "metadata": {}
  },
  {
   "cell_type": "code",
   "execution_count": null,
   "metadata": {},
   "outputs": [],
   "source": [
    "#collapse\n",
    "answers = '''️\n",
    "- Use an Elastic IP and upload multiple 3rd party certificates in your Classic Load Balancer using the AWS Certificate Manager.\n",
    "\n",
    "✔️ Generate an SSL certificate with AWS Certificate Manager and create a CloudFront web distribution. Associate the certificate with your web distribution and enable the support for Server Name Indication (SNI).\n",
    "    - \"Server Name Indication Custom SSL allows multiple domains to serve SSL traffic over the same IP address by including the hostname which the viewers are trying to connect to.\"\n",
    "    - \"Some older browsers may not support SNI\"\n",
    "    - https://tutorialsdojo.com/sni-custom-ssl-vs-dedicated-ip-custom-ssl/\n",
    "\n",
    "- It is not possible to allow multiple domains to serve SSL traffic over the same IP address in AWS.\n",
    "    - \"incorrect because AWS does support the use of Server Name Indication (SNI).\"\n",
    "\n",
    "- Use Server Name Indication (SNI) on your Classic Load Balancer by adding multiple SSL certificates to allow multiple domains to serve SSL traffic.\n",
    "    - \"incorrect because AWS does support the use of Server Name Indication (SNI).\"\n",
    "'''"
   ]
  },
  {
   "source": [
    "> You are working for an advertising company as their Senior Solutions Architect handling the S3 storage data. Your company has terabytes of data sitting on AWS S3 standard storage class, which accumulates significant operational costs. The management wants to cut down on the cost of their cloud infrastructure so you were instructed to switch to Glacier to lessen the cost per GB storage.\n",
    "\n",
    "> The Amazon S3 Glacier storage service is primarily used for which use case? (Select TWO.)\n",
    "\n",
    "- Storing cached session data\n",
    "\n",
    "- Storing infrequently accessed data\n",
    "\n",
    "- Used for active database storage\n",
    "\n",
    "- Used as a data warehouse\n",
    "\n",
    "- Storing Data archives"
   ],
   "cell_type": "markdown",
   "metadata": {}
  },
  {
   "cell_type": "code",
   "execution_count": null,
   "metadata": {},
   "outputs": [],
   "source": [
    "#collapse\n",
    "answers = '''️\n",
    "- Storing cached session data\n",
    "\n",
    "✔️ Storing infrequently accessed data\n",
    "    - \"It is advisable to transition the standard data to infrequent access first then transition it to Amazon Glacier. You can specify in the lifecycle rule the time it will sit in standard tier and infrequent access.\"\n",
    "    - https://tutorialsdojo.com/amazon-glacier/\n",
    "\n",
    "- Used for active database storage\n",
    "\n",
    "❌ Used as a data warehouse\n",
    "\n",
    "✔️ Storing Data archives\n",
    "'''"
   ]
  },
  {
   "source": [
    "> An accounting application uses an RDS database configured with Multi-AZ deployments to improve availability. What would happen to RDS if the primary database instance fails?\n",
    "\n",
    "- The IP address of the primary DB instance is switched to the standby DB instance.\n",
    "\n",
    "- The primary database instance will reboot.\n",
    "\n",
    "- The canonical name record (CNAME) is switched from the primary to standby instance.\n",
    "\n",
    "- A new database instance is created in the standby Availability Zone."
   ],
   "cell_type": "markdown",
   "metadata": {}
  },
  {
   "cell_type": "code",
   "execution_count": null,
   "metadata": {},
   "outputs": [],
   "source": [
    "#collapse\n",
    "answers = '''️\n",
    "❌ The IP address of the primary DB instance is switched to the standby DB instance.\n",
    "    - \"since IP addresses are per subnet, and subnets cannot span multiple AZs.\"\n",
    "\n",
    "- The primary database instance will reboot.\n",
    "\n",
    "✔️ The canonical name record (CNAME) is switched from the primary to standby instance.\n",
    "    - \".. which in turn is promoted to become the new primary\"\n",
    "    - https://aws.amazon.com/rds/details/multi-az/\n",
    "\n",
    "\n",
    "- A new database instance is created in the standby Availability Zone.\n",
    "'''"
   ]
  },
  {
   "source": [
    "> A messaging application in ap-northeast-1 region uses m4.2xlarge instance to accommodate 75 percent of users from Tokyo and Seoul. It uses a cheaper m4.large instance in ap-southeast-1 to accommodate the rest of users from Manila and Singapore.\n",
    "\n",
    "> As a Solutions Architect, what routing policy should you use to route traffic to your instances based on the location of your users and instances?\n",
    "\n",
    "- Geoproximity Routing\n",
    "\n",
    "- Geolocation Routing\n",
    "\n",
    "- Weighted Routing\n",
    "\n",
    "- Latency Routing"
   ],
   "cell_type": "markdown",
   "metadata": {}
  },
  {
   "cell_type": "code",
   "execution_count": null,
   "metadata": {},
   "outputs": [],
   "source": [
    "#collapse\n",
    "answers = '''️\n",
    " ✔️ Geoproximity Routing\n",
    "    - \"Routing policy that lets you route traffic based on geographic location of users and resources\" Can use a bias to route more or less traffic to given resource\n",
    "    - \"Routing policy to drive traffic to specific instances\"\n",
    "    - https://tutorialsdojo.com/latency-routing-vs-geoproximity-routing-vs-geolocation-routing/\n",
    "\n",
    "❌ Geolocation Routing\n",
    "    - \"Lets you choose resource that serve traffic based on location of users\"\n",
    "\n",
    "- Weighted Routing\n",
    "\n",
    "- Latency Routing\n",
    "'''"
   ]
  },
  {
   "source": [
    "> You are an IT Consultant for an advertising company that is currently working on a proof of concept project that automatically provides SEO analytics for their clients. Your company has a VPC in AWS that operates in dual-stack mode in which IPv4 and IPv6 communication is allowed. You deployed the application to an Auto Scaling group of EC2 instances with an Application Load Balancer in front that evenly distributes the incoming traffic. You are ready to go live but you need to point your domain name (tutorialsdojo.com) to the Application Load Balancer.\n",
    "\n",
    "> In Route 53, which record types will you use to point the DNS name of the Application Load Balancer? (Select TWO.)\n",
    "\n",
    "- Alias with a type \"A\" record set\n",
    "\n",
    "- Alias with a type \"CNAME\" record set\n",
    "\n",
    "- Alias with a type \"AAAA\" record set\n",
    "\n",
    "- Non-Alias with a type \"A\" record set\n",
    "\n",
    "- Alias with a type of “MX” record set"
   ],
   "cell_type": "markdown",
   "metadata": {}
  },
  {
   "cell_type": "code",
   "execution_count": null,
   "metadata": {},
   "outputs": [],
   "source": [
    "\n",
    "#collapse\n",
    "answers = '''️\n",
    "✔️ Alias with a type \"A\" record set\n",
    "    - \" An alias record is a Route 53 extension to DNS. It’s similar to a CNAME record, but you can create an alias record both for the root domain, such as tutorialsdojo.com, and for subdomains\"\n",
    "\n",
    "❌ Alias with a type \"CNAME\" record set\n",
    "    - \"You can create CNAME records only for subdomains\"\n",
    "\n",
    "✔️ Alias with a type \"AAAA\" record set\n",
    "    - \"To enable IPv6 resolution, you would need to create a second resource record, tutorialsdojo.com ALIAS AAAA -> myelb.us-west-2.elb.amazonnaws.com, this is assuming your Elastic Load Balancer has IPv6 support\"\n",
    "    - https://tutorialsdojo.com/amazon-route-53/\n",
    "\n",
    "- Non-Alias with a type \"A\" record set\n",
    "\n",
    "- Alias with a type of “MX” record set\n",
    "'''"
   ]
  },
  {
   "source": [
    "> A software company has resources hosted in AWS and on-premises servers. You have been requested to create a decoupled architecture for applications which make use of both resources.\n",
    "\n",
    "> Which of the following options are valid? (Select TWO.)\n",
    "\n",
    "- Use Amazon Simple Decoupling Service to utilize both on-premises servers and EC2 instances for your decoupled application\n",
    "\n",
    "- Use SWF to utilize both on-premises servers and EC2 instances for your decoupled application\n",
    "\n",
    "- Use RDS to utilize both on-premises servers and EC2 instances for your decoupled application\n",
    "\n",
    "- Use DynamoDB to utilize both on-premises servers and EC2 instances for your decoupled application\n",
    "\n",
    "- Use SQS to utilize both on-premises servers and EC2 instances for your decoupled application"
   ],
   "cell_type": "markdown",
   "metadata": {}
  },
  {
   "cell_type": "code",
   "execution_count": null,
   "metadata": {},
   "outputs": [],
   "source": [
    "\n",
    "\n",
    "#collapse\n",
    "answers = '''️\n",
    "- Use Amazon Simple Decoupling Service to utilize both on-premises servers and EC2 instances for your decoupled application\n",
    "\n",
    "✔️ Use SWF to utilize both on-premises servers and EC2 instances for your decoupled application\n",
    "    - \"you can use for creating a decoupled architecture in AWS\"\n",
    "\n",
    "- Use RDS to utilize both on-premises servers and EC2 instances for your decoupled application\n",
    "\n",
    "- Use DynamoDB to utilize both on-premises servers and EC2 instances for your decoupled application\n",
    "\n",
    "✔️ Use SQS to utilize both on-premises servers and EC2 instances for your decoupled application\n",
    "    - https://tutorialsdojo.com/amazon-simple-workflow-swf-vs-aws-step-functions-vs-amazon-sqs/\n",
    "'''"
   ]
  },
  {
   "source": [
    "> A media company is setting up an ECS batch architecture for its image processing application. It will be hosted in an Amazon ECS Cluster with two ECS tasks that will handle image uploads from the users and image processing. The first ECS task will process the user requests, store the image in an S3 input bucket, and push a message to a queue. The second task reads from the queue, parses the message containing the object name, and then downloads the object. Once the image is processed and transformed, it will upload the objects to the S3 output bucket. To complete the architecture, the Solutions Architect must create a queue and the necessary IAM permissions for the ECS tasks.\n",
    "\n",
    "> Which of the following should the Architect do next?\n",
    "\n",
    "- Launch a new Amazon SQS queue and configure the second ECS task to read from it. Create an IAM role that the ECS tasks can assume in order to get access to the S3 buckets and SQS queue. Declare the IAM Role (`taskRoleArn`) in the task definition.\n",
    "\n",
    "- Launch a new Amazon AppStream 2.0 queue and configure the second ECS task to read from it. Create an IAM role that the ECS tasks can assume in order to get access to the S3 buckets and AppStream 2.0 queue. Declare the IAM Role (`taskRoleArn`) in the task definition.\n",
    "\n",
    "- Launch a new Amazon Kinesis Data Firehose and configure the second ECS task to read from it. Create an IAM role that the ECS tasks can assume in order to get access to the S3 buckets and Kinesis Data Firehose. Specify the ARN of the IAM Role in the (`taskDefinitionArn`) field of the task definition.\n",
    "\n",
    "- Launch a new Amazon MQ queue and configure the second ECS task to read from it. Create an IAM role that the ECS tasks can assume in order to get access to the S3 buckets and Amazon MQ queue. Set the (`EnableTaskIAMRole`) option to true in the task definition."
   ],
   "cell_type": "markdown",
   "metadata": {}
  },
  {
   "cell_type": "code",
   "execution_count": null,
   "metadata": {},
   "outputs": [],
   "source": [
    "#collapse\n",
    "answers = '''️\n",
    "✔️ Launch a new Amazon SQS queue and configure the second ECS task to read from it. Create an IAM role that the ECS tasks can assume in order to get access to the S3 buckets and SQS queue. Declare the IAM Role (`taskRoleArn`) in the task definition.\n",
    "    - \"Docker containers are particularly suited for batch job workloads. Batch jobs are often short-lived and embarrassingly parallel.\"\n",
    "    - \"..can take advantage of SQS scalability and reliability as the queue will automatically scale based on the incoming messages and message retention can be configured\"\n",
    "    - https://docs.aws.amazon.com/AmazonECS/latest/developerguide/common_use_cases.html\n",
    "\n",
    "- Launch a new Amazon AppStream 2.0 queue and configure the second ECS task to read from it. Create an IAM role that the ECS tasks can assume in order to get access to the S3 buckets and AppStream 2.0 queue. Declare the IAM Role (`taskRoleArn`) in the task definition.\n",
    "    - \"Amazon AppStream 2.0 is a fully managed application streaming service and can’t be used as a queue\"\n",
    "\n",
    "- Launch a new Amazon Kinesis Data Firehose and configure the second ECS task to read from it. Create an IAM role that the ECS tasks can assume in order to get access to the S3 buckets and Kinesis Data Firehose. Specify the ARN of the IAM Role in the (`taskDefinitionArn`) field of the task definition.\n",
    "\n",
    "- Launch a new Amazon MQ queue and configure the second ECS task to read from it. Create an IAM role that the ECS tasks can assume in order to get access to the S3 buckets and Amazon MQ queue. Set the (`EnableTaskIAMRole`) option to true in the task definition.\n",
    "    - \"primarily used as a managed message broker service and not a queue\"\n",
    "'''"
   ]
  },
  {
   "source": [
    "> A company has an enterprise web application hosted in an AWS Fargate cluster with an Amazon FSx for Lustre filesystem for its high performance computing workloads. A warm standby environment is running in another AWS region for disaster recovery. A Solutions Architect was assigned to design a system that will automatically route the live traffic to the disaster recovery (DR) environment only in the event that the primary application stack experiences an outage.\n",
    "\n",
    "> What should the Architect do to satisfy this requirement?\n",
    "\n",
    "- Set up a failover routing policy configuration in Route 53 by adding a health check on the primary service endpoint. Configure Route 53 to direct the DNS queries to the secondary record when the primary resource is unhealthy. Configure the network access control list and the route table to allow Route 53 to send requests to the endpoints specified in the health checks. Enable the Evaluate Target Health option by setting it to Yes.\n",
    "\n",
    "- Set up a CloudWatch Alarm to monitor the primary Route 53 DNS endpoint and create a custom Lambda function. Execute the ChangeResourceRecordSets API call using the function to initiate the failover to the secondary DNS record.\n",
    "\n",
    "- Set up a CloudWatch Events rule to monitor the primary Route 53 DNS endpoint and create a custom Lambda function. Execute the ChangeResourceRecordSets API call using the function to initiate the failover to the secondary DNS record.\n",
    "\n",
    "- Set up a Weighted routing policy configuration in Route 53 by adding health checks on both the primary stack and the DR environment. Configure the network access control list and the route table to allow Route 53 to send requests to the endpoints specified in the health checks. Enable the Evaluate Target Health option by setting it to Yes."
   ],
   "cell_type": "markdown",
   "metadata": {}
  },
  {
   "cell_type": "code",
   "execution_count": null,
   "metadata": {},
   "outputs": [],
   "source": [
    "#collapse\n",
    "answers = '''️\n",
    "✔️ Set up a failover routing policy configuration in Route 53 by adding a health check on the primary service endpoint. Configure Route 53 to direct the DNS queries to the secondary record when the primary resource is unhealthy. Configure the network access control list and the route table to allow Route 53 to send requests to the endpoints specified in the health checks. Enable the Evaluate Target Health option by setting it to Yes.\n",
    "    - When configuring the failover policy in Route53, it responds to DNS queries with the primary record until it is unhealthy (when it responds using the secondary record)\n",
    "    - https://tutorialsdojo.com/amazon-route-53/\n",
    "\n",
    "- Set up a CloudWatch Alarm to monitor the primary Route 53 DNS endpoint and create a custom Lambda function. Execute the ChangeResourceRecordSets API call using the function to initiate the failover to the secondary DNS record.\n",
    "\n",
    "- Set up a CloudWatch Events rule to monitor the primary Route 53 DNS endpoint and create a custom Lambda function. Execute the ChangeResourceRecordSets API call using the function to initiate the failover to the secondary DNS record.\n",
    "    - \"There is no direct way for CE events to monitor the status of Route 53 endpoints - you need to configure a health check instead.\"\n",
    "\n",
    "- Set up a Weighted routing policy configuration in Route 53 by adding health checks on both the primary stack and the DR environment. Configure the network access control list and the route table to allow Route 53 to send requests to the endpoints specified in the health checks. Enable the Evaluate Target Health option by setting it to Yes.\n",
    "    - \"Lets you choose how much traffic is routed to your resources but isn't a failover solution that will route traffic to the disaster recovery environment\"\n",
    "'''"
   ]
  }
 ],
 "metadata": {
  "kernelspec": {
   "display_name": "Python 3.7.2 64-bit",
   "language": "python",
   "name": "python_defaultSpec_1600077977895"
  },
  "language_info": {
   "file_extension": ".py",
   "mimetype": "text/x-python",
   "name": "python",
   "version": "3.7.2-final"
  }
 },
 "nbformat": 4,
 "nbformat_minor": 4
}