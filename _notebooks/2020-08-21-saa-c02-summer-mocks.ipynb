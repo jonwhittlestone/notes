{
 "cells": [
  {
   "cell_type": "markdown",
   "metadata": {},
   "source": [
    "# SAA-C02 AWS solutions architect question review\n",
    "> Notes on wrong questions\n",
    "\n",
    "- toc: true\n",
    "- badges: false\n",
    "- comments: true\n",
    "- categories: ['AWS', 'Revision']\n",
    "- image: https://i.imgur.com/s9blYpT.png"
   ]
  },
  {
   "cell_type": "markdown",
   "metadata": {},
   "source": [
    "<style>\n",
    "table {font-size:100%; white-space:inherit}\n",
    "table td {max-width:inherit}\n",
    "</style>\n",
    "\n",
    "With the O'Reilly subscription, there are some [practice AWS tests from Pearson](https://pearsontestprep.com/#/examsettings).\n",
    "\n",
    "The idea is that I can take [a mock exam](https://learning.oreilly.com/certifications/9780136791997/) covering all modules, and mock exams focusing on individual modules.\n",
    "\n",
    "To reference my past exams in the Pearson Interface visit **View Exam History** > **Question Review** and filter on **Incorrect Questions**\n"
   ]
  },
  {
   "cell_type": "markdown",
   "metadata": {},
   "source": [
    "## Mock 1 - 20/08/20 - All Modules - 58%\n",
    "\n",
    " Result  | FAIL     \n",
    "---------|----------\n",
    " Mark    | 58\\.46 % \n",
    " Correct | 38       \n",
    "\n",
    "\n",
    "\n",
    "\n"
   ]
  },
  {
   "cell_type": "code",
   "execution_count": null,
   "metadata": {},
   "outputs": [],
   "source": []
  },
  {
   "cell_type": "markdown",
   "metadata": {},
   "source": [
    "> What is the purpose of the VPC “Main” route table?\n",
    "\n",
    "\n",
    "- A default route table all subnets will leverage if a custom table is not defined and associated\n",
    "- All routes build off the main table, and both tables are evaluated simultaneously to create routes.\n",
    "- The main route table only applies to the default VPC to uniquely identify the default VPC route tables.\n",
    "- Main simply identifies the first route table."
   ]
  },
  {
   "cell_type": "code",
   "execution_count": null,
   "metadata": {},
   "outputs": [],
   "source": [
    "#collapse\n",
    "\n",
    "answers = '''\n",
    "✔️ A default route table all subnets will leverage if a custom table is not defined and associated\n",
    "- All routes build off the main table, and both tables are evaluated simultaneously to create routes.\n",
    "- The main route table only applies to the default VPC to uniquely identify the default VPC route tables.\n",
    "- Main simply identifies the first route table.\n",
    "'''"
   ]
  },
  {
   "cell_type": "markdown",
   "metadata": {},
   "source": [
    "> In what increments does Lambda charge?\n",
    "\n",
    "- 100ms\n",
    "- 1 second\n",
    "- 1 minute\n",
    "- 15 minutes\n"
   ]
  },
  {
   "cell_type": "code",
   "execution_count": null,
   "metadata": {},
   "outputs": [],
   "source": [
    "#collapse\n",
    "answers = '''\n",
    "✔️ 100ms\n",
    "- 1 second\n",
    "- 1 minute\n",
    "- 15 minutes\n",
    "'''"
   ]
  },
  {
   "cell_type": "markdown",
   "metadata": {},
   "source": [
    "> What service will evaluate VPC Flow Logs, CloudTrail Logs, as well as Route53 DNS Lookup logs and provide machine learning to identify both known and unknown threats?\n",
    "\n",
    "- AWS Inspector\n",
    "- AWS LogLearner\n",
    "- AWS Guard Duty\n",
    "- AWS Macie"
   ]
  },
  {
   "cell_type": "code",
   "execution_count": null,
   "metadata": {},
   "outputs": [],
   "source": [
    "#collapse\n",
    "answers = '''\n",
    "- AWS Inspector\n",
    "- AWS LogLearner\n",
    "✔️ AWS Guard Duty\n",
    "- AWS Macie\n",
    "'''"
   ]
  },
  {
   "cell_type": "markdown",
   "metadata": {},
   "source": [
    "> What is NOT an authentication element that the Security Token Service (STS) will issue?\n",
    "\n",
    "- Access Key ID\n",
    "- Authentication Token\n",
    "- Session Token\n",
    "- Secret Access Key"
   ]
  },
  {
   "cell_type": "code",
   "execution_count": null,
   "metadata": {},
   "outputs": [],
   "source": [
    "#collapse\n",
    "answers = '''\n",
    "- Access Key ID\n",
    "✔️ Authentication Token\n",
    "- Session Token\n",
    "- Secret Access Key\n",
    "'''"
   ]
  },
  {
   "cell_type": "markdown",
   "metadata": {},
   "source": [
    "> What is NOT a possible benefit of Direct Connect??\n",
    "\n",
    "- Cost Savings\n",
    "- Increased Security\n",
    "- Performance Improvement\n",
    "- Encrypted Communication"
   ]
  },
  {
   "cell_type": "code",
   "execution_count": null,
   "metadata": {},
   "outputs": [],
   "source": [
    "#collapse\n",
    "answers = '''\n",
    "- Cost Savings\n",
    "- Increased Security\n",
    "- Performance Improvement\n",
    "✔️ Encrypted Communication\n",
    "'''"
   ]
  },
  {
   "cell_type": "markdown",
   "metadata": {},
   "source": [
    "> What is not accurate about AWS Elastic Map Reduce (EMR) as a service?\n",
    "\n",
    "- EMR can run spark\n",
    "- EMR can be used as a NoSQL offering\n",
    "- EMR can be used as a Data Warehouse\n",
    "- EMR can be used as an ETL engine\n",
    "- EMR can only be used for sofware pre-defined for use with EMR"
   ]
  },
  {
   "cell_type": "code",
   "execution_count": null,
   "metadata": {},
   "outputs": [],
   "source": [
    "#collapse\n",
    "answers = '''\n",
    "- EMR can run spark\n",
    "- EMR can be used as a NoSQL offering\n",
    "- EMR can be used as a Data Warehouse\n",
    "- EMR can be used as an ETL engine\n",
    "✔️ EMR can only be used for sofware pre-defined for use with EMR\n",
    "'''"
   ]
  },
  {
   "cell_type": "markdown",
   "metadata": {},
   "source": [
    "> What statements are true about VPCs? (Choose 2)\n",
    "\n",
    "- Subnets can span availability zones\t\n",
    "- A VPC can have the same IP address range as another VPC in the same AWS account\n",
    "- A VPC can span AWS Regions\n",
    "- Secondary VPC CIDR blocks can be added after the VPC is created\n",
    "- If DHCP needs change in the VPC, you can deploy your own EC2 DHCP instance"
   ]
  },
  {
   "cell_type": "code",
   "execution_count": null,
   "metadata": {},
   "outputs": [],
   "source": [
    "#collapse\n",
    "answers = '''\n",
    "✔️ Subnets can span availability zones\t\n",
    "✔️ A VPC can have the same IP address range as another VPC in the same AWS account\n",
    "- A VPC can span AWS Regions\n",
    "- Secondary VPC CIDR blocks can be added after the VPC is created\n",
    "- If DHCP needs change in the VPC, you can deploy your own EC2 DHCP instance\n",
    "'''"
   ]
  },
  {
   "cell_type": "markdown",
   "metadata": {},
   "source": [
    "> When using Redshift Spectrum, what command will ‘mount’ S3 data to a table in Redshift?\n",
    "\n",
    "- S3 Mount Table\t\n",
    "- Create External Table\n",
    "- Create External Schema\n",
    "- Create S3 Table"
   ]
  },
  {
   "cell_type": "code",
   "execution_count": null,
   "metadata": {},
   "outputs": [],
   "source": [
    "#collapse\n",
    "answers = '''\n",
    "- S3 Mount Table\t\n",
    "✔️ Create External Table\n",
    "- Create External Schema\n",
    "- Create S3 Table\n",
    "'''"
   ]
  },
  {
   "cell_type": "markdown",
   "metadata": {},
   "source": [
    "> You have been surprised by your EBS and S3 storage costs and have realized you may have a problem to investigate. You identify that your EBS snapshots are consuming far more space than expected. What is likely a problem?\n",
    "\n",
    "- Snapshots are being taken too often\t\n",
    "- Snapshots are being performed on root/boot volumes\n",
    "- Snapshots are full backups only and will store excessive amounts\n",
    "- Snapshots are 2x the cost of EBS and could be operating as expected\n"
   ]
  },
  {
   "cell_type": "code",
   "execution_count": null,
   "metadata": {},
   "outputs": [],
   "source": [
    "#collapse\n",
    "answers = '''\n",
    "- Snapshots are being taken too often\t\n",
    "✔️ Snapshots are being performed on root/boot volumes\n",
    "- Snapshots are full backups only and will store excessive amounts\n",
    "- Snapshots are 2x the cost of EBS and could be operating as expected\n",
    "'''"
   ]
  },
  {
   "cell_type": "markdown",
   "metadata": {},
   "source": [
    "> Your development team wishes to have a tool they can use to push code into test and production systems. These systems both operate in AWS as well as on-premises. What could be a viable option for this need?\n",
    "\n",
    "- AWS OpsWorks\t\n",
    "- AWS CodeDeploy\n",
    "- AWS Systems Manager\n",
    "- All of the above"
   ]
  },
  {
   "cell_type": "code",
   "execution_count": null,
   "metadata": {},
   "outputs": [],
   "source": [
    "#collapse\n",
    "answers = '''\n",
    "- AWS OpsWorks\t\n",
    "- AWS CodeDeploy\n",
    "- AWS Systems Manager\n",
    "✔️ All of the above\n",
    "'''"
   ]
  },
  {
   "cell_type": "markdown",
   "metadata": {},
   "source": [
    "> What command is used to load data into Redshift from an external data source?\n",
    "\n",
    "- `COPY`\t\n",
    "- `VACUUM`\n",
    "- `DEEP COPY`\n",
    "- `LOAD DATA`"
   ]
  },
  {
   "cell_type": "code",
   "execution_count": null,
   "metadata": {},
   "outputs": [],
   "source": [
    "#collapse\n",
    "answers = '''\n",
    "✔️ `COPY`\t\n",
    "- `VACUUM`\n",
    "- `DEEP COPY`\n",
    "- `LOAD DATA`\n",
    "'''"
   ]
  },
  {
   "cell_type": "markdown",
   "metadata": {},
   "source": [
    "> You wish to request 100 spot instances together at once for a large job. What service offering will achieve this?\n",
    "\n",
    "- Standard spot request. Just define the quantity required when submitting a spot request\t\n",
    "- Spot Fleet\n",
    "- Spot Cluster\n",
    "- Standard spot request, one at a time; though all hundred could be requested with 100 requests"
   ]
  },
  {
   "cell_type": "code",
   "execution_count": null,
   "metadata": {},
   "outputs": [],
   "source": [
    "#collapse\n",
    "answers = '''\n",
    "- Standard spot request. Just define the quantity required when submitting a spot request\t\n",
    "✔️ Spot Fleet\n",
    "- Spot Cluster\n",
    "- Standard spot request, one at a time; though all hundred could be requested with 100 requests\n",
    "'''"
   ]
  },
  {
   "cell_type": "markdown",
   "metadata": {},
   "source": [
    "> You wish to provide a network file share which is mountable on Windows or Linux. What service if any is a possible option?\n",
    "\n",
    "- AWS Elastic File Service (EFS)\n",
    "- AWS Elastic Block Storage (EBS)\n",
    "- AWS S3\n",
    "- None of the above"
   ]
  },
  {
   "cell_type": "code",
   "execution_count": null,
   "metadata": {},
   "outputs": [],
   "source": [
    "#collapse\n",
    "answers = '''\n",
    "- AWS Elastic File Service (EFS)\n",
    "✔️ AWS Elastic Block Storage (EBS)\n",
    "- AWS S3\n",
    "- None of the above\n",
    "'''"
   ]
  },
  {
   "cell_type": "markdown",
   "metadata": {},
   "source": [
    "> If VPC A is peered to VPC B, and VPC B is peered to VPC C, can VPC A & C communicate directly?\n",
    "\n",
    "- Yes they can, as VPC Transitive Peering is enabled by default\n",
    "- No they can’t, as VPC Transitive Peering is not enabled by default\n",
    "- Yes they can, as long as a networking service in VPC B captures the packet and sends it onward to VPC C on VPC A’s behalf.\n",
    "- No they can’t, as VPC Transitive Peering is not a supported feature in AWS"
   ]
  },
  {
   "cell_type": "code",
   "execution_count": null,
   "metadata": {},
   "outputs": [],
   "source": [
    "#collapse\n",
    "answers = '''\n",
    "✔️ Yes they can, as VPC Transitive Peering is enabled by default\n",
    "- No they can’t, as VPC Transitive Peering is not enabled by default\n",
    "- Yes they can, as long as a networking service in VPC B captures the packet and sends it onward to VPC C on VPC A’s behalf.\n",
    "- No they can’t, as VPC Transitive Peering is not a supported feature in AWS\n",
    "'''"
   ]
  },
  {
   "cell_type": "markdown",
   "metadata": {},
   "source": [
    "> You have your entire website domain pointed to a CloudFront distribution. Your application has a place in which credit cards may be accepted and is written in JavaScript. You are leveraging the AWS JavaScript SDK. Beyond simply providing SSL communications, what feature of CloudFront should be used to encrypt the credit cards separately to create end-to-end encryption until the system that requires such data can decrypt it?\n",
    "\n",
    "- Endpoint Encryption\n",
    "- Field Level Encryption\n",
    "- Use built-in Client Side encryption from the JavaScript SDK\n",
    "- AWS options do not exist for this, but 3rd party JavaScript libraries exist to perform the encryption\n"
   ]
  },
  {
   "cell_type": "code",
   "execution_count": 1,
   "metadata": {},
   "outputs": [],
   "source": [
    "#collapse\n",
    "answers = '''\n",
    "- Endpoint Encryption\n",
    "✔️ Field Level Encryption\n",
    "    - https://docs.aws.amazon.com/AmazonCloudFront/latest/DeveloperGuide/field-level-encryption.html\n",
    "- Use built-in Client Side encryption from the JavaScript SDK\n",
    "- AWS options do not exist for this, but 3rd party JavaScript libraries exist to perform the encryption\n",
    "'''"
   ]
  },
  {
   "cell_type": "markdown",
   "metadata": {},
   "source": [
    "> What is the Glacier retrieval option that allows us to save money, and wait between 5 to 12 hours to retrieve our data?\n",
    "\n",
    "- Expedited\n",
    "- Standard\n",
    "- Bulk\n",
    "- Delayed"
   ]
  },
  {
   "cell_type": "code",
   "execution_count": 2,
   "metadata": {},
   "outputs": [],
   "source": [
    "#collapse\n",
    "answers = '''\n",
    "- Expedited\n",
    "- Standard\n",
    "- Bulk\n",
    "✔️ Bulk\n",
    "    - https://docs.aws.amazon.com/amazonglacier/latest/dev/glacier-select.html\n",
    "- Delayed\n",
    "'''"
   ]
  },
  {
   "cell_type": "markdown",
   "metadata": {},
   "source": [
    "> You are building an application which will require PCI compliance as it will be processing credit cards within the application. As such, you wish to encrypt all EBS volumes on your EC2 instances for this application, including the root volumes. How can this need be achieved?\n",
    "\n",
    "- When creating the EC2 instance, select EBS volume encryption for all volumes including the root volume along with all data volumes\n",
    "- Root volumes in EBS cannot be encrypted directly; use of 3rd party file-level encryption must happen within the OS to handle all root data\n",
    "- Use EBS Volume Encryption for all Data volumes, and create an EC2 instance with an unencrypted root volume to start. Once created and in a shutdown state, perform EBS volume encryption on the root volume leveraging native EBS Volume Encryption options\n",
    "- Launch an unencrypted EC2 instance and take a snapshot of the instance. Create a copy of the snapshot with the encryption option selected and create an image using the encrypted snapshot. From there launch a new EC2 instance from the AMI and select volume encryption for any additional volumes."
   ]
  },
  {
   "cell_type": "code",
   "execution_count": 3,
   "metadata": {},
   "outputs": [],
   "source": [
    "#collapse\n",
    "answers = '''\n",
    "- When creating the EC2 instance, select EBS volume encryption for all volumes including the root volume along with all data volumes\n",
    "\n",
    "- Root volumes in EBS cannot be encrypted directly; use of 3rd party file-level encryption must happen within the OS to handle all root data\n",
    "\n",
    "✔️ Use EBS Volume Encryption for all Data volumes, and create an EC2 instance with an unencrypted root volume to start. Once created and in a shutdown state, perform EBS volume encryption on the root volume leveraging native EBS Volume Encryption options\n",
    "\n",
    "- Launch an unencrypted EC2 instance and take a snapshot of the instance. Create a copy of the snapshot with the encryption option selected and create an image using the encrypted snapshot. From there launch a new EC2 instance from the AMI and select volume encryption for any additional volumes.\n",
    "'''"
   ]
  },
  {
   "cell_type": "markdown",
   "metadata": {},
   "source": [
    "> CloudTrail needs to write its logs to S3. What is permission model is required for CloudTrail to do this?\n",
    "\n",
    "- Nothing; CloudTrail natively writes to S3\n",
    "- CloudTrail would need a role to have the necessary permissions (Policy) to S3\n",
    "- Since CloudTrail natively writes to CloudWatch Logs, CloudWatch Logs would need to have a role with the necessary permissions (policy) to write to S3\n",
    "- Lambda can be used to extract the logs from the CloudTrail service and placed into S3. All necessary permissions would be provided through roles and policies"
   ]
  },
  {
   "cell_type": "code",
   "execution_count": 4,
   "metadata": {},
   "outputs": [],
   "source": [
    "#collapse\n",
    "answers = '''\n",
    "✔️ Nothing; CloudTrail natively writes to S3\n",
    "    - https://docs.aws.amazon.com/awscloudtrail/latest/userguide/cloudtrail-create-and-update-a-trail.html\n",
    "\n",
    "- CloudTrail would need a role to have the necessary permissions (Policy) to S3\n",
    "\n",
    "- Since CloudTrail natively writes to CloudWatch Logs, CloudWatch Logs would need to have a role with the necessary permissions (policy) to write to S3\n",
    "\n",
    "- Lambda can be used to extract the logs from the CloudTrail service and placed into S3. All necessary permissions would be provided through roles and policies\n",
    "'''"
   ]
  },
  {
   "cell_type": "markdown",
   "metadata": {},
   "source": [
    "> What is NOT a billable component of S3\n",
    "\n",
    "- Data Transfer Out\n",
    "- Operations (PUT, GET, LIST, etc.)\n",
    "- S3 Object Tagging\n",
    "- Data returned by S3 Select\n",
    "- None. All of the above are billable"
   ]
  },
  {
   "cell_type": "code",
   "execution_count": 5,
   "metadata": {},
   "outputs": [],
   "source": [
    "#collapse\n",
    "answers = '''\n",
    "- Data Transfer Out\n",
    "- Operations (PUT, GET, LIST, etc.)\n",
    "- S3 Object Tagging\n",
    "- Data returned by S3 Select\n",
    "    - https://docs.aws.amazon.com/AmazonS3/latest/dev/selecting-content-from-objects.html\n",
    "✔️ None. All of the above are billable\n",
    "    - https://aws.amazon.com/s3/pricing/\n",
    "'''"
   ]
  },
  {
   "cell_type": "markdown",
   "metadata": {},
   "source": [
    "> You have a Linux application currently running on an on-demand m5.xlarge instance and all seems to perform well. You are considering buying a reserved instance; however, you are unsure about the scale this application may require over the next 6 months. Instance type seems to be correct for the workload, but you are not sure if you will need to grow the instance size over the next 6 months. You have considered waiting for 6 months to see what the growth looks like before purchasing an RI. Is this a good decision or not? What should be the course of action?\n",
    "\n",
    "- Leave as is using on-demand before purchasing any Reserved Instances. You do not want to enter into a long-term contract without knowing what this may look like in the near future. Once a better understanding of growth is achieved, then purchase RI’s as needed.\n",
    "\n",
    "- Purchase a Convertible Reserved Instance now since it can be adjusted, and make changes as needed later.\n",
    "\n",
    "- Purchase a Standard Reserved Instance and change the instance size later or add to the contract if required.\n",
    "\n",
    "- Purchase an RI from the marketplace with only 6 months left"
   ]
  },
  {
   "cell_type": "code",
   "execution_count": 6,
   "metadata": {},
   "outputs": [],
   "source": [
    "#collapse\n",
    "answers = '''\n",
    "❌ Leave as is using on-demand before purchasing any Reserved Instances. You do not want to enter into a long-term contract without knowing what this may look like in the near future. Once a better understanding of growth is achieved, then purchase RI’s as needed.\n",
    "\n",
    "✔️ Purchase a Convertible Reserved Instance now since it can be adjusted, and make changes as needed later.\n",
    "\n",
    "- Purchase a Standard Reserved Instance and change the instance size later or add to the contract if required.\n",
    "\n",
    "- Purchase an RI from the marketplace with only 6 months left\n",
    "'''"
   ]
  },
  {
   "cell_type": "markdown",
   "metadata": {},
   "source": [
    "> What protocol(s) is/are supported by the Elastic File Service (EFS)\n",
    "\n",
    "- SMB\n",
    "\n",
    "- CIFS\n",
    "\n",
    "- iSCSI\n",
    "\n",
    "- NFS"
   ]
  },
  {
   "cell_type": "code",
   "execution_count": 7,
   "metadata": {},
   "outputs": [],
   "source": [
    "#collapse\n",
    "answers = '''\n",
    "- SMB\n",
    "- CIFS\n",
    "- iSCSI\n",
    "✔️ NFS\n",
    "'''"
   ]
  },
  {
   "cell_type": "markdown",
   "metadata": {},
   "source": [
    "> Using the Application Load Balancer (ALB), you are balancing SQL read-only requests to RDS MySQL Read Replicas to assist in scaling the database load. How will the ALB interact with RDS to scale the read replicas.\n",
    "\n",
    "- Like any other scaling, the health checks can be defined to identify when the read replicas are becoming overloaded and auto scaling can build additional read replicas to scale accordingly up to the RDS limit for read replicas.\n",
    "\n",
    "- The ALB cannot be used for this purpose\n",
    "\n",
    "- Define auto scaling for the read replicas, and like other ASG’s, one will register the nodes to the associated ALB\n",
    "\n",
    "- This cannot be done with the ALB, but can be done with the Classic Load Balancer"
   ]
  },
  {
   "cell_type": "code",
   "execution_count": 8,
   "metadata": {},
   "outputs": [],
   "source": [
    "#collapse\n",
    "answers = '''\n",
    "- Like any other scaling, the health checks can be defined to identify when the read replicas are becoming overloaded and auto scaling can build additional read replicas to scale accordingly up to the RDS limit for read replicas.\n",
    "\n",
    "✔️ The ALB cannot be used for this purpose\n",
    "\n",
    "- Define auto scaling for the read replicas, and like other ASG’s, one will register the nodes to the associated ALB\n",
    "\n",
    "- This cannot be done with the ALB, but can be done with the Classic Load Balancer\n",
    "'''"
   ]
  },
  {
   "cell_type": "markdown",
   "metadata": {},
   "source": [
    "> What is a benefit of the ALIAS record type in Route53?\n",
    "\n",
    "- ALIAS is just a CNAME, and thus the same benefits of a CNAME\n",
    "\n",
    "- ALIAS provides a 303 redirect to another URL (eg. www.domain.com to domain.com)\n",
    "\n",
    "- ALIAS can be used to direct to a global AWS service endpoint name, even in an A record position\n",
    "\n",
    "- ALIAS record can be used to point to on-premises resources, rerouting the user and obfuscating the back end"
   ]
  },
  {
   "cell_type": "code",
   "execution_count": 9,
   "metadata": {},
   "outputs": [],
   "source": [
    "#collapse\n",
    "answers = '''\n",
    "❌ ALIAS is just a CNAME, and thus the same benefits of a CNAME\n",
    "\n",
    "- ALIAS provides a 303 redirect to another URL (eg. www.domain.com to domain.com)\n",
    "\n",
    "✔️ ALIAS can be used to direct to a global AWS service endpoint name, even in an A record position\n",
    "    - https://docs.aws.amazon.com/Route53/latest/DeveloperGuide/resource-record-sets-choosing-alias-non-alias.html\n",
    "\n",
    "- ALIAS record can be used to point to on-premises resources, rerouting the user and obfuscating the back end\n",
    "'''"
   ]
  },
  {
   "cell_type": "markdown",
   "metadata": {},
   "source": [
    "> What is the smallest unit of data storage in a Glacier Vault called?\n",
    "\n",
    "- Object\n",
    "\n",
    "- File\n",
    "\n",
    "- Archive\n",
    "\n",
    "- Record"
   ]
  },
  {
   "cell_type": "code",
   "execution_count": 10,
   "metadata": {},
   "outputs": [],
   "source": [
    "#collapse\n",
    "answers = '''\n",
    "- Object\n",
    "\n",
    "- File\n",
    "\n",
    "✔️ Archive\n",
    "\n",
    "- Record\n",
    "'''"
   ]
  },
  {
   "cell_type": "markdown",
   "metadata": {},
   "source": [
    "> You have been running a handful of EC2 instances for an extended period of time and are now ready to purchase some Reserved Instances (RI’s). What is not a valid EC2 Reserved Instance option?\n",
    "\n",
    "- Standard RI, 2 year term, paid up front\n",
    "\n",
    "- Convertible RI, 3 year term, paid partially up front\n",
    "\n",
    "- Standard RI, 1 year term, no upfront payment\n",
    "\n",
    "- Scheduled RI, 1 year term, scheduled for 1 hour a day"
   ]
  },
  {
   "cell_type": "code",
   "execution_count": 11,
   "metadata": {},
   "outputs": [],
   "source": [
    "#collapse\n",
    "answers = '''\n",
    "✔️ Standard RI, 2 year term, paid up front\n",
    "\n",
    "- Convertible RI, 3 year term, paid partially up front\n",
    "\n",
    "- Standard RI, 1 year term, no upfront payment\n",
    "\n",
    "- Scheduled RI, 1 year term, scheduled for 1 hour a day\n",
    "'''"
   ]
  },
  {
   "cell_type": "markdown",
   "metadata": {},
   "source": [
    "> You have just recovered from a DDoS attack and realize you need to enhance your design to protect against such attacks. What service can specifically be used to protect against DDoS attacks\n",
    "\n",
    "- AWS WAF\n",
    "- Cloudfront\n",
    "- AWS Shield\n",
    "- AWS Guard Duty"
   ]
  },
  {
   "cell_type": "code",
   "execution_count": null,
   "metadata": {},
   "outputs": [],
   "source": [
    "#collapse\n",
    "answers = '''\n",
    "- AWS WAF\n",
    "- Cloudfront\n",
    "✔️ AWS Shield\n",
    "- AWS Guard Duty\n",
    "'''"
   ]
  },
  {
   "cell_type": "markdown",
   "metadata": {},
   "source": [
    "## Mock 2 - 23/08/20 - Module 1: Resiliency - 62%\n",
    "\n",
    " Result  | FAIL     \n",
    "---------|----------\n",
    " Mark    | 62\\.07 % \n",
    " Correct | 38   "
   ]
  },
  {
   "cell_type": "markdown",
   "metadata": {},
   "source": [
    "SAA-C02-AB-01-01\n",
    "\n",
    "> Which of the following VPC resources is highly available but not fault tolerant?\n",
    "\n",
    "- Internet gateway\n",
    "\n",
    "- VPC gateway endpoint\n",
    "\n",
    "- VPC peering connection\n",
    "\n",
    "- NAT gateway\n",
    "\n",
    "\n",
    "\n",
    "\n",
    "\n",
    "\n"
   ]
  },
  {
   "cell_type": "code",
   "execution_count": null,
   "metadata": {},
   "outputs": [],
   "source": [
    "#collapse\n",
    "\n",
    "answers = '''\n",
    "- Internet gateway\n",
    "\n",
    "- VPC gateway endpoint\n",
    "\n",
    "- VPC peering connection\n",
    "\n",
    "✔️ NAT gateway\n",
    "'''"
   ]
  },
  {
   "cell_type": "markdown",
   "metadata": {},
   "source": [
    "SAA-C02-AB-02-08\n",
    "\n",
    "> Which of the following is an example of a highly available but not fault-tolerant AWS resource?\n",
    "\n",
    "- RedShift cluster\n",
    "\n",
    "- S3 bucket\n",
    "\n",
    "- CloudFront distribution\n",
    "\n",
    "- DynamoDB table"
   ]
  },
  {
   "cell_type": "code",
   "execution_count": null,
   "metadata": {},
   "outputs": [],
   "source": [
    "#collapse\n",
    "\n",
    "answers = '''\n",
    "✔️ RedShift cluster\n",
    "\n",
    "- S3 bucket\n",
    "\n",
    "- CloudFront distribution\n",
    "\n",
    "- DynamoDB table\n",
    "'''\n",
    "\n"
   ]
  },
  {
   "cell_type": "markdown",
   "metadata": {},
   "source": [
    "SAA-C02-AB-02-01\n",
    "\n",
    "> The Internet gateway resource is best described as which of the following?\n",
    "\n",
    "- None of these\n",
    "\n",
    "- Fault tolerant\n",
    "\n",
    "- Not highly available\n",
    "\n",
    "- Highly available"
   ]
  },
  {
   "cell_type": "code",
   "execution_count": null,
   "metadata": {},
   "outputs": [],
   "source": [
    "#collapse\n",
    "\n",
    "answers = '''\n",
    "- None of these\n",
    "\n",
    "✔️ Fault tolerant\n",
    "\n",
    "- Not highly available\n",
    "\n",
    "- Highly available\n",
    "'''"
   ]
  },
  {
   "cell_type": "markdown",
   "metadata": {},
   "source": [
    "SAA-C02-AB-02-15\n",
    "> EBS volumes are replicated ____.\n",
    "\n",
    "- None of these\n",
    "\n",
    "- within the AZ\n",
    "\n",
    "- globally\n",
    "\n",
    "- within the region"
   ]
  },
  {
   "cell_type": "code",
   "execution_count": null,
   "metadata": {},
   "outputs": [],
   "source": [
    "#collapse\n",
    "\n",
    "answers = '''\n",
    "- None of these\n",
    "\n",
    "✔️ within the AZ\n",
    "\n",
    "- globally\n",
    "\n",
    "- within the region\n",
    "'''"
   ]
  },
  {
   "cell_type": "markdown",
   "metadata": {},
   "source": [
    "AA-C02-AB-01-20\n",
    "\n",
    "> What is the published SLA for EFS subnet-specific mount points?\n",
    "\n",
    "- 3 9s\n",
    "\n",
    "- There is no published SLA for EFS mount points.\n",
    "\n",
    "- 5 9s\n",
    "\n",
    "- 4 9s"
   ]
  },
  {
   "cell_type": "code",
   "execution_count": null,
   "metadata": {},
   "outputs": [],
   "source": [
    "#collapse\n",
    "\n",
    "answers = '''\n",
    "- 3 9s\n",
    "\n",
    "✔️ There is no published SLA for EFS mount points.\n",
    "\n",
    "- 5 9s\n",
    "\n",
    "- 4 9s\n",
    "'''"
   ]
  },
  {
   "cell_type": "markdown",
   "metadata": {},
   "source": [
    "SAA-C02-AB-02-02\n",
    "\n",
    "> The VPC peering connection resource is best described as which of the following?\n",
    "\n",
    "- None of these\n",
    "\n",
    "- Fault tolerant\n",
    "\n",
    "- Not highly available\n",
    "\n",
    "- Highly available"
   ]
  },
  {
   "cell_type": "code",
   "execution_count": null,
   "metadata": {},
   "outputs": [],
   "source": [
    "#collapse\n",
    "\n",
    "answers = '''\n",
    "- None of these\n",
    "\n",
    "✔️ Fault tolerant\n",
    "\n",
    "- Not highly available\n",
    "\n",
    "- Highly available\n",
    "'''"
   ]
  },
  {
   "cell_type": "markdown",
   "metadata": {},
   "source": [
    "SAA-C02-AB-02-16\n",
    "\n",
    "> What is the resilience SLA for the S3-IA (S3-Infrequent Access) storage class?\n",
    "\n",
    "- 3 9s availability and 11 9s durability\n",
    "\n",
    "- 2 9s availability and 4 9s durability\n",
    "\n",
    "- 3.5 9s availability and 11 9s durability\n",
    "\n",
    "- 4 9s availability and 11 9s durability"
   ]
  },
  {
   "cell_type": "code",
   "execution_count": null,
   "metadata": {},
   "outputs": [],
   "source": [
    "#collapse\n",
    "\n",
    "answers = '''\n",
    "- 3 9s availability and 11 9s durability\n",
    "\n",
    "- 2 9s availability and 4 9s durability\n",
    "\n",
    "- 3.5 9s availability and 11 9s durability\n",
    "\n",
    "✔️ 4 9s availability and 11 9s durability\n",
    "    - https://aws.amazon.com/s3/storage-classes/\n",
    "'''"
   ]
  },
  {
   "cell_type": "markdown",
   "metadata": {},
   "source": [
    "SAA-C02-AB-02-05\n",
    "\n",
    "> Which pillar of the Well-Architected Framework includes the principle “Measure overall efficiency”?\n",
    "\n",
    "- Security\n",
    "\n",
    "- Performance efficiency\n",
    "\n",
    "- Reliability\n",
    "\n",
    "- Cost optimization\n"
   ]
  },
  {
   "cell_type": "code",
   "execution_count": null,
   "metadata": {},
   "outputs": [],
   "source": [
    "#collapse\n",
    "\n",
    "answers = '''\n",
    "- Security\n",
    "\n",
    "- Performance efficiency\n",
    "\n",
    "- Reliability\n",
    "\n",
    "✔️ Cost optimization\n",
    "    - https://docs.aws.amazon.com/wellarchitected/latest/cost-optimization-pillar/design-principles.html\n",
    "    - _Measure the business output of the workload and the costs associated with delivery. Use this data to understand the gains you make from increasing output, increasing functionality, and reducing cost._\n",
    "'''"
   ]
  },
  {
   "cell_type": "markdown",
   "metadata": {},
   "source": [
    "> SAA-C02-AB-01-18\n",
    "Which of the following has the longest retrieval latency in Glacier?\n",
    "\n",
    "- Standard retrieval\n",
    "\n",
    "- Bulk retrieval\n",
    "\n",
    "- Expedited retrieval\n",
    "\n",
    "- Anything stored in Glacier Deep Archive"
   ]
  },
  {
   "cell_type": "code",
   "execution_count": null,
   "metadata": {},
   "outputs": [],
   "source": [
    "#collapse\n",
    "\n",
    "answers = '''\n",
    "- Standard retrieval\n",
    "\n",
    "- Bulk retrieval\n",
    "\n",
    "- Expedited retrieval\n",
    "\n",
    "✔️ Anything stored in Glacier Deep Archive\n",
    "    - https://docs.aws.amazon.com/AmazonS3/latest/dev/storage-class-intro.html#sc-glacier\n",
    "'''"
   ]
  },
  {
   "cell_type": "markdown",
   "metadata": {},
   "source": [
    "SAA-C02-AB-03-15\n",
    "\n",
    "> What is the recommended mechanism for performing file-level restores for an EFS file system?\n",
    "\n",
    "- There are no file-level restores possible with EFS.\n",
    "\n",
    "- Synchronize the files to an EBS volume on a regular schedule.\n",
    "\n",
    "- Do an AWS Backup partial restore.\n",
    "\n",
    "- Use the AWS CLI to sync files to S3."
   ]
  },
  {
   "cell_type": "code",
   "execution_count": null,
   "metadata": {},
   "outputs": [],
   "source": [
    "#collapse\n",
    "\n",
    "answers = '''\n",
    "- There are no file-level restores possible with EFS.\n",
    "\n",
    "- Synchronize the files to an EBS volume on a regular schedule.\n",
    "\n",
    "✔️ Do an AWS Backup partial restore.\n",
    "    - https://docs.aws.amazon.com/aws-backup/latest/devguide/whatisbackup.html\n",
    "    - _The AWS Backup service allows for partial file system restores (even a single file) to be recovered to another location on the file system._\n",
    "\n",
    "- Use the AWS CLI to sync files to S3.\n",
    "'''"
   ]
  },
  {
   "cell_type": "markdown",
   "metadata": {},
   "source": [
    "SAA-C02-AB-02-09\n",
    "\n",
    "> Which of the following is a highly available but not fault-tolerant resource?\n",
    "\n",
    "- NAT gateway\n",
    "\n",
    "- Internet gateway\n",
    "\n",
    "- VPC gateway endpoint\n",
    "\n",
    "- VPC peering connection"
   ]
  },
  {
   "cell_type": "code",
   "execution_count": null,
   "metadata": {},
   "outputs": [],
   "source": [
    "#collapse\n",
    "\n",
    "answers = '''\n",
    "✔️ NAT gateway\n",
    "\n",
    "- Internet gateway\n",
    "\n",
    "- VPC gateway endpoint\n",
    "\n",
    "- VPC peering connection\n",
    "'''"
   ]
  },
  {
   "cell_type": "markdown",
   "metadata": {},
   "source": [
    "SAA-C02-AB-01-15\n",
    "> Which of the following storage choices is the least resilient?\n",
    "\n",
    "- EBS PIOPS\n",
    "\n",
    "- EFS\n",
    "\n",
    "- EBS GP2\n",
    "\n",
    "- Instance store\n"
   ]
  },
  {
   "cell_type": "code",
   "execution_count": null,
   "metadata": {},
   "outputs": [],
   "source": [
    "#collapse\n",
    "\n",
    "answers = '''\n",
    "- EBS PIOPS\n",
    "\n",
    "- EFS\n",
    "\n",
    "- EBS GP2\n",
    "\n",
    "✔️ Instance store\n",
    "    - Instance store volumes are tied directly to the hardware that runs the hypervisor and are not designed for resiliency.\n",
    "'''"
   ]
  },
  {
   "cell_type": "markdown",
   "metadata": {},
   "source": [
    "SAA-C02-AB-02-18\n",
    "\n",
    "> When configuring S3 cross-region replication, which of the following must be executed for a complete solution?\n",
    "\n",
    "- Enable server-side encryption on both buckets.\n",
    "\n",
    "- No extra steps are required.\n",
    "\n",
    "- Ensure that all objects are using the same storage class.\n",
    "\n",
    "- Manually copy existing objects."
   ]
  },
  {
   "cell_type": "code",
   "execution_count": null,
   "metadata": {},
   "outputs": [],
   "source": [
    "#collapse\n",
    "\n",
    "answers = '''\n",
    "- Enable server-side encryption on both buckets.\n",
    "\n",
    "- No extra steps are required.\n",
    "\n",
    "- Ensure that all objects are using the same storage class.\n",
    "\n",
    "✔️ Manually copy existing objects.\n",
    "    - _Enabling cross-region replication does not copy existing objects by default, and so it is up to the customer to perform this task._\n",
    "    - https://docs.aws.amazon.com/AmazonS3/latest/dev/replication.html\n",
    "\n",
    "'''"
   ]
  },
  {
   "cell_type": "markdown",
   "metadata": {},
   "source": [
    "SAA-C02-AB-01-09\n",
    "\n",
    "> Which of these is an availability-zone-scoped resource?\n",
    "\n",
    "- DynamoDB table\n",
    "\n",
    "- EBS volume\n",
    "\n",
    "- SQS queue\n",
    "\n",
    "- IAM user"
   ]
  },
  {
   "cell_type": "code",
   "execution_count": null,
   "metadata": {},
   "outputs": [],
   "source": [
    "#collapse\n",
    "\n",
    "answers = '''\n",
    "- DynamoDB table\n",
    "\n",
    "✔️ EBS volume\n",
    "    - _An EBS volume is deployed at the AZ scope and can be directly attached to an EC2 instance in the same AZ._\n",
    "\n",
    "- SQS queue\n",
    "\n",
    "- IAM user\n",
    "\n",
    "'''"
   ]
  },
  {
   "cell_type": "markdown",
   "metadata": {},
   "source": [
    "SAA-C02-AB-02-17\n",
    "\n",
    "> In order to maintain 11 9s durability, how many times does S3 replicate each object within the storage class scope?\n",
    "\n",
    "- Four\n",
    "\n",
    "- Three\n",
    "\n",
    "- Five\n",
    "\n",
    "- Two\n",
    "\n",
    "\n"
   ]
  },
  {
   "cell_type": "code",
   "execution_count": null,
   "metadata": {},
   "outputs": [],
   "source": [
    "#collapse\n",
    "\n",
    "answers = '''\n",
    "- Four\n",
    "\n",
    "✔️ Three\n",
    "    - By replicating each object three times within the region (or AZ, for Z-IA), S3 can deliver 11 9s data durability.\n",
    "\n",
    "- Five\n",
    "\n",
    "- Two\n",
    "\n",
    "'''"
   ]
  },
  {
   "cell_type": "markdown",
   "metadata": {},
   "source": [
    "SAA-C02-AB-03-04\n",
    "\n",
    "> The VPC endpoint resource is best described as which of the following?\n",
    "\n",
    "- Fault tolerant\n",
    "\n",
    "- Highly available\n",
    "\n",
    "- Not highly available\n",
    "\n",
    "- None of these"
   ]
  },
  {
   "cell_type": "code",
   "execution_count": null,
   "metadata": {},
   "outputs": [],
   "source": [
    "#collapse\n",
    "\n",
    "answers = '''\n",
    "️️✔️ Fault tolerant\n",
    "    - The VPC endpoint resource is defined as a horizontally scaled, redundant resource, which means it is fault tolerant.\n",
    "\n",
    "- Highly available\n",
    "\n",
    "- Not highly available\n",
    "\n",
    "- None of these\n",
    "\n",
    "'''"
   ]
  },
  {
   "cell_type": "markdown",
   "metadata": {},
   "source": [
    "SAA-C02-AB-03-01\n",
    "\n",
    "Which pillar of the Well-Architected Framework includes the principle “Use serverless architectures”?\n",
    "\n",
    "- Performance efficiency\n",
    "\n",
    "- Reliability\n",
    "\n",
    "- Cost optimization\n",
    "\n",
    "- Security"
   ]
  },
  {
   "cell_type": "code",
   "execution_count": null,
   "metadata": {},
   "outputs": [],
   "source": [
    "#collapse\n",
    "\n",
    "answers = '''\n",
    "\n",
    "✔️ Performance efficiency\n",
    "    - https://docs.aws.amazon.com/wellarchitected/latest/performance-efficiency-pillar/design-principles.html\n",
    "\n",
    "- Reliability\n",
    "\n",
    "- Cost optimization\n",
    "\n",
    "- Security\n",
    "\n",
    "'''"
   ]
  },
  {
   "cell_type": "markdown",
   "metadata": {},
   "source": [
    "SAA-C02-AB-03-09\n",
    "\n",
    "> Which of these is a globally scoped resource?\n",
    "\n",
    "- Lambda function\n",
    "\n",
    "- Lambda@Edge function\n",
    "\n",
    "- SQS queue\n",
    "\n",
    "- SNS topic"
   ]
  },
  {
   "cell_type": "code",
   "execution_count": null,
   "metadata": {},
   "outputs": [],
   "source": [
    "#collapse\n",
    "\n",
    "answers = '''\n",
    "\n",
    "- Lambda function\n",
    "\n",
    "✔️ Lambda@Edge function\n",
    "    - When a Lambda function version is deployed to Lambda@Edge, it becomes a globally scoped resource.\n",
    "\n",
    "- SQS queue\n",
    "\n",
    "- SNS topic\n",
    "\n",
    "'''"
   ]
  },
  {
   "cell_type": "markdown",
   "metadata": {},
   "source": [
    "SAA-C02-AB-02-07\n",
    "\n",
    "> What is the published SLA for an RDS Multi-AZ deployment?\n",
    "\n",
    "- 4 9s\n",
    "\n",
    "- 2 9s\n",
    "\n",
    "- 3.5 9s\n",
    "\n",
    "- 3 9s"
   ]
  },
  {
   "cell_type": "code",
   "execution_count": null,
   "metadata": {},
   "outputs": [],
   "source": [
    "#collapse\n",
    "\n",
    "answers = '''\n",
    "\n",
    "- 4 9s\n",
    "\n",
    "- 2 9s\n",
    "\n",
    "✔️ 3.5 9s\n",
    "    - 99.95%\n",
    "    - https://aws.amazon.com/rds/sla/\n",
    "\n",
    "- 3 9s\n",
    "\n",
    "'''"
   ]
  },
  {
   "cell_type": "markdown",
   "metadata": {},
   "source": [
    "SAA-C02-AB-02-13\n",
    "\n",
    "> Which of the following best explains synchronous communication?\n",
    "\n",
    "- Two-way communication between a client and an app or between two apps that require a response to each request\n",
    "\n",
    "- One-way communication using message-passing where responses are required\n",
    "\n",
    "- Two-way communication between two applications that require a response to each request\n",
    "\n",
    "- One-way communication using message-passing where a response is not required"
   ]
  },
  {
   "cell_type": "code",
   "execution_count": null,
   "metadata": {},
   "outputs": [],
   "source": [
    "#collapse\n",
    "\n",
    "answers = '''\n",
    "- Two-way communication between a client and an app or between two apps that require a response to each request\n",
    "\n",
    "- One-way communication using message-passing where responses are required\n",
    "\n",
    "✔️ Two-way communication between two applications that require a response to each request\n",
    "    - In synchronous communication, multiple parties are participating at the same time and wait for replies from each other.\n",
    "\n",
    "- One-way communication using message-passing where a response is not required\n",
    "'''"
   ]
  },
  {
   "cell_type": "markdown",
   "metadata": {},
   "source": [
    "SAA-C02-AB-03-06\n",
    "\n",
    "> Which of the following is the definition of the term availability?\n",
    "\n",
    "- Availability involves multiple resources dedicated to performing the same task.\n",
    "\n",
    "- The system will continue to function despite the complete failure of any component of the architecture.\n",
    "\n",
    "- Availability is determined by percentage uptime, in 9s.\n",
    "\n",
    "- The system will continue to function without degradation in performance despite the complete failure of any component of the architecture.\n",
    "You answered this question incorrectly. The correct answers are highlighted.\n",
    "\n"
   ]
  },
  {
   "cell_type": "code",
   "execution_count": null,
   "metadata": {},
   "outputs": [],
   "source": [
    "#collapse\n",
    "\n",
    "answers = '''\n",
    "- Availability involves multiple resources dedicated to performing the same task.\n",
    "\n",
    "- The system will continue to function despite the complete failure of any component of the architecture.\n",
    "\n",
    "✔️ Availability is determined by percentage uptime, in 9s.\n",
    "\n",
    "- The system will continue to function without degradation in performance despite the complete failure of any component of the architecture.\n",
    "You answered this question incorrectly. The correct answers are highlighted.\n",
    "'''"
   ]
  },
  {
   "cell_type": "markdown",
   "metadata": {},
   "source": [
    "SAA-C02-AB-01-13\n",
    "\n",
    "> When using SNS for decoupling purposes, which of the subscriber types would be most appropriate? (Select two.)\n",
    "\n",
    "- HTTP/HTTPS\n",
    "- SQS\n",
    "- SMS\n",
    "- Email"
   ]
  },
  {
   "cell_type": "code",
   "execution_count": null,
   "metadata": {},
   "outputs": [],
   "source": [
    "#collapse\n",
    "\n",
    "answers = '''\n",
    "✔️ HTTP/HTTPS\n",
    "✔️ SQS\n",
    "    - SNS can be used to pass messages in a resilient manner to a downstream application. Two possible mechanisms for accomplishing this are SQS and HTTP/HTTPS subscribers to a topic.\n",
    "- SMS\n",
    "- Email\n",
    "'''"
   ]
  },
  {
   "cell_type": "markdown",
   "metadata": {},
   "source": [
    "## Mock 3 - 25/08/20 - Module 2: Performance - 50%"
   ]
  },
  {
   "cell_type": "markdown",
   "metadata": {},
   "source": [
    "SAA-C02-AB-02-35\n",
    "\n",
    "> Which of the following is a benefit of deploying an Aurora database using Multi-Master instead of a traditional RDS single-endpoint solution?\n",
    "\n",
    "- Improved query concurrency\n",
    "\n",
    "- Simpler architecture\n",
    "\n",
    "- Lower cost\n",
    "\n",
    "- Lower operational overhead"
   ]
  },
  {
   "cell_type": "code",
   "execution_count": null,
   "metadata": {},
   "outputs": [],
   "source": [
    "#collapse\n",
    "\n",
    "answers = '''\n",
    "✔️ Improved query concurrency\n",
    "\n",
    "- Simpler architecture\n",
    "\n",
    "- Lower cost\n",
    "\n",
    "- Lower operational overhead\n",
    "'''"
   ]
  },
  {
   "cell_type": "markdown",
   "metadata": {},
   "source": []
  },
  {
   "cell_type": "markdown",
   "metadata": {},
   "source": [
    "SAA-C02-AB-01-28\n",
    "\n",
    "> What are the two performance modes for EFS file systems? (Select two.)\n",
    "\n",
    "- Provisioned IOPS\n",
    "\n",
    "- Throughput-optimized\n",
    "\n",
    "- General Purpose\n",
    "\n",
    "- MaxIO"
   ]
  },
  {
   "cell_type": "code",
   "execution_count": null,
   "metadata": {},
   "outputs": [],
   "source": [
    "#collapse\n",
    "\n",
    "answers = '''\n",
    "- Provisioned IOPS\n",
    "\n",
    "- Throughput-optimized\n",
    "\n",
    "✔️ General Purpose\n",
    "    - https://docs.aws.amazon.com/efs/latest/ug/performance.html\n",
    "\n",
    "✔️ MaxIO\n",
    "    - https://docs.aws.amazon.com/efs/latest/ug/performance.html\n",
    "'''"
   ]
  },
  {
   "cell_type": "markdown",
   "metadata": {},
   "source": [
    "SAA-C02-AB-02-29\n",
    "\n",
    "> Which ElastiCache choice is designed for durable storage of in-memory data?\n",
    "\n",
    "- Both Memcached and Redis\n",
    "\n",
    "- Redis\n",
    "\n",
    "- Memcached\n",
    "\n",
    "- Neither Memcached nor Redis\n"
   ]
  },
  {
   "cell_type": "code",
   "execution_count": null,
   "metadata": {},
   "outputs": [],
   "source": [
    "#collapse\n",
    "\n",
    "answers = '''\n",
    "- Both Memcached and Redis\n",
    "\n",
    "✔️ Redis\n",
    "    - Redis is actually a NoSQL database engine that replicates all data to every node in the cluster, which improves data durability.\n",
    "    - https://aws.amazon.com/elasticache/redis-vs-memcached/\n",
    "\n",
    "- Memcached\n",
    "\n",
    "- Neither Memcached nor Redis\n",
    "'''"
   ]
  },
  {
   "cell_type": "markdown",
   "metadata": {},
   "source": [
    "SAA-C02-AB-01-33\n",
    "\n",
    "> Which network interface resource is designed for the highest network performance?\n",
    "\n",
    "- EFA (Elastic Fabric Adapter)\n",
    "\n",
    "- ENI (Elastic Network Interface)\n",
    "\n",
    "- ENA (Elastic Network Adapter)\n",
    "\n",
    "- Multiple ENI\n",
    "\n",
    "\n"
   ]
  },
  {
   "cell_type": "code",
   "execution_count": null,
   "metadata": {},
   "outputs": [],
   "source": [
    "#collapse\n",
    "\n",
    "answers = '''\n",
    "✔️ EFA (Elastic Fabric Adapter)\n",
    "    - The EFA exhibits both the highest throughput and the lowest latency of any network interface in AWS\n",
    "    - Elastic Network Adapters (ENAs) provide traditional IP networking features that are required to support VPC networking. EFAs provide all of the same traditional IP networking features as ENAs, and they also support OS-bypass capabilities. OS-bypass enables HPC and machine learning applications to bypass the operating system kernel and to communicate directly with the EFA device.\n",
    "    - https://docs.aws.amazon.com/AWSEC2/latest/UserGuide/efa.html\n",
    "\n",
    "- ENI (Elastic Network Interface)\n",
    "\n",
    "- ENA (Elastic Network Adapter)\n",
    "\n",
    "- Multiple ENI\n",
    "'''"
   ]
  },
  {
   "cell_type": "markdown",
   "metadata": {},
   "source": [
    "SAA-C02-AB-01-25\n",
    "\n",
    "> What is a potential downside of reactive scaling for EC2?\n",
    "\n",
    "- Increased operational overhead of managing the Auto Scaling group\n",
    "\n",
    "- Increased cost\n",
    "\n",
    "- The delay when provisioning new instances\n",
    "\n",
    "- Decreased resilience\n"
   ]
  },
  {
   "cell_type": "code",
   "execution_count": null,
   "metadata": {},
   "outputs": [],
   "source": [
    "#collapse\n",
    "answers = '''\n",
    "- Increased operational overhead of managing the Auto Scaling group\n",
    "\n",
    "- Increased cost\n",
    "\n",
    "✔️ The delay when provisioning new instances\n",
    "    - When scaling reactively, several steps introduce delays before the new resources are made available to handle traffic.\n",
    "\n",
    "- Decreased resilience\n",
    "'''"
   ]
  },
  {
   "cell_type": "markdown",
   "metadata": {},
   "source": [
    " SAA-C02-AB-02-21\n",
    "\n",
    " > Which of these is an example of a scalable resource?\n",
    "\n",
    "- An S3 bucket\n",
    "\n",
    "- A Kinesis Firehose delivery stream\n",
    "\n",
    "- An SQS queue\n",
    "\n",
    "- EBS volume size\n",
    " \n",
    "\n",
    " "
   ]
  },
  {
   "cell_type": "code",
   "execution_count": null,
   "metadata": {},
   "outputs": [],
   "source": [
    "#collapse\n",
    "answers = '''\n",
    "- An S3 bucket\n",
    "\n",
    "- A Kinesis Firehose delivery stream\n",
    "\n",
    "- An SQS queue\n",
    "\n",
    "✔️ EBS volume size\n",
    "    - EBS volume size can be increased but not decreased, fitting the definition of a scalable resource.\n",
    "'''"
   ]
  },
  {
   "cell_type": "markdown",
   "metadata": {},
   "source": [
    "SAA-C02-AB-02-24\n",
    "\n",
    "> If a customer has the requirement to combine both on-demand and spot instances in the same Auto Scaling group, which of the following choices would be appropriate?\n",
    "\n",
    "- A launch template\n",
    "\n",
    "- A launch configuration\n",
    "\n",
    "- A launch configuration or launch template\n",
    "\n",
    "- Neither a launch configuration nor a launch template\n"
   ]
  },
  {
   "cell_type": "code",
   "execution_count": null,
   "metadata": {},
   "outputs": [],
   "source": [
    "#collapse\n",
    "answers = '''\n",
    " ✔️ A launch template\n",
    "    - In the Auto Scaling service, only launch templates support a mixture of on-demand and spot instances at the same time.\n",
    "    - https://docs.aws.amazon.com/AWSEC2/latest/UserGuide/ec2-launch-templates.html\n",
    "\n",
    "- A launch configuration\n",
    "\n",
    "- A launch configuration or launch template\n",
    "\n",
    "- Neither a launch configuration nor a launch template\n",
    "'''"
   ]
  },
  {
   "cell_type": "markdown",
   "metadata": {},
   "source": [
    "SAA-C02-AB-03-33\n",
    "\n",
    "> When choosing Direct Connect for hybrid network connectivity, what performance options are available?\n",
    "\n",
    "- Only 1Gb throughput\n",
    "\n",
    "- 1Gb and 10Gb throughput\n",
    "\n",
    "- 10Gb and 100Gb throughput\n",
    "\n",
    "- Only 10Gb throughput"
   ]
  },
  {
   "cell_type": "code",
   "execution_count": null,
   "metadata": {},
   "outputs": [],
   "source": [
    "#collapse\n",
    "answers = '''\n",
    "- Only 1Gb throughput\n",
    "\n",
    "✔️ 1Gb and 10Gb throughput\n",
    "    - https://docs.aws.amazon.com/directconnect/latest/UserGuide/Welcome.html\n",
    "\n",
    "- 10Gb and 100Gb throughput\n",
    "\n",
    "- Only 10Gb throughput\n",
    "'''"
   ]
  },
  {
   "cell_type": "markdown",
   "metadata": {},
   "source": [
    "SAA-C02-AB-01-21\n",
    "\n",
    "> Which of the following defines the term scalability?\n",
    "\n",
    "- The ability of a system to maintain the same resources, regardless of changes in demand\n",
    "\n",
    "- The ability of a system to increase and decrease resources allocated to match demand\n",
    "\n",
    "- The ability of a system to decrease resources to accommodate decreased demand\n",
    "\n",
    "- The ability of a system to increase resources to accommodate increased demand"
   ]
  },
  {
   "cell_type": "code",
   "execution_count": null,
   "metadata": {},
   "outputs": [],
   "source": [
    "#collapse\n",
    "answers = '''\n",
    "- The ability of a system to maintain the same resources, regardless of changes in demand\n",
    "\n",
    "- The ability of a system to increase and decrease resources allocated to match demand\n",
    "\n",
    "- The ability of a system to decrease resources to accommodate decreased demand\n",
    "\n",
    "✔️ The ability of a system to increase resources to accommodate increased demand\n",
    "    - Scalable systems are able to increase but not decrease resources. An example of this is RDS storage.\n",
    "'''"
   ]
  },
  {
   "cell_type": "markdown",
   "metadata": {},
   "source": [
    "SAA-C02-AB-02-28\n",
    "\n",
    "> What is the maximum throughput possible for an EFS file system?\n",
    "\n",
    "- 10Gbps\n",
    "\n",
    "- 5Gbps\n",
    "\n",
    "- 1Gbps\n",
    "\n",
    "- 3Gbps"
   ]
  },
  {
   "cell_type": "code",
   "execution_count": null,
   "metadata": {},
   "outputs": [],
   "source": [
    "#collapse\n",
    "answers = '''\n",
    "✔️ 10Gbps\n",
    "    - https://docs.aws.amazon.com/efs/latest/ug/performance.html\n",
    "\n",
    "- 5Gbps\n",
    "\n",
    "- 1Gbps\n",
    "\n",
    "- 3Gbps\n",
    "'''"
   ]
  },
  {
   "cell_type": "markdown",
   "metadata": {},
   "source": [
    "SAA-C02-AB-01-34\n",
    "\n",
    "> Which of the following is a benefit of deploying a relational database on EC2 using the instance store volume instead of EBS?\n",
    "\n",
    "- Automatic data replication\n",
    "\n",
    "- Highest resilience\n",
    "\n",
    "- Lowest latency\n",
    "\n",
    "- Elasticity"
   ]
  },
  {
   "cell_type": "code",
   "execution_count": null,
   "metadata": {},
   "outputs": [],
   "source": [
    "#collapse\n",
    "answers = '''\n",
    "- Automatic data replication\n",
    "\n",
    "- Highest resilience\n",
    "\n",
    "✔️ Lowest latency\n",
    "    - Instance store volumes do not traverse the network to reach storage and therefore do not incur any network latency.\n",
    "\n",
    "- Elasticity\n",
    "'''"
   ]
  },
  {
   "cell_type": "markdown",
   "metadata": {},
   "source": [
    "SAA-C02-AB-02-31\n",
    "\n",
    "> What is the maximum network throughput that can be achieved with an ENI?\n",
    "\n",
    "- 25Gbps\n",
    "\n",
    "- 10Gbps\n",
    "\n",
    "- 50Gbps\n",
    "\n",
    "- 20Gbps"
   ]
  },
  {
   "cell_type": "code",
   "execution_count": null,
   "metadata": {},
   "outputs": [],
   "source": [
    "#collapse\n",
    "answers = '''\n",
    "✔ 25Gbps\n",
    "\n",
    "- 10Gbps\n",
    "\n",
    "- 50Gbps\n",
    "\n",
    "- 20Gbps\n",
    "'''"
   ]
  },
  {
   "cell_type": "markdown",
   "metadata": {},
   "source": [
    "SAA-C02-AB-03-34\n",
    "\n",
    "> When choosing a do-it-yourself (EC2-based) VPN between two networks, what performance guarantees are available?\n",
    "\n",
    "- Configurable throughput\n",
    "\n",
    "- Configurable latency and throughput\n",
    "\n",
    "- Configurable latency\n",
    "\n",
    "- None of these"
   ]
  },
  {
   "cell_type": "code",
   "execution_count": null,
   "metadata": {},
   "outputs": [],
   "source": [
    "#collapse\n",
    "answers = '''\n",
    "- Configurable throughput\n",
    "\n",
    "- Configurable latency and throughput\n",
    "\n",
    "- Configurable latency\n",
    "\n",
    "✔️ None of these\n",
    "    - An EC2-based VPN solution comes with no performance assurance, regardless of the EC2 instance type chosen.\n",
    "'''"
   ]
  },
  {
   "cell_type": "markdown",
   "metadata": {},
   "source": [
    "SAA-C02-AB-03-28\n",
    "\n",
    "> What is the documented S3 latency for either full delivery (for small objects) or first byte-out (for large objects)?\n",
    "\n",
    "- 200 to 300ms\n",
    "\n",
    "- 50 to 100ms\n",
    "\n",
    "- 300 to 400ms\n",
    "\n",
    "- 100 to 200ms"
   ]
  },
  {
   "cell_type": "code",
   "execution_count": null,
   "metadata": {},
   "outputs": [],
   "source": [
    "#collapse\n",
    "answers = '''\n",
    "- 200 to 300ms\n",
    "\n",
    "- 50 to 100ms\n",
    "\n",
    "- 300 to 400ms\n",
    "\n",
    "✔️ 100 to 200ms\n",
    "    - For latency-sensitive operations, you can achieve 100 to 200ms latency for S3 transfers, as per https://docs.aws.amazon.com/AmazonS3/latest/dev/optimizing-performance.html\n",
    "'''"
   ]
  },
  {
   "cell_type": "markdown",
   "metadata": {},
   "source": [
    " SAA-C02-AB-03-25\n",
    "\n",
    "> Which performance mode would be the right choice for an EFS file system where users will be running UNIX find commands to search for and filter files?\n",
    "\n",
    "- Either General Purpose or MaxIO\n",
    "\n",
    "- MaxIO\n",
    "\n",
    "- Neither General Purpose nor MaxIO\n",
    "\n",
    "- General Purpose"
   ]
  },
  {
   "cell_type": "code",
   "execution_count": null,
   "metadata": {},
   "outputs": [],
   "source": [
    "#collapse\n",
    "answers = '''\n",
    "- Either General Purpose or MaxIO\n",
    "\n",
    "- MaxIO\n",
    "\n",
    "- Neither General Purpose nor MaxIO\n",
    "\n",
    "✔️ General Purpose\n",
    "    - https://docs.aws.amazon.com/efs/latest/ug/performance.html\n",
    "'''"
   ]
  },
  {
   "cell_type": "markdown",
   "metadata": {},
   "source": [
    "SAA-C02-AB-03-27\n",
    "\n",
    "> What is the maximum throughput for S3 PUT/POST/COPY/DELETE operations on a per-prefix basis?\n",
    "\n",
    "- 4500\n",
    "\n",
    "- 5500\n",
    "\n",
    "- 2500\n",
    "\n",
    "- 3500"
   ]
  },
  {
   "cell_type": "code",
   "execution_count": null,
   "metadata": {},
   "outputs": [],
   "source": [
    "#collapse\n",
    "answers = '''\n",
    "- 4500\n",
    "\n",
    "- 5500\n",
    "\n",
    "- 2500\n",
    "\n",
    "✔️ 3500\n",
    "    - https://docs.aws.amazon.com/AmazonS3/latest/dev/optimizing-performance.html\n",
    "'''"
   ]
  },
  {
   "cell_type": "markdown",
   "metadata": {},
   "source": [
    " SAA-C02-AB-03-26\n",
    "\n",
    " > For an EFS file system, what is the maximum number of recommended concurrent transfers per client?\n",
    "\n",
    "- 80\n",
    "\n",
    "- 20\n",
    "\n",
    "- 40\n",
    "\n",
    "- 100\n",
    " "
   ]
  },
  {
   "cell_type": "code",
   "execution_count": null,
   "metadata": {},
   "outputs": [],
   "source": [
    "#collapse\n",
    "answers = '''\n",
    "- 80\n",
    "\n",
    "- 20\n",
    "\n",
    "✔️ 40\n",
    "    - AWS recommends up to 40 concurrent transfers per client, with a hard limit of 250Mbps per client overall.\n",
    "\n",
    "- 100\n",
    "'''"
   ]
  },
  {
   "cell_type": "markdown",
   "metadata": {},
   "source": [
    "SAA-C02-AB-01-29\n",
    "\n",
    " > Which CloudWatch metric is worth monitoring to ensure that your EFS file system is performing properly?\n",
    "\n",
    "- TotalIOBytes\n",
    "\n",
    "- BurstCreditBalance\n",
    "\n",
    "- PermittedThroughput\n",
    "\n",
    "- MetadataIOBytes"
   ]
  },
  {
   "cell_type": "code",
   "execution_count": null,
   "metadata": {},
   "outputs": [],
   "source": [
    "#collapse\n",
    "answers = '''\n",
    "- TotalIOBytes\n",
    "\n",
    "✔️ BurstCreditBalance\n",
    "    - If you have a large number of clients, the BurstCreditBalance metric can be used to determine if you are saturating the available bandwidth for the file system.\n",
    "\n",
    "- PermittedThroughput\n",
    "\n",
    "- MetadataIOBytes\n",
    "'''"
   ]
  },
  {
   "cell_type": "markdown",
   "metadata": {},
   "source": [
    " SAA-C02-AB-02-23\n",
    "\n",
    " > When enabling Predictive Auto Scaling, how long should you remain in forecast-only mode?\n",
    "\n",
    "- 24 hours\n",
    "\n",
    "- 48 hours\n",
    "\n",
    "- 12 hours\n",
    "\n",
    "- 1 week"
   ]
  },
  {
   "cell_type": "code",
   "execution_count": null,
   "metadata": {},
   "outputs": [],
   "source": [
    "#collapse\n",
    "answers = '''\n",
    "- 24 hours\n",
    "\n",
    "✔️ 48 hours\n",
    "    - https://aws.amazon.com/blogs/aws/new-predictive-scaling-for-ec2-powered-by-machine-learning/\n",
    "\n",
    "- 12 hours\n",
    "\n",
    "- 1 week\n",
    "'''"
   ]
  },
  {
   "cell_type": "markdown",
   "metadata": {},
   "source": [
    "SAA-C02-AB-03-22\n",
    "\n",
    " > Which of the following services allows customers to provision upper limits on performance?\n",
    " \n",
    "- DynamoDB\n",
    "\n",
    "- Cognito\n",
    "\n",
    "- CloudFront\n",
    "\n",
    "- Elastic Load Balancer"
   ]
  },
  {
   "cell_type": "code",
   "execution_count": null,
   "metadata": {},
   "outputs": [],
   "source": [
    "#collapse\n",
    "answers = '''\n",
    "✔️ DynamoDB\n",
    "    - DynamoDB allows for static provisioning of read and write ops to force an upper boundary on performance.\n",
    "\n",
    "- Cognito\n",
    "\n",
    "- CloudFront\n",
    "\n",
    "- Elastic Load Balancer\n",
    "'''"
   ]
  },
  {
   "cell_type": "markdown",
   "metadata": {},
   "source": [
    "SAA-C02-AB-02-27\n",
    "\n",
    " > How can you achieve 160,000 IOPS on a single EC2 instance?\n",
    " \n",
    "- It isn’t possible.\n",
    "\n",
    "- It is possible but only with certain instance types and multiple EBS volumes.\n",
    "\n",
    "- It is possible with any instance type.\n",
    "\n",
    "- It is possible but only with certain instance types and a single EBS volume."
   ]
  },
  {
   "cell_type": "code",
   "execution_count": null,
   "metadata": {},
   "outputs": [],
   "source": [
    "#collapse\n",
    "answers = '''\n",
    "- It isn’t possible.\n",
    "\n",
    "✔️ It is possible but only with certain instance types and multiple EBS volumes.\n",
    "    - Some bare-metal instance types at the higher levels of CPU/memory are able to accommodate a total of 160,000 IOPS across multiple EBS volumes.\n",
    "\n",
    "- It is possible with any instance type.\n",
    "\n",
    "- It is possible but only with certain instance types and a single EBS volume.\n",
    "'''"
   ]
  },
  {
   "cell_type": "markdown",
   "metadata": {},
   "source": [
    "SAA-C02-AB-01-27\n",
    "\n",
    " > The EBS _______ volume type has the lowest IOPS performance.\n",
    " \n",
    "- st1\n",
    "\n",
    "- Standard\n",
    "\n",
    "- gp2\n",
    "\n",
    "- sc1\n",
    "\n",
    "- piops"
   ]
  },
  {
   "cell_type": "code",
   "execution_count": null,
   "metadata": {},
   "outputs": [],
   "source": [
    "#collapse\n",
    "answers = '''\n",
    "\n",
    "- st1\n",
    "\n",
    "- Standard\n",
    "\n",
    "✔️ gp2\n",
    "    - EBS Standard volumes are designed as inexpensive, low-performance storage, with a maximum of several hundred IOPS.\n",
    "    - Pearson test answers list 'Standard' as the correct answer, but AWS docs say gp2 below.\n",
    "    - https://docs.aws.amazon.com/AWSEC2/latest/UserGuide/ebs-io-characteristics.html\n",
    "\n",
    "- sc1\n",
    "\n",
    "- piops\n",
    "'''"
   ]
  },
  {
   "cell_type": "markdown",
   "metadata": {},
   "source": [
    " SAA-C02-AB-03-30\n",
    "\n",
    " > EC2 placement groups can be applied to which of the following scopes?\n",
    " \n",
    "- Region\n",
    "\n",
    "- Multi-region\n",
    "\n",
    "- Availability zone\n",
    "\n",
    "- Global"
   ]
  },
  {
   "cell_type": "code",
   "execution_count": null,
   "metadata": {},
   "outputs": [],
   "source": [
    "#collapse\n",
    "answers = '''\n",
    "- Global\n",
    "\n",
    "- Multi-region\n",
    "\n",
    "- Availability zone\n",
    "\n",
    "✔️ Region\n",
    "    - https://docs.aws.amazon.com/AWSEC2/latest/UserGuide/placement-groups.html\n",
    "    - Placement groups can be configured to use multiple AZs within a region.\n",
    "'''"
   ]
  },
  {
   "cell_type": "markdown",
   "metadata": {},
   "source": [
    "SAA-C02-AB-02-22\n",
    "\n",
    " > Which of these is not a benefit of using a launch template instead of a launch configuration for Auto Scaling?\n",
    "\n",
    "- Use T2 Unlimited.\n",
    "\n",
    "- Use immutable objects with no versioning.\n",
    "\n",
    "- Use on-demand and spot instances at the same time.\n",
    "\n",
    "- Use multiple instance types."
   ]
  },
  {
   "cell_type": "code",
   "execution_count": null,
   "metadata": {},
   "outputs": [],
   "source": [
    "#collapse\n",
    "answers = '''\n",
    "- Use T2 Unlimited.\n",
    "\n",
    "✔️ Use immutable objects with no versioning.\n",
    "    - Launch templates allow for versioning so that it is simple to utilize a previous version if a rollback is required.\n",
    "\n",
    "- Use on-demand and spot instances at the same time.\n",
    "\n",
    "- Use multiple instance types.\n",
    "'''"
   ]
  },
  {
   "cell_type": "markdown",
   "metadata": {},
   "source": [
    "SAA-C02-AB-02-30\n",
    "\n",
    " > Which of the following strategies for accessing non-VPC resources optimizes for network performance?\n",
    "\n",
    "- Routing traffic through a VPG and using the corporate network Internet connection\n",
    "\n",
    "- Routing traffic through the Internet gateway\n",
    "\n",
    "- Routing traffic through a VPC endpoint\n",
    "\n",
    "- None of these"
   ]
  },
  {
   "cell_type": "code",
   "execution_count": null,
   "metadata": {},
   "outputs": [],
   "source": [
    "#collapse\n",
    "answers = '''\n",
    "- Routing traffic through a VPG and using the corporate network Internet connection\n",
    "\n",
    "- Routing traffic through the Internet gateway\n",
    "\n",
    "✔️ Routing traffic through a VPC endpoint\n",
    "    - Traffic that uses a VPC endpoint is proxied directly to the AWS service API endpoint and does not have to traverse the public AWS network or the Internet.\n",
    "\n",
    "- None of these\n",
    "'''"
   ]
  },
  {
   "cell_type": "markdown",
   "metadata": {},
   "source": [
    "SAA-C02-AB-03-37\n",
    "\n",
    " > Which of the following is a benefit of deploying a relational database on EC2 using the instance store volume instead of EBS?\n",
    "\n",
    "- Automatic data replication\n",
    "\n",
    "- Free storage\n",
    "\n",
    "- Highest resilience\n",
    "\n",
    "- Elasticity"
   ]
  },
  {
   "cell_type": "code",
   "execution_count": null,
   "metadata": {},
   "outputs": [],
   "source": [
    "#collapse\n",
    "answers = '''\n",
    "- Automatic data replication\n",
    "\n",
    "✔️ Free storage\n",
    "    - Instance store volumes do not have an associated charge but are provided as part of the instance type chosen.\n",
    "\n",
    "- Highest resilience\n",
    "\n",
    "- Elasticity\n",
    "'''"
   ]
  },
  {
   "cell_type": "markdown",
   "metadata": {},
   "source": [
    "SAA-C02-AB-03-32\n",
    "\n",
    " > Which type of EC2 placement group is designed for the highest resilience?\n",
    "\n",
    "- Partition placement group up\n",
    "\n",
    "- All placement groups\n",
    "\n",
    "- Spread placement group\n",
    "\n",
    "- Cluster placement group"
   ]
  },
  {
   "cell_type": "code",
   "execution_count": null,
   "metadata": {},
   "outputs": [],
   "source": [
    "#collapse\n",
    "answers = '''\n",
    "- Partition placement group up\n",
    "\n",
    "- All placement groups\n",
    "\n",
    "✔️ Spread placement group\n",
    "    - A spread placement group is not designed for node-to-node performance but rather for the highest resilience by guaranteeing separated resources for each EC2 instance.\n",
    "    - https://docs.aws.amazon.com/AWSEC2/latest/UserGuide/placement-groups.html\n",
    "\n",
    "- Cluster placement group\n",
    "'''"
   ]
  },
  {
   "cell_type": "markdown",
   "metadata": {},
   "source": [
    "## Mock 4 - 27/08/20 - Module 3: Security - 47%\n",
    "\n",
    "| Result    | FAIL   |\n",
    "|-----------|--------|\n",
    "| Mark      | 47\\.62 |\n",
    "| Attempted | 42     |\n",
    "| Correct   | 20     |\n"
   ]
  },
  {
   "cell_type": "markdown",
   "metadata": {},
   "source": [
    "SAA-C02-AB-02-42\n",
    "\n",
    " > Which of the following would not be allowed in an S3 bucket policy?\n",
    "\n",
    "- Deny cross-account access\n",
    "\n",
    "- Only allow access from a specific CIDR range\n",
    "\n",
    "- Deny access from the root credentials\n",
    "\n",
    "- Only allow access when SSL transport is used"
   ]
  },
  {
   "cell_type": "code",
   "execution_count": null,
   "metadata": {},
   "outputs": [],
   "source": [
    "#collapse\n",
    "answers = '''\n",
    "- Deny cross-account access\n",
    "\n",
    "- Only allow access from a specific CIDR range\n",
    "\n",
    "✔️ Deny access from the root credentials\n",
    "    - https://docs.aws.amazon.com/AmazonS3/latest/dev/access-policy-language-overview.html\n",
    "    - Any user with root credentials has full, unimpeded access to all AWS resources in the account.\n",
    "\n",
    "- Only allow access when SSL transport is used\n",
    "'''"
   ]
  },
  {
   "cell_type": "markdown",
   "metadata": {},
   "source": [
    "SAA-C02-AB-02-51\n",
    "\n",
    " > Which of the following defines the function of KMS in the AWS ecosystem?\n",
    "\n",
    "- A global-scoped service that uses resilient architecture to protect your encryption keys\n",
    "\n",
    "- A region-scoped service that uses resilient architecture to protect your encryption keys\n",
    "\n",
    "- An AZ-scoped service that uses resilient architecture to protect your encryption keys\n",
    "\n",
    "- A region-scoped service that uses dedicated tenancy resources to protect your encryption keys"
   ]
  },
  {
   "cell_type": "code",
   "execution_count": null,
   "metadata": {},
   "outputs": [],
   "source": [
    "#collapse\n",
    "answers = '''\n",
    "- A global-scoped service that uses resilient architecture to protect your encryption keys\n",
    "\n",
    "✔️ A region-scoped service that uses resilient architecture to protect your encryption keys\n",
    "    - KMS is a shared-tenancy, region-scoped service that replicates resources across multiple AZs to achieve data resiliency and durability.\n",
    "    - https://aws.amazon.com/kms/features/#Secure\n",
    "\n",
    "- An AZ-scoped service that uses resilient architecture to protect your encryption keys\n",
    "\n",
    "- A region-scoped service that uses dedicated tenancy resources to protect your encryption keys\n",
    "'''"
   ]
  },
  {
   "cell_type": "markdown",
   "metadata": {},
   "source": [
    " SAA-C02-AB-03-45\n",
    "\n",
    " > Route tables are applied to ____________ traffic.\n",
    "\n",
    "- inbound\n",
    "\n",
    "- outbound\n",
    "\n",
    "- Inbound and outbound\n",
    "\n",
    "- inbound or outbound"
   ]
  },
  {
   "cell_type": "code",
   "execution_count": null,
   "metadata": {},
   "outputs": [],
   "source": [
    "#collapse\n",
    "answers = '''\n",
    "- inbound\n",
    "\n",
    "✔️ outbound\n",
    "    -  https://docs.aws.amazon.com/vpc/latest/userguide/VPC_Route_Tables.html\n",
    "        - A route table contains a set of rules, called routes, that are used to determine where network traffic from your subnet or gateway is directed.\n",
    "    - Route tables are applied at the subnet boundary but only for outbound connections.\n",
    "\n",
    "- Inbound and outbound\n",
    "\n",
    "- inbound or outbound\n",
    "'''"
   ]
  },
  {
   "cell_type": "markdown",
   "metadata": {},
   "source": [
    "SAA-C02-AB-01-47\n",
    "\n",
    " > How can you design for end-to-end encryption at rest on an Elastic Load Balancing resource?\n",
    " \n",
    "- It is enabled by default.\n",
    "\n",
    "- Enable it by using the root credentials.\n",
    "\n",
    "- Configure a secure listener using TLS.\n",
    "\n",
    "- You can’t. The ELB does not support encryption of data at rest."
   ]
  },
  {
   "cell_type": "code",
   "execution_count": null,
   "metadata": {},
   "outputs": [],
   "source": [
    "#collapse\n",
    "answers = '''\n",
    "- It is enabled by default.\n",
    "\n",
    "- Enable it by using the root credentials.\n",
    "\n",
    "- Configure a secure listener using TLS.\n",
    "\n",
    "✔️ You can’t. The ELB does not support encryption of data at rest.\n",
    "    - The Elastic Load Balancing service does not need encryption at rest, as no data is ever persisted within the service for any length of time.\n",
    "'''"
   ]
  },
  {
   "cell_type": "markdown",
   "metadata": {},
   "source": [
    "SAA-C02-AB-01-38\n",
    "\n",
    " > What type of AWS accounts can be part of an AWS organization? (Select two.)\n",
    " \n",
    "- None of these\n",
    "\n",
    "- Accounts created programmatically from the organization master account\n",
    "\n",
    "- Standalone accounts\n",
    "\n",
    "- Primary subscription-based accounts"
   ]
  },
  {
   "cell_type": "code",
   "execution_count": null,
   "metadata": {},
   "outputs": [],
   "source": [
    "#collapse\n",
    "answers = '''\n",
    "- None of these\n",
    "\n",
    "✔️ Accounts created programmatically from the organization master account\n",
    "    - \"AWS Organizations is an account management service that enables you to consolidate multiple AWS accounts intoan organization that you create and centrally manage.\"\n",
    "    - \"AWS Organizations includes account management and consolidated billing capabilities that enable you to better meet the budgetary, security, and compliance needs of your business. As an administrator of an organization, you can create accounts in your organization and invite existing accounts to join the organization.\"\n",
    "    - \n",
    "\n",
    "✔️ Standalone accounts\n",
    "    - \"invited accounts that were previously standalone.\"\n",
    "\n",
    "- Primary subscription-based accounts\n",
    "'''"
   ]
  },
  {
   "cell_type": "markdown",
   "metadata": {},
   "source": [
    "SAA-C02-AB-02-47\n",
    "\n",
    " > When implementing file system storage using EFS, how can you enable at-rest encryption?\n",
    " \n",
    "- It can be enabled at any time during or after file system creation.\n",
    "\n",
    "- It is set by default.\n",
    "\n",
    "- EFS doesn’t support encryption at rest.\n",
    "\n",
    "- Upon file system creation, check the Encrypted File System option."
   ]
  },
  {
   "cell_type": "code",
   "execution_count": null,
   "metadata": {},
   "outputs": [],
   "source": [
    "#collapse\n",
    "answers = '''\n",
    "- It can be enabled at any time during or after file system creation.\n",
    "\n",
    "- It is set by default.\n",
    "\n",
    "- EFS doesn’t support encryption at rest.\n",
    "\n",
    "- Upon file system creation, check the Encrypted File System option.\n",
    "    - \"Upon file system creation, check the Encrypted File System option.\"\n",
    "    - https://docs.aws.amazon.com/efs/latest/ug/encryption-at-rest.html\n",
    "        - \"You can choose to enable encryption at rest for a file system when you create it.\"\n",
    "'''"
   ]
  },
  {
   "cell_type": "markdown",
   "metadata": {},
   "source": [
    "SAA-C02-AB-03-51\n",
    "\n",
    " > When designing a network architecture to use Direct Connect, under which conditions can the traffic be encrypted?\n",
    " \n",
    "- Direct Connect can use encryption across a public VIF to a VPG.\n",
    "\n",
    "- Direct Connect uses encryption by default.\n",
    "\n",
    "- Direct Connect can use encryption across a private VIF to a VPG.\n",
    "\n",
    "- Direct Connect can’t use encryption."
   ]
  },
  {
   "cell_type": "code",
   "execution_count": null,
   "metadata": {},
   "outputs": [],
   "source": [
    "#collapse\n",
    "answers = '''\n",
    "✔️ Direct Connect can use encryption across a public VIF to a VPG.\n",
    "    - \"Direct Connect can encrypt connections to individual VPCs using a VPN across a public virtual interface (VIF).\"\n",
    "    - https://docs.aws.amazon.com/directconnect/latest/UserGuide/WorkingWithVirtualInterfaces.html\n",
    "\n",
    "- Direct Connect uses encryption by default.\n",
    "\n",
    "- Direct Connect can use encryption across a private VIF to a VPG.\n",
    "\n",
    "- Direct Connect can’t use encryption.\n",
    "'''"
   ]
  },
  {
   "cell_type": "markdown",
   "metadata": {},
   "source": [
    "SAA-C02-AB-03-40\n",
    "\n",
    " > What is a consideration when implementing API gateway resource policies?\n",
    " \n",
    "- How these policies impact calls to Lambda functions?\n",
    "\n",
    "- None of the above\n",
    "\n",
    "- How these policies impact Cognito authorization workflows?\n",
    "\n",
    "- How these policies impact the cost of the service?"
   ]
  },
  {
   "cell_type": "code",
   "execution_count": null,
   "metadata": {},
   "outputs": [],
   "source": [
    "#collapse\n",
    "answers = '''\n",
    "- How these policies impact calls to Lambda functions?\n",
    "\n",
    "- None of the above\n",
    "\n",
    "✔️ How these policies impact Cognito authorization workflows?\n",
    "    - When implementing API gateway resource policies, it is important to understand that the policy is evaluated before the user is authenticated.\n",
    "    - https://docs.aws.amazon.com/apigateway/latest/developerguide/apigateway-authorization-flow.html\n",
    "        - \"After authenticating the user with the IAM service, the policies attached to the IAM user in addition to the resource policy are evaluated together. The outcome varies based on whether the caller is in the same account, or a separate AWS account, from the API owner.\"\n",
    "\n",
    "- How these policies impact the cost of the service?\n",
    "'''"
   ]
  },
  {
   "cell_type": "markdown",
   "metadata": {},
   "source": [
    "SAA-C02-AB-03-44\n",
    "\n",
    " > VPC security groups are appropriate for _______ and are applied at the ______ scope. (Select two)\n",
    " \n",
    "- subnet\n",
    "\n",
    "- network interface\t\n",
    "\n",
    "- whitelisting\n",
    "\n",
    "- blacklisting"
   ]
  },
  {
   "cell_type": "code",
   "execution_count": null,
   "metadata": {},
   "outputs": [],
   "source": [
    "#collapse\n",
    "answers = '''\n",
    "- subnet\n",
    "\n",
    "✔️ network interface\n",
    "    - \"Security groups are stateful firewall rules applied at the network interface scope.\"\n",
    "\n",
    "✔️ whitelisting\n",
    "    - \"Because they are stateful and block traffic by default, they are useful for whitelisting appropriate traffic.\"\n",
    "\n",
    "- blacklisting\n",
    "'''"
   ]
  },
  {
   "cell_type": "markdown",
   "metadata": {},
   "source": [
    "SAA-C02-AB-01-51\n",
    "\n",
    " > When configuring an S3 bucket to act as a static website, what are your options for TLS encryption for data in transit?\n",
    " \n",
    "- TLS isn’t possible for an S3 static website.\n",
    "\n",
    "- Apply a single hostname TLS certificate to the bucket.\n",
    "\n",
    "- Use the default s3.amazonaws.com TLS certificate.\n",
    "\n",
    "- Apply a vanity wildcard certificate to the bucket."
   ]
  },
  {
   "cell_type": "code",
   "execution_count": null,
   "metadata": {},
   "outputs": [],
   "source": [
    "#collapse\n",
    "answers = '''\n",
    "- TLS isn’t possible for an S3 static website.\n",
    "\n",
    "- Apply a single hostname TLS certificate to the bucket.\n",
    "\n",
    "✔️ Use the default s3.amazonaws.com TLS certificate.\n",
    "\n",
    "- Apply a vanity wildcard certificate to the bucket.\n",
    "'''"
   ]
  },
  {
   "cell_type": "markdown",
   "metadata": {},
   "source": [
    "SAA-C02-AB-01-42\n",
    "\n",
    " > Lambda function access policies apply to which of the following?\n",
    " \n",
    "- Layer version\n",
    "\n",
    "- Alias\n",
    "\n",
    "- Function\n",
    "\n",
    "- All of these\n",
    "\n",
    "- Version"
   ]
  },
  {
   "cell_type": "code",
   "execution_count": null,
   "metadata": {},
   "outputs": [],
   "source": [
    "#collapse\n",
    "answers = '''\n",
    "- Layer version\n",
    "\n",
    "- Alias\n",
    "\n",
    "- Function\n",
    "\n",
    "✔️ All of these\n",
    "    - https://docs.aws.amazon.com/lambda/latest/dg/access-control-resource-based.html\n",
    "\n",
    "- Version\n",
    "'''"
   ]
  },
  {
   "cell_type": "markdown",
   "metadata": {},
   "source": [
    "SAA-C02-AB-02-45\n",
    "\n",
    " > VPC NACLs are appropriate for _______ and are applied at the ______ scope.\n",
    " \n",
    "- blacklisting, subnet\n",
    "\n",
    "- whitelisting, subnet\n",
    "\n",
    "- whitelisting, network interface\n",
    "\n",
    "- blacklisting and whitelisting, VPC"
   ]
  },
  {
   "cell_type": "code",
   "execution_count": null,
   "metadata": {},
   "outputs": [],
   "source": [
    "#collapse\n",
    "answers = '''\n",
    "✔️ blacklisting, subnet\n",
    "    - https://docs.aws.amazon.com/vpc/latest/userguide/vpc-network-acls.html\n",
    "    - \"A network access control list (ACL) is an optional layer of security for your VPC that acts as a firewall for controlling traffic in and out of one or more subnets. You might set up network ACLs with rules similar to your security groups in order to add an additional layer of security to your VPC.\"\n",
    "\n",
    "- whitelisting, subnet\n",
    "\n",
    "- whitelisting, network interface\n",
    "\n",
    "- blacklisting and whitelisting, VPC\n",
    "'''"
   ]
  },
  {
   "cell_type": "markdown",
   "metadata": {},
   "source": [
    " SAA-C02-AB-02-49\n",
    "\n",
    " > Of the following services, which one will experience a documented performance impact if you enable encryption?\n",
    " \n",
    "- EBS\n",
    "\n",
    "- RDS\n",
    "\n",
    "- RedShift\n",
    "\n",
    "- S3"
   ]
  },
  {
   "cell_type": "code",
   "execution_count": null,
   "metadata": {},
   "outputs": [],
   "source": [
    "#collapse\n",
    "answers = '''\n",
    "- EBS\n",
    "\n",
    "- RDS\n",
    "\n",
    "- RedShift\n",
    "    - RedShift, while using hardware to assist with encryption, still experiences a performance impact of 20% to 40%, as documented at \n",
    "    - https://d1.awsstatic.com/whitepapers/redshift/Tableau_Redshift_Whitepaper.pdf.\n",
    "\n",
    "- S3\n",
    "'''"
   ]
  },
  {
   "cell_type": "markdown",
   "metadata": {},
   "source": [
    " SAA-C02-AB-02-40\n",
    "\n",
    " > Which IAM resource supports permission boundaries?\n",
    " \n",
    "- IAM User\n",
    "\n",
    "- IAM Group\n",
    "\n",
    "- IAM Role\n",
    "\n",
    "- IAM Policy"
   ]
  },
  {
   "cell_type": "code",
   "execution_count": null,
   "metadata": {},
   "outputs": [],
   "source": [
    "#collapse\n",
    "answers = '''\n",
    "✔️ IAM User\n",
    "    - https://docs.aws.amazon.com/IAM/latest/UserGuide/access_policies_boundaries.html\n",
    "\n",
    "- IAM Group\n",
    "\n",
    "- IAM Role\n",
    "\n",
    "- IAM Policy\n",
    "'''"
   ]
  },
  {
   "cell_type": "markdown",
   "metadata": {},
   "source": [
    " SAA-C02-AB-03-42\n",
    "\n",
    " > Which resource-based policy is required to exist in order to use the resource?\n",
    " \n",
    "- S3 bucket policy\n",
    "\n",
    "- KMS CMK key policy\n",
    "\n",
    "- Lambda function policy\n",
    "\n",
    "- Glacier vault policy"
   ]
  },
  {
   "cell_type": "code",
   "execution_count": null,
   "metadata": {},
   "outputs": [],
   "source": [
    "#collapse\n",
    "answers = '''\n",
    "- S3 bucket policy\n",
    "\n",
    "✔️ KMS CMK key policy\n",
    "    - \"The Customer master keys (CMK) cannot be used without a key policy in place, with statements for both key administrators and key users.\"\n",
    "    - https://docs.aws.amazon.com/kms/latest/developerguide/key-policies.html\n",
    "\n",
    "- Lambda function policy\n",
    "\n",
    "- Glacier vault policy\n",
    "'''"
   ]
  },
  {
   "cell_type": "markdown",
   "metadata": {},
   "source": [
    " SAA-C02-AB-01-48\n",
    "\n",
    " > Which service allows for at-rest encryption that can be set as a default using AWS root account credentials?\n",
    " \n",
    "- EBS\n",
    "\n",
    "- None of these\n",
    "\n",
    "- S3\n",
    "\n",
    "- RDS\n",
    "\n",
    "- EFS"
   ]
  },
  {
   "cell_type": "code",
   "execution_count": null,
   "metadata": {},
   "outputs": [],
   "source": [
    "#collapse\n",
    "answers = '''\n",
    "- EBS\n",
    "    - Of the choices listed, EBS volume encryption can be enabled by default on a per-region basis, but it does not require the root credentials to do so.\n",
    "\n",
    "✔️ None of these\n",
    "    - Of the choices listed, EBS volume encryption can be enabled by default on a per-region basis, but it does not require the root credentials to do so.\n",
    "\n",
    "- S3\n",
    "\n",
    "- RDS\n",
    "\n",
    "- EFS\n",
    "'''"
   ]
  },
  {
   "cell_type": "markdown",
   "metadata": {},
   "source": [
    "SAA-C02-AB-03-46\n",
    "\n",
    " > When using a virtual private gateway connection to an on-premises network, what traffic is encrypted?\n",
    " \n",
    "- Internal traffic only\n",
    "\n",
    "- Internal and external traffic\n",
    "\n",
    "- All traffic\n",
    "\n",
    "- No traffic"
   ]
  },
  {
   "cell_type": "code",
   "execution_count": null,
   "metadata": {},
   "outputs": [],
   "source": [
    "#collapse\n",
    "answers = '''\n",
    "- Internal traffic only\n",
    "\n",
    "- Internal and external traffic\n",
    "\n",
    "✔️ All traffic\n",
    "    - https://docs.aws.amazon.com/vpn/latest/s2svpn/internetwork-traffic-privacy.html\n",
    "    - \"Each Site-to-Site VPN connection consists of two encrypted IPsec VPN tunnels that link AWS and your network. Traffic in each tunnel can be encrypted with AES128 or AES256 and use Diffie-Hellman groups for key exchange, providing Perfect Forward Secrecy. AWS authenticates with SHA1 or SHA2 hashing functions.\"\n",
    "\n",
    "- No traffic\n",
    "'''"
   ]
  },
  {
   "cell_type": "markdown",
   "metadata": {},
   "source": [
    "SAA-C02-AB-02-46\n",
    "\n",
    " > VPC traffic mirroring can be applied to which resource?\n",
    " \n",
    "- Subnet\n",
    "\n",
    "- Region\n",
    "\n",
    "- VPC\n",
    "\n",
    "- Network interface"
   ]
  },
  {
   "cell_type": "code",
   "execution_count": null,
   "metadata": {},
   "outputs": [],
   "source": [
    "#collapse\n",
    "answers = '''\n",
    "- Subnet\n",
    "\n",
    "- Region\n",
    "\n",
    "- VPC\n",
    "\n",
    "✔️ Network interface\n",
    "    - \"VPC traffic mirroring can only be applied to a single ENI, and the traffic can be directed to either an ENI or a network load balancer.\"\n",
    "    - https://docs.aws.amazon.com/vpc/latest/mirroring/what-is-traffic-mirroring.html\n",
    "    - \"Traffic Mirroring is an Amazon VPC feature that you can use to copy network traffic from an elastic network interface of Amazon EC2 instances.\"\n",
    "'''"
   ]
  },
  {
   "cell_type": "markdown",
   "metadata": {},
   "source": [
    "SAA-C02-AB-01-49\n",
    "\n",
    " > Which two RDS database engines support Transparent Data Encryption (TDE)? (Select two.)\n",
    " \n",
    "- Oracle DB\t\n",
    "\n",
    "- MySQL\n",
    "\n",
    "- Postgres\n",
    "\n",
    "- SQL Server"
   ]
  },
  {
   "cell_type": "code",
   "execution_count": null,
   "metadata": {},
   "outputs": [],
   "source": [
    "#collapse\n",
    "answers = '''\n",
    "✔️ Oracle DB\t\n",
    "    - https://docs.aws.amazon.com/AmazonRDS/latest/UserGuide/Overview.Encryption.html\n",
    "\n",
    "- MySQL\n",
    "\n",
    "- Postgres\n",
    "\n",
    "✔️ SQL Server\n",
    "    - https://docs.aws.amazon.com/AmazonRDS/latest/UserGuide/Overview.Encryption.html\n",
    "'''"
   ]
  },
  {
   "cell_type": "markdown",
   "metadata": {},
   "source": [
    "SAA-C02-AB-03-49\n",
    "\n",
    " > When deploying a virtual private gateway (VPG) for a VPN, how does your traffic reach the remote network?\n",
    " \n",
    "- The traffic can only traverse a private fiber connection.\n",
    "\n",
    "- The traffic traverses the public Internet.\n",
    "\n",
    "- None of these is correct.\n",
    "\n",
    "- The traffic uses AWS global fiber to reach the destination."
   ]
  },
  {
   "cell_type": "code",
   "execution_count": null,
   "metadata": {},
   "outputs": [],
   "source": [
    "#collapse\n",
    "answers = '''\n",
    "- The traffic can only traverse a private fiber connection.\n",
    "\n",
    "✔️ The traffic traverses the public Internet.\n",
    "    - \"The VPG is assigned two publicly addressable IPv4 addresses for terminating a VPN connection and must be reached across public networks.\"\n",
    "\n",
    "- None of these is correct.\n",
    "\n",
    "- The traffic uses AWS global fiber to reach the destination.\n",
    "'''"
   ]
  },
  {
   "cell_type": "markdown",
   "metadata": {},
   "source": [
    "SAA-C02-AB-01-46\n",
    "\n",
    " > VPC endpoint traffic is delivered to the service API endpoint via which of the following?\n",
    " \n",
    "- Public Internet\n",
    "\n",
    "- AWS private network\n",
    "\n",
    "- AWS public network\n",
    "\n",
    "- Proxy"
   ]
  },
  {
   "cell_type": "code",
   "execution_count": null,
   "metadata": {},
   "outputs": [],
   "source": [
    "#collapse\n",
    "answers = '''\n",
    "- Public Internet\n",
    "\n",
    "- AWS private network\n",
    "\n",
    "- AWS public network\n",
    "\n",
    "✔️ Proxy\n",
    "    - \"VPC gateway and interface endpoints use a proxy to pass traffic to the service API endpoint, bypassing the AWS network entirely.\"\n",
    "'''"
   ]
  },
  {
   "cell_type": "markdown",
   "metadata": {},
   "source": [
    "## Mock 5 - 01/09/20 - Module 4: Cost Optimisation - 57.50%\n",
    "\n",
    "| Result    | FAIL   |\n",
    "|-----------|--------|\n",
    "| Mark      | 57\\.50 |\n",
    "| Attempted | 40     |\n",
    "| Correct   | 23     |"
   ]
  },
  {
   "cell_type": "markdown",
   "metadata": {},
   "source": [
    "SAA-C02-AB-02-52\n",
    "\n",
    " > Which EBS volume type would be appropriate for low-cost, low-performance requirements with more than 1TB data to be placed?\n",
    " \n",
    "- gp2\n",
    "\n",
    "- piops\n",
    "\n",
    "- st1\n",
    "\n",
    "- sc1\n",
    "\n",
    "- Standard"
   ]
  },
  {
   "cell_type": "code",
   "execution_count": null,
   "metadata": {},
   "outputs": [],
   "source": [
    "#collapse\n",
    "answers = '''\n",
    "- gp2\n",
    "    - \"Recommended for most workloads\"\n",
    "\n",
    "\n",
    "- piops\n",
    "\n",
    "- st1\n",
    "\n",
    "✔️ sc1\n",
    "    - https://docs.aws.amazon.com/AWSEC2/latest/UserGuide/ebs-volume-types.html\n",
    "    - \"sc1, or cold-storage HDD, is designed for infrequent access at a low price and supports up to 16TB per volume.\"\n",
    "\n",
    "- Standard\n",
    "    - Standard is \"previous generation\" according to AWS docs\n",
    "\n",
    "'''"
   ]
  },
  {
   "cell_type": "markdown",
   "metadata": {},
   "source": [
    "SAA-C02-AB-01-59\n",
    "\n",
    " > When deploying VMs onto a dedicated host, which pricing options are available for the individual VMs? (Select two.)\n",
    " \n",
    "- Static\n",
    "\n",
    "- Dynamic\n",
    "\n",
    "- Spot\n",
    "\n",
    "- Reservation\n",
    "\n",
    "- On-demand"
   ]
  },
  {
   "cell_type": "code",
   "execution_count": null,
   "metadata": {},
   "outputs": [],
   "source": [
    "#collapse\n",
    "answers = '''\n",
    "- Static\n",
    "\n",
    "- Dynamic\n",
    "\n",
    "- Spot\n",
    "\n",
    "✔️ Reservation\n",
    "\n",
    "✔️ On-demand\n",
    "    - \"Dedicated host pricing is based on the overall capacity of each bare-metal server. Because the entire server is dedicated, it isn’t possible to use it for spot instances, but on-demand and reserved instance pricing are still available.\"\n",
    "'''"
   ]
  },
  {
   "cell_type": "markdown",
   "metadata": {},
   "source": [
    "SAA-C02-AB-02-54\n",
    "\n",
    " > Which S3 storage class exhibits the lowest gigabytes-per-month storage cost and still complies with low-latency requirements?\n",
    " \n",
    "- S3 Intelligent-tiering\n",
    "\n",
    "- Standard\n",
    "\n",
    "- Z-IA\n",
    "    \n",
    "- S3-IA"
   ]
  },
  {
   "cell_type": "code",
   "execution_count": null,
   "metadata": {},
   "outputs": [],
   "source": [
    "#collapse\n",
    "answers = '''\n",
    "- S3 Intelligent-tiering\n",
    "\n",
    "- Standard\n",
    "\n",
    "✔️ Z-IA\n",
    "    - https://jonwhittlestone.github.io/notes/aws/revision/2020/07/29/saa-c02-chad-smith-pearson-live-lesson.html#Object-storage-costs\n",
    "    - \"S3 One Zone-Infrequent Access is designed for the lowest-cost storage while still meeting low-latency requirements. The data is replicated within a single AZ in a region instead of across the region, which does reduce availability to 3 9s\"\n",
    "\n",
    "- S3-IA\n",
    "'''"
   ]
  },
  {
   "cell_type": "markdown",
   "metadata": {},
   "source": [
    "SAA-C02-AB-03-58\n",
    "\n",
    " > When deploying Aurora Serverless versus RDS, what is one cost consideration that should be reviewed strategically before implementation?\n",
    " \n",
    "- Aurora Serverless is always more expensive than RDS.\n",
    "\n",
    "- Aurora Serverless compute and storage resources are dynamic and auto-scaled.\n",
    "\n",
    "- Aurora Serverless compute and storage resources are static and predictable.\n",
    "\n",
    "- Aurora Serverless is always less expensive than RDS."
   ]
  },
  {
   "cell_type": "code",
   "execution_count": null,
   "metadata": {},
   "outputs": [],
   "source": [
    "#collapse\n",
    "answers = '''\n",
    "- Aurora Serverless is always more expensive than RDS.\n",
    "\n",
    "✔️ Aurora Serverless compute and storage resources are dynamic and auto-scaled.\n",
    "    - \"Aurora Serverless can be a low-cost relational database solution when it is managed properly, but if the auto-scaling limits are set very high, it is possible to generate a lot of cost with a few long-running queries.\"\n",
    "\n",
    "- Aurora Serverless compute and storage resources are static and predictable.\n",
    "\n",
    "- Aurora Serverless is always less expensive than RDS.\n",
    "'''"
   ]
  },
  {
   "cell_type": "markdown",
   "metadata": {},
   "source": [
    "SAA-C02-AB-03-62\n",
    "\n",
    " > When enabling VPC flow logs, what is the effect on your monthly AWS bill?\n",
    " \n",
    "- Charges for the amount of data processed\n",
    "\n",
    "- Charges for data stored\n",
    "\n",
    "- No charges\n",
    "\n",
    "- Charges for the amount of data processed and data stored"
   ]
  },
  {
   "cell_type": "code",
   "execution_count": null,
   "metadata": {},
   "outputs": [],
   "source": [
    "#collapse\n",
    "answers = '''\n",
    "- Charges for the amount of data processed\n",
    "\n",
    "- Charges for data stored\n",
    "\n",
    "- No charges\n",
    "\n",
    "✔️ Charges for the amount of data processed and data stored\n",
    "    - https://docs.aws.amazon.com/vpc/latest/userguide/flow-logs.html#flow-logs-pricing\n",
    "    - \"VPC flow logs, regardless of scope (VPC, subnet, or ENI), are charged based on the data processed and data stored in either S3 or CloudWatch logs.\"\n",
    "'''"
   ]
  },
  {
   "cell_type": "markdown",
   "metadata": {},
   "source": [
    "SAA-C02-AB-03-64\n",
    "\n",
    " > What cost would you expect on your monthly bill for data throughput from traffic generated between EC2 and an S3 bucket in the same region, assuming that the EC2 instances are in public subnets?\n",
    " \n",
    "- There will be no throughput charges, but there will be S3 access charges.\n",
    "\n",
    "- The cost will depend on throughput.\n",
    "\n",
    "- There will be throughput charges and S3 access charges.\n",
    "\n",
    "- There will be no cost whatsoever."
   ]
  },
  {
   "cell_type": "code",
   "execution_count": null,
   "metadata": {},
   "outputs": [],
   "source": [
    "#collapse\n",
    "answers = '''\n",
    "✔️ There will be no throughput charges, but there will be S3 access charges.\n",
    "    - \"There are no network throughput charges for accessing an S3 bucket in the same region, but there are S3 service charges for every operation performed against objects in a bucket.\"\n",
    "\n",
    "- The cost will depend on throughput.\n",
    "\n",
    "- There will be throughput charges and S3 access charges.\n",
    "\n",
    "- There will be no cost whatsoever.\n",
    "'''"
   ]
  },
  {
   "cell_type": "markdown",
   "metadata": {},
   "source": [
    "SAA-C02-AB-03-59\n",
    "\n",
    " > What is a difference in the RedShift pricing model as compared to RDS and Aurora?\n",
    " \n",
    "- RedShift does not charge for data storage resources.\n",
    "\n",
    "- RedShift is priced similarly to RDS for compute and storage resources.\n",
    "\n",
    "- RedShift is priced similarly to Aurora for compute and storage resources.\n",
    "\n",
    "- RedShift does not charge for compute resources."
   ]
  },
  {
   "cell_type": "code",
   "execution_count": null,
   "metadata": {},
   "outputs": [],
   "source": [
    "#collapse\n",
    "answers = '''\n",
    "✔️ RedShift does not charge for data storage resources.\n",
    "    - \"A RedShift cluster is deployed according to the number of compute nodes chosen. Storage is statically allocated to each compute node and is not part of the cost structure for the service.\"\n",
    "\n",
    "- RedShift is priced similarly to RDS for compute and storage resources.\n",
    "\n",
    "- RedShift is priced similarly to Aurora for compute and storage resources.\n",
    "\n",
    "- RedShift does not charge for compute resources.\n",
    "    - \"A RedShift cluster is deployed according to the number of compute nodes chosen. Storage is statically allocated to each compute node and is not part of the cost structure for the service.\"\n",
    "'''"
   ]
  },
  {
   "cell_type": "markdown",
   "metadata": {},
   "source": [
    "SAA-C02-AB-03-53\n",
    "\n",
    "> Which EBS volume type would be an appropriate choice for a throughput-bound application with midlevel performance requirements and also a requirement for cost optimization?\n",
    " \n",
    "- Standard\n",
    "\n",
    "- gp2\n",
    "\n",
    "- sc1\n",
    "\n",
    "- piops\n",
    "\n",
    "- st1"
   ]
  },
  {
   "cell_type": "code",
   "execution_count": null,
   "metadata": {},
   "outputs": [],
   "source": [
    "#collapse\n",
    "answers = '''\n",
    "- Standard\n",
    "\n",
    "- gp2\n",
    "\n",
    "- sc1\n",
    "\n",
    "- piops\n",
    "\n",
    "✔️ st1\n",
    "    - \"Throughput-optimized HDD volumes are a good choice for applications that frequently perform large data copies to disk. ST1 volumes are also less expensive than any SSD solution.\"\n",
    "'''"
   ]
  },
  {
   "cell_type": "markdown",
   "metadata": {},
   "source": [
    "SAA-C02-AB-02-57\n",
    "\n",
    "> If your application requires software that must be licensed by single tenancy (that is, if you are the only customer on the hardware), which of the following EC2 pricing models will satisfy the requirement? (Choose two.)\n",
    " \n",
    "- Spot\t\n",
    "\n",
    "- Dedicated instance\n",
    "\n",
    "- Reservation\t\n",
    "\n",
    "- On-demand\n",
    "\n",
    "- Dedicated host"
   ]
  },
  {
   "cell_type": "code",
   "execution_count": null,
   "metadata": {},
   "outputs": [],
   "source": [
    "#collapse\n",
    "answers = '''\n",
    "- Spot\t\n",
    "\n",
    "✔️ Dedicated instance\n",
    "    - \"Dedicated instances and dedicated hosts both meet the requirement for single-tenancy virtual machines, where only one customer is on the hardware.\"\n",
    "\n",
    "- Reservation\t\n",
    "\n",
    "- On-demand\n",
    "\n",
    "✔️ Dedicated host\n",
    "    - \"Dedicated instances and dedicated hosts both meet the requirement for single-tenancy virtual machines, where only one customer is on the hardware.\"\n",
    "'''"
   ]
  },
  {
   "cell_type": "markdown",
   "metadata": {},
   "source": [
    "SAA-C02-AB-02-62\n",
    "\n",
    "> Of the following VPC resources that are charged hourly and for traffic throughput, which one is likely to cost the most?\n",
    " \n",
    "- VPC peering connection\n",
    "\n",
    "- VPC interface endpoint\n",
    "\n",
    "- VPC transit gateway\n",
    "\n",
    "- Virtual private gateway"
   ]
  },
  {
   "cell_type": "code",
   "execution_count": null,
   "metadata": {},
   "outputs": [],
   "source": [
    "#collapse\n",
    "answers = '''\n",
    "- VPC peering connection\n",
    "\n",
    "- VPC interface endpoint\n",
    "\n",
    "✔️ VPC transit gateway\n",
    "    - \"VPC transit gateways are charged for every attachment, so they do not involve just a static hourly charge as the other egress points do.\"\n",
    "    - https://aws.amazon.com/transit-gateway/features/\n",
    "\n",
    "- Virtual private gateway\n",
    "'''"
   ]
  },
  {
   "cell_type": "markdown",
   "metadata": {},
   "source": [
    "SAA-C02-AB-02-54\n",
    "\n",
    "> Which S3 storage class would be appropriate for data that will be accessed infrequently but that still requires low-latency access and a high-availability SLA?\n",
    " \n",
    "- Glacier Deep Archive\n",
    "\n",
    "- S3-IA\n",
    "\n",
    "- Standard\n",
    "\n",
    "- Glacier"
   ]
  },
  {
   "cell_type": "code",
   "execution_count": null,
   "metadata": {},
   "outputs": [],
   "source": [
    "#collapse\n",
    "answers = '''\n",
    "- Glacier Deep Archive\n",
    "\n",
    "✔️ S3-IA\n",
    "    - \"S3 One Zone-Infrequent Access is designed for the lowest-cost storage while still meeting low-latency requirements. The data is replicated within a single AZ in a region instead of across the region, which does reduce availability to 3 9s.\"\n",
    "\n",
    "- Standard\n",
    "\n",
    "- Glacier\n",
    "'''"
   ]
  },
  {
   "cell_type": "markdown",
   "metadata": {},
   "source": [
    "SAA-C02-AB-01-58\n",
    "\n",
    "> When deploying ECS containers onto Fargate compute resources, what is a cost consideration that should be taken into account when comparing against ECS on EC2?\n",
    " \n",
    "- For long-running container jobs, it can be more expensive than ECS on EC2.\n",
    "\n",
    "- It is always more expensive than ECS on EC2.\n",
    "\n",
    "- It is always less expensive than ECS on EC2.\n",
    "\n",
    "- For short-running container jobs, it can be more expensive than ECS on EC2."
   ]
  },
  {
   "cell_type": "code",
   "execution_count": null,
   "metadata": {},
   "outputs": [],
   "source": [
    "#collapse\n",
    "answers = '''\n",
    "✔️ For long-running container jobs, it can be more expensive than ECS on EC2.\n",
    "    - \"For long-running container jobs, it can be more expensive than ECS on EC2.\"\n",
    "\n",
    "- It is always more expensive than ECS on EC2.\n",
    "\n",
    "- It is always less expensive than ECS on EC2.\n",
    "\n",
    "- For short-running container jobs, it can be more expensive than ECS on EC2.v\n",
    "'''"
   ]
  },
  {
   "cell_type": "markdown",
   "metadata": {},
   "source": [
    "SAA-C02-AB-03-65\n",
    "\n",
    "> What charges would you expect for traffic originating in a VPC and traversing a cross-region VPC peering connection to another VPC?\n",
    " \n",
    "- Hourly charge but no throughput charge\n",
    "\n",
    "- Hourly charge and throughput charge\n",
    "\n",
    "- No hourly charge but throughput charge\n",
    "\n",
    "- No hourly charge, no throughput charge"
   ]
  },
  {
   "cell_type": "code",
   "execution_count": null,
   "metadata": {},
   "outputs": [],
   "source": [
    "#collapse\n",
    "answers = '''\n",
    "- Hourly charge but no throughput charge\n",
    "\n",
    "✔️ Hourly charge and throughput charge\n",
    "    - \"VPC peering connections are charged by the hour and for throughput, regardless of the destination (even within the same AZ).\"\n",
    "\n",
    "- No hourly charge but throughput charge\n",
    "\n",
    "- No hourly charge, no throughput charge\n",
    "'''"
   ]
  },
  {
   "cell_type": "markdown",
   "metadata": {},
   "source": [
    " SAA-C02-AB-03-56\n",
    "\n",
    "> Given a storage requirement of 750GB and 50Mbps throughput, which EBS storage type would be the lowest-cost solution?\n",
    " \n",
    "- piops\n",
    "\n",
    "- gp2\n",
    "\n",
    "- sc1\n",
    "\n",
    "- Standard\n",
    "\n",
    "- st1"
   ]
  },
  {
   "cell_type": "code",
   "execution_count": null,
   "metadata": {},
   "outputs": [],
   "source": [
    "#collapse\n",
    "answers = '''\n",
    "- piops\n",
    "\n",
    "- gp2\n",
    "\n",
    "- sc1\n",
    "\n",
    "️✔️ S️tandard\n",
    "    - \"Assuming that the volume is not exceeding 100 IOPS regularly, an EBS standard type volume would be the most cost-effective solution.\"\n",
    "\n",
    "- st1\n",
    "'''"
   ]
  },
  {
   "cell_type": "markdown",
   "metadata": {},
   "source": [
    "SAA-C02-AB-02-55\n",
    "\n",
    "> If your data storage requirements are to implement the lowest possible storage cost, and latency of access can be up to 12 hours, which of the following would be the most appropriate choice?\n",
    " \n",
    "- Glacier\n",
    "\n",
    "- S3-IA\n",
    "\n",
    "- Z-IA\n",
    "\n",
    "- Glacier Deep Archive"
   ]
  },
  {
   "cell_type": "code",
   "execution_count": null,
   "metadata": {},
   "outputs": [],
   "source": [
    "#collapse\n",
    "answers = '''\n",
    "️️️- Glacier\n",
    "\n",
    "- S3-IA\n",
    "\n",
    "- Z-IA\n",
    "\n",
    "️️ ️️✔️️ ️️Glacier Deep Archive\n",
    "    - Glacier Deep Archive is the least expensive choice for data storage in AWS. The trade-off for cheap per-gigabyte storage cost is a long latency to access (up to 12 hours).\n",
    "'''"
   ]
  },
  {
   "cell_type": "markdown",
   "metadata": {},
   "source": [
    "SAA-C02-AB-02-53\n",
    "\n",
    "> If your data requirements include “infrequent usage” and “optimize for storage cost,” which S3 storage class would not be appropriate for deploying the objects?\n",
    " \n",
    "- Z-IA\n",
    "\n",
    "- Glacier\n",
    "\n",
    "- S3-IA\n",
    "\n",
    "- Standard"
   ]
  },
  {
   "cell_type": "code",
   "execution_count": null,
   "metadata": {},
   "outputs": [],
   "source": [
    "#collapse\n",
    "answers = '''\n",
    "- Z-IA\n",
    "\n",
    "- Glacier\n",
    "\n",
    "- S3-IA\n",
    "\n",
    "✔️ Standard\n",
    "    - \"The S3 Standard storage class is the most expensive for monthly per-gigabyte cost\"\n",
    "'''"
   ]
  },
  {
   "cell_type": "code",
   "execution_count": null,
   "metadata": {},
   "outputs": [],
   "source": []
  }
 ],
 "metadata": {
  "kernelspec": {
   "display_name": "Python 3.7.2 64-bit",
   "language": "python",
   "name": "python_defaultSpec_1598249068125"
  },
  "language_info": {
   "file_extension": ".py",
   "mimetype": "text/x-python",
   "name": "python",
   "version": "3.7.2-final"
  }
 },
 "nbformat": 4,
 "nbformat_minor": 4
}