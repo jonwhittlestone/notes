{
 "cells": [
  {
   "cell_type": "markdown",
   "metadata": {},
   "source": [
    "# SAA-C02 AWS solutions architect question review\n",
    "> Notes on wrong questions\n",
    "\n",
    "- toc: true\n",
    "- badges: false\n",
    "- comments: true\n",
    "- categories: ['AWS', 'Revision']\n",
    "- image: https://i.imgur.com/s9blYpT.png"
   ]
  },
  {
   "cell_type": "markdown",
   "metadata": {},
   "source": [
    "<style>\n",
    "table {font-size:100%; white-space:inherit}\n",
    "table td {max-width:inherit}\n",
    "</style>\n",
    "\n",
    "With the O'Reilly subscription, there are some [practice AWS tests from Pearson](https://pearsontestprep.com/#/examsettings).\n",
    "\n",
    "The idea is that I can take a mock exam covering all modules, and mock exams focusing on individual modules.\n",
    "\n",
    "To reference my past exams in the Pearson Interface visit **View Exam History** > **Question Review** and filter on **Incorrect Questions**\n"
   ]
  },
  {
   "cell_type": "markdown",
   "metadata": {},
   "source": [
    "## Mock 1 - 20/08/20 - All Modules\n",
    "\n",
    " Result  | FAIL     \n",
    "---------|----------\n",
    " Mark    | 58\\.46 % \n",
    " Correct | 38       \n",
    "\n",
    "\n",
    "\n",
    "\n"
   ]
  },
  {
   "cell_type": "code",
   "execution_count": null,
   "metadata": {},
   "outputs": [],
   "source": []
  },
  {
   "cell_type": "markdown",
   "metadata": {},
   "source": [
    "> 1 & 2: What is the purpose of the VPC “Main” route table?\n",
    "\n",
    "\n",
    "- A default route table all subnets will leverage if a custom table is not defined and associated\n",
    "- All routes build off the main table, and both tables are evaluated simultaneously to create routes.\n",
    "- The main route table only applies to the default VPC to uniquely identify the default VPC route tables.\n",
    "- Main simply identifies the first route table."
   ]
  },
  {
   "cell_type": "code",
   "execution_count": null,
   "metadata": {},
   "outputs": [],
   "source": [
    "#collapse\n",
    "\n",
    "answers = '''\n",
    "✔️ A default route table all subnets will leverage if a custom table is not defined and associated\n",
    "- All routes build off the main table, and both tables are evaluated simultaneously to create routes.\n",
    "- The main route table only applies to the default VPC to uniquely identify the default VPC route tables.\n",
    "- Main simply identifies the first route table.\n",
    "'''"
   ]
  },
  {
   "cell_type": "markdown",
   "metadata": {},
   "source": [
    "3. In what increments does Lambda charge?\n",
    "\n",
    "- 100ms\n",
    "- 1 second\n",
    "- 1 minute\n",
    "- 15 minutes\n"
   ]
  },
  {
   "cell_type": "code",
   "execution_count": null,
   "metadata": {},
   "outputs": [],
   "source": [
    "#collapse\n",
    "answers = '''\n",
    "- 100ms\n",
    "- 1 second\n",
    "- 1 minute\n",
    "- 15 minutes\n",
    "'''"
   ]
  },
  {
   "cell_type": "markdown",
   "metadata": {},
   "source": [
    "5. What service will evaluate VPC Flow Logs, CloudTrail Logs, as well as Route53 DNS Lookup logs and provide machine learning to identify both known and unknown threats?\n",
    "\n",
    "- AWS Inspector\n",
    "- AWS LogLearner\n",
    "- AWS Guard Duty\n",
    "- AWS Macie"
   ]
  },
  {
   "cell_type": "code",
   "execution_count": null,
   "metadata": {},
   "outputs": [],
   "source": [
    "#collapse\n",
    "answers = '''\n",
    "- AWS Inspector\n",
    "- AWS LogLearner\n",
    "- AWS Guard Duty\n",
    "- AWS Macie\n",
    "'''"
   ]
  },
  {
   "cell_type": "markdown",
   "metadata": {},
   "source": [
    "9. What is NOT an authentication element that the Security Token Service (STS) will issue?\n",
    "\n",
    "- Access Key ID\n",
    "- Authentication Token\n",
    "- Session Token\n",
    "- Secret Access Key"
   ]
  },
  {
   "cell_type": "code",
   "execution_count": null,
   "metadata": {},
   "outputs": [],
   "source": [
    "#collapse\n",
    "answers = '''\n",
    "- Access Key ID\n",
    "- Authentication Token\n",
    "- Session Token\n",
    "- Secret Access Key\n",
    "'''"
   ]
  },
  {
   "cell_type": "markdown",
   "metadata": {},
   "source": [
    "12. What is NOT a possible benefit of Direct Connect??\n",
    "\n",
    "- Cost Savings\n",
    "- Increased Security\n",
    "- Performance Improvement\n",
    "- Encrypted Communication"
   ]
  },
  {
   "cell_type": "code",
   "execution_count": null,
   "metadata": {},
   "outputs": [],
   "source": [
    "#collapse\n",
    "answers = '''\n",
    "- Cost Savings\n",
    "- Increased Security\n",
    "- Performance Improvement\n",
    "- Encrypted Communication\n",
    "'''"
   ]
  },
  {
   "cell_type": "markdown",
   "metadata": {},
   "source": [
    "14. What is not accurate about AWS Elastic Map Reduce (EMR) as a service?\n",
    "\n",
    "- EMR can run spark\n",
    "- EMR can be used as a NoSQL offering\n",
    "- EMR can be used as a Data Warehouse\n",
    "- EMR can be used as an ETL engine\n",
    "- EMR can only be used for sofware pre-defined for use with EMR"
   ]
  },
  {
   "cell_type": "code",
   "execution_count": null,
   "metadata": {},
   "outputs": [],
   "source": [
    "#collapse\n",
    "answers = '''\n",
    "- EMR can run spark\n",
    "- EMR can be used as a NoSQL offering\n",
    "- EMR can be used as a Data Warehouse\n",
    "- EMR can be used as an ETL engine\n",
    "- EMR can only be used for sofware pre-defined for use with EMR\n",
    "'''"
   ]
  },
  {
   "cell_type": "markdown",
   "metadata": {},
   "source": [
    "16. What statements are true about VPCs? (Choose 2)\n",
    "\n",
    "- Subnets can span availability zones\t\n",
    "- A VPC can have the same IP address range as another VPC in the same AWS account\n",
    "- A VPC can span AWS Regions\n",
    "- Secondary VPC CIDR blocks can be added after the VPC is created\n",
    "- If DHCP needs change in the VPC, you can deploy your own EC2 DHCP instance"
   ]
  },
  {
   "cell_type": "code",
   "execution_count": null,
   "metadata": {},
   "outputs": [],
   "source": [
    "#collapse\n",
    "answers = '''\n",
    "- Subnets can span availability zones\t\n",
    "- A VPC can have the same IP address range as another VPC in the same AWS account\n",
    "- A VPC can span AWS Regions\n",
    "- Secondary VPC CIDR blocks can be added after the VPC is created\n",
    "- If DHCP needs change in the VPC, you can deploy your own EC2 DHCP instance\n",
    "'''"
   ]
  },
  {
   "cell_type": "markdown",
   "metadata": {},
   "source": [
    "20. When using Redshift Spectrum, what command will ‘mount’ S3 data to a table in Redshift?\n",
    "\n",
    "- S3 Mount Table\t\n",
    "- Create External Table\n",
    "- Create External Schema\n",
    "- Create S3 Table"
   ]
  },
  {
   "cell_type": "code",
   "execution_count": null,
   "metadata": {},
   "outputs": [],
   "source": [
    "#collapse\n",
    "answers = '''\n",
    "- S3 Mount Table\t\n",
    "- Create External Table\n",
    "- Create External Schema\n",
    "- Create S3 Table\n",
    "'''"
   ]
  },
  {
   "cell_type": "markdown",
   "metadata": {},
   "source": [
    "22. You have been surprised by your EBS and S3 storage costs and have realized you may have a problem to investigate. You identify that your EBS snapshots are consuming far more space than expected. What is likely a problem?\n",
    "\n",
    "- Snapshots are being taken too often\t\n",
    "- Snapshots are being performed on root/boot volumes\n",
    "- Snapshots are full backups only and will store excessive amounts\n",
    "- Snapshots are 2x the cost of EBS and could be operating as expected\n"
   ]
  },
  {
   "cell_type": "code",
   "execution_count": null,
   "metadata": {},
   "outputs": [],
   "source": [
    "#collapse\n",
    "answers = '''\n",
    "- Snapshots are being taken too often\t\n",
    "- Snapshots are being performed on root/boot volumes\n",
    "- Snapshots are full backups only and will store excessive amounts\n",
    "- Snapshots are 2x the cost of EBS and could be operating as expected\n",
    "'''"
   ]
  },
  {
   "cell_type": "markdown",
   "metadata": {},
   "source": [
    "24. Your development team wishes to have a tool they can use to push code into test and production systems. These systems both operate in AWS as well as on-premises. What could be a viable option for this need?\n",
    "\n",
    "- AWS OpsWorks\t\n",
    "- AWS CodeDeploy\n",
    "- AWS Systems Manager\n",
    "- All of the above"
   ]
  },
  {
   "cell_type": "code",
   "execution_count": null,
   "metadata": {},
   "outputs": [],
   "source": [
    "#collapse\n",
    "answers = '''\n",
    "- AWS OpsWorks\t\n",
    "- AWS CodeDeploy\n",
    "- AWS Systems Manager\n",
    "- All of the above\n",
    "'''"
   ]
  },
  {
   "cell_type": "markdown",
   "metadata": {},
   "source": [
    "26. What command is used to load data into Redshift from an external data source?\n",
    "\n",
    "- `COPY`\t\n",
    "- `VACUUM`\n",
    "- `DEEP COPY`\n",
    "- `LOAD DATA`"
   ]
  },
  {
   "cell_type": "code",
   "execution_count": null,
   "metadata": {},
   "outputs": [],
   "source": [
    "#collapse\n",
    "answers = '''\n",
    "- `COPY`\t\n",
    "- `VACUUM`\n",
    "- `DEEP COPY`\n",
    "- `LOAD DATA`\n",
    "'''"
   ]
  },
  {
   "cell_type": "markdown",
   "metadata": {},
   "source": [
    "30. You wish to request 100 spot instances together at once for a large job. What service offering will achieve this?\n",
    "\n",
    "- Standard spot request. Just define the quantity required when submitting a spot request\t\n",
    "- Spot Fleet\n",
    "- Spot Cluster\n",
    "- Standard spot request, one at a time; though all hundred could be requested with 100 requests"
   ]
  },
  {
   "cell_type": "code",
   "execution_count": null,
   "metadata": {},
   "outputs": [],
   "source": [
    "#collapse\n",
    "answers = '''\n",
    "- Standard spot request. Just define the quantity required when submitting a spot request\t\n",
    "- Spot Fleet\n",
    "- Spot Cluster\n",
    "- Standard spot request, one at a time; though all hundred could be requested with 100 requests\n",
    "'''"
   ]
  },
  {
   "cell_type": "markdown",
   "metadata": {},
   "source": [
    "33. You wish to provide a network file share which is mountable on Windows or Linux. What service if any is a possible option?\n",
    "\n",
    "- AWS Elastic File Service (EFS)\n",
    "- AWS Elastic Block Storage (EBS)\n",
    "- AWS S3\n",
    "- None of the above"
   ]
  },
  {
   "cell_type": "code",
   "execution_count": null,
   "metadata": {},
   "outputs": [],
   "source": [
    "#collapse\n",
    "answers = '''\n",
    "- AWS Elastic File Service (EFS)\n",
    "- AWS Elastic Block Storage (EBS)\n",
    "- AWS S3\n",
    "- None of the above\n",
    "'''"
   ]
  },
  {
   "cell_type": "markdown",
   "metadata": {},
   "source": [
    "38. If VPC A is peered to VPC B, and VPC B is peered to VPC C, can VPC A & C communicate directly?\n",
    "\n",
    "- Yes they can, as VPC Transitive Peering is enabled by default\n",
    "- No they can’t, as VPC Transitive Peering is not enabled by default\n",
    "- Yes they can, as long as a networking service in VPC B captures the packet and sends it onward to VPC C on VPC A’s behalf.\n",
    "- No they can’t, as VPC Transitive Peering is not a supported feature in AWS"
   ]
  },
  {
   "cell_type": "code",
   "execution_count": null,
   "metadata": {},
   "outputs": [],
   "source": [
    "#collapse\n",
    "answers = '''\n",
    "- Yes they can, as VPC Transitive Peering is enabled by default\n",
    "- No they can’t, as VPC Transitive Peering is not enabled by default\n",
    "- Yes they can, as long as a networking service in VPC B captures the packet and sends it onward to VPC C on VPC A’s behalf.\n",
    "- No they can’t, as VPC Transitive Peering is not a supported feature in AWS\n",
    "'''"
   ]
  },
  {
   "cell_type": "markdown",
   "metadata": {},
   "source": [
    "40. You have your entire website domain pointed to a CloudFront distribution. Your application has a place in which credit cards may be accepted and is written in JavaScript. You are leveraging the AWS JavaScript SDK. Beyond simply providing SSL communications, what feature of CloudFront should be used to encrypt the credit cards separately to create end-to-end encryption until the system that requires such data can decrypt it?\n",
    "\n",
    "- Endpoint Encryption\n",
    "- Field Level Encryption\n",
    "- Use built-in Client Side encryption from the JavaScript SDK\n",
    "- AWS options do not exist for this, but 3rd party JavaScript libraries exist to perform the encryption\n"
   ]
  },
  {
   "cell_type": "code",
   "execution_count": null,
   "metadata": {},
   "outputs": [],
   "source": [
    "#collapse\n",
    "answers = '''\n",
    "- Endpoint Encryption\n",
    "- Field Level Encryption\n",
    "- Use built-in Client Side encryption from the JavaScript SDK\n",
    "- AWS options do not exist for this, but 3rd party JavaScript libraries exist to perform the encryption\n",
    "'''"
   ]
  },
  {
   "cell_type": "markdown",
   "metadata": {},
   "source": [
    "41. What is the Glacier retrieval option that allows us to save money, and wait between 5 to 12 hours to retrieve our data?\n",
    "\n",
    "- Expedited\n",
    "- Standard\n",
    "- Bulk\n",
    "- Delayed"
   ]
  },
  {
   "cell_type": "code",
   "execution_count": null,
   "metadata": {},
   "outputs": [],
   "source": [
    "#collapse\n",
    "answers = '''\n",
    "- Expedited\n",
    "- Standard\n",
    "- Bulk\n",
    "- Delayed\n",
    "'''"
   ]
  },
  {
   "cell_type": "markdown",
   "metadata": {},
   "source": [
    "42. You are building an application which will require PCI compliance as it will be processing credit cards within the application. As such, you wish to encrypt all EBS volumes on your EC2 instances for this application, including the root volumes. How can this need be achieved?\n",
    "\n",
    "- When creating the EC2 instance, select EBS volume encryption for all volumes including the root volume along with all data volumes\n",
    "- Root volumes in EBS cannot be encrypted directly; use of 3rd party file-level encryption must happen within the OS to handle all root data\n",
    "- Use EBS Volume Encryption for all Data volumes, and create an EC2 instance with an unencrypted root volume to start. Once created and in a shutdown state, perform EBS volume encryption on the root volume leveraging native EBS Volume Encryption options\n",
    "- Launch an unencrypted EC2 instance and take a snapshot of the instance. Create a copy of the snapshot with the encryption option selected and create an image using the encrypted snapshot. From there launch a new EC2 instance from the AMI and select volume encryption for any additional volumes."
   ]
  },
  {
   "cell_type": "code",
   "execution_count": null,
   "metadata": {},
   "outputs": [],
   "source": [
    "#collapse\n",
    "answers = '''\n",
    "- When creating the EC2 instance, select EBS volume encryption for all volumes including the root volume along with all data volumes\n",
    "\n",
    "- Root volumes in EBS cannot be encrypted directly; use of 3rd party file-level encryption must happen within the OS to handle all root data\n",
    "\n",
    "- Use EBS Volume Encryption for all Data volumes, and create an EC2 instance with an unencrypted root volume to start. Once created and in a shutdown state, perform EBS volume encryption on the root volume leveraging native EBS Volume Encryption options\n",
    "\n",
    "- Launch an unencrypted EC2 instance and take a snapshot of the instance. Create a copy of the snapshot with the encryption option selected and create an image using the encrypted snapshot. From there launch a new EC2 instance from the AMI and select volume encryption for any additional volumes.\n",
    "'''"
   ]
  },
  {
   "cell_type": "markdown",
   "metadata": {},
   "source": [
    "46. CloudTrail needs to write its logs to S3. What is permission model is required for CloudTrail to do this?\n",
    "\n",
    "- Nothing; CloudTrail natively writes to S3\n",
    "- CloudTrail would need a role to have the necessary permissions (Policy) to S3\n",
    "- Since CloudTrail natively writes to CloudWatch Logs, CloudWatch Logs would need to have a role with the necessary permissions (policy) to write to S3\n",
    "- Lambda can be used to extract the logs from the CloudTrail service and placed into S3. All necessary permissions would be provided through roles and policies"
   ]
  },
  {
   "cell_type": "code",
   "execution_count": null,
   "metadata": {},
   "outputs": [],
   "source": [
    "#collapse\n",
    "answers = '''\n",
    "- Nothing; CloudTrail natively writes to S3\n",
    "\n",
    "- CloudTrail would need a role to have the necessary permissions (Policy) to S3\n",
    "\n",
    "- Since CloudTrail natively writes to CloudWatch Logs, CloudWatch Logs would need to have a role with the necessary permissions (policy) to write to S3\n",
    "\n",
    "- Lambda can be used to extract the logs from the CloudTrail service and placed into S3. All necessary permissions would be provided through roles and policies\n",
    "'''"
   ]
  },
  {
   "cell_type": "markdown",
   "metadata": {},
   "source": [
    "47. What is NOT a billable component of S3\n",
    "\n",
    "- Data Transfer Out\n",
    "- Operations (PUT, GET, LIST, etc.)\n",
    "- S3 Object Tagging\n",
    "- Data returned by S3 Select\n",
    "- None. All of the above are billable"
   ]
  },
  {
   "cell_type": "code",
   "execution_count": null,
   "metadata": {},
   "outputs": [],
   "source": [
    "#collapse\n",
    "answers = '''\n",
    "- Data Transfer Out\n",
    "- Operations (PUT, GET, LIST, etc.)\n",
    "- S3 Object Tagging\n",
    "- Data returned by S3 Select\n",
    "- None. All of the above are billable\n",
    "'''"
   ]
  },
  {
   "cell_type": "markdown",
   "metadata": {},
   "source": [
    "50. You have a Linux application currently running on an on-demand m5.xlarge instance and all seems to perform well. You are considering buying a reserved instance; however, you are unsure about the scale this application may require over the next 6 months. Instance type seems to be correct for the workload, but you are not sure if you will need to grow the instance size over the next 6 months. You have considered waiting for 6 months to see what the growth looks like before purchasing an RI. Is this a good decision or not? What should be the course of action?\n",
    "\n",
    "- Leave as is using on-demand before purchasing any Reserved Instances. You do not want to enter into a long-term contract without knowing what this may look like in the near future. Once a better understanding of growth is achieved, then purchase RI’s as needed.\n",
    "\n",
    "- Purchase a Convertible Reserved Instance now since it can be adjusted, and make changes as needed later.\n",
    "\n",
    "- Purchase a Standard Reserved Instance and change the instance size later or add to the contract if required.\n",
    "\n",
    "- Purchase an RI from the marketplace with only 6 months left"
   ]
  },
  {
   "cell_type": "code",
   "execution_count": null,
   "metadata": {},
   "outputs": [],
   "source": [
    "#collapse\n",
    "answers = '''\n",
    "- Leave as is using on-demand before purchasing any Reserved Instances. You do not want to enter into a long-term contract without knowing what this may look like in the near future. Once a better understanding of growth is achieved, then purchase RI’s as needed.\n",
    "\n",
    "- Purchase a Convertible Reserved Instance now since it can be adjusted, and make changes as needed later.\n",
    "\n",
    "- Purchase a Standard Reserved Instance and change the instance size later or add to the contract if required.\n",
    "\n",
    "- Purchase an RI from the marketplace with only 6 months left\n",
    "'''"
   ]
  },
  {
   "cell_type": "markdown",
   "metadata": {},
   "source": [
    "51. What protocol(s) is/are supported by the Elastic File Service (EFS)\n",
    "\n",
    "- SMB\n",
    "\n",
    "- CIFS\n",
    "\n",
    "- iSCSI\n",
    "\n",
    "- NFS"
   ]
  },
  {
   "cell_type": "code",
   "execution_count": null,
   "metadata": {},
   "outputs": [],
   "source": [
    "#collapse\n",
    "answers = '''\n",
    "- SMB\n",
    "- CIFS\n",
    "- iSCSI\n",
    "- NFS\n",
    "'''"
   ]
  },
  {
   "cell_type": "markdown",
   "metadata": {},
   "source": [
    "53. Using the Application Load Balancer (ALB), you are balancing SQL read-only requests to RDS MySQL Read Replicas to assist in scaling the database load. How will the ALB interact with RDS to scale the read replicas.\n",
    "\n",
    "- Like any other scaling, the health checks can be defined to identify when the read replicas are becoming overloaded and auto scaling can build additional read replicas to scale accordingly up to the RDS limit for read replicas.\n",
    "\n",
    "- The ALB cannot be used for this purpose\n",
    "\n",
    "- Define auto scaling for the read replicas, and like other ASG’s, one will register the nodes to the associated ALB\n",
    "\n",
    "- This cannot be done with the ALB, but can be done with the Classic Load Balancer"
   ]
  },
  {
   "cell_type": "code",
   "execution_count": null,
   "metadata": {},
   "outputs": [],
   "source": [
    "#collapse\n",
    "answers = '''\n",
    "- Like any other scaling, the health checks can be defined to identify when the read replicas are becoming overloaded and auto scaling can build additional read replicas to scale accordingly up to the RDS limit for read replicas.\n",
    "\n",
    "- The ALB cannot be used for this purpose\n",
    "\n",
    "- Define auto scaling for the read replicas, and like other ASG’s, one will register the nodes to the associated ALB\n",
    "\n",
    "- This cannot be done with the ALB, but can be done with the Classic Load Balancer\n",
    "'''"
   ]
  },
  {
   "cell_type": "markdown",
   "metadata": {},
   "source": [
    "54. What is a benefit of the ALIAS record type in Route53?\n",
    "\n",
    "- ALIAS is just a CNAME, and thus the same benefits of a CNAME\n",
    "\n",
    "- ALIAS provides a 303 redirect to another URL (eg. www.domain.com to domain.com)\n",
    "\n",
    "- ALIAS can be used to direct to a global AWS service endpoint name, even in an A record position\n",
    "\n",
    "- ALIAS record can be used to point to on-premises resources, rerouting the user and obfuscating the back end"
   ]
  },
  {
   "cell_type": "code",
   "execution_count": null,
   "metadata": {},
   "outputs": [],
   "source": [
    "#collapse\n",
    "answers = '''\n",
    "- ALIAS is just a CNAME, and thus the same benefits of a CNAME\n",
    "\n",
    "- ALIAS provides a 303 redirect to another URL (eg. www.domain.com to domain.com)\n",
    "\n",
    "- ALIAS can be used to direct to a global AWS service endpoint name, even in an A record position\n",
    "\n",
    "- ALIAS record can be used to point to on-premises resources, rerouting the user and obfuscating the back end\n",
    "'''"
   ]
  },
  {
   "cell_type": "markdown",
   "metadata": {},
   "source": [
    "56. What is the smallest unit of data storage in a Glacier Vault called?\n",
    "\n",
    "- Object\n",
    "\n",
    "- File\n",
    "\n",
    "- Archive\n",
    "\n",
    "- Record"
   ]
  },
  {
   "cell_type": "code",
   "execution_count": null,
   "metadata": {},
   "outputs": [],
   "source": [
    "#collapse\n",
    "answers = '''\n",
    "- Object\n",
    "\n",
    "- File\n",
    "\n",
    "- Archive\n",
    "\n",
    "- Record\n",
    "'''"
   ]
  },
  {
   "cell_type": "markdown",
   "metadata": {},
   "source": [
    "58. You have been running a handful of EC2 instances for an extended period of time and are now ready to purchase some Reserved Instances (RI’s). What is not a valid EC2 Reserved Instance option?\n",
    "\n",
    "- Standard RI, 2 year term, paid up front\n",
    "\n",
    "- Convertible RI, 3 year term, paid partially up front\n",
    "\n",
    "- Standard RI, 1 year term, no upfront payment\n",
    "\n",
    "- Scheduled RI, 1 year term, scheduled for 1 hour a day"
   ]
  },
  {
   "cell_type": "code",
   "execution_count": null,
   "metadata": {},
   "outputs": [],
   "source": [
    "#collapse\n",
    "answers = '''\n",
    "- Standard RI, 2 year term, paid up front\n",
    "\n",
    "- Convertible RI, 3 year term, paid partially up front\n",
    "\n",
    "- Standard RI, 1 year term, no upfront payment\n",
    "\n",
    "- Scheduled RI, 1 year term, scheduled for 1 hour a day\n",
    "'''"
   ]
  },
  {
   "cell_type": "markdown",
   "metadata": {},
   "source": [
    "59. You have just recovered from a DDoS attack and realize you need to enhance your design to protect against such attacks. What service can specifically be used to protect against DDoS attacks\n",
    "\n",
    "- AWS WAF\n",
    "- Cloudfront\n",
    "- AWS Shield\n",
    "- AWS Guard Duty"
   ]
  },
  {
   "cell_type": "code",
   "execution_count": null,
   "metadata": {},
   "outputs": [],
   "source": [
    "#collapse\n",
    "answers = '''\n",
    "- AWS WAF\n",
    "- Cloudfront\n",
    "- AWS Shield\n",
    "- AWS Guard Duty\n",
    "'''"
   ]
  }
 ],
 "metadata": {
  "kernelspec": {
   "display_name": "xpython",
   "language": "python",
   "name": "xpython"
  },
  "language_info": {
   "file_extension": ".py",
   "mimetype": "text/x-python",
   "name": "python",
   "version": "3.7.6"
  }
 },
 "nbformat": 4,
 "nbformat_minor": 4
}
